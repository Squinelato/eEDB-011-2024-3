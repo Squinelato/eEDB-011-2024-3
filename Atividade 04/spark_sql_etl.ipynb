{
  "cells": [
    {
      "cell_type": "markdown",
      "metadata": {
        "id": "unk3bShgAo-6"
      },
      "source": [
        "# eEDB-011-2024-3"
      ]
    },
    {
      "cell_type": "markdown",
      "metadata": {
        "id": "NWpybxIJAo-7"
      },
      "source": [
        "## Atividade 4 – Ingestão e ETL com linguagem de programação (Python + Spark + SQL)\n",
        "\n",
        "* Utilizar linguagem de programação Python para ingestão e tratamento de dados. Para processo de transformação\n",
        "deve ser realizado via SQL com uma das seguintes ferramentas:\n",
        "  * DBT (indicada)\n",
        "  *  SQL Mash – alternativa\n",
        "  *  Coalesce - Alternativa\n",
        "\n",
        "*  Base final deve ser um banco de dados relacional já utilizado nos exercícios anteriores.\n",
        "* O processamento SQL deve ser utilizado via ferramenta mais uma engine de SQL que pode ser o próprio Banco de\n",
        "Dados bem como um banco de dados em memória como Duckdb ou SLQLite, ou qualquer outra alternativa.\n",
        "*  Gerar uma tabela final com os dados tratados e unidos.\n",
        "  * O tratamento de dados deve ser realizado através da ferramenta escolhida para SQL\n",
        "*  Adicionar as seguintes camadas de processamento, dentro do próprio banco de dados ou em disco local. A\n",
        "Camada Delivery deve obrigatoriamente ter estar também no formato de uma tabela final dentro do banco de\n",
        "dados relacional:\n",
        "  *  RAW – formato dos dados livre\n",
        "  *  Trusted – formato de dados em Parquet ou ORC or AVRO (indicado Parquet)\n",
        "  *  Delivery– formato de dados em Parquet ou ORC or AVRO (indicado Parquet)"
      ]
    },
    {
      "cell_type": "markdown",
      "metadata": {
        "id": "7K9r_ELHAo-8"
      },
      "source": [
        "- **Grupo 02**:\n",
        "    - Aline Bini\n",
        "    - Ana Lívia Franco\n",
        "    - Ana Priss\n",
        "    - João Squinelato\n",
        "    - Marcelo Pena\n",
        "    - Thais Siqueira\n",
        "\n",
        "- [Github](https://github.com/Squinelato/eEDB-011-2024-3 \"eEDB-011-2024-3\")\n",
        "\n",
        "```Ingestão De Dados | Agosto 2024```"
      ]
    },
    {
      "cell_type": "markdown",
      "metadata": {
        "id": "82H1S6B1Ao-8"
      },
      "source": [
        "## To Do\n",
        "\n",
        "- raw\n",
        "- trusted\n",
        "- delivery"
      ]
    },
    {
      "cell_type": "code",
      "execution_count": 1,
      "metadata": {
        "colab": {
          "base_uri": "https://localhost:8080/"
        },
        "id": "JMau2ZmoB0mx",
        "outputId": "f03579e7-bf8b-436f-9e85-40ce53c03936"
      },
      "outputs": [
        {
          "name": "stdout",
          "output_type": "stream",
          "text": [
            "Requirement already satisfied: pyspark in /usr/local/lib/python3.10/dist-packages (3.5.2)\n",
            "Requirement already satisfied: py4j==0.10.9.7 in /usr/local/lib/python3.10/dist-packages (from pyspark) (0.10.9.7)\n",
            "Requirement already satisfied: unidecode in /usr/local/lib/python3.10/dist-packages (1.3.8)\n",
            "Requirement already satisfied: findspark in /usr/local/lib/python3.10/dist-packages (2.0.1)\n"
          ]
        }
      ],
      "source": [
        "%pip install pyspark\n",
        "%pip install unidecode \n",
        "%pip install findspark"
      ]
    },
    {
      "cell_type": "code",
      "execution_count": 2,
      "metadata": {
        "colab": {
          "base_uri": "https://localhost:8080/"
        },
        "id": "vyDRzoFeNQA1",
        "outputId": "4073e9bc-1476-4d6e-ab84-246077d65f03"
      },
      "outputs": [
        {
          "name": "stdout",
          "output_type": "stream",
          "text": [
            "Drive already mounted at /content/drive; to attempt to forcibly remount, call drive.mount(\"/content/drive\", force_remount=True).\n"
          ]
        }
      ],
      "source": [
        "from google.colab import drive\n",
        "drive.mount('/content/drive')"
      ]
    },
    {
      "cell_type": "code",
      "execution_count": 3,
      "metadata": {
        "id": "Nx0t1-SmAo-9"
      },
      "outputs": [],
      "source": [
        "from pyspark.sql import SparkSession\n",
        "from pyspark.sql.functions import lpad, col, lpad, concat, sha1, regexp_replace, udf, lower, lit, when\n",
        "from pyspark.sql.types import StringType, FloatType, IntegerType, StructType, StructField, ArrayType\n",
        "from unidecode import unidecode\n",
        "\n",
        "import findspark\n",
        "import os"
      ]
    },
    {
      "cell_type": "code",
      "execution_count": 4,
      "metadata": {
        "id": "GBvVOb6AAo-9"
      },
      "outputs": [],
      "source": [
        "findspark.init()"
      ]
    },
    {
      "cell_type": "code",
      "execution_count": 5,
      "metadata": {
        "id": "CrZ0Y7cJAo--"
      },
      "outputs": [],
      "source": [
        "spark = SparkSession.builder \\\n",
        "    .master('local') \\\n",
        "    .appName('Basic ETL') \\\n",
        "    .config('spark.executor.timeout', \"1200s\") \\\n",
        "    .config('spark.sql.broadcastTimeout', '1200s') \\\n",
        "    .config('spark.rpc.askTimeout', '600s') \\\n",
        "    .config('spark.executor.heartbeatInterval', '120s') \\\n",
        "    .config('spark.network.timeout', '1200s') \\\n",
        "    .getOrCreate()"
      ]
    },
    {
      "cell_type": "code",
      "execution_count": 6,
      "metadata": {
        "colab": {
          "base_uri": "https://localhost:8080/",
          "height": 219
        },
        "id": "hDPajMxAAo--",
        "outputId": "5219637f-ab00-423a-dcf3-3ae0eeaf73d5"
      },
      "outputs": [
        {
          "data": {
            "text/html": [
              "\n",
              "            <div>\n",
              "                <p><b>SparkSession - in-memory</b></p>\n",
              "                \n",
              "        <div>\n",
              "            <p><b>SparkContext</b></p>\n",
              "\n",
              "            <p><a href=\"http://1747cbed8059:4040\">Spark UI</a></p>\n",
              "\n",
              "            <dl>\n",
              "              <dt>Version</dt>\n",
              "                <dd><code>v3.5.2</code></dd>\n",
              "              <dt>Master</dt>\n",
              "                <dd><code>local</code></dd>\n",
              "              <dt>AppName</dt>\n",
              "                <dd><code>Basic ETL</code></dd>\n",
              "            </dl>\n",
              "        </div>\n",
              "        \n",
              "            </div>\n",
              "        "
            ],
            "text/plain": [
              "<pyspark.sql.session.SparkSession at 0x7e306812b1f0>"
            ]
          },
          "execution_count": 6,
          "metadata": {},
          "output_type": "execute_result"
        }
      ],
      "source": [
        "spark"
      ]
    },
    {
      "cell_type": "markdown",
      "metadata": {
        "id": "okfVLmvIAo--"
      },
      "source": [
        "---\n",
        "## **Raw**"
      ]
    },
    {
      "cell_type": "markdown",
      "metadata": {
        "id": "UQNgy6BFAo-_"
      },
      "source": [
        "### **Banks file**"
      ]
    },
    {
      "cell_type": "code",
      "execution_count": 7,
      "metadata": {
        "id": "gi4wDg-jAo-_"
      },
      "outputs": [],
      "source": [
        "# banks_csv_path = '../Fonte de Dados/Bancos/EnquadramentoInicia_v2.tsv'\n",
        "\n",
        "#drive\n",
        "banks_csv_path = '/content/drive/MyDrive/USP/3 - Ingestão de dados/Atividade4/Fonte de Dados/Bancos/EnquadramentoInicia_v2.tsv'\n",
        "\n",
        "# Leitura do arquivo CSV e criação da view temporária\n",
        "bank_df = spark.read.csv(banks_csv_path, sep='\\t', encoding='utf8', header=True)\n",
        "bank_df.createOrReplaceTempView(\"bank_temp\")\n",
        "rwzd_bank = spark.sql(\"SELECT * FROM bank_temp\")"
      ]
    },
    {
      "cell_type": "markdown",
      "metadata": {
        "id": "TFMUdp5yAo-_"
      },
      "source": [
        "Analisando o esquema dos dados"
      ]
    },
    {
      "cell_type": "code",
      "execution_count": 8,
      "metadata": {
        "colab": {
          "base_uri": "https://localhost:8080/"
        },
        "id": "y1ZW9Tn_IPHb",
        "outputId": "8f327e8d-bf3b-4ddc-bdd5-8f2a6a037767"
      },
      "outputs": [
        {
          "name": "stdout",
          "output_type": "stream",
          "text": [
            "+--------+---------+-------+\n",
            "|col_name|data_type|comment|\n",
            "+--------+---------+-------+\n",
            "|Segmento|string   |NULL   |\n",
            "|CNPJ    |string   |NULL   |\n",
            "|Nome    |string   |NULL   |\n",
            "+--------+---------+-------+\n",
            "\n"
          ]
        }
      ],
      "source": [
        "spark.sql(\"DESCRIBE bank_temp\").show(truncate=False)"
      ]
    },
    {
      "cell_type": "markdown",
      "metadata": {
        "id": "t9FJ2mScAo-_"
      },
      "source": [
        "Contando a quantidade de linhas"
      ]
    },
    {
      "cell_type": "code",
      "execution_count": 9,
      "metadata": {
        "colab": {
          "base_uri": "https://localhost:8080/"
        },
        "id": "iMmswMSLAo-_",
        "outputId": "5723db25-7b7e-4d1e-ffea-5499c44406a7"
      },
      "outputs": [
        {
          "name": "stdout",
          "output_type": "stream",
          "text": [
            "Total de registros: 1474\n"
          ]
        }
      ],
      "source": [
        "total_records = spark.sql(\"SELECT COUNT(*) AS total FROM bank_temp\").collect()[0]['total']\n",
        "print(f\"Total de registros: {total_records}\")"
      ]
    },
    {
      "cell_type": "markdown",
      "metadata": {
        "id": "OiCtAAhyAo_A"
      },
      "source": [
        "Salvando dados na camada _raw_ no formato parquet.\n",
        "\n",
        "<sub><i>Usando o Google Colab, o caminho ./raw/bank/ se refere ao sistema de arquivos temporário da máquina virtual onde o notebook está sendo executado.\n",
        "No Colab, esse caminho fica na raiz da instância, mas o armazenamento é temporário. Isso significa que, uma vez que a sessão do Colab seja finalizada, os arquivos serão perdidos.<i><sub>\n",
        "\n",
        "Outra abordagem é salvar um DataFrame Spark tanto em formato .parquet quanto em .csv diretamente no Google Drive:"
      ]
    },
    {
      "cell_type": "code",
      "execution_count": 10,
      "metadata": {
        "colab": {
          "base_uri": "https://localhost:8080/"
        },
        "id": "UXpRbsm_MXCo",
        "outputId": "86c5aff9-3285-42fe-f432-f6724696972d"
      },
      "outputs": [
        {
          "name": "stdout",
          "output_type": "stream",
          "text": [
            "Arquivos salvos em: /content/drive/MyDrive/USP/3 - Ingestão de dados/Atividade4/raw/banks\n"
          ]
        }
      ],
      "source": [
        "# Drive\n",
        "drive_path = '/content/drive/MyDrive/USP/3 - Ingestão de dados/Atividade4/raw/banks'\n",
        "\n",
        "# Criar a pasta\n",
        "os.makedirs(drive_path, exist_ok=True)\n",
        "\n",
        "parquet_path = os.path.join(drive_path, 'rwzd_bank.parquet')\n",
        "csv_path = os.path.join(drive_path, 'rwzd_bank.csv')\n",
        "\n",
        "# Salvar o DataFrame como .parquet\n",
        "rwzd_bank.write.mode(\"overwrite\").parquet(parquet_path)\n",
        "\n",
        "# Salvar o DataFrame como .csv (com cabeçalho)\n",
        "# ! Salvei todos os arquivos também como csv, para verificar os resultados, mas\n",
        "# isso pode ser deletado\n",
        "rwzd_bank.write.mode(\"overwrite\").option(\"header\", \"true\").csv(csv_path)\n",
        "\n",
        "print(f\"Arquivos salvos em: {drive_path}\")\n"
      ]
    },
    {
      "cell_type": "markdown",
      "metadata": {
        "id": "rfzLBS0pAo_A"
      },
      "source": [
        "### **Employees file**"
      ]
    },
    {
      "cell_type": "markdown",
      "metadata": {
        "id": "hLMgXr-0Ao_A"
      },
      "source": [
        "Localizando todos os arquivos contendo dados de empregados"
      ]
    },
    {
      "cell_type": "code",
      "execution_count": 11,
      "metadata": {
        "colab": {
          "base_uri": "https://localhost:8080/",
          "height": 0
        },
        "id": "zLg4G9IjAo_A",
        "outputId": "cbf5fcd7-cf1d-44a1-d3be-0415ecbcf7d2"
      },
      "outputs": [
        {
          "data": {
            "application/vnd.google.colaboratory.intrinsic+json": {
              "type": "string"
            },
            "text/plain": [
              "'/content/drive/MyDrive/USP/3 - Ingestão de dados/Atividade4/Fonte de Dados/Empregados'"
            ]
          },
          "execution_count": 11,
          "metadata": {},
          "output_type": "execute_result"
        }
      ],
      "source": [
        "employee_dir = '/content/drive/MyDrive/USP/3 - Ingestão de dados/Atividade4/Fonte de Dados'\n",
        "employee_files = os.listdir(employee_dir)\n",
        "employee_paths = list(map(lambda file: os.path.join(employee_dir, file), employee_files))[1]\n",
        "employee_paths"
      ]
    },
    {
      "cell_type": "markdown",
      "metadata": {
        "id": "9eRBfd_QAo_A"
      },
      "source": [
        "Lendo todos os arquivos de empregados como um único conjunto de dados\n",
        "\n",
        "\n",
        "<sub><i>Usei o unionByName do spark para unir os dois dataFrames considerando os nomes das colunas. Isso significa que, mesmo que as colunas estejam em ordens diferentes ou que um dos dataFrames tenha colunas extras, ele vai alinhar os dados corretamente com base nos nomes das colunas.\n",
        "allowMissingColumns=True: Quando definido como True, essa opção permite que a união ocorra mesmo se um dos dataFrames tiver colunas extras que o outro não possui. Nessas colunas faltantes, a intenção é preencher os valores com null.<i><sub>"
      ]
    },
    {
      "cell_type": "code",
      "execution_count": 12,
      "metadata": {
        "id": "dglNymxkb-iV"
      },
      "outputs": [],
      "source": [
        "# Lendo os dois csv's\n",
        "df1 = spark.read.csv(\"/content/drive/MyDrive/USP/3 - Ingestão de dados/Atividade4/Fonte de Dados/Empregados/glassdoor_consolidado_join_match_less_v2.csv\", sep='|',header=True, inferSchema=True)\n",
        "df2 = spark.read.csv(\"/content/drive/MyDrive/USP/3 - Ingestão de dados/Atividade4/Fonte de Dados/Empregados/glassdoor_consolidado_join_match_v2.csv\", sep='|',header=True, inferSchema=True)\n",
        "\n",
        "employee_df = df1.unionByName(df2, allowMissingColumns=True)\n"
      ]
    },
    {
      "cell_type": "code",
      "execution_count": 13,
      "metadata": {
        "colab": {
          "base_uri": "https://localhost:8080/"
        },
        "id": "URFUmKmyAo_A",
        "outputId": "3850900a-343f-41d4-8626-549cdb163011"
      },
      "outputs": [
        {
          "name": "stdout",
          "output_type": "stream",
          "text": [
            "+--------------------+-------------+-------------+--------------+--------------+--------------------+---------------------+----------------+--------------------+--------------------+--------------------+-----+-----------------+----------------------+-----------------+--------------+------------------------+-------------------------+---------------------------------+----------------------------------+--------+--------------------+-------------+--------+\n",
            "|       employer_name|reviews_count|culture_count|salaries_count|benefits_count|    employer-website|employer-headquarters|employer-founded|   employer-industry|    employer-revenue|                 url|Geral|Cultura e valores|Diversidade e inclusão|Qualidade de vida|Alta liderança|Remuneração e benefícios|Oportunidades de carreira|Recomendam para outras pessoas(%)|Perspectiva positiva da empresa(%)|    CNPJ|                Nome|match_percent|Segmento|\n",
            "+--------------------+-------------+-------------+--------------+--------------+--------------------+---------------------+----------------+--------------------+--------------------+--------------------+-----+-----------------+----------------------+-----------------+--------------+------------------------+-------------------------+---------------------------------+----------------------------------+--------+--------------------+-------------+--------+\n",
            "|          Apex Group|          450|          281|           592|            74|http://www.apexgr...|    Hamilton, Bermuda|          2003.0|/Explorar/melhore...|Mais de US$ 10 bi...|https://www.glass...|  3.2|              2.9|                   3.5|              3.0|           2.9|                     2.7|                      3.2|                             52.0|                              53.0|  655522|          APE POUPEX|           70|    NULL|\n",
            "|          Banco Alfa|          175|           74|           271|           105|http://www.alfane...|    São Paulo, Brasil|          1925.0|/Explorar/melhore...|Desconhecida/não ...|https://www.glass...|  3.5|              3.2|                   3.2|              3.1|           2.8|                     3.8|                      2.7|                             68.0|                              47.0|58160789|               SAFRA|           67|    NULL|\n",
            "|China Constructio...|          871|          194|           720|           240|  http://www.ccb.com|        Pequim, China|            NULL|/Explorar/melhore...|Mais de US$ 10 bi...|https://www.glass...|  3.4|              3.0|                   3.0|              3.4|           2.9|                     3.5|                      2.8|                             54.0|                              42.0| 7450604|CHINA CONSTRUCTIO...|           77|    NULL|\n",
            "|Mercedes-Benz Mob...|          282|           90|           513|           118|https://www.merce...|  Estugarda, Alemanha|          1990.0|/Explorar/melhore...|Mais de US$ 10 bi...|https://www.glass...|  4.1|              4.1|                   4.0|              4.4|           3.7|                     4.0|                      3.6|                             87.0|                              51.0|60814191|       MERCEDES-BENZ|           73|    NULL|\n",
            "|Sumitomo Mitsui F...|          903|          246|          1300|           290|http://www.smfg.c...|        Tóquio, Japão|          1996.0|/Explorar/melhore...|Mais de US$ 10 bi...|https://www.glass...|  3.4|              3.2|                   3.3|              3.4|           3.1|                     3.3|                      3.1|                             56.0|                              53.0|60518222|BANCO SUMITOMO MI...|           65|    NULL|\n",
            "|         BNP Paribas|        13000|         4100|         20000|          3600|http://www.group....|        Paris, França|          2000.0|/Explorar/melhore...|Mais de US$ 10 bi...|https://www.glass...|  3.8|              3.7|                   4.0|              3.8|           3.4|                     3.4|                      3.5|                             77.0|                              63.0|    NULL|         BNP PARIBAS|          100|      S3|\n",
            "|         BTG Pactual|         1600|          683|          2800|           635|http://www.btgpac...|    São Paulo, Brasil|            NULL|/Explorar/melhore...|Desconhecida/não ...|https://www.glass...|  4.0|              3.7|                   3.5|              2.8|           3.7|                     4.4|                      4.2|                             78.0|                              73.0|    NULL|         BTG PACTUAL|          100|      S1|\n",
            "|          Banco Alfa|          175|           74|           271|           105|http://www.alfane...|    São Paulo, Brasil|          1925.0|/Explorar/melhore...|Desconhecida/não ...|https://www.glass...|  3.5|              3.2|                   3.2|              3.1|           2.8|                     3.8|                      2.7|                             68.0|                              47.0|    NULL|                ALFA|          100|      S3|\n",
            "|           Banco BMG|          445|          232|           704|           277|http://www.bancob...|    São Paulo, Brasil|          1930.0|/Explorar/melhore...|De US$ 1 a US$ 5 ...|https://www.glass...|  4.1|              3.9|                   4.1|              3.7|           3.6|                     4.2|                      3.5|                             79.0|                              63.0|    NULL|                 BMG|          100|      S3|\n",
            "|      Banco Bradesco|        11000|         3300|         19000|          3200|http://www.bancob...|       Osasco, Brasil|          1943.0|/Explorar/melhore...|Mais de US$ 10 bi...|https://www.glass...|  4.2|              3.8|                   3.9|              3.4|           3.4|                     4.3|                      3.8|                             81.0|                              66.0|    NULL|            BRADESCO|          100|      S1|\n",
            "|      Banco Daycoval|          300|          157|           521|           107|https://www.dayco...|    São Paulo, Brasil|          1971.0|/Explorar/melhore...|De US$ 25 a US$ 1...|https://www.glass...|  4.0|              3.7|                   3.6|              3.4|           3.3|                     4.1|                      3.4|                             78.0|                              72.0|    NULL|  BANCO DAYCOVAL S.A|          100|      S3|\n",
            "|         Banco Fibra|          119|           41|           172|            37|http://www.bancof...|    São Paulo, Brasil|            NULL|/Explorar/melhore...|Desconhecida/não ...|https://www.glass...|  4.3|              4.3|                   4.3|              3.8|           3.7|                     4.2|                      3.6|                             87.0|                              84.0|    NULL|    BANCO FIBRA S.A.|          100|      S3|\n",
            "|      Banco Original|          651|          286|          1100|           261|http://www.origin...|    São Paulo, Brasil|          2016.0|/Explorar/melhore...|Desconhecida/não ...|https://www.glass...|  3.8|              3.4|                   3.5|              3.4|           3.1|                     4.0|                      3.3|                             71.0|                              53.0|    NULL|            ORIGINAL|          100|      S3|\n",
            "|           Banco PAN|         1100|          520|          1700|           493|http://www.bancop...|    São Paulo, Brasil|          2011.0|/Explorar/melhore...|Desconhecida/não ...|https://www.glass...|  4.4|              4.2|                   4.4|              3.9|           3.9|                     4.6|                      4.0|                             91.0|                              79.0|    NULL|                 PAN|          100|      S3|\n",
            "|          Banco Pine|          121|           45|           216|            63| http://www.pine.com|    São Paulo, Brasil|          1997.0|/Explorar/melhore...|Desconhecida/não ...|https://www.glass...|  3.8|              3.5|                   3.5|              3.4|           3.0|                     3.9|                      3.5|                             71.0|                              50.0|    NULL|                PINE|          100|      S3|\n",
            "|    Banco Votorantim|         1400|          563|          2100|           574|http://www.bancob...|    São Paulo, Brasil|          1991.0|/Explorar/melhore...|Desconhecida/não ...|https://www.glass...|  4.4|              4.3|                   4.4|              4.1|           3.9|                     4.6|                      3.9|                             93.0|                              79.0|    NULL|          VOTORANTIM|          100|      S2|\n",
            "|     Banco do Brasil|         5000|         1100|          9200|          1200|https://www.bb.co...|     Brasília, Brasil|          1808.0|/Explorar/melhore...|Desconhecida/não ...|https://www.glass...|  4.3|              3.9|                   4.0|              3.7|           3.5|                     4.2|                      3.8|                             86.0|                              72.0|    NULL|     BANCO DO BRASIL|          100|      S1|\n",
            "|Banco do Nordeste...|          525|          113|           840|           115|http://www.bnb.go...|    Fortaleza, Brasil|            NULL|/Explorar/melhore...|Desconhecido/Não ...|https://www.glass...|  4.5|              4.4|                   4.3|              4.3|           4.1|                     4.2|                      4.0|                             90.0|                              83.0|    NULL|BANCO DO NORDESTE...|          100|      S2|\n",
            "|Bank Of Tokyo-Mit...|          770|          150|          1100|           228|http://www.bk.muf...|        Tóquio, Japão|          1919.0|/Explorar/melhore...|Mais de US$ 10 bi...|https://www.glass...|  3.6|              3.6|                   3.5|              3.4|           3.3|                     3.6|                      3.3|                             65.0|                              43.0|    NULL|BANCO TOKYO-MITSU...|           80|      S3|\n",
            "|            Banrisul|         1000|          155|          1700|           127|http://www.banris...| Porto Alegre, Brasil|            NULL|/Explorar/melhore...|De US$ 25 a US$ 1...|https://www.glass...|  4.2|              3.6|                   3.8|              3.7|           3.4|                     4.1|                      3.3|                             84.0|                              59.0|    NULL|            BANRISUL|          100|      S2|\n",
            "+--------------------+-------------+-------------+--------------+--------------+--------------------+---------------------+----------------+--------------------+--------------------+--------------------+-----+-----------------+----------------------+-----------------+--------------+------------------------+-------------------------+---------------------------------+----------------------------------+--------+--------------------+-------------+--------+\n",
            "only showing top 20 rows\n",
            "\n"
          ]
        }
      ],
      "source": [
        "employee_df.createOrReplaceTempView(\"employee_temp\")\n",
        "spark.sql(\"SELECT * FROM employee_temp LIMIT 100\").show()"
      ]
    },
    {
      "cell_type": "code",
      "execution_count": 14,
      "metadata": {
        "colab": {
          "base_uri": "https://localhost:8080/"
        },
        "id": "D5hBk-SxLbTl",
        "outputId": "b88973ec-bb4b-48f0-e77f-eef891fe5105"
      },
      "outputs": [
        {
          "name": "stdout",
          "output_type": "stream",
          "text": [
            "Total de registros: 39\n"
          ]
        }
      ],
      "source": [
        "total_records_employee = spark.sql(\"SELECT COUNT(*) AS total FROM employee_temp\").collect()[0]['total']\n",
        "print(f\"Total de registros: {total_records_employee}\")"
      ]
    },
    {
      "cell_type": "markdown",
      "metadata": {
        "id": "F8gZjFFpAo_A"
      },
      "source": [
        "Removendo duplicatas com base no nome e segmento do banco"
      ]
    },
    {
      "cell_type": "code",
      "execution_count": 15,
      "metadata": {
        "colab": {
          "base_uri": "https://localhost:8080/"
        },
        "id": "TbotdDPSAo_A",
        "outputId": "70f92d75-4735-4cd4-b79d-75d58eee5a2c"
      },
      "outputs": [
        {
          "name": "stdout",
          "output_type": "stream",
          "text": [
            "+-------------------------------+-------------+-------------+--------------+--------------+-------------------------------+------------------------+----------------+-----------------------------------------------------------------------------------+---------------------------+----------------------------------------------------------------------------------------------------------------+-----+-----------------+----------------------+-----------------+--------------+------------------------+-------------------------+---------------------------------+----------------------------------+--------+--------------------------------------------------+-------------+--------+-------+\n",
            "|employer_name                  |reviews_count|culture_count|salaries_count|benefits_count|employer-website               |employer-headquarters   |employer-founded|employer-industry                                                                  |employer-revenue           |url                                                                                                             |Geral|Cultura e valores|Diversidade e inclusão|Qualidade de vida|Alta liderança|Remuneração e benefícios|Oportunidades de carreira|Recomendam para outras pessoas(%)|Perspectiva positiva da empresa(%)|CNPJ    |Nome                                              |match_percent|Segmento|row_num|\n",
            "+-------------------------------+-------------+-------------+--------------+--------------+-------------------------------+------------------------+----------------+-----------------------------------------------------------------------------------+---------------------------+----------------------------------------------------------------------------------------------------------------+-----+-----------------+----------------------+-----------------+--------------+------------------------+-------------------------+---------------------------------+----------------------------------+--------+--------------------------------------------------+-------------+--------+-------+\n",
            "|Banco Alfa                     |175          |74           |271           |105           |http://www.alfanet.com.br      |São Paulo, Brasil       |1925.0          |/Explorar/melhores-serviços-bancários-e-de-crédito-empresas_II.9,40_IIND200048.htm |Desconhecida/não se aplica |https://www.glassdoor.com.br/Vis%C3%A3o-geral/Trabalhar-na-Banco-Alfa-EI_IE817306.13,23.htm                     |3.5  |3.2              |3.2                   |3.1              |2.8           |3.8                     |2.7                      |68.0                             |47.0                              |NULL    |ALFA                                              |100          |S3      |1      |\n",
            "|Apex Group                     |450          |281          |592           |74            |http://www.apexgroup.com       |Hamilton, Bermuda       |2003.0          |/Explorar/melhores-gestão-de-ativos-e-investimentos-empresas_II.9,41_IIND200146.htm|Mais de US$ 10 bilhões     |https://www.glassdoor.com.br/Vis%C3%A3o-geral/Trabalhar-na-Apex-Group-EI_IE764729.13,23.htm                     |3.2  |2.9              |3.5                   |3.0              |2.9           |2.7                     |3.2                      |52.0                             |53.0                              |655522  |APE POUPEX                                        |70           |NULL    |1      |\n",
            "|Apex Group                     |432          |271          |561           |74            |http://www.apexgroup.com       |Hamilton, Bermuda       |2003.0          |/Explorar/melhores-gestão-de-ativos-e-investimentos-empresas_II.9,41_IIND200146.htm|Mais de US$ 10 bilhões     |https://www.glassdoor.com.br/Vis%C3%A3o-geral/Trabalhar-na-Apex-Group-EI_IE764729.13,23.htm                     |3.2  |2.9              |3.4                   |3.0              |2.9           |2.7                     |3.2                      |50.0                             |52.0                              |NULL    |APE POUPEX                                        |70           |S3      |1      |\n",
            "|Banco Daycoval                 |300          |157          |521           |107           |https://www.daycoval.com.br    |São Paulo, Brasil       |1971.0          |/Explorar/melhores-serviços-bancários-e-de-crédito-empresas_II.9,40_IIND200048.htm |De US$ 25 a US$ 100 milhões|https://www.glassdoor.com.br/Vis%C3%A3o-geral/Trabalhar-na-Banco-Daycoval-EI_IE1480352.13,27.htm                |4.0  |3.7              |3.6                   |3.4              |3.3           |4.1                     |3.4                      |78.0                             |72.0                              |NULL    |BANCO DAYCOVAL S.A                                |100          |S3      |1      |\n",
            "|Banco do Brasil                |5000         |1100         |9200          |1200          |https://www.bb.com.br          |Brasília, Brasil        |1808.0          |/Explorar/melhores-serviços-bancários-e-de-crédito-empresas_II.9,40_IIND200048.htm |Desconhecida/não se aplica |https://www.glassdoor.com.br/Vis%C3%A3o-geral/Trabalhar-na-Banco-do-Brasil-EI_IE3945.13,28.htm                  |4.3  |3.9              |4.0                   |3.7              |3.5           |4.2                     |3.8                      |86.0                             |72.0                              |NULL    |BANCO DO BRASIL                                   |100          |S1      |1      |\n",
            "|Banco do Nordeste do Brasil    |525          |113          |840           |115           |http://www.bnb.gov.br          |Fortaleza, Brasil       |NULL            |/Explorar/melhores-gestão-de-ativos-e-investimentos-empresas_II.9,41_IIND200146.htm|Desconhecido/Não se aplica |https://www.glassdoor.com.br/Vis%C3%A3o-geral/Trabalhar-na-Banco-do-Nordeste-do-Brasil-EI_IE436304.13,40.htm    |4.5  |4.4              |4.3                   |4.3              |4.1           |4.2                     |4.0                      |90.0                             |83.0                              |NULL    |BANCO DO NORDESTE DO BRASIL S.A.                  |100          |S2      |1      |\n",
            "|Banco Fibra                    |119          |41           |172           |37            |http://www.bancofibra.com.br   |São Paulo, Brasil       |NULL            |/Explorar/melhores-serviços-bancários-e-de-crédito-empresas_II.9,40_IIND200048.htm |Desconhecida/não se aplica |https://www.glassdoor.com.br/Vis%C3%A3o-geral/Trabalhar-na-Banco-Fibra-EI_IE744986.13,24.htm                    |4.3  |4.3              |4.3                   |3.8              |3.7           |4.2                     |3.6                      |87.0                             |84.0                              |NULL    |BANCO FIBRA S.A.                                  |100          |S3      |1      |\n",
            "|Sumitomo Mitsui Financial Group|903          |246          |1300          |290           |http://www.smfg.co.jp          |Tóquio, Japão           |1996.0          |/Explorar/melhores-gestão-de-ativos-e-investimentos-empresas_II.9,41_IIND200146.htm|Mais de US$ 10 bilhões     |https://www.glassdoor.com.br/Vis%C3%A3o-geral/Trabalhar-na-Sumitomo-Mitsui-Financial-Group-EI_IE256138.13,44.htm|3.4  |3.2              |3.3                   |3.4              |3.1           |3.3                     |3.1                      |56.0                             |53.0                              |60518222|BANCO SUMITOMO MITSUI BRASIL S.A.                 |65           |NULL    |1      |\n",
            "|Sumitomo Mitsui Financial Group|903          |246          |1300          |290           |http://www.smfg.co.jp          |Tóquio, Japão           |1996.0          |/Explorar/melhores-gestão-de-ativos-e-investimentos-empresas_II.9,41_IIND200146.htm|Mais de US$ 10 bilhões     |https://www.glassdoor.com.br/Vis%C3%A3o-geral/Trabalhar-na-Sumitomo-Mitsui-Financial-Group-EI_IE256138.13,44.htm|3.4  |3.3              |3.2                   |3.4              |3.1           |3.3                     |3.1                      |56.0                             |54.0                              |NULL    |BANCO SUMITOMO MITSUI BRASIL S.A.                 |65           |S3      |1      |\n",
            "|Bank Of Tokyo-Mitsubishi UFJ   |770          |150          |1100          |228           |http://www.bk.mufg.jp/global   |Tóquio, Japão           |1919.0          |/Explorar/melhores-gestão-de-ativos-e-investimentos-empresas_II.9,41_IIND200146.htm|Mais de US$ 10 bilhões     |https://www.glassdoor.com.br/Vis%C3%A3o-geral/Trabalhar-na-Bank-Of-Tokyo-Mitsubishi-UFJ-EI_IE240039.13,41.htm   |3.6  |3.6              |3.5                   |3.4              |3.3           |3.6                     |3.3                      |65.0                             |43.0                              |NULL    |BANCO TOKYO-MITSUBISHI BM S.A.                    |80           |S3      |1      |\n",
            "|Banrisul                       |1000         |155          |1700          |127           |http://www.banrisul.com.br     |Porto Alegre, Brasil    |NULL            |/Explorar/melhores-serviços-bancários-e-de-crédito-empresas_II.9,40_IIND200048.htm |De US$ 25 a US$ 100 milhões|https://www.glassdoor.com.br/Vis%C3%A3o-geral/Trabalhar-na-Banrisul-EI_IE678973.13,21.htm                       |4.2  |3.6              |3.8                   |3.7              |3.4           |4.1                     |3.3                      |84.0                             |59.0                              |NULL    |BANRISUL                                          |100          |S2      |1      |\n",
            "|Banco BMG                      |445          |232          |704           |277           |http://www.bancobmg.com.br     |São Paulo, Brasil       |1930.0          |/Explorar/melhores-serviços-bancários-e-de-crédito-empresas_II.9,40_IIND200048.htm |De US$ 1 a US$ 5 milhões   |https://www.glassdoor.com.br/Vis%C3%A3o-geral/Trabalhar-na-Banco-BMG-EI_IE2482923.13,22.htm                     |4.1  |3.9              |4.1                   |3.7              |3.6           |4.2                     |3.5                      |79.0                             |63.0                              |NULL    |BMG                                               |100          |S3      |1      |\n",
            "|BNP Paribas                    |13000        |4100         |20000         |3600          |http://www.group.bnpparibas    |Paris, França           |2000.0          |/Explorar/melhores-serviços-bancários-e-de-crédito-empresas_II.9,40_IIND200048.htm |Mais de US$ 10 bilhões     |https://www.glassdoor.com.br/Vis%C3%A3o-geral/Trabalhar-na-BNP-Paribas-EI_IE10342.13,24.htm                     |3.8  |3.7              |4.0                   |3.8              |3.4           |3.4                     |3.5                      |77.0                             |63.0                              |NULL    |BNP PARIBAS                                       |100          |S3      |1      |\n",
            "|Merrill Lynch                  |5600         |1200         |9900          |1200          |http://www.ml.com              |New York, Estados Unidos|1820.0          |/Explorar/melhores-gestão-de-ativos-e-investimentos-empresas_II.9,41_IIND200146.htm|Mais de US$ 10 bilhões     |https://www.glassdoor.com.br/Vis%C3%A3o-geral/Trabalhar-na-Merrill-Lynch-EI_IE440.13,26.htm                     |3.8  |3.6              |3.9                   |3.5              |3.5           |3.8                     |3.8                      |66.0                             |61.0                              |NULL    |BOFA MERRILL LYNCH                                |84           |S3      |1      |\n",
            "|Banco Bradesco                 |11000        |3300         |19000         |3200          |http://www.bancobradesco.com.br|Osasco, Brasil          |1943.0          |/Explorar/melhores-serviços-bancários-e-de-crédito-empresas_II.9,40_IIND200048.htm |Mais de US$ 10 bilhões     |https://www.glassdoor.com.br/Vis%C3%A3o-geral/Trabalhar-na-Banco-Bradesco-EI_IE10997.13,27.htm                  |4.2  |3.8              |3.9                   |3.4              |3.4           |4.3                     |3.8                      |81.0                             |66.0                              |NULL    |BRADESCO                                          |100          |S1      |1      |\n",
            "|BTG Pactual                    |1600         |683          |2800          |635           |http://www.btgpactual.com      |São Paulo, Brasil       |NULL            |/Explorar/melhores-gestão-de-ativos-e-investimentos-empresas_II.9,41_IIND200146.htm|Desconhecida/não se aplica |https://www.glassdoor.com.br/Vis%C3%A3o-geral/Trabalhar-na-BTG-Pactual-EI_IE411540.13,24.htm                    |4.0  |3.7              |3.5                   |2.8              |3.7           |4.4                     |4.2                      |78.0                             |73.0                              |NULL    |BTG PACTUAL                                       |100          |S1      |1      |\n",
            "|Caixa Econômica Federal        |4000         |717          |7300          |857           |http://www.caixa.gov.br        |BRASILIA, Brasil        |NULL            |/Explorar/melhores-serviços-bancários-e-de-crédito-empresas_II.9,40_IIND200048.htm |Desconhecida/não se aplica |https://www.glassdoor.com.br/Vis%C3%A3o-geral/Trabalhar-na-Caixa-Econ%C3%B4mica-Federal-EI_IE41924.13,36.htm    |4.4  |3.8              |4.2                   |3.7              |3.5           |4.3                     |3.9                      |86.0                             |72.0                              |NULL    |CAIXA ECONOMICA FEDERAL                           |98           |S1      |1      |\n",
            "|China Construction Bank        |871          |194          |720           |240           |http://www.ccb.com             |Pequim, China           |NULL            |/Explorar/melhores-serviços-bancários-e-de-crédito-empresas_II.9,40_IIND200048.htm |Mais de US$ 10 bilhões     |https://www.glassdoor.com.br/Vis%C3%A3o-geral/Trabalhar-na-China-Construction-Bank-EI_IE12617.13,36.htm         |3.4  |3.0              |3.0                   |3.4              |2.9           |3.5                     |2.8                      |54.0                             |42.0                              |7450604 |CHINA CONSTRUCTION BANK (BRASIL) BANCO MULTIPLO S/|77           |NULL    |1      |\n",
            "|China Construction Bank        |871          |194          |720           |240           |http://www.ccb.com             |Pequim, China           |NULL            |/Explorar/melhores-serviços-bancários-e-de-crédito-empresas_II.9,40_IIND200048.htm |Mais de US$ 10 bilhões     |https://www.glassdoor.com.br/Vis%C3%A3o-geral/Trabalhar-na-China-Construction-Bank-EI_IE12617.13,36.htm         |3.4  |3.0              |2.9                   |3.4              |2.9           |3.5                     |2.8                      |54.0                             |42.0                              |NULL    |CHINA CONSTRUCTION BANK (BRASIL) BANCO MULTIPLO S/|77           |S3      |1      |\n",
            "|Citi                           |31000        |8900         |52000         |9900          |http://www.citigroup.com       |New York, Estados Unidos|1812.0          |/Explorar/melhores-gestão-de-ativos-e-investimentos-empresas_II.9,41_IIND200146.htm|Mais de US$ 10 bilhões     |https://www.glassdoor.com.br/citi                                                                               |3.9  |3.8              |4.1                   |3.5              |3.5           |3.8                     |3.9                      |76.0                             |68.0                              |NULL    |CITIBANK                                          |100          |S2      |1      |\n",
            "+-------------------------------+-------------+-------------+--------------+--------------+-------------------------------+------------------------+----------------+-----------------------------------------------------------------------------------+---------------------------+----------------------------------------------------------------------------------------------------------------+-----+-----------------+----------------------+-----------------+--------------+------------------------+-------------------------+---------------------------------+----------------------------------+--------+--------------------------------------------------+-------------+--------+-------+\n",
            "only showing top 20 rows\n",
            "\n"
          ]
        }
      ],
      "source": [
        "# Remover duplicatas com base nas colunas 'Nome' e 'Segmento'\n",
        "spark.sql(\"\"\"\n",
        "CREATE OR REPLACE TEMPORARY VIEW employee_temp_dedup AS\n",
        "SELECT *\n",
        "FROM (\n",
        "    SELECT *, ROW_NUMBER() OVER (PARTITION BY Nome, Segmento ORDER BY Nome) AS row_num\n",
        "    FROM employee_temp\n",
        ") tmp\n",
        "WHERE row_num = 1\n",
        "\"\"\")\n",
        "employee_dedup = spark.sql(\"SELECT * FROM employee_temp_dedup\")\n",
        "employee_dedup.show(truncate=False)"
      ]
    },
    {
      "cell_type": "code",
      "execution_count": 16,
      "metadata": {
        "colab": {
          "base_uri": "https://localhost:8080/"
        },
        "id": "e2bkB9TwLff7",
        "outputId": "a2c6a4b5-8ec8-4471-eb16-bcca4e35251a"
      },
      "outputs": [
        {
          "name": "stdout",
          "output_type": "stream",
          "text": [
            "Registros subtraídos: 2\n"
          ]
        }
      ],
      "source": [
        "total_records_employee_dedup = spark.sql(\"SELECT COUNT(*) AS total FROM employee_temp_dedup\").collect()[0]['total']\n",
        "print(f\"Registros subtraídos: {total_records_employee - total_records_employee_dedup}\")"
      ]
    },
    {
      "cell_type": "markdown",
      "metadata": {
        "id": "YnUGtADOAo_A"
      },
      "source": [
        "Analisando o esquema dos dados"
      ]
    },
    {
      "cell_type": "code",
      "execution_count": 17,
      "metadata": {
        "colab": {
          "base_uri": "https://localhost:8080/"
        },
        "id": "3dYOZjGGPiO6",
        "outputId": "501f3cda-cc3d-4b6d-d716-8221fcb78838"
      },
      "outputs": [
        {
          "name": "stdout",
          "output_type": "stream",
          "text": [
            "+----------------------------------+---------+-------+\n",
            "|col_name                          |data_type|comment|\n",
            "+----------------------------------+---------+-------+\n",
            "|employer_name                     |string   |NULL   |\n",
            "|reviews_count                     |int      |NULL   |\n",
            "|culture_count                     |int      |NULL   |\n",
            "|salaries_count                    |int      |NULL   |\n",
            "|benefits_count                    |int      |NULL   |\n",
            "|employer-website                  |string   |NULL   |\n",
            "|employer-headquarters             |string   |NULL   |\n",
            "|employer-founded                  |double   |NULL   |\n",
            "|employer-industry                 |string   |NULL   |\n",
            "|employer-revenue                  |string   |NULL   |\n",
            "|url                               |string   |NULL   |\n",
            "|Geral                             |double   |NULL   |\n",
            "|Cultura e valores                 |double   |NULL   |\n",
            "|Diversidade e inclusão            |double   |NULL   |\n",
            "|Qualidade de vida                 |double   |NULL   |\n",
            "|Alta liderança                    |double   |NULL   |\n",
            "|Remuneração e benefícios          |double   |NULL   |\n",
            "|Oportunidades de carreira         |double   |NULL   |\n",
            "|Recomendam para outras pessoas(%) |double   |NULL   |\n",
            "|Perspectiva positiva da empresa(%)|double   |NULL   |\n",
            "+----------------------------------+---------+-------+\n",
            "only showing top 20 rows\n",
            "\n"
          ]
        }
      ],
      "source": [
        "employee_temp_dedup = spark.sql(\"DESCRIBE employee_temp_dedup\").show(truncate=False)"
      ]
    },
    {
      "cell_type": "markdown",
      "metadata": {
        "id": "1nm6A9HUAo_B"
      },
      "source": [
        "Salvando dados na camada _raw_ no formato parquet"
      ]
    },
    {
      "cell_type": "code",
      "execution_count": 18,
      "metadata": {
        "colab": {
          "base_uri": "https://localhost:8080/"
        },
        "id": "ZpXO5YkQAo_B",
        "outputId": "134dd319-0d67-444b-e138-42dfeab2bbe0"
      },
      "outputs": [
        {
          "name": "stdout",
          "output_type": "stream",
          "text": [
            "Arquivos salvos em: /content/drive/MyDrive/USP/3 - Ingestão de dados/Atividade4/raw/employee\n"
          ]
        }
      ],
      "source": [
        "drive_path = '/content/drive/MyDrive/USP/3 - Ingestão de dados/Atividade4/raw/employee'\n",
        "\n",
        "os.makedirs(drive_path, exist_ok=True)\n",
        "\n",
        "parquet_path = os.path.join(drive_path, 'employee_dedup.parquet')\n",
        "csv_path = os.path.join(drive_path, 'employee_dedup.csv')\n",
        "\n",
        "# Salvar o DataFrame como .parquet\n",
        "employee_dedup.write.mode(\"overwrite\").parquet(parquet_path)\n",
        "\n",
        "# Salvar o DataFrame como .csv (com cabeçalho)\n",
        "employee_dedup.write.mode(\"overwrite\").option(\"header\", \"true\").csv(csv_path)\n",
        "\n",
        "print(f\"Arquivos salvos em: {drive_path}\")"
      ]
    },
    {
      "cell_type": "markdown",
      "metadata": {
        "id": "gAIDCQXWAo_B"
      },
      "source": [
        "### **Claims file**"
      ]
    },
    {
      "cell_type": "markdown",
      "metadata": {
        "id": "9XWT0c7tAo_B"
      },
      "source": [
        "Localizando todos os arquivos contendo dados de reclamações"
      ]
    },
    {
      "cell_type": "code",
      "execution_count": 19,
      "metadata": {
        "colab": {
          "base_uri": "https://localhost:8080/"
        },
        "id": "FprVpRvVAo_B",
        "outputId": "fb3ce190-3a26-46f9-f274-5a6b2b410f71"
      },
      "outputs": [
        {
          "data": {
            "text/plain": [
              "['/content/drive/MyDrive/USP/3 - Ingestão de dados/Atividade4/Fonte de Dados/Reclamações/2022_tri_02_nao_ha_dados.csv',\n",
              " '/content/drive/MyDrive/USP/3 - Ingestão de dados/Atividade4/Fonte de Dados/Reclamações/2022_tri_03.csv',\n",
              " '/content/drive/MyDrive/USP/3 - Ingestão de dados/Atividade4/Fonte de Dados/Reclamações/2022_tri_01.csv',\n",
              " '/content/drive/MyDrive/USP/3 - Ingestão de dados/Atividade4/Fonte de Dados/Reclamações/2021_tri_02.csv',\n",
              " '/content/drive/MyDrive/USP/3 - Ingestão de dados/Atividade4/Fonte de Dados/Reclamações/2021_tri_04.csv',\n",
              " '/content/drive/MyDrive/USP/3 - Ingestão de dados/Atividade4/Fonte de Dados/Reclamações/2021_tri_03.csv',\n",
              " '/content/drive/MyDrive/USP/3 - Ingestão de dados/Atividade4/Fonte de Dados/Reclamações/2022_tri_04.csv',\n",
              " '/content/drive/MyDrive/USP/3 - Ingestão de dados/Atividade4/Fonte de Dados/Reclamações/2021_tri_01.csv']"
            ]
          },
          "execution_count": 19,
          "metadata": {},
          "output_type": "execute_result"
        }
      ],
      "source": [
        "claim_dir = '/content/drive/MyDrive/USP/3 - Ingestão de dados/Atividade4/Fonte de Dados/Reclamações'\n",
        "claim_files = os.listdir(claim_dir)\n",
        "claim_paths = list(map(lambda file: os.path.join(claim_dir, file), claim_files))\n",
        "claim_paths"
      ]
    },
    {
      "cell_type": "code",
      "execution_count": 20,
      "metadata": {
        "colab": {
          "base_uri": "https://localhost:8080/"
        },
        "id": "e7AO49AjAo_B",
        "outputId": "90701e68-dd7c-4148-82f4-3bdc1802f862"
      },
      "outputs": [
        {
          "name": "stdout",
          "output_type": "stream",
          "text": [
            "+----+---------+------------------------------------------------------+----------------+--------+----------------------------------------------------------------+------+-----------------------------------------------+--------------------------------------------+---------------------------------------+-------------------------------+----------------------------------------+----------------------------+----------------------------+----+\n",
            "|Ano |Trimestre|Categoria                                             |Tipo            |CNPJ IF |Instituição financeira                                          |Índice|Quantidade de reclamações reguladas procedentes|Quantidade de reclamações reguladas - outras|Quantidade de reclamações não reguladas|Quantidade total de reclamações|Quantidade total de clientes  CCS e SCR|Quantidade de clientes  CCS|Quantidade de clientes  SCR|_c14|\n",
            "+----+---------+------------------------------------------------------+----------------+--------+----------------------------------------------------------------+------+-----------------------------------------------+--------------------------------------------+---------------------------------------+-------------------------------+----------------------------------------+----------------------------+----------------------------+----+\n",
            "|2022|3º       |Demais Bancos, Financeiras e Instituições de Pagamento|Conglomerado    |        |ABC-BRASIL (conglomerado)                                       |      |4                                              |7                                           |3                                      |14                             |50720                                   |47485                       |6932                        |NULL|\n",
            "|2022|3º       |Demais Bancos, Financeiras e Instituições de Pagamento|Conglomerado    |        |ABN AMRO (conglomerado)                                         |      |0                                              |0                                           |1                                      |1                              |0                                       |0                           |                            |NULL|\n",
            "|2022|3º       |Demais Bancos, Financeiras e Instituições de Pagamento|Banco/financeira|13140088|ACESSO SOLUÇÕES DE PAGAMENTO S.A.                               |14,70 |75                                             |128                                         |9                                      |212                            |5098671                                 |5098661                     |19396                       |NULL|\n",
            "|2022|3º       |Demais Bancos, Financeiras e Instituições de Pagamento|Conglomerado    |        |AGIBANK (conglomerado)                                          |96,00 |182                                            |262                                         |95                                     |539                            |1895683                                 |1540134                     |1176067                     |NULL|\n",
            "|2022|3º       |Demais Bancos, Financeiras e Instituições de Pagamento|Banco/financeira|36321990|AGORACRED S/A SOCIEDADE DE CRÉDITO, FINANCIAMENTO E INVESTIMENTO|      |4                                              |4                                           |2                                      |10                             |534795                                  |133                         |534662                      |NULL|\n",
            "|2022|3º       |Demais Bancos, Financeiras e Instituições de Pagamento|Banco/financeira|27214112|AL5 S.A. CRÉDITO, FINANCIAMENTO E INVESTIMENTO                  |      |10                                             |3                                           |2                                      |15                             |30959                                   |19706                       |16841                       |NULL|\n",
            "|2022|3º       |Demais Bancos, Financeiras e Instituições de Pagamento|Conglomerado    |        |ALFA (conglomerado)                                             |      |23                                             |48                                          |9                                      |80                             |436746                                  |267423                      |170417                      |NULL|\n",
            "|2022|3º       |Demais Bancos, Financeiras e Instituições de Pagamento|Banco/financeira|32778350|AME DIGITAL BRASIL INSTITUICAO DE PAGAMENTO LTDA                |      |6                                              |31                                          |90                                     |127                            |0                                       |0                           |0                           |NULL|\n",
            "|2022|3º       |Demais Bancos, Financeiras e Instituições de Pagamento|Conglomerado    |        |ANDBANK (conglomerado)                                          |      |0                                              |2                                           |2                                      |4                              |4302                                    |4302                        |29                          |NULL|\n",
            "|2022|3º       |Demais Bancos, Financeiras e Instituições de Pagamento|Banco/financeira|19540550|ASAAS GESTÃO FINANCEIRA INSTITUIÇÃO DE PAGAMENTO S.A.           |      |8                                              |42                                          |5                                      |55                             |404447                                  |404447                      |                            |NULL|\n",
            "|2022|3º       |Demais Bancos, Financeiras e Instituições de Pagamento|Banco/financeira|54403563|BANCO ARBI S.A.                                                 |      |14                                             |8                                           |0                                      |22                             |84526                                   |75882                       |10846                       |NULL|\n",
            "|2022|3º       |Demais Bancos, Financeiras e Instituições de Pagamento|Banco/financeira|00997185|BANCO B3 S.A.                                                   |      |0                                              |1                                           |1                                      |2                              |896                                     |896                         |                            |NULL|\n",
            "|2022|3º       |Demais Bancos, Financeiras e Instituições de Pagamento|Banco/financeira|02658435|BANCO CATERPILLAR S.A.                                          |      |1                                              |0                                           |0                                      |1                              |3325                                    |                            |3325                        |NULL|\n",
            "|2022|3º       |Demais Bancos, Financeiras e Instituições de Pagamento|Banco/financeira|33132044|BANCO CEDULA S.A.                                               |      |0                                              |1                                           |1                                      |2                              |18010                                   |2805                        |15425                       |NULL|\n",
            "|2022|3º       |Demais Bancos, Financeiras e Instituições de Pagamento|Banco/financeira|02992446|BANCO CNH INDUSTRIAL CAPITAL S.A.                               |      |0                                              |2                                           |2                                      |4                              |28887                                   |1290                        |27778                       |NULL|\n",
            "|2022|3º       |Demais Bancos, Financeiras e Instituições de Pagamento|Banco/financeira|08357240|BANCO CSF S.A.                                                  |9,98  |77                                             |72                                          |43                                     |192                            |7707988                                 |                            |7707988                     |NULL|\n",
            "|2022|3º       |Demais Bancos, Financeiras e Instituições de Pagamento|Banco/financeira|04902979|BANCO DA AMAZONIA S.A.                                          |      |6                                              |7                                           |10                                     |23                             |507169                                  |507169                      |                            |NULL|\n",
            "|2022|3º       |Demais Bancos, Financeiras e Instituições de Pagamento|Banco/financeira|33042151|BANCO DE LA NACION ARGENTINA                                    |      |0                                              |2                                           |0                                      |2                              |267                                     |255                         |22                          |NULL|\n",
            "|2022|3º       |Demais Bancos, Financeiras e Instituições de Pagamento|Banco/financeira|05040481|BANCO DE LAGE LANDEN BRASIL S.A.                                |      |0                                              |0                                           |1                                      |1                              |35292                                   |4                           |35289                       |NULL|\n",
            "|2022|3º       |Demais Bancos, Financeiras e Instituições de Pagamento|Banco/financeira|92874270|BANCO DIGIMAIS S.A.                                             |424,80|132                                            |31                                          |33                                     |196                            |310734                                  |142304                      |203761                      |NULL|\n",
            "+----+---------+------------------------------------------------------+----------------+--------+----------------------------------------------------------------+------+-----------------------------------------------+--------------------------------------------+---------------------------------------+-------------------------------+----------------------------------------+----------------------------+----------------------------+----+\n",
            "only showing top 20 rows\n",
            "\n"
          ]
        }
      ],
      "source": [
        "claim_df = spark.read.csv(claim_paths, sep=';', encoding='latin1', header=True)\n",
        "claim_df.createOrReplaceTempView(\"claim_temp\")\n",
        "records_claim = spark.sql(\"SELECT * FROM claim_temp\")\n",
        "records_claim.show(truncate=False)"
      ]
    },
    {
      "cell_type": "markdown",
      "metadata": {
        "id": "1JTg9oLbAo_C"
      },
      "source": [
        "Analisando o esquema dos dados"
      ]
    },
    {
      "cell_type": "code",
      "execution_count": 21,
      "metadata": {
        "colab": {
          "base_uri": "https://localhost:8080/"
        },
        "id": "njDQGuo2Ao_C",
        "outputId": "69339231-0d01-4548-efaf-63e3af21d597"
      },
      "outputs": [
        {
          "name": "stdout",
          "output_type": "stream",
          "text": [
            "+-----------------------------------------------+---------+-------+\n",
            "|col_name                                       |data_type|comment|\n",
            "+-----------------------------------------------+---------+-------+\n",
            "|Ano                                            |string   |NULL   |\n",
            "|Trimestre                                      |string   |NULL   |\n",
            "|Categoria                                      |string   |NULL   |\n",
            "|Tipo                                           |string   |NULL   |\n",
            "|CNPJ IF                                        |string   |NULL   |\n",
            "|Instituição financeira                         |string   |NULL   |\n",
            "|Índice                                         |string   |NULL   |\n",
            "|Quantidade de reclamações reguladas procedentes|string   |NULL   |\n",
            "|Quantidade de reclamações reguladas - outras   |string   |NULL   |\n",
            "|Quantidade de reclamações não reguladas        |string   |NULL   |\n",
            "|Quantidade total de reclamações                |string   |NULL   |\n",
            "|Quantidade total de clientes  CCS e SCR       |string   |NULL   |\n",
            "|Quantidade de clientes  CCS                   |string   |NULL   |\n",
            "|Quantidade de clientes  SCR                   |string   |NULL   |\n",
            "|_c14                                           |string   |NULL   |\n",
            "+-----------------------------------------------+---------+-------+\n",
            "\n"
          ]
        }
      ],
      "source": [
        "spark.sql(\"DESCRIBE claim_temp\").show(truncate=False)"
      ]
    },
    {
      "cell_type": "code",
      "execution_count": 22,
      "metadata": {
        "colab": {
          "base_uri": "https://localhost:8080/"
        },
        "id": "BtJ_twmgEGzW",
        "outputId": "9a28925e-82e5-4a56-c13e-fcdff1429cd8"
      },
      "outputs": [
        {
          "name": "stdout",
          "output_type": "stream",
          "text": [
            "+----+---------+--------------------+----------------+--------+----------------------+------+-----------------------------------------------+--------------------------------------------+---------------------------------------+-------------------------------+----------------------------------------+----------------------------+----------------------------+----+\n",
            "| Ano|Trimestre|           Categoria|            Tipo| CNPJ IF|Instituição financeira|Índice|Quantidade de reclamações reguladas procedentes|Quantidade de reclamações reguladas - outras|Quantidade de reclamações não reguladas|Quantidade total de reclamações|Quantidade total de clientes  CCS e SCR|Quantidade de clientes  CCS|Quantidade de clientes  SCR|_c14|\n",
            "+----+---------+--------------------+----------------+--------+----------------------+------+-----------------------------------------------+--------------------------------------------+---------------------------------------+-------------------------------+----------------------------------------+----------------------------+----------------------------+----+\n",
            "|2022|       3º|Demais Bancos, Fi...|    Conglomerado|        |  ABC-BRASIL (congl...|      |                                              4|                                           7|                                      3|                             14|                                   50720|                       47485|                        6932|NULL|\n",
            "|2022|       3º|Demais Bancos, Fi...|    Conglomerado|        |  ABN AMRO (conglom...|      |                                              0|                                           0|                                      1|                              1|                                       0|                           0|                            |NULL|\n",
            "|2022|       3º|Demais Bancos, Fi...|Banco/financeira|13140088|  ACESSO SOLUÇÕES D...| 14,70|                                             75|                                         128|                                      9|                            212|                                 5098671|                     5098661|                       19396|NULL|\n",
            "|2022|       3º|Demais Bancos, Fi...|    Conglomerado|        |  AGIBANK (conglome...| 96,00|                                            182|                                         262|                                     95|                            539|                                 1895683|                     1540134|                     1176067|NULL|\n",
            "|2022|       3º|Demais Bancos, Fi...|Banco/financeira|36321990|  AGORACRED S/A SOC...|      |                                              4|                                           4|                                      2|                             10|                                  534795|                         133|                      534662|NULL|\n",
            "|2022|       3º|Demais Bancos, Fi...|Banco/financeira|27214112|  AL5 S.A. CRÉDITO,...|      |                                             10|                                           3|                                      2|                             15|                                   30959|                       19706|                       16841|NULL|\n",
            "|2022|       3º|Demais Bancos, Fi...|    Conglomerado|        |   ALFA (conglomerado)|      |                                             23|                                          48|                                      9|                             80|                                  436746|                      267423|                      170417|NULL|\n",
            "|2022|       3º|Demais Bancos, Fi...|Banco/financeira|32778350|  AME DIGITAL BRASI...|      |                                              6|                                          31|                                     90|                            127|                                       0|                           0|                           0|NULL|\n",
            "|2022|       3º|Demais Bancos, Fi...|    Conglomerado|        |  ANDBANK (conglome...|      |                                              0|                                           2|                                      2|                              4|                                    4302|                        4302|                          29|NULL|\n",
            "|2022|       3º|Demais Bancos, Fi...|Banco/financeira|19540550|  ASAAS GESTÃO FINA...|      |                                              8|                                          42|                                      5|                             55|                                  404447|                      404447|                            |NULL|\n",
            "+----+---------+--------------------+----------------+--------+----------------------+------+-----------------------------------------------+--------------------------------------------+---------------------------------------+-------------------------------+----------------------------------------+----------------------------+----------------------------+----+\n",
            "\n"
          ]
        }
      ],
      "source": [
        "spark.sql(\"SELECT * FROM claim_temp LIMIT 10\").show()"
      ]
    },
    {
      "cell_type": "markdown",
      "metadata": {
        "id": "ENRhGXMBAo_C"
      },
      "source": [
        "Removendo coluna desnecessária"
      ]
    },
    {
      "cell_type": "code",
      "execution_count": 23,
      "metadata": {
        "colab": {
          "base_uri": "https://localhost:8080/"
        },
        "id": "m7H5BSrlAo_C",
        "outputId": "9f2d3b2a-923b-4c15-fce3-4ac8169e1a13"
      },
      "outputs": [
        {
          "name": "stdout",
          "output_type": "stream",
          "text": [
            "+-----------------------------------------------+---------+-------+\n",
            "|col_name                                       |data_type|comment|\n",
            "+-----------------------------------------------+---------+-------+\n",
            "|Ano                                            |string   |NULL   |\n",
            "|Trimestre                                      |string   |NULL   |\n",
            "|Categoria                                      |string   |NULL   |\n",
            "|Tipo                                           |string   |NULL   |\n",
            "|CNPJ IF                                        |string   |NULL   |\n",
            "|Instituição financeira                         |string   |NULL   |\n",
            "|Índice                                         |string   |NULL   |\n",
            "|Quantidade de reclamações reguladas procedentes|string   |NULL   |\n",
            "|Quantidade de reclamações reguladas - outras   |string   |NULL   |\n",
            "|Quantidade de reclamações não reguladas        |string   |NULL   |\n",
            "|Quantidade total de reclamações                |string   |NULL   |\n",
            "|Quantidade total de clientes  CCS e SCR       |string   |NULL   |\n",
            "|Quantidade de clientes  CCS                   |string   |NULL   |\n",
            "|Quantidade de clientes  SCR                   |string   |NULL   |\n",
            "+-----------------------------------------------+---------+-------+\n",
            "\n"
          ]
        }
      ],
      "source": [
        "# Remove _c14 -> comando EXCEPT e DROP COLUMN nao funciona\n",
        "spark.sql(\"\"\"\n",
        "CREATE OR REPLACE TEMPORARY VIEW claim_temp_filtered AS\n",
        "SELECT Ano, Trimestre, Categoria, Tipo, `CNPJ IF`, `Instituição financeira`,\n",
        "`Índice`, `Quantidade de reclamações reguladas procedentes`, `Quantidade de reclamações reguladas - outras`,\n",
        "`Quantidade de reclamações não reguladas`, `Quantidade total de reclamações`, `Quantidade total de clientes  CCS e SCR`,\n",
        "`Quantidade de clientes  CCS`, `Quantidade de clientes  SCR`\n",
        "FROM claim_temp\n",
        "\"\"\")\n",
        "spark.sql(\"DESCRIBE claim_temp_filtered\").show(truncate=False)"
      ]
    },
    {
      "cell_type": "markdown",
      "metadata": {
        "id": "bczA-NhfAo_C"
      },
      "source": [
        "Contando a quantidade de linhas"
      ]
    },
    {
      "cell_type": "code",
      "execution_count": 24,
      "metadata": {
        "colab": {
          "base_uri": "https://localhost:8080/"
        },
        "id": "vlkE_p07Ao_M",
        "outputId": "b19aa169-82a2-4742-dfad-0f84ba7a67ff"
      },
      "outputs": [
        {
          "name": "stdout",
          "output_type": "stream",
          "text": [
            "Registros claim: 918\n"
          ]
        }
      ],
      "source": [
        "total_records_claim= spark.sql(\"SELECT COUNT(*) AS total FROM claim_temp_filtered\").collect()[0]['total']\n",
        "print(f\"Registros claim: {total_records_claim}\")"
      ]
    },
    {
      "cell_type": "markdown",
      "metadata": {
        "id": "hm1Xp1sxAo_M"
      },
      "source": [
        "Salvando dados na camada _raw_ no formato parquet"
      ]
    },
    {
      "cell_type": "code",
      "execution_count": 25,
      "metadata": {
        "colab": {
          "base_uri": "https://localhost:8080/"
        },
        "id": "iRmjUAShcSCL",
        "outputId": "e762f549-7057-4414-f47f-0c3be21d179a"
      },
      "outputs": [
        {
          "name": "stdout",
          "output_type": "stream",
          "text": [
            "Arquivos salvos em: /content/drive/MyDrive/USP/3 - Ingestão de dados/Atividade4/raw/claim\n"
          ]
        }
      ],
      "source": [
        "claim_temp_filtered = spark.sql(\"SELECT * FROM claim_temp_filtered\")\n",
        "\n",
        "drive_path = '/content/drive/MyDrive/USP/3 - Ingestão de dados/Atividade4/raw/claim'\n",
        "\n",
        "os.makedirs(drive_path, exist_ok=True)\n",
        "\n",
        "parquet_path = os.path.join(drive_path, 'claim_temp_filtered.parquet')\n",
        "csv_path = os.path.join(drive_path, 'claim_temp_filtered.csv')\n",
        "\n",
        "# Salvar o DataFrame como .parquet\n",
        "claim_temp_filtered.write.mode(\"overwrite\").parquet(parquet_path)\n",
        "\n",
        "# Salvar o DataFrame como .csv (com cabeçalho)\n",
        "claim_temp_filtered.write.mode(\"overwrite\").option(\"header\", \"true\").csv(csv_path)\n",
        "\n",
        "print(f\"Arquivos salvos em: {drive_path}\")"
      ]
    },
    {
      "cell_type": "markdown",
      "metadata": {
        "id": "jxBXkZ56h-zf"
      },
      "source": [
        "---\n",
        "## **Trusted**"
      ]
    },
    {
      "cell_type": "markdown",
      "metadata": {
        "id": "XSlhEWlxiard"
      },
      "source": [
        "### **Banks**"
      ]
    },
    {
      "cell_type": "markdown",
      "metadata": {
        "id": "oOZ8qz__nO0m"
      },
      "source": [
        "Aplicando transformações para melhorar a qualidade dos dados:"
      ]
    },
    {
      "cell_type": "markdown",
      "metadata": {
        "id": "VrASIahHn8YB"
      },
      "source": [
        "1 - Renomeando colunas do dataframe para ingles e no formato snake_case\n",
        "\n",
        "2 - Para que os dados da coluna _cnpj_ estivessem de acordo com seu padrão, os valores incompletos receberam numerais zeros à esquerda até completar 8 dígitos"
      ]
    },
    {
      "cell_type": "code",
      "execution_count": 32,
      "metadata": {
        "colab": {
          "base_uri": "https://localhost:8080/"
        },
        "id": "77Vpl1D7ieAS",
        "outputId": "b76b3745-f591-49cc-ff78-e54981bba7e3"
      },
      "outputs": [
        {
          "name": "stdout",
          "output_type": "stream",
          "text": [
            "+--------------------------+---------+-------+\n",
            "|col_name                  |data_type|comment|\n",
            "+--------------------------+---------+-------+\n",
            "|segment                   |string   |NULL   |\n",
            "|financial_institution_name|string   |NULL   |\n",
            "|cnpj                      |string   |NULL   |\n",
            "+--------------------------+---------+-------+\n",
            "\n"
          ]
        }
      ],
      "source": [
        "\n",
        "#drive\n",
        "parquet_path = '/content/drive/MyDrive/USP/3 - Ingestão de dados/Atividade4/raw/banks/rwzd_bank.parquet'\n",
        "\n",
        "# Registrar o arquivo .parquet como uma tabela temporária\n",
        "spark.read.parquet(parquet_path).createOrReplaceTempView(\"rwzd_bank\")\n",
        "rwzd_bank = spark.sql(\"SELECT * FROM rwzd_bank\")\n",
        "\n",
        "# Executar uma consulta SQL na tabela temporária\n",
        "spark.sql(\"\"\"\n",
        "CREATE OR REPLACE TEMP VIEW trzd_banks AS\n",
        "SELECT Segmento AS segment, Nome AS financial_institution_name,\n",
        "      CASE\n",
        "           WHEN cnpj = '' THEN NULL\n",
        "           ELSE LPAD(cnpj, 8, '0')\n",
        "       END AS cnpj\n",
        "FROM rwzd_bank\n",
        "\"\"\")\n",
        "\n",
        "# Mostrar a estrutura da tabela criada\n",
        "spark.sql(\"DESCRIBE trzd_banks\").show(truncate=False)\n"
      ]
    },
    {
      "cell_type": "code",
      "execution_count": 33,
      "metadata": {
        "colab": {
          "base_uri": "https://localhost:8080/"
        },
        "id": "Bh1Cq2q8pHau",
        "outputId": "f848b7f9-0a46-400b-c70c-1c8a6c7a1a04"
      },
      "outputs": [
        {
          "name": "stdout",
          "output_type": "stream",
          "text": [
            "+-------+---------------------------------------------+--------+\n",
            "|segment|financial_institution_name                   |cnpj    |\n",
            "+-------+---------------------------------------------+--------+\n",
            "|S1     |BANCO DO BRASIL - PRUDENCIAL                 |00000000|\n",
            "|S1     |BRADESCO - PRUDENCIAL                        |60746948|\n",
            "|S1     |BTG PACTUAL - PRUDENCIAL                     |30306294|\n",
            "|S1     |CAIXA ECONOMICA FEDERAL - PRUDENCIAL         |00360305|\n",
            "|S1     |ITAU - PRUDENCIAL                            |60872504|\n",
            "|S1     |SANTANDER - PRUDENCIAL                       |90400888|\n",
            "|S2     |BANRISUL - PRUDENCIAL                        |92702067|\n",
            "|S2     |BANCO DO NORDESTE DO BRASIL S.A. - PRUDENCIAL|07237373|\n",
            "|S2     |BNDES - PRUDENCIAL                           |33657248|\n",
            "|S2     |CITIBANK - PRUDENCIAL                        |33479023|\n",
            "|S2     |CREDIT SUISSE - PRUDENCIAL                   |33987793|\n",
            "|S2     |SAFRA - PRUDENCIAL                           |58160789|\n",
            "|S2     |VOTORANTIM - PRUDENCIAL                      |59588111|\n",
            "|S3     |ABC-BRASIL - PRUDENCIAL                      |28195667|\n",
            "|S3     |ALFA - PRUDENCIAL                            |60770336|\n",
            "|S3     |APE POUPEX                                   |00655522|\n",
            "|S3     |BANCO CNH INDUSTRIAL CAPITAL S.A - PRUDENCIAL|02992446|\n",
            "|S3     |BANCOOB - PRUDENCIAL                         |02038232|\n",
            "|S3     |BANESTES - PRUDENCIAL                        |28127603|\n",
            "|S3     |BANCO CLASSICO S.A. - PRUDENCIAL             |31597552|\n",
            "+-------+---------------------------------------------+--------+\n",
            "only showing top 20 rows\n",
            "\n"
          ]
        }
      ],
      "source": [
        "spark.sql(\"SELECT * FROM trzd_banks LIMIT 100\").show(truncate=False)"
      ]
    },
    {
      "cell_type": "code",
      "execution_count": 34,
      "metadata": {
        "colab": {
          "base_uri": "https://localhost:8080/"
        },
        "id": "d1Wm86WKPJ2c",
        "outputId": "2e7e11b4-c215-488a-d1cd-4d4933a299f4"
      },
      "outputs": [
        {
          "name": "stdout",
          "output_type": "stream",
          "text": [
            "+-------+---------------------------------------------+--------+----------------------------------------+\n",
            "|segment|financial_institution_name                   |cnpj    |sk_cnpj_segment                         |\n",
            "+-------+---------------------------------------------+--------+----------------------------------------+\n",
            "|S1     |BANCO DO BRASIL - PRUDENCIAL                 |00000000|d9be4941c63af670d63086dcb0849a997e062a64|\n",
            "|S1     |BRADESCO - PRUDENCIAL                        |60746948|2f59bebc86f6b4dd5628043cac240c6e6a6f651d|\n",
            "|S1     |BTG PACTUAL - PRUDENCIAL                     |30306294|110ffbf347c0837827daf658f4f97950ebe9f741|\n",
            "|S1     |CAIXA ECONOMICA FEDERAL - PRUDENCIAL         |00360305|587e4dca521e8c4426371a29658419ecb0087262|\n",
            "|S1     |ITAU - PRUDENCIAL                            |60872504|4b6e5b20d113f3415704fd6a998f2e4500340b18|\n",
            "|S1     |SANTANDER - PRUDENCIAL                       |90400888|75ddb1c713e8da4daab944522b8ee5dda29c2983|\n",
            "|S2     |BANRISUL - PRUDENCIAL                        |92702067|ddd1cba40d24bcf93c637028f2ef047ce4fae886|\n",
            "|S2     |BANCO DO NORDESTE DO BRASIL S.A. - PRUDENCIAL|07237373|4e52ea413cf937405f38013294434e85be954f2d|\n",
            "|S2     |BNDES - PRUDENCIAL                           |33657248|bd262ac480470e839f0e98c0f57383d2034ac1a6|\n",
            "|S2     |CITIBANK - PRUDENCIAL                        |33479023|9dfc299c9dffe3629288d302b47a2dcf9ec883cb|\n",
            "|S2     |CREDIT SUISSE - PRUDENCIAL                   |33987793|2d52471f560d1a3b35ad745dd9626640fdf2a12e|\n",
            "|S2     |SAFRA - PRUDENCIAL                           |58160789|10fd63fa68a9399399c41747efaccbbd7f474b80|\n",
            "|S2     |VOTORANTIM - PRUDENCIAL                      |59588111|7c0daecf7f3d35c4c8b991ff49149a87d1c680b8|\n",
            "|S3     |ABC-BRASIL - PRUDENCIAL                      |28195667|4396c9aca92a8cfb1aba2ce3fa1e98a15ab209b3|\n",
            "|S3     |ALFA - PRUDENCIAL                            |60770336|aa27f0a03ce357a431c2789b7f6596e0b464e2bc|\n",
            "|S3     |APE POUPEX                                   |00655522|d52450adc95fa0bbb0d69e46f1b200a2191be886|\n",
            "|S3     |BANCO CNH INDUSTRIAL CAPITAL S.A - PRUDENCIAL|02992446|4110f81144c29257d25a66c80576c8929f84ecc4|\n",
            "|S3     |BANCOOB - PRUDENCIAL                         |02038232|a0eed533328d57ac2d7846c49b7ccc23798cd566|\n",
            "|S3     |BANESTES - PRUDENCIAL                        |28127603|2748b9aae2109a4b4b66e4c870b3539f1fd5ce12|\n",
            "|S3     |BANCO CLASSICO S.A. - PRUDENCIAL             |31597552|5f93aa376cd172e5543caf6a511eb917292c5024|\n",
            "+-------+---------------------------------------------+--------+----------------------------------------+\n",
            "only showing top 20 rows\n",
            "\n"
          ]
        }
      ],
      "source": [
        "spark.sql(\"\"\"\n",
        "CREATE OR REPLACE TEMP VIEW trzd_bank_view AS\n",
        "SELECT *,\n",
        "       sha1(concat(cnpj, segment)) AS sk_cnpj_segment\n",
        "FROM trzd_banks\n",
        "\"\"\")\n",
        "\n",
        "trzd_bank = spark.sql(\"SELECT * FROM trzd_bank_view\")\n",
        "trzd_bank.show(truncate=False)\n"
      ]
    },
    {
      "cell_type": "code",
      "execution_count": 35,
      "metadata": {
        "colab": {
          "base_uri": "https://localhost:8080/"
        },
        "id": "kj8hrLi8Q9yO",
        "outputId": "dab45709-e486-4ecb-edd8-7d949fbe7c31"
      },
      "outputs": [
        {
          "name": "stdout",
          "output_type": "stream",
          "text": [
            "Arquivos salvos em: /content/drive/MyDrive/USP/3 - Ingestão de dados/Atividade4/trusted\n"
          ]
        }
      ],
      "source": [
        "# Caminho no Google Drive para salvar os arquivos\n",
        "drive_path = '/content/drive/MyDrive/USP/3 - Ingestão de dados/Atividade4/trusted'\n",
        "\n",
        "# Criar a pasta se ela não existir\n",
        "os.makedirs(drive_path, exist_ok=True)\n",
        "\n",
        "# Caminho para salvar os arquivos\n",
        "parquet_path = os.path.join(drive_path, 'trzd_bank.parquet')\n",
        "csv_path = os.path.join(drive_path, 'trzd_bank.csv')\n",
        "\n",
        "# Salvar o DataFrame como .parquet\n",
        "rwzd_bank.write.mode(\"overwrite\").parquet(parquet_path)\n",
        "\n",
        "# Salvar o DataFrame como .csv (com cabeçalho)\n",
        "rwzd_bank.write.mode(\"overwrite\").option(\"header\", \"true\").csv(csv_path)\n",
        "\n",
        "print(f\"Arquivos salvos em: {drive_path}\")\n"
      ]
    },
    {
      "cell_type": "markdown",
      "metadata": {
        "id": "DFRjpGF6tF6n"
      },
      "source": [
        "### **Employees**"
      ]
    },
    {
      "cell_type": "code",
      "execution_count": 50,
      "metadata": {
        "id": "4TBeP3CeRTDe"
      },
      "outputs": [],
      "source": [
        "# Drive da camada RAW\n",
        "parquet_path = '/content/drive/MyDrive/USP/3 - Ingestão de dados/Atividade4/raw/employee/employee_dedup.parquet'\n",
        "\n",
        "# Registrar o arquivo .parquet como uma tabela temporária\n",
        "spark.read.parquet(parquet_path).createOrReplaceTempView(\"trusted_employee\")\n"
      ]
    },
    {
      "cell_type": "code",
      "execution_count": 51,
      "metadata": {
        "colab": {
          "base_uri": "https://localhost:8080/"
        },
        "id": "sW2BR-bQRfe1",
        "outputId": "288c7e2c-3e51-4b2b-c668-8b4ae8fd8396"
      },
      "outputs": [
        {
          "name": "stdout",
          "output_type": "stream",
          "text": [
            "+---------------------------+---------+-------+\n",
            "|col_name                   |data_type|comment|\n",
            "+---------------------------+---------+-------+\n",
            "|employer_website           |string   |NULL   |\n",
            "|employer_headquarters      |string   |NULL   |\n",
            "|employer_founded           |double   |NULL   |\n",
            "|employer_industry          |string   |NULL   |\n",
            "|employer_revenue           |string   |NULL   |\n",
            "|general_score              |double   |NULL   |\n",
            "|culture_values_score       |double   |NULL   |\n",
            "|diversity_inclusion_score  |double   |NULL   |\n",
            "|life_quality_score         |double   |NULL   |\n",
            "|senior_leadership_score    |double   |NULL   |\n",
            "|compensation_benefits_score|double   |NULL   |\n",
            "|career_opportunities_score |double   |NULL   |\n",
            "|recommendation_score       |double   |NULL   |\n",
            "|company_positive_score     |double   |NULL   |\n",
            "|segment                    |string   |NULL   |\n",
            "|financial_institution_name |string   |NULL   |\n",
            "|cnpj                       |string   |NULL   |\n",
            "+---------------------------+---------+-------+\n",
            "\n"
          ]
        }
      ],
      "source": [
        "# Consulta a tabela de forma temporária para renomear as colunas e padronizar o cnpj\n",
        "trusted_employee_rename = spark.sql(\"\"\"CREATE OR REPLACE TEMPORARY VIEW trusted_employee_rename AS SELECT\n",
        "    `employer-website` AS employer_website,\n",
        "    `employer-headquarters` AS employer_headquarters,\n",
        "    `employer-founded` AS employer_founded,\n",
        "    `employer-industry` AS employer_industry,\n",
        "    `employer-revenue` AS employer_revenue,\n",
        "    `Geral` AS general_score,\n",
        "    `Cultura e valores` AS culture_values_score,\n",
        "    `Diversidade e inclusão` AS diversity_inclusion_score,\n",
        "    `Qualidade de vida` AS life_quality_score,\n",
        "    `Alta liderança` AS senior_leadership_score,\n",
        "    `Remuneração e benefícios` AS compensation_benefits_score,\n",
        "    `Oportunidades de carreira` AS career_opportunities_score,\n",
        "    `Recomendam para outras pessoas(%)` AS recommendation_score,\n",
        "    `Perspectiva positiva da empresa(%)` AS company_positive_score,\n",
        "    Segmento AS segment,\n",
        "    Nome AS financial_institution_name,\n",
        "    case\n",
        "        when cnpj = '' then NULL\n",
        "        else LPAD(cnpj, 8, '0')\n",
        "    end as cnpj\n",
        "FROM trusted_employee\n",
        "\"\"\")\n",
        "\n",
        "spark.sql(\"DESCRIBE trusted_employee_rename\").show(truncate=False)"
      ]
    },
    {
      "cell_type": "code",
      "execution_count": 52,
      "metadata": {
        "colab": {
          "base_uri": "https://localhost:8080/"
        },
        "id": "KZqSO_AiWuI5",
        "outputId": "e3f672eb-7a15-464b-842b-9646296e9523"
      },
      "outputs": [
        {
          "name": "stdout",
          "output_type": "stream",
          "text": [
            "+--------------------+---------------------+----------------+--------------------+--------------------+-------------+--------------------+-------------------------+------------------+-----------------------+---------------------------+--------------------------+--------------------+----------------------+-------+--------------------------+--------+\n",
            "|    employer_website|employer_headquarters|employer_founded|   employer_industry|    employer_revenue|general_score|culture_values_score|diversity_inclusion_score|life_quality_score|senior_leadership_score|compensation_benefits_score|career_opportunities_score|recommendation_score|company_positive_score|segment|financial_institution_name|    cnpj|\n",
            "+--------------------+---------------------+----------------+--------------------+--------------------+-------------+--------------------+-------------------------+------------------+-----------------------+---------------------------+--------------------------+--------------------+----------------------+-------+--------------------------+--------+\n",
            "|http://www.alfane...|    São Paulo, Brasil|          1925.0|/Explorar/melhore...|Desconhecida/não ...|          3.5|                 3.2|                      3.2|               3.1|                    2.8|                        3.8|                       2.7|                68.0|                  47.0|     S3|                      ALFA|    NULL|\n",
            "|http://www.apexgr...|    Hamilton, Bermuda|          2003.0|/Explorar/melhore...|Mais de US$ 10 bi...|          3.2|                 2.9|                      3.5|               3.0|                    2.9|                        2.7|                       3.2|                52.0|                  53.0|   NULL|                APE POUPEX|00655522|\n",
            "|http://www.apexgr...|    Hamilton, Bermuda|          2003.0|/Explorar/melhore...|Mais de US$ 10 bi...|          3.2|                 2.9|                      3.4|               3.0|                    2.9|                        2.7|                       3.2|                50.0|                  52.0|     S3|                APE POUPEX|    NULL|\n",
            "|https://www.dayco...|    São Paulo, Brasil|          1971.0|/Explorar/melhore...|De US$ 25 a US$ 1...|          4.0|                 3.7|                      3.6|               3.4|                    3.3|                        4.1|                       3.4|                78.0|                  72.0|     S3|        BANCO DAYCOVAL S.A|    NULL|\n",
            "|https://www.bb.co...|     Brasília, Brasil|          1808.0|/Explorar/melhore...|Desconhecida/não ...|          4.3|                 3.9|                      4.0|               3.7|                    3.5|                        4.2|                       3.8|                86.0|                  72.0|     S1|           BANCO DO BRASIL|    NULL|\n",
            "|http://www.bnb.go...|    Fortaleza, Brasil|            NULL|/Explorar/melhore...|Desconhecido/Não ...|          4.5|                 4.4|                      4.3|               4.3|                    4.1|                        4.2|                       4.0|                90.0|                  83.0|     S2|      BANCO DO NORDESTE...|    NULL|\n",
            "|http://www.bancof...|    São Paulo, Brasil|            NULL|/Explorar/melhore...|Desconhecida/não ...|          4.3|                 4.3|                      4.3|               3.8|                    3.7|                        4.2|                       3.6|                87.0|                  84.0|     S3|          BANCO FIBRA S.A.|    NULL|\n",
            "|http://www.smfg.c...|        Tóquio, Japão|          1996.0|/Explorar/melhore...|Mais de US$ 10 bi...|          3.4|                 3.2|                      3.3|               3.4|                    3.1|                        3.3|                       3.1|                56.0|                  53.0|   NULL|      BANCO SUMITOMO MI...|60518222|\n",
            "|http://www.smfg.c...|        Tóquio, Japão|          1996.0|/Explorar/melhore...|Mais de US$ 10 bi...|          3.4|                 3.3|                      3.2|               3.4|                    3.1|                        3.3|                       3.1|                56.0|                  54.0|     S3|      BANCO SUMITOMO MI...|    NULL|\n",
            "|http://www.bk.muf...|        Tóquio, Japão|          1919.0|/Explorar/melhore...|Mais de US$ 10 bi...|          3.6|                 3.6|                      3.5|               3.4|                    3.3|                        3.6|                       3.3|                65.0|                  43.0|     S3|      BANCO TOKYO-MITSU...|    NULL|\n",
            "|http://www.banris...| Porto Alegre, Brasil|            NULL|/Explorar/melhore...|De US$ 25 a US$ 1...|          4.2|                 3.6|                      3.8|               3.7|                    3.4|                        4.1|                       3.3|                84.0|                  59.0|     S2|                  BANRISUL|    NULL|\n",
            "|http://www.bancob...|    São Paulo, Brasil|          1930.0|/Explorar/melhore...|De US$ 1 a US$ 5 ...|          4.1|                 3.9|                      4.1|               3.7|                    3.6|                        4.2|                       3.5|                79.0|                  63.0|     S3|                       BMG|    NULL|\n",
            "|http://www.group....|        Paris, França|          2000.0|/Explorar/melhore...|Mais de US$ 10 bi...|          3.8|                 3.7|                      4.0|               3.8|                    3.4|                        3.4|                       3.5|                77.0|                  63.0|     S3|               BNP PARIBAS|    NULL|\n",
            "|   http://www.ml.com| New York, Estados...|          1820.0|/Explorar/melhore...|Mais de US$ 10 bi...|          3.8|                 3.6|                      3.9|               3.5|                    3.5|                        3.8|                       3.8|                66.0|                  61.0|     S3|        BOFA MERRILL LYNCH|    NULL|\n",
            "|http://www.bancob...|       Osasco, Brasil|          1943.0|/Explorar/melhore...|Mais de US$ 10 bi...|          4.2|                 3.8|                      3.9|               3.4|                    3.4|                        4.3|                       3.8|                81.0|                  66.0|     S1|                  BRADESCO|    NULL|\n",
            "|http://www.btgpac...|    São Paulo, Brasil|            NULL|/Explorar/melhore...|Desconhecida/não ...|          4.0|                 3.7|                      3.5|               2.8|                    3.7|                        4.4|                       4.2|                78.0|                  73.0|     S1|               BTG PACTUAL|    NULL|\n",
            "|http://www.caixa....|     BRASILIA, Brasil|            NULL|/Explorar/melhore...|Desconhecida/não ...|          4.4|                 3.8|                      4.2|               3.7|                    3.5|                        4.3|                       3.9|                86.0|                  72.0|     S1|      CAIXA ECONOMICA F...|    NULL|\n",
            "|  http://www.ccb.com|        Pequim, China|            NULL|/Explorar/melhore...|Mais de US$ 10 bi...|          3.4|                 3.0|                      3.0|               3.4|                    2.9|                        3.5|                       2.8|                54.0|                  42.0|   NULL|      CHINA CONSTRUCTIO...|07450604|\n",
            "|  http://www.ccb.com|        Pequim, China|            NULL|/Explorar/melhore...|Mais de US$ 10 bi...|          3.4|                 3.0|                      2.9|               3.4|                    2.9|                        3.5|                       2.8|                54.0|                  42.0|     S3|      CHINA CONSTRUCTIO...|    NULL|\n",
            "|http://www.citigr...| New York, Estados...|          1812.0|/Explorar/melhore...|Mais de US$ 10 bi...|          3.9|                 3.8|                      4.1|               3.5|                    3.5|                        3.8|                       3.9|                76.0|                  68.0|     S2|                  CITIBANK|    NULL|\n",
            "+--------------------+---------------------+----------------+--------------------+--------------------+-------------+--------------------+-------------------------+------------------+-----------------------+---------------------------+--------------------------+--------------------+----------------------+-------+--------------------------+--------+\n",
            "only showing top 20 rows\n",
            "\n"
          ]
        }
      ],
      "source": [
        "spark.sql(\"SELECT * FROM trusted_employee_rename\").show()"
      ]
    },
    {
      "cell_type": "markdown",
      "metadata": {
        "id": "zMazDir1VIHm"
      },
      "source": [
        "Separando Estado e País da coluna employer-headquarters"
      ]
    },
    {
      "cell_type": "code",
      "execution_count": 53,
      "metadata": {
        "colab": {
          "base_uri": "https://localhost:8080/"
        },
        "id": "jxyex4NZT-d_",
        "outputId": "d1fb0c8f-27c8-40b8-8fbc-2f5f81cec4ea"
      },
      "outputs": [
        {
          "name": "stdout",
          "output_type": "stream",
          "text": [
            "+-------------------------------+------------------------+----------------+-----------------------------------------------------------------------------------+---------------------------+-------------+--------------------+-------------------------+------------------+-----------------------+---------------------------+--------------------------+--------------------+----------------------+-------+--------------------------------------------------+--------+---------------------------+-----------------------------+\n",
            "|employer_website               |employer_headquarters   |employer_founded|employer_industry                                                                  |employer_revenue           |general_score|culture_values_score|diversity_inclusion_score|life_quality_score|senior_leadership_score|compensation_benefits_score|career_opportunities_score|recommendation_score|company_positive_score|segment|financial_institution_name                        |cnpj    |state_employer_headquarters|country_employer_headquarters|\n",
            "+-------------------------------+------------------------+----------------+-----------------------------------------------------------------------------------+---------------------------+-------------+--------------------+-------------------------+------------------+-----------------------+---------------------------+--------------------------+--------------------+----------------------+-------+--------------------------------------------------+--------+---------------------------+-----------------------------+\n",
            "|http://www.alfanet.com.br      |São Paulo, Brasil       |1925.0          |/Explorar/melhores-serviços-bancários-e-de-crédito-empresas_II.9,40_IIND200048.htm |Desconhecida/não se aplica |3.5          |3.2                 |3.2                      |3.1               |2.8                    |3.8                        |2.7                       |68.0                |47.0                  |S3     |ALFA                                              |NULL    |São Paulo                  | Brasil                      |\n",
            "|http://www.apexgroup.com       |Hamilton, Bermuda       |2003.0          |/Explorar/melhores-gestão-de-ativos-e-investimentos-empresas_II.9,41_IIND200146.htm|Mais de US$ 10 bilhões     |3.2          |2.9                 |3.5                      |3.0               |2.9                    |2.7                        |3.2                       |52.0                |53.0                  |NULL   |APE POUPEX                                        |00655522|Hamilton                   | Bermuda                     |\n",
            "|http://www.apexgroup.com       |Hamilton, Bermuda       |2003.0          |/Explorar/melhores-gestão-de-ativos-e-investimentos-empresas_II.9,41_IIND200146.htm|Mais de US$ 10 bilhões     |3.2          |2.9                 |3.4                      |3.0               |2.9                    |2.7                        |3.2                       |50.0                |52.0                  |S3     |APE POUPEX                                        |NULL    |Hamilton                   | Bermuda                     |\n",
            "|https://www.daycoval.com.br    |São Paulo, Brasil       |1971.0          |/Explorar/melhores-serviços-bancários-e-de-crédito-empresas_II.9,40_IIND200048.htm |De US$ 25 a US$ 100 milhões|4.0          |3.7                 |3.6                      |3.4               |3.3                    |4.1                        |3.4                       |78.0                |72.0                  |S3     |BANCO DAYCOVAL S.A                                |NULL    |São Paulo                  | Brasil                      |\n",
            "|https://www.bb.com.br          |Brasília, Brasil        |1808.0          |/Explorar/melhores-serviços-bancários-e-de-crédito-empresas_II.9,40_IIND200048.htm |Desconhecida/não se aplica |4.3          |3.9                 |4.0                      |3.7               |3.5                    |4.2                        |3.8                       |86.0                |72.0                  |S1     |BANCO DO BRASIL                                   |NULL    |Brasília                   | Brasil                      |\n",
            "|http://www.bnb.gov.br          |Fortaleza, Brasil       |NULL            |/Explorar/melhores-gestão-de-ativos-e-investimentos-empresas_II.9,41_IIND200146.htm|Desconhecido/Não se aplica |4.5          |4.4                 |4.3                      |4.3               |4.1                    |4.2                        |4.0                       |90.0                |83.0                  |S2     |BANCO DO NORDESTE DO BRASIL S.A.                  |NULL    |Fortaleza                  | Brasil                      |\n",
            "|http://www.bancofibra.com.br   |São Paulo, Brasil       |NULL            |/Explorar/melhores-serviços-bancários-e-de-crédito-empresas_II.9,40_IIND200048.htm |Desconhecida/não se aplica |4.3          |4.3                 |4.3                      |3.8               |3.7                    |4.2                        |3.6                       |87.0                |84.0                  |S3     |BANCO FIBRA S.A.                                  |NULL    |São Paulo                  | Brasil                      |\n",
            "|http://www.smfg.co.jp          |Tóquio, Japão           |1996.0          |/Explorar/melhores-gestão-de-ativos-e-investimentos-empresas_II.9,41_IIND200146.htm|Mais de US$ 10 bilhões     |3.4          |3.2                 |3.3                      |3.4               |3.1                    |3.3                        |3.1                       |56.0                |53.0                  |NULL   |BANCO SUMITOMO MITSUI BRASIL S.A.                 |60518222|Tóquio                     | Japão                       |\n",
            "|http://www.smfg.co.jp          |Tóquio, Japão           |1996.0          |/Explorar/melhores-gestão-de-ativos-e-investimentos-empresas_II.9,41_IIND200146.htm|Mais de US$ 10 bilhões     |3.4          |3.3                 |3.2                      |3.4               |3.1                    |3.3                        |3.1                       |56.0                |54.0                  |S3     |BANCO SUMITOMO MITSUI BRASIL S.A.                 |NULL    |Tóquio                     | Japão                       |\n",
            "|http://www.bk.mufg.jp/global   |Tóquio, Japão           |1919.0          |/Explorar/melhores-gestão-de-ativos-e-investimentos-empresas_II.9,41_IIND200146.htm|Mais de US$ 10 bilhões     |3.6          |3.6                 |3.5                      |3.4               |3.3                    |3.6                        |3.3                       |65.0                |43.0                  |S3     |BANCO TOKYO-MITSUBISHI BM S.A.                    |NULL    |Tóquio                     | Japão                       |\n",
            "|http://www.banrisul.com.br     |Porto Alegre, Brasil    |NULL            |/Explorar/melhores-serviços-bancários-e-de-crédito-empresas_II.9,40_IIND200048.htm |De US$ 25 a US$ 100 milhões|4.2          |3.6                 |3.8                      |3.7               |3.4                    |4.1                        |3.3                       |84.0                |59.0                  |S2     |BANRISUL                                          |NULL    |Porto Alegre               | Brasil                      |\n",
            "|http://www.bancobmg.com.br     |São Paulo, Brasil       |1930.0          |/Explorar/melhores-serviços-bancários-e-de-crédito-empresas_II.9,40_IIND200048.htm |De US$ 1 a US$ 5 milhões   |4.1          |3.9                 |4.1                      |3.7               |3.6                    |4.2                        |3.5                       |79.0                |63.0                  |S3     |BMG                                               |NULL    |São Paulo                  | Brasil                      |\n",
            "|http://www.group.bnpparibas    |Paris, França           |2000.0          |/Explorar/melhores-serviços-bancários-e-de-crédito-empresas_II.9,40_IIND200048.htm |Mais de US$ 10 bilhões     |3.8          |3.7                 |4.0                      |3.8               |3.4                    |3.4                        |3.5                       |77.0                |63.0                  |S3     |BNP PARIBAS                                       |NULL    |Paris                      | França                      |\n",
            "|http://www.ml.com              |New York, Estados Unidos|1820.0          |/Explorar/melhores-gestão-de-ativos-e-investimentos-empresas_II.9,41_IIND200146.htm|Mais de US$ 10 bilhões     |3.8          |3.6                 |3.9                      |3.5               |3.5                    |3.8                        |3.8                       |66.0                |61.0                  |S3     |BOFA MERRILL LYNCH                                |NULL    |New York                   | Estados Unidos              |\n",
            "|http://www.bancobradesco.com.br|Osasco, Brasil          |1943.0          |/Explorar/melhores-serviços-bancários-e-de-crédito-empresas_II.9,40_IIND200048.htm |Mais de US$ 10 bilhões     |4.2          |3.8                 |3.9                      |3.4               |3.4                    |4.3                        |3.8                       |81.0                |66.0                  |S1     |BRADESCO                                          |NULL    |Osasco                     | Brasil                      |\n",
            "|http://www.btgpactual.com      |São Paulo, Brasil       |NULL            |/Explorar/melhores-gestão-de-ativos-e-investimentos-empresas_II.9,41_IIND200146.htm|Desconhecida/não se aplica |4.0          |3.7                 |3.5                      |2.8               |3.7                    |4.4                        |4.2                       |78.0                |73.0                  |S1     |BTG PACTUAL                                       |NULL    |São Paulo                  | Brasil                      |\n",
            "|http://www.caixa.gov.br        |BRASILIA, Brasil        |NULL            |/Explorar/melhores-serviços-bancários-e-de-crédito-empresas_II.9,40_IIND200048.htm |Desconhecida/não se aplica |4.4          |3.8                 |4.2                      |3.7               |3.5                    |4.3                        |3.9                       |86.0                |72.0                  |S1     |CAIXA ECONOMICA FEDERAL                           |NULL    |BRASILIA                   | Brasil                      |\n",
            "|http://www.ccb.com             |Pequim, China           |NULL            |/Explorar/melhores-serviços-bancários-e-de-crédito-empresas_II.9,40_IIND200048.htm |Mais de US$ 10 bilhões     |3.4          |3.0                 |3.0                      |3.4               |2.9                    |3.5                        |2.8                       |54.0                |42.0                  |NULL   |CHINA CONSTRUCTION BANK (BRASIL) BANCO MULTIPLO S/|07450604|Pequim                     | China                       |\n",
            "|http://www.ccb.com             |Pequim, China           |NULL            |/Explorar/melhores-serviços-bancários-e-de-crédito-empresas_II.9,40_IIND200048.htm |Mais de US$ 10 bilhões     |3.4          |3.0                 |2.9                      |3.4               |2.9                    |3.5                        |2.8                       |54.0                |42.0                  |S3     |CHINA CONSTRUCTION BANK (BRASIL) BANCO MULTIPLO S/|NULL    |Pequim                     | China                       |\n",
            "|http://www.citigroup.com       |New York, Estados Unidos|1812.0          |/Explorar/melhores-gestão-de-ativos-e-investimentos-empresas_II.9,41_IIND200146.htm|Mais de US$ 10 bilhões     |3.9          |3.8                 |4.1                      |3.5               |3.5                    |3.8                        |3.9                       |76.0                |68.0                  |S2     |CITIBANK                                          |NULL    |New York                   | Estados Unidos              |\n",
            "+-------------------------------+------------------------+----------------+-----------------------------------------------------------------------------------+---------------------------+-------------+--------------------+-------------------------+------------------+-----------------------+---------------------------+--------------------------+--------------------+----------------------+-------+--------------------------------------------------+--------+---------------------------+-----------------------------+\n",
            "only showing top 20 rows\n",
            "\n"
          ]
        }
      ],
      "source": [
        "spark.sql(\"\"\"\n",
        "CREATE OR REPLACE TEMPORARY VIEW trusted_employee_split AS\n",
        "SELECT *,\n",
        "       split(`employer_headquarters`, ',')[0] AS state_employer_headquarters,\n",
        "       split(`employer_headquarters`, ',')[1] AS country_employer_headquarters\n",
        "FROM trusted_employee_rename\n",
        "\"\"\")\n",
        "\n",
        "spark.sql(\"SELECT * FROM trusted_employee_split\").show(truncate=False)"
      ]
    },
    {
      "cell_type": "markdown",
      "metadata": {
        "id": "hWzWyD9oXgjM"
      },
      "source": [
        "Converter a coluna 'employer-founded' para inteiro, mantendo valores nulos"
      ]
    },
    {
      "cell_type": "code",
      "execution_count": 54,
      "metadata": {
        "colab": {
          "base_uri": "https://localhost:8080/"
        },
        "id": "UCxo1DsnXQCH",
        "outputId": "013de909-1645-4b8a-e50d-4c465e287510"
      },
      "outputs": [
        {
          "name": "stdout",
          "output_type": "stream",
          "text": [
            "+-------------------------------+------------------------+----------------+-----------------------------------------------------------------------------------+---------------------------+-------------+--------------------+-------------------------+------------------+-----------------------+---------------------------+--------------------------+--------------------+----------------------+-------+--------------------------------------------------+--------+---------------------------+-----------------------------+------------------------+\n",
            "|employer_website               |employer_headquarters   |employer_founded|employer_industry                                                                  |employer_revenue           |general_score|culture_values_score|diversity_inclusion_score|life_quality_score|senior_leadership_score|compensation_benefits_score|career_opportunities_score|recommendation_score|company_positive_score|segment|financial_institution_name                        |cnpj    |state_employer_headquarters|country_employer_headquarters|employer_founded_correct|\n",
            "+-------------------------------+------------------------+----------------+-----------------------------------------------------------------------------------+---------------------------+-------------+--------------------+-------------------------+------------------+-----------------------+---------------------------+--------------------------+--------------------+----------------------+-------+--------------------------------------------------+--------+---------------------------+-----------------------------+------------------------+\n",
            "|http://www.alfanet.com.br      |São Paulo, Brasil       |1925.0          |/Explorar/melhores-serviços-bancários-e-de-crédito-empresas_II.9,40_IIND200048.htm |Desconhecida/não se aplica |3.5          |3.2                 |3.2                      |3.1               |2.8                    |3.8                        |2.7                       |68.0                |47.0                  |S3     |ALFA                                              |NULL    |São Paulo                  | Brasil                      |1925                    |\n",
            "|http://www.apexgroup.com       |Hamilton, Bermuda       |2003.0          |/Explorar/melhores-gestão-de-ativos-e-investimentos-empresas_II.9,41_IIND200146.htm|Mais de US$ 10 bilhões     |3.2          |2.9                 |3.5                      |3.0               |2.9                    |2.7                        |3.2                       |52.0                |53.0                  |NULL   |APE POUPEX                                        |00655522|Hamilton                   | Bermuda                     |2003                    |\n",
            "|http://www.apexgroup.com       |Hamilton, Bermuda       |2003.0          |/Explorar/melhores-gestão-de-ativos-e-investimentos-empresas_II.9,41_IIND200146.htm|Mais de US$ 10 bilhões     |3.2          |2.9                 |3.4                      |3.0               |2.9                    |2.7                        |3.2                       |50.0                |52.0                  |S3     |APE POUPEX                                        |NULL    |Hamilton                   | Bermuda                     |2003                    |\n",
            "|https://www.daycoval.com.br    |São Paulo, Brasil       |1971.0          |/Explorar/melhores-serviços-bancários-e-de-crédito-empresas_II.9,40_IIND200048.htm |De US$ 25 a US$ 100 milhões|4.0          |3.7                 |3.6                      |3.4               |3.3                    |4.1                        |3.4                       |78.0                |72.0                  |S3     |BANCO DAYCOVAL S.A                                |NULL    |São Paulo                  | Brasil                      |1971                    |\n",
            "|https://www.bb.com.br          |Brasília, Brasil        |1808.0          |/Explorar/melhores-serviços-bancários-e-de-crédito-empresas_II.9,40_IIND200048.htm |Desconhecida/não se aplica |4.3          |3.9                 |4.0                      |3.7               |3.5                    |4.2                        |3.8                       |86.0                |72.0                  |S1     |BANCO DO BRASIL                                   |NULL    |Brasília                   | Brasil                      |1808                    |\n",
            "|http://www.bnb.gov.br          |Fortaleza, Brasil       |NULL            |/Explorar/melhores-gestão-de-ativos-e-investimentos-empresas_II.9,41_IIND200146.htm|Desconhecido/Não se aplica |4.5          |4.4                 |4.3                      |4.3               |4.1                    |4.2                        |4.0                       |90.0                |83.0                  |S2     |BANCO DO NORDESTE DO BRASIL S.A.                  |NULL    |Fortaleza                  | Brasil                      |NULL                    |\n",
            "|http://www.bancofibra.com.br   |São Paulo, Brasil       |NULL            |/Explorar/melhores-serviços-bancários-e-de-crédito-empresas_II.9,40_IIND200048.htm |Desconhecida/não se aplica |4.3          |4.3                 |4.3                      |3.8               |3.7                    |4.2                        |3.6                       |87.0                |84.0                  |S3     |BANCO FIBRA S.A.                                  |NULL    |São Paulo                  | Brasil                      |NULL                    |\n",
            "|http://www.smfg.co.jp          |Tóquio, Japão           |1996.0          |/Explorar/melhores-gestão-de-ativos-e-investimentos-empresas_II.9,41_IIND200146.htm|Mais de US$ 10 bilhões     |3.4          |3.2                 |3.3                      |3.4               |3.1                    |3.3                        |3.1                       |56.0                |53.0                  |NULL   |BANCO SUMITOMO MITSUI BRASIL S.A.                 |60518222|Tóquio                     | Japão                       |1996                    |\n",
            "|http://www.smfg.co.jp          |Tóquio, Japão           |1996.0          |/Explorar/melhores-gestão-de-ativos-e-investimentos-empresas_II.9,41_IIND200146.htm|Mais de US$ 10 bilhões     |3.4          |3.3                 |3.2                      |3.4               |3.1                    |3.3                        |3.1                       |56.0                |54.0                  |S3     |BANCO SUMITOMO MITSUI BRASIL S.A.                 |NULL    |Tóquio                     | Japão                       |1996                    |\n",
            "|http://www.bk.mufg.jp/global   |Tóquio, Japão           |1919.0          |/Explorar/melhores-gestão-de-ativos-e-investimentos-empresas_II.9,41_IIND200146.htm|Mais de US$ 10 bilhões     |3.6          |3.6                 |3.5                      |3.4               |3.3                    |3.6                        |3.3                       |65.0                |43.0                  |S3     |BANCO TOKYO-MITSUBISHI BM S.A.                    |NULL    |Tóquio                     | Japão                       |1919                    |\n",
            "|http://www.banrisul.com.br     |Porto Alegre, Brasil    |NULL            |/Explorar/melhores-serviços-bancários-e-de-crédito-empresas_II.9,40_IIND200048.htm |De US$ 25 a US$ 100 milhões|4.2          |3.6                 |3.8                      |3.7               |3.4                    |4.1                        |3.3                       |84.0                |59.0                  |S2     |BANRISUL                                          |NULL    |Porto Alegre               | Brasil                      |NULL                    |\n",
            "|http://www.bancobmg.com.br     |São Paulo, Brasil       |1930.0          |/Explorar/melhores-serviços-bancários-e-de-crédito-empresas_II.9,40_IIND200048.htm |De US$ 1 a US$ 5 milhões   |4.1          |3.9                 |4.1                      |3.7               |3.6                    |4.2                        |3.5                       |79.0                |63.0                  |S3     |BMG                                               |NULL    |São Paulo                  | Brasil                      |1930                    |\n",
            "|http://www.group.bnpparibas    |Paris, França           |2000.0          |/Explorar/melhores-serviços-bancários-e-de-crédito-empresas_II.9,40_IIND200048.htm |Mais de US$ 10 bilhões     |3.8          |3.7                 |4.0                      |3.8               |3.4                    |3.4                        |3.5                       |77.0                |63.0                  |S3     |BNP PARIBAS                                       |NULL    |Paris                      | França                      |2000                    |\n",
            "|http://www.ml.com              |New York, Estados Unidos|1820.0          |/Explorar/melhores-gestão-de-ativos-e-investimentos-empresas_II.9,41_IIND200146.htm|Mais de US$ 10 bilhões     |3.8          |3.6                 |3.9                      |3.5               |3.5                    |3.8                        |3.8                       |66.0                |61.0                  |S3     |BOFA MERRILL LYNCH                                |NULL    |New York                   | Estados Unidos              |1820                    |\n",
            "|http://www.bancobradesco.com.br|Osasco, Brasil          |1943.0          |/Explorar/melhores-serviços-bancários-e-de-crédito-empresas_II.9,40_IIND200048.htm |Mais de US$ 10 bilhões     |4.2          |3.8                 |3.9                      |3.4               |3.4                    |4.3                        |3.8                       |81.0                |66.0                  |S1     |BRADESCO                                          |NULL    |Osasco                     | Brasil                      |1943                    |\n",
            "|http://www.btgpactual.com      |São Paulo, Brasil       |NULL            |/Explorar/melhores-gestão-de-ativos-e-investimentos-empresas_II.9,41_IIND200146.htm|Desconhecida/não se aplica |4.0          |3.7                 |3.5                      |2.8               |3.7                    |4.4                        |4.2                       |78.0                |73.0                  |S1     |BTG PACTUAL                                       |NULL    |São Paulo                  | Brasil                      |NULL                    |\n",
            "|http://www.caixa.gov.br        |BRASILIA, Brasil        |NULL            |/Explorar/melhores-serviços-bancários-e-de-crédito-empresas_II.9,40_IIND200048.htm |Desconhecida/não se aplica |4.4          |3.8                 |4.2                      |3.7               |3.5                    |4.3                        |3.9                       |86.0                |72.0                  |S1     |CAIXA ECONOMICA FEDERAL                           |NULL    |BRASILIA                   | Brasil                      |NULL                    |\n",
            "|http://www.ccb.com             |Pequim, China           |NULL            |/Explorar/melhores-serviços-bancários-e-de-crédito-empresas_II.9,40_IIND200048.htm |Mais de US$ 10 bilhões     |3.4          |3.0                 |3.0                      |3.4               |2.9                    |3.5                        |2.8                       |54.0                |42.0                  |NULL   |CHINA CONSTRUCTION BANK (BRASIL) BANCO MULTIPLO S/|07450604|Pequim                     | China                       |NULL                    |\n",
            "|http://www.ccb.com             |Pequim, China           |NULL            |/Explorar/melhores-serviços-bancários-e-de-crédito-empresas_II.9,40_IIND200048.htm |Mais de US$ 10 bilhões     |3.4          |3.0                 |2.9                      |3.4               |2.9                    |3.5                        |2.8                       |54.0                |42.0                  |S3     |CHINA CONSTRUCTION BANK (BRASIL) BANCO MULTIPLO S/|NULL    |Pequim                     | China                       |NULL                    |\n",
            "|http://www.citigroup.com       |New York, Estados Unidos|1812.0          |/Explorar/melhores-gestão-de-ativos-e-investimentos-empresas_II.9,41_IIND200146.htm|Mais de US$ 10 bilhões     |3.9          |3.8                 |4.1                      |3.5               |3.5                    |3.8                        |3.9                       |76.0                |68.0                  |S2     |CITIBANK                                          |NULL    |New York                   | Estados Unidos              |1812                    |\n",
            "+-------------------------------+------------------------+----------------+-----------------------------------------------------------------------------------+---------------------------+-------------+--------------------+-------------------------+------------------+-----------------------+---------------------------+--------------------------+--------------------+----------------------+-------+--------------------------------------------------+--------+---------------------------+-----------------------------+------------------------+\n",
            "only showing top 20 rows\n",
            "\n"
          ]
        }
      ],
      "source": [
        "spark.sql(\"\"\"\n",
        "CREATE OR REPLACE TEMPORARY VIEW trusted_employee_cast AS\n",
        "SELECT *,\n",
        "       CAST(employer_founded AS INT) AS employer_founded_correct\n",
        "FROM trusted_employee_split\n",
        "\"\"\")\n",
        "spark.sql(\"SELECT * FROM trusted_employee_cast\").show(truncate=False)"
      ]
    },
    {
      "cell_type": "code",
      "execution_count": 55,
      "metadata": {
        "colab": {
          "base_uri": "https://localhost:8080/"
        },
        "id": "EYpOHbpdab9L",
        "outputId": "590901c6-b753-4b3e-eb0e-8e4310669928"
      },
      "outputs": [
        {
          "name": "stdout",
          "output_type": "stream",
          "text": [
            "Arquivos salvos em: /content/drive/MyDrive/USP/3 - Ingestão de dados/Atividade4/trusted\n"
          ]
        }
      ],
      "source": [
        "trusted_employee_cast = spark.sql(\"SELECT * FROM trusted_employee_cast\")\n",
        "# Caminho no Google Drive para salvar os arquivos\n",
        "drive_path = '/content/drive/MyDrive/USP/3 - Ingestão de dados/Atividade4/trusted'\n",
        "\n",
        "# Criar a pasta se ela não existir\n",
        "os.makedirs(drive_path, exist_ok=True)\n",
        "\n",
        "# Caminho para salvar os arquivos\n",
        "parquet_path = os.path.join(drive_path, 'employee.parquet')\n",
        "csv_path = os.path.join(drive_path, 'employee.csv')\n",
        "\n",
        "# Salvar o DataFrame como .parquet\n",
        "trusted_employee_cast.write.mode(\"overwrite\").parquet(parquet_path)\n",
        "\n",
        "# Salvar o DataFrame como .csv (com cabeçalho)\n",
        "trusted_employee_cast.write.mode(\"overwrite\").option(\"header\", \"true\").csv(csv_path)\n",
        "\n",
        "print(f\"Arquivos salvos em: {drive_path}\")\n"
      ]
    },
    {
      "cell_type": "markdown",
      "metadata": {
        "id": "3gPCTvb6tJJi"
      },
      "source": [
        "\n"
      ]
    },
    {
      "cell_type": "markdown",
      "metadata": {
        "id": "5n_DRH2JmtHj"
      },
      "source": [
        "### **Claims**"
      ]
    },
    {
      "cell_type": "code",
      "execution_count": 58,
      "metadata": {
        "colab": {
          "base_uri": "https://localhost:8080/"
        },
        "id": "EOcq6awgni6D",
        "outputId": "aed1de58-6597-49c6-f5d2-b4bf805db8c8"
      },
      "outputs": [
        {
          "name": "stdout",
          "output_type": "stream",
          "text": [
            "+----+---------+------------------------------------------------------+----------------+--------+----------------------------------------------------------------+------+-----------------------------------------------+--------------------------------------------+---------------------------------------+-------------------------------+----------------------------------------+----------------------------+----------------------------+\n",
            "|Ano |Trimestre|Categoria                                             |Tipo            |CNPJ IF |Instituição financeira                                          |Índice|Quantidade de reclamações reguladas procedentes|Quantidade de reclamações reguladas - outras|Quantidade de reclamações não reguladas|Quantidade total de reclamações|Quantidade total de clientes  CCS e SCR|Quantidade de clientes  CCS|Quantidade de clientes  SCR|\n",
            "+----+---------+------------------------------------------------------+----------------+--------+----------------------------------------------------------------+------+-----------------------------------------------+--------------------------------------------+---------------------------------------+-------------------------------+----------------------------------------+----------------------------+----------------------------+\n",
            "|2022|3º       |Demais Bancos, Financeiras e Instituições de Pagamento|Conglomerado    |        |ABC-BRASIL (conglomerado)                                       |      |4                                              |7                                           |3                                      |14                             |50720                                   |47485                       |6932                        |\n",
            "|2022|3º       |Demais Bancos, Financeiras e Instituições de Pagamento|Conglomerado    |        |ABN AMRO (conglomerado)                                         |      |0                                              |0                                           |1                                      |1                              |0                                       |0                           |                            |\n",
            "|2022|3º       |Demais Bancos, Financeiras e Instituições de Pagamento|Banco/financeira|13140088|ACESSO SOLUÇÕES DE PAGAMENTO S.A.                               |14,70 |75                                             |128                                         |9                                      |212                            |5098671                                 |5098661                     |19396                       |\n",
            "|2022|3º       |Demais Bancos, Financeiras e Instituições de Pagamento|Conglomerado    |        |AGIBANK (conglomerado)                                          |96,00 |182                                            |262                                         |95                                     |539                            |1895683                                 |1540134                     |1176067                     |\n",
            "|2022|3º       |Demais Bancos, Financeiras e Instituições de Pagamento|Banco/financeira|36321990|AGORACRED S/A SOCIEDADE DE CRÉDITO, FINANCIAMENTO E INVESTIMENTO|      |4                                              |4                                           |2                                      |10                             |534795                                  |133                         |534662                      |\n",
            "|2022|3º       |Demais Bancos, Financeiras e Instituições de Pagamento|Banco/financeira|27214112|AL5 S.A. CRÉDITO, FINANCIAMENTO E INVESTIMENTO                  |      |10                                             |3                                           |2                                      |15                             |30959                                   |19706                       |16841                       |\n",
            "|2022|3º       |Demais Bancos, Financeiras e Instituições de Pagamento|Conglomerado    |        |ALFA (conglomerado)                                             |      |23                                             |48                                          |9                                      |80                             |436746                                  |267423                      |170417                      |\n",
            "|2022|3º       |Demais Bancos, Financeiras e Instituições de Pagamento|Banco/financeira|32778350|AME DIGITAL BRASIL INSTITUICAO DE PAGAMENTO LTDA                |      |6                                              |31                                          |90                                     |127                            |0                                       |0                           |0                           |\n",
            "|2022|3º       |Demais Bancos, Financeiras e Instituições de Pagamento|Conglomerado    |        |ANDBANK (conglomerado)                                          |      |0                                              |2                                           |2                                      |4                              |4302                                    |4302                        |29                          |\n",
            "|2022|3º       |Demais Bancos, Financeiras e Instituições de Pagamento|Banco/financeira|19540550|ASAAS GESTÃO FINANCEIRA INSTITUIÇÃO DE PAGAMENTO S.A.           |      |8                                              |42                                          |5                                      |55                             |404447                                  |404447                      |                            |\n",
            "|2022|3º       |Demais Bancos, Financeiras e Instituições de Pagamento|Banco/financeira|54403563|BANCO ARBI S.A.                                                 |      |14                                             |8                                           |0                                      |22                             |84526                                   |75882                       |10846                       |\n",
            "|2022|3º       |Demais Bancos, Financeiras e Instituições de Pagamento|Banco/financeira|00997185|BANCO B3 S.A.                                                   |      |0                                              |1                                           |1                                      |2                              |896                                     |896                         |                            |\n",
            "|2022|3º       |Demais Bancos, Financeiras e Instituições de Pagamento|Banco/financeira|02658435|BANCO CATERPILLAR S.A.                                          |      |1                                              |0                                           |0                                      |1                              |3325                                    |                            |3325                        |\n",
            "|2022|3º       |Demais Bancos, Financeiras e Instituições de Pagamento|Banco/financeira|33132044|BANCO CEDULA S.A.                                               |      |0                                              |1                                           |1                                      |2                              |18010                                   |2805                        |15425                       |\n",
            "|2022|3º       |Demais Bancos, Financeiras e Instituições de Pagamento|Banco/financeira|02992446|BANCO CNH INDUSTRIAL CAPITAL S.A.                               |      |0                                              |2                                           |2                                      |4                              |28887                                   |1290                        |27778                       |\n",
            "|2022|3º       |Demais Bancos, Financeiras e Instituições de Pagamento|Banco/financeira|08357240|BANCO CSF S.A.                                                  |9,98  |77                                             |72                                          |43                                     |192                            |7707988                                 |                            |7707988                     |\n",
            "|2022|3º       |Demais Bancos, Financeiras e Instituições de Pagamento|Banco/financeira|04902979|BANCO DA AMAZONIA S.A.                                          |      |6                                              |7                                           |10                                     |23                             |507169                                  |507169                      |                            |\n",
            "|2022|3º       |Demais Bancos, Financeiras e Instituições de Pagamento|Banco/financeira|33042151|BANCO DE LA NACION ARGENTINA                                    |      |0                                              |2                                           |0                                      |2                              |267                                     |255                         |22                          |\n",
            "|2022|3º       |Demais Bancos, Financeiras e Instituições de Pagamento|Banco/financeira|05040481|BANCO DE LAGE LANDEN BRASIL S.A.                                |      |0                                              |0                                           |1                                      |1                              |35292                                   |4                           |35289                       |\n",
            "|2022|3º       |Demais Bancos, Financeiras e Instituições de Pagamento|Banco/financeira|92874270|BANCO DIGIMAIS S.A.                                             |424,80|132                                            |31                                          |33                                     |196                            |310734                                  |142304                      |203761                      |\n",
            "+----+---------+------------------------------------------------------+----------------+--------+----------------------------------------------------------------+------+-----------------------------------------------+--------------------------------------------+---------------------------------------+-------------------------------+----------------------------------------+----------------------------+----------------------------+\n",
            "only showing top 20 rows\n",
            "\n"
          ]
        }
      ],
      "source": [
        "# Drive da camada RAW\n",
        "parquet_path = '/content/drive/MyDrive/USP/3 - Ingestão de dados/Atividade4/raw/claim/claim_temp_filtered.parquet'\n",
        "\n",
        "# Registrar o arquivo .parquet como uma tabela temporária\n",
        "spark.read.parquet(parquet_path).createOrReplaceTempView(\"trusted_claim\")\n",
        "trusted_claim = spark.sql(\"SELECT * FROM trusted_claim\")\n",
        "trusted_claim.show(truncate=False)\n"
      ]
    },
    {
      "cell_type": "code",
      "execution_count": 59,
      "metadata": {
        "colab": {
          "base_uri": "https://localhost:8080/"
        },
        "id": "Ikh0O3Aqm4C6",
        "outputId": "7489642d-db59-44ba-cce6-8dc194f2c07a"
      },
      "outputs": [
        {
          "name": "stdout",
          "output_type": "stream",
          "text": [
            "+----------+-------------+------------------------------------------------------+----------------+--------+----------------------------------------------------------------+----------+-----------------------------------------+------------------------------------+----------------------------------+--------------------------+-------------------------+-----------------------+-----------------------+\n",
            "|year_claim|quarter_claim|category                                              |bank_type       |cnpj    |financial_institution_name                                      |bank_index|number_of_regulated_proceeding_complaints|number_of_regulated_other_complaints|number_of_non_regulated_complaints|total_number_of_complaints|total_number_of_customers|number_of_ccs_customers|number_of_scr_customers|\n",
            "+----------+-------------+------------------------------------------------------+----------------+--------+----------------------------------------------------------------+----------+-----------------------------------------+------------------------------------+----------------------------------+--------------------------+-------------------------+-----------------------+-----------------------+\n",
            "|2022      |3º           |Demais Bancos, Financeiras e Instituições de Pagamento|Conglomerado    |        |ABC-BRASIL (conglomerado)                                       |          |4                                        |7                                   |3                                 |14                        |50720                    |47485                  |6932                   |\n",
            "|2022      |3º           |Demais Bancos, Financeiras e Instituições de Pagamento|Conglomerado    |        |ABN AMRO (conglomerado)                                         |          |0                                        |0                                   |1                                 |1                         |0                        |0                      |                       |\n",
            "|2022      |3º           |Demais Bancos, Financeiras e Instituições de Pagamento|Banco/financeira|13140088|ACESSO SOLUÇÕES DE PAGAMENTO S.A.                               |14,70     |75                                       |128                                 |9                                 |212                       |5098671                  |5098661                |19396                  |\n",
            "|2022      |3º           |Demais Bancos, Financeiras e Instituições de Pagamento|Conglomerado    |        |AGIBANK (conglomerado)                                          |96,00     |182                                      |262                                 |95                                |539                       |1895683                  |1540134                |1176067                |\n",
            "|2022      |3º           |Demais Bancos, Financeiras e Instituições de Pagamento|Banco/financeira|36321990|AGORACRED S/A SOCIEDADE DE CRÉDITO, FINANCIAMENTO E INVESTIMENTO|          |4                                        |4                                   |2                                 |10                        |534795                   |133                    |534662                 |\n",
            "|2022      |3º           |Demais Bancos, Financeiras e Instituições de Pagamento|Banco/financeira|27214112|AL5 S.A. CRÉDITO, FINANCIAMENTO E INVESTIMENTO                  |          |10                                       |3                                   |2                                 |15                        |30959                    |19706                  |16841                  |\n",
            "|2022      |3º           |Demais Bancos, Financeiras e Instituições de Pagamento|Conglomerado    |        |ALFA (conglomerado)                                             |          |23                                       |48                                  |9                                 |80                        |436746                   |267423                 |170417                 |\n",
            "|2022      |3º           |Demais Bancos, Financeiras e Instituições de Pagamento|Banco/financeira|32778350|AME DIGITAL BRASIL INSTITUICAO DE PAGAMENTO LTDA                |          |6                                        |31                                  |90                                |127                       |0                        |0                      |0                      |\n",
            "|2022      |3º           |Demais Bancos, Financeiras e Instituições de Pagamento|Conglomerado    |        |ANDBANK (conglomerado)                                          |          |0                                        |2                                   |2                                 |4                         |4302                     |4302                   |29                     |\n",
            "|2022      |3º           |Demais Bancos, Financeiras e Instituições de Pagamento|Banco/financeira|19540550|ASAAS GESTÃO FINANCEIRA INSTITUIÇÃO DE PAGAMENTO S.A.           |          |8                                        |42                                  |5                                 |55                        |404447                   |404447                 |                       |\n",
            "|2022      |3º           |Demais Bancos, Financeiras e Instituições de Pagamento|Banco/financeira|54403563|BANCO ARBI S.A.                                                 |          |14                                       |8                                   |0                                 |22                        |84526                    |75882                  |10846                  |\n",
            "|2022      |3º           |Demais Bancos, Financeiras e Instituições de Pagamento|Banco/financeira|00997185|BANCO B3 S.A.                                                   |          |0                                        |1                                   |1                                 |2                         |896                      |896                    |                       |\n",
            "|2022      |3º           |Demais Bancos, Financeiras e Instituições de Pagamento|Banco/financeira|02658435|BANCO CATERPILLAR S.A.                                          |          |1                                        |0                                   |0                                 |1                         |3325                     |                       |3325                   |\n",
            "|2022      |3º           |Demais Bancos, Financeiras e Instituições de Pagamento|Banco/financeira|33132044|BANCO CEDULA S.A.                                               |          |0                                        |1                                   |1                                 |2                         |18010                    |2805                   |15425                  |\n",
            "|2022      |3º           |Demais Bancos, Financeiras e Instituições de Pagamento|Banco/financeira|02992446|BANCO CNH INDUSTRIAL CAPITAL S.A.                               |          |0                                        |2                                   |2                                 |4                         |28887                    |1290                   |27778                  |\n",
            "|2022      |3º           |Demais Bancos, Financeiras e Instituições de Pagamento|Banco/financeira|08357240|BANCO CSF S.A.                                                  |9,98      |77                                       |72                                  |43                                |192                       |7707988                  |                       |7707988                |\n",
            "|2022      |3º           |Demais Bancos, Financeiras e Instituições de Pagamento|Banco/financeira|04902979|BANCO DA AMAZONIA S.A.                                          |          |6                                        |7                                   |10                                |23                        |507169                   |507169                 |                       |\n",
            "|2022      |3º           |Demais Bancos, Financeiras e Instituições de Pagamento|Banco/financeira|33042151|BANCO DE LA NACION ARGENTINA                                    |          |0                                        |2                                   |0                                 |2                         |267                      |255                    |22                     |\n",
            "|2022      |3º           |Demais Bancos, Financeiras e Instituições de Pagamento|Banco/financeira|05040481|BANCO DE LAGE LANDEN BRASIL S.A.                                |          |0                                        |0                                   |1                                 |1                         |35292                    |4                      |35289                  |\n",
            "|2022      |3º           |Demais Bancos, Financeiras e Instituições de Pagamento|Banco/financeira|92874270|BANCO DIGIMAIS S.A.                                             |424,80    |132                                      |31                                  |33                                |196                       |310734                   |142304                 |203761                 |\n",
            "+----------+-------------+------------------------------------------------------+----------------+--------+----------------------------------------------------------------+----------+-----------------------------------------+------------------------------------+----------------------------------+--------------------------+-------------------------+-----------------------+-----------------------+\n",
            "only showing top 20 rows\n",
            "\n"
          ]
        }
      ],
      "source": [
        "spark.sql(\"\"\"\n",
        "CREATE OR REPLACE TEMPORARY VIEW trusted_claim_view AS\n",
        "SELECT Ano AS year_claim,\n",
        "       Trimestre AS quarter_claim,\n",
        "       Categoria AS category,\n",
        "       Tipo AS bank_type,\n",
        "       `CNPJ IF` AS cnpj,\n",
        "       `Instituição financeira` AS financial_institution_name,\n",
        "       `Índice` AS bank_index,\n",
        "       `Quantidade de reclamações reguladas procedentes` AS number_of_regulated_proceeding_complaints,\n",
        "       `Quantidade de reclamações reguladas - outras` AS number_of_regulated_other_complaints,\n",
        "       `Quantidade de reclamações não reguladas` AS number_of_non_regulated_complaints,\n",
        "       `Quantidade total de reclamações` AS total_number_of_complaints,\n",
        "       `Quantidade total de clientes  CCS e SCR` AS total_number_of_customers,\n",
        "       `Quantidade de clientes  CCS` AS number_of_ccs_customers,\n",
        "       `Quantidade de clientes  SCR` AS number_of_scr_customers\n",
        "FROM trusted_claim\n",
        "\"\"\")\n",
        "trzd_claim = spark.sql(\"SELECT * FROM trusted_claim_view\")\n",
        "trzd_claim.show(truncate=False)\n"
      ]
    },
    {
      "cell_type": "code",
      "execution_count": 60,
      "metadata": {
        "colab": {
          "base_uri": "https://localhost:8080/"
        },
        "id": "zsTwkYuroRql",
        "outputId": "587ce0e8-3c44-4f65-f258-f52cad0bd1ff"
      },
      "outputs": [
        {
          "name": "stdout",
          "output_type": "stream",
          "text": [
            "+-------+---------------------------------------------+--------+\n",
            "|segment|financial_institution_name                   |cnpj    |\n",
            "+-------+---------------------------------------------+--------+\n",
            "|S1     |BANCO DO BRASIL - PRUDENCIAL                 |00000000|\n",
            "|S1     |BRADESCO - PRUDENCIAL                        |60746948|\n",
            "|S1     |BTG PACTUAL - PRUDENCIAL                     |30306294|\n",
            "|S1     |CAIXA ECONOMICA FEDERAL - PRUDENCIAL         |00360305|\n",
            "|S1     |ITAU - PRUDENCIAL                            |60872504|\n",
            "|S1     |SANTANDER - PRUDENCIAL                       |90400888|\n",
            "|S2     |BANRISUL - PRUDENCIAL                        |92702067|\n",
            "|S2     |BANCO DO NORDESTE DO BRASIL S.A. - PRUDENCIAL|07237373|\n",
            "|S2     |BNDES - PRUDENCIAL                           |33657248|\n",
            "|S2     |CITIBANK - PRUDENCIAL                        |33479023|\n",
            "|S2     |CREDIT SUISSE - PRUDENCIAL                   |33987793|\n",
            "|S2     |SAFRA - PRUDENCIAL                           |58160789|\n",
            "|S2     |VOTORANTIM - PRUDENCIAL                      |59588111|\n",
            "|S3     |ABC-BRASIL - PRUDENCIAL                      |28195667|\n",
            "|S3     |ALFA - PRUDENCIAL                            |60770336|\n",
            "|S3     |APE POUPEX                                   |00655522|\n",
            "|S3     |BANCO CNH INDUSTRIAL CAPITAL S.A - PRUDENCIAL|02992446|\n",
            "|S3     |BANCOOB - PRUDENCIAL                         |02038232|\n",
            "|S3     |BANESTES - PRUDENCIAL                        |28127603|\n",
            "|S3     |BANCO CLASSICO S.A. - PRUDENCIAL             |31597552|\n",
            "+-------+---------------------------------------------+--------+\n",
            "only showing top 20 rows\n",
            "\n"
          ]
        }
      ],
      "source": [
        "spark.sql(\"\"\"\n",
        "CREATE OR REPLACE TEMPORARY VIEW trusted_claim_view_transformed AS\n",
        "SELECT year_claim,\n",
        "       regexp_replace(quarter_claim, 'º', '') AS quarter_claim,\n",
        "       category,\n",
        "       bank_type,\n",
        "       CASE\n",
        "           WHEN cnpj = ' ' THEN NULL\n",
        "           ELSE LPAD(cnpj, 8, '0')\n",
        "       END AS cnpj,\n",
        "       financial_institution_name,\n",
        "       CAST(regexp_replace(regexp_replace(regexp_replace(`bank_index`, r'\\.', ''), r',', '.'), r' ', '') AS FLOAT) AS bank_index,\n",
        "       number_of_regulated_proceeding_complaints,\n",
        "       number_of_regulated_other_complaints,\n",
        "       number_of_non_regulated_complaints,\n",
        "       total_number_of_complaints,\n",
        "       total_number_of_customers,\n",
        "       number_of_ccs_customers,\n",
        "       number_of_scr_customers\n",
        "FROM trusted_claim_view\n",
        "\"\"\")\n",
        "trzd_claim = spark.sql(\"SELECT * FROM trzd_claim_view_transformed\")\n",
        "trzd_claim.show(truncate=False)"
      ]
    },
    {
      "cell_type": "code",
      "execution_count": 62,
      "metadata": {
        "colab": {
          "base_uri": "https://localhost:8080/"
        },
        "id": "90XTChh5pmcw",
        "outputId": "4c9903e1-4902-4f21-d92a-17a9322126b9"
      },
      "outputs": [
        {
          "name": "stdout",
          "output_type": "stream",
          "text": [
            "+----------+-------------+------------------------------------------------------+----------------+--------+----------------------------------------------------------------+----------+-----------------------------------------+------------------------------------+----------------------------------+--------------------------+-------------------------+-----------------------+-----------------------+\n",
            "|year_claim|quarter_claim|category                                              |bank_type       |cnpj    |financial_institution_name                                      |bank_index|number_of_regulated_proceeding_complaints|number_of_regulated_other_complaints|number_of_non_regulated_complaints|total_number_of_complaints|total_number_of_customers|number_of_ccs_customers|number_of_scr_customers|\n",
            "+----------+-------------+------------------------------------------------------+----------------+--------+----------------------------------------------------------------+----------+-----------------------------------------+------------------------------------+----------------------------------+--------------------------+-------------------------+-----------------------+-----------------------+\n",
            "|2022      |3            |Demais Bancos, Financeiras e Instituições de Pagamento|Conglomerado    |NULL    |ABC-BRASIL (conglomerado)                                       |NULL      |4                                        |7                                   |3                                 |14                        |50720                    |47485                  |6932                   |\n",
            "|2022      |3            |Demais Bancos, Financeiras e Instituições de Pagamento|Conglomerado    |NULL    |ABN AMRO (conglomerado)                                         |NULL      |0                                        |0                                   |1                                 |1                         |0                        |0                      |NULL                   |\n",
            "|2022      |3            |Demais Bancos, Financeiras e Instituições de Pagamento|Banco/financeira|13140088|ACESSO SOLUÇÕES DE PAGAMENTO S.A.                               |14.7      |75                                       |128                                 |9                                 |212                       |5098671                  |5098661                |19396                  |\n",
            "|2022      |3            |Demais Bancos, Financeiras e Instituições de Pagamento|Conglomerado    |NULL    |AGIBANK (conglomerado)                                          |96.0      |182                                      |262                                 |95                                |539                       |1895683                  |1540134                |1176067                |\n",
            "|2022      |3            |Demais Bancos, Financeiras e Instituições de Pagamento|Banco/financeira|36321990|AGORACRED S/A SOCIEDADE DE CRÉDITO, FINANCIAMENTO E INVESTIMENTO|NULL      |4                                        |4                                   |2                                 |10                        |534795                   |133                    |534662                 |\n",
            "|2022      |3            |Demais Bancos, Financeiras e Instituições de Pagamento|Banco/financeira|27214112|AL5 S.A. CRÉDITO, FINANCIAMENTO E INVESTIMENTO                  |NULL      |10                                       |3                                   |2                                 |15                        |30959                    |19706                  |16841                  |\n",
            "|2022      |3            |Demais Bancos, Financeiras e Instituições de Pagamento|Conglomerado    |NULL    |ALFA (conglomerado)                                             |NULL      |23                                       |48                                  |9                                 |80                        |436746                   |267423                 |170417                 |\n",
            "|2022      |3            |Demais Bancos, Financeiras e Instituições de Pagamento|Banco/financeira|32778350|AME DIGITAL BRASIL INSTITUICAO DE PAGAMENTO LTDA                |NULL      |6                                        |31                                  |90                                |127                       |0                        |0                      |0                      |\n",
            "|2022      |3            |Demais Bancos, Financeiras e Instituições de Pagamento|Conglomerado    |NULL    |ANDBANK (conglomerado)                                          |NULL      |0                                        |2                                   |2                                 |4                         |4302                     |4302                   |29                     |\n",
            "|2022      |3            |Demais Bancos, Financeiras e Instituições de Pagamento|Banco/financeira|19540550|ASAAS GESTÃO FINANCEIRA INSTITUIÇÃO DE PAGAMENTO S.A.           |NULL      |8                                        |42                                  |5                                 |55                        |404447                   |404447                 |NULL                   |\n",
            "|2022      |3            |Demais Bancos, Financeiras e Instituições de Pagamento|Banco/financeira|54403563|BANCO ARBI S.A.                                                 |NULL      |14                                       |8                                   |0                                 |22                        |84526                    |75882                  |10846                  |\n",
            "|2022      |3            |Demais Bancos, Financeiras e Instituições de Pagamento|Banco/financeira|00997185|BANCO B3 S.A.                                                   |NULL      |0                                        |1                                   |1                                 |2                         |896                      |896                    |NULL                   |\n",
            "|2022      |3            |Demais Bancos, Financeiras e Instituições de Pagamento|Banco/financeira|02658435|BANCO CATERPILLAR S.A.                                          |NULL      |1                                        |0                                   |0                                 |1                         |3325                     |NULL                   |3325                   |\n",
            "|2022      |3            |Demais Bancos, Financeiras e Instituições de Pagamento|Banco/financeira|33132044|BANCO CEDULA S.A.                                               |NULL      |0                                        |1                                   |1                                 |2                         |18010                    |2805                   |15425                  |\n",
            "|2022      |3            |Demais Bancos, Financeiras e Instituições de Pagamento|Banco/financeira|02992446|BANCO CNH INDUSTRIAL CAPITAL S.A.                               |NULL      |0                                        |2                                   |2                                 |4                         |28887                    |1290                   |27778                  |\n",
            "|2022      |3            |Demais Bancos, Financeiras e Instituições de Pagamento|Banco/financeira|08357240|BANCO CSF S.A.                                                  |9.98      |77                                       |72                                  |43                                |192                       |7707988                  |NULL                   |7707988                |\n",
            "|2022      |3            |Demais Bancos, Financeiras e Instituições de Pagamento|Banco/financeira|04902979|BANCO DA AMAZONIA S.A.                                          |NULL      |6                                        |7                                   |10                                |23                        |507169                   |507169                 |NULL                   |\n",
            "|2022      |3            |Demais Bancos, Financeiras e Instituições de Pagamento|Banco/financeira|33042151|BANCO DE LA NACION ARGENTINA                                    |NULL      |0                                        |2                                   |0                                 |2                         |267                      |255                    |22                     |\n",
            "|2022      |3            |Demais Bancos, Financeiras e Instituições de Pagamento|Banco/financeira|05040481|BANCO DE LAGE LANDEN BRASIL S.A.                                |NULL      |0                                        |0                                   |1                                 |1                         |35292                    |4                      |35289                  |\n",
            "|2022      |3            |Demais Bancos, Financeiras e Instituições de Pagamento|Banco/financeira|92874270|BANCO DIGIMAIS S.A.                                             |424.8     |132                                      |31                                  |33                                |196                       |310734                   |142304                 |203761                 |\n",
            "+----------+-------------+------------------------------------------------------+----------------+--------+----------------------------------------------------------------+----------+-----------------------------------------+------------------------------------+----------------------------------+--------------------------+-------------------------+-----------------------+-----------------------+\n",
            "only showing top 20 rows\n",
            "\n"
          ]
        }
      ],
      "source": [
        "spark.sql(\"\"\"\n",
        "CREATE OR REPLACE TEMPORARY VIEW trusted_claim_view_transformed2 AS\n",
        "SELECT year_claim,\n",
        "       quarter_claim,\n",
        "       category,\n",
        "       bank_type,\n",
        "       cnpj,\n",
        "       financial_institution_name,\n",
        "       bank_index,\n",
        "       number_of_regulated_proceeding_complaints,\n",
        "       number_of_regulated_other_complaints,\n",
        "       number_of_non_regulated_complaints,\n",
        "       total_number_of_complaints,\n",
        "       CAST(regexp_replace(total_number_of_customers, r' ', '') AS INT) AS total_number_of_customers,\n",
        "       CAST(regexp_replace(`number_of_ccs_customers`, r' ', '') AS INT) AS number_of_ccs_customers,\n",
        "       CAST(regexp_replace(`number_of_scr_customers`, r' ', '') AS INT) AS number_of_scr_customers\n",
        "FROM trusted_claim_view_transformed\n",
        "\"\"\")\n",
        "trzd_claim = spark.sql(\"SELECT * FROM trusted_claim_view_transformed2\")\n",
        "trzd_claim.show(truncate=False)\n"
      ]
    },
    {
      "cell_type": "markdown",
      "metadata": {
        "id": "Yd3Cf6whiRTW"
      },
      "source": [
        "---\n",
        "## **Delivery**"
      ]
    }
  ],
  "metadata": {
    "colab": {
      "collapsed_sections": [
        "82H1S6B1Ao-8",
        "rfzLBS0pAo_A"
      ],
      "provenance": []
    },
    "kernelspec": {
      "display_name": "pyspark",
      "language": "python",
      "name": "python3"
    },
    "language_info": {
      "codemirror_mode": {
        "name": "ipython",
        "version": 3
      },
      "file_extension": ".py",
      "mimetype": "text/x-python",
      "name": "python",
      "nbconvert_exporter": "python",
      "pygments_lexer": "ipython3",
      "version": "3.11.9"
    }
  },
  "nbformat": 4,
  "nbformat_minor": 0
}
