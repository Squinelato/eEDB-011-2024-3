{
  "cells": [
    {
      "cell_type": "markdown",
      "metadata": {
        "id": "unk3bShgAo-6"
      },
      "source": [
        "# eEDB-011-2024-3"
      ]
    },
    {
      "cell_type": "markdown",
      "metadata": {
        "id": "NWpybxIJAo-7"
      },
      "source": [
        "## Atividade 4 – Ingestão e ETL com linguagem de programação (Python + Spark + SQL)\n",
        "\n",
        "* Utilizar linguagem de programação Python para ingestão e tratamento de dados. Para processo de transformação\n",
        "deve ser realizado via SQL com uma das seguintes ferramentas:\n",
        "  * DBT (indicada)\n",
        "  *  SQL Mash – alternativa\n",
        "  *  Coalesce - Alternativa\n",
        "\n",
        "*  Base final deve ser um banco de dados relacional já utilizado nos exercícios anteriores.\n",
        "* O processamento SQL deve ser utilizado via ferramenta mais uma engine de SQL que pode ser o próprio Banco de\n",
        "Dados bem como um banco de dados em memória como Duckdb ou SLQLite, ou qualquer outra alternativa.\n",
        "*  Gerar uma tabela final com os dados tratados e unidos.\n",
        "  * O tratamento de dados deve ser realizado através da ferramenta escolhida para SQL\n",
        "*  Adicionar as seguintes camadas de processamento, dentro do próprio banco de dados ou em disco local. A\n",
        "Camada Delivery deve obrigatoriamente ter estar também no formato de uma tabela final dentro do banco de\n",
        "dados relacional:\n",
        "  *  RAW – formato dos dados livre\n",
        "  *  Trusted – formato de dados em Parquet ou ORC or AVRO (indicado Parquet)\n",
        "  *  Delivery– formato de dados em Parquet ou ORC or AVRO (indicado Parquet)"
      ]
    },
    {
      "cell_type": "markdown",
      "metadata": {
        "id": "7K9r_ELHAo-8"
      },
      "source": [
        "- **Grupo 02**:\n",
        "    - Aline Bini\n",
        "    - Ana Lívia Franco\n",
        "    - Ana Priss\n",
        "    - João Squinelato\n",
        "    - Marcelo Pena\n",
        "    - Thais Siqueira\n",
        "\n",
        "- [Github](https://github.com/Squinelato/eEDB-011-2024-3 \"eEDB-011-2024-3\")\n",
        "\n",
        "```Ingestão De Dados | Agosto 2024```"
      ]
    },
    {
      "cell_type": "markdown",
      "metadata": {
        "id": "82H1S6B1Ao-8"
      },
      "source": [
        "## To Do\n",
        "\n",
        "- raw\n",
        "- trusted\n",
        "- delivery"
      ]
    },
    {
      "cell_type": "code",
      "execution_count": 3,
      "metadata": {
        "colab": {
          "base_uri": "https://localhost:8080/"
        },
        "id": "JMau2ZmoB0mx",
        "outputId": "31f33b9f-5b7a-4435-ea5f-1bd751113746"
      },
      "outputs": [
        {
          "name": "stdout",
          "output_type": "stream",
          "text": [
            "Collecting pyspark\n",
            "  Downloading pyspark-3.5.2.tar.gz (317.3 MB)\n",
            "\u001b[2K     \u001b[90m━━━━━━━━━━━━━━━━━━━━━━━━━━━━━━━━━━━━━━━━\u001b[0m \u001b[32m317.3/317.3 MB\u001b[0m \u001b[31m4.5 MB/s\u001b[0m eta \u001b[36m0:00:00\u001b[0m\n",
            "\u001b[?25h  Preparing metadata (setup.py) ... \u001b[?25l\u001b[?25hdone\n",
            "Requirement already satisfied: py4j==0.10.9.7 in /usr/local/lib/python3.10/dist-packages (from pyspark) (0.10.9.7)\n",
            "Building wheels for collected packages: pyspark\n",
            "  Building wheel for pyspark (setup.py) ... \u001b[?25l\u001b[?25hdone\n",
            "  Created wheel for pyspark: filename=pyspark-3.5.2-py2.py3-none-any.whl size=317812365 sha256=b832e978e3d251e8ddf19a0dd263635298dc6b1168951a1c7b42f1c6d9742636\n",
            "  Stored in directory: /root/.cache/pip/wheels/34/34/bd/03944534c44b677cd5859f248090daa9fb27b3c8f8e5f49574\n",
            "Successfully built pyspark\n",
            "Installing collected packages: pyspark\n",
            "Successfully installed pyspark-3.5.2\n",
            "Collecting unidecode\n",
            "  Downloading Unidecode-1.3.8-py3-none-any.whl.metadata (13 kB)\n",
            "Downloading Unidecode-1.3.8-py3-none-any.whl (235 kB)\n",
            "\u001b[2K   \u001b[90m━━━━━━━━━━━━━━━━━━━━━━━━━━━━━━━━━━━━━━━━\u001b[0m \u001b[32m235.5/235.5 kB\u001b[0m \u001b[31m4.3 MB/s\u001b[0m eta \u001b[36m0:00:00\u001b[0m\n",
            "\u001b[?25hInstalling collected packages: unidecode\n",
            "Successfully installed unidecode-1.3.8\n",
            "Collecting findspark\n",
            "  Downloading findspark-2.0.1-py2.py3-none-any.whl.metadata (352 bytes)\n",
            "Downloading findspark-2.0.1-py2.py3-none-any.whl (4.4 kB)\n",
            "Installing collected packages: findspark\n",
            "Successfully installed findspark-2.0.1\n"
          ]
        }
      ],
      "source": [
        "%pip install pyspark\n",
        "%pip install unidecode\n",
        "%pip install findspark"
      ]
    },
    {
      "cell_type": "code",
      "execution_count": 4,
      "metadata": {
        "id": "Nx0t1-SmAo-9"
      },
      "outputs": [],
      "source": [
        "from pyspark.sql import SparkSession\n",
        "from pyspark.sql.functions import lpad, col, lpad, concat, sha1, regexp_replace, udf, lower, lit, when\n",
        "from pyspark.sql.types import StringType, FloatType, IntegerType, StructType, StructField, ArrayType\n",
        "from unidecode import unidecode\n",
        "\n",
        "import findspark\n",
        "import os"
      ]
    },
    {
      "cell_type": "code",
      "execution_count": 5,
      "metadata": {
        "id": "GBvVOb6AAo-9"
      },
      "outputs": [],
      "source": [
        "findspark.init()"
      ]
    },
    {
      "cell_type": "code",
      "execution_count": 6,
      "metadata": {
        "id": "CrZ0Y7cJAo--"
      },
      "outputs": [],
      "source": [
        "spark = SparkSession.builder \\\n",
        "    .master('local') \\\n",
        "    .appName('Basic ETL') \\\n",
        "    .config('spark.executor.timeout', \"1200s\") \\\n",
        "    .config('spark.sql.broadcastTimeout', '1200s') \\\n",
        "    .config('spark.rpc.askTimeout', '600s') \\\n",
        "    .config('spark.executor.heartbeatInterval', '120s') \\\n",
        "    .config('spark.network.timeout', '1200s') \\\n",
        "    .getOrCreate()"
      ]
    },
    {
      "cell_type": "code",
      "execution_count": 7,
      "metadata": {
        "colab": {
          "base_uri": "https://localhost:8080/",
          "height": 219
        },
        "id": "hDPajMxAAo--",
        "outputId": "9490a2b4-0009-451f-95ab-adbed49292bc"
      },
      "outputs": [
        {
          "data": {
            "text/html": [
              "\n",
              "            <div>\n",
              "                <p><b>SparkSession - in-memory</b></p>\n",
              "                \n",
              "        <div>\n",
              "            <p><b>SparkContext</b></p>\n",
              "\n",
              "            <p><a href=\"http://cf9ad1819128:4040\">Spark UI</a></p>\n",
              "\n",
              "            <dl>\n",
              "              <dt>Version</dt>\n",
              "                <dd><code>v3.5.2</code></dd>\n",
              "              <dt>Master</dt>\n",
              "                <dd><code>local</code></dd>\n",
              "              <dt>AppName</dt>\n",
              "                <dd><code>Basic ETL</code></dd>\n",
              "            </dl>\n",
              "        </div>\n",
              "        \n",
              "            </div>\n",
              "        "
            ],
            "text/plain": [
              "<pyspark.sql.session.SparkSession at 0x7d9fb90be8f0>"
            ]
          },
          "execution_count": 7,
          "metadata": {},
          "output_type": "execute_result"
        }
      ],
      "source": [
        "spark"
      ]
    },
    {
      "cell_type": "markdown",
      "metadata": {
        "id": "okfVLmvIAo--"
      },
      "source": [
        "---\n",
        "## **Raw**"
      ]
    },
    {
      "cell_type": "markdown",
      "metadata": {
        "id": "UQNgy6BFAo-_"
      },
      "source": [
        "### **Banks file**"
      ]
    },
    {
      "cell_type": "code",
      "execution_count": 26,
      "metadata": {
        "colab": {
          "base_uri": "https://localhost:8080/"
        },
        "id": "gi4wDg-jAo-_",
        "outputId": "d545f407-526b-4b75-f67b-9d82b5937d75"
      },
      "outputs": [
        {
          "name": "stdout",
          "output_type": "stream",
          "text": [
            "+--------+--------+---------------------------------------------+\n",
            "|Segmento|CNPJ    |Nome                                         |\n",
            "+--------+--------+---------------------------------------------+\n",
            "|S1      |0       |BANCO DO BRASIL - PRUDENCIAL                 |\n",
            "|S1      |60746948|BRADESCO - PRUDENCIAL                        |\n",
            "|S1      |30306294|BTG PACTUAL - PRUDENCIAL                     |\n",
            "|S1      |360305  |CAIXA ECONOMICA FEDERAL - PRUDENCIAL         |\n",
            "|S1      |60872504|ITAU - PRUDENCIAL                            |\n",
            "|S1      |90400888|SANTANDER - PRUDENCIAL                       |\n",
            "|S2      |92702067|BANRISUL - PRUDENCIAL                        |\n",
            "|S2      |7237373 |BANCO DO NORDESTE DO BRASIL S.A. - PRUDENCIAL|\n",
            "|S2      |33657248|BNDES - PRUDENCIAL                           |\n",
            "|S2      |33479023|CITIBANK - PRUDENCIAL                        |\n",
            "|S2      |33987793|CREDIT SUISSE - PRUDENCIAL                   |\n",
            "|S2      |58160789|SAFRA - PRUDENCIAL                           |\n",
            "|S2      |59588111|VOTORANTIM - PRUDENCIAL                      |\n",
            "|S3      |28195667|ABC-BRASIL - PRUDENCIAL                      |\n",
            "|S3      |60770336|ALFA - PRUDENCIAL                            |\n",
            "|S3      |655522  |APE POUPEX                                   |\n",
            "|S3      |2992446 |BANCO CNH INDUSTRIAL CAPITAL S.A - PRUDENCIAL|\n",
            "|S3      |2038232 |BANCOOB - PRUDENCIAL                         |\n",
            "|S3      |28127603|BANESTES - PRUDENCIAL                        |\n",
            "|S3      |31597552|BANCO CLASSICO S.A. - PRUDENCIAL             |\n",
            "+--------+--------+---------------------------------------------+\n",
            "only showing top 20 rows\n",
            "\n"
          ]
        }
      ],
      "source": [
        "# banks_csv_path = '../Fonte de Dados/Bancos/EnquadramentoInicia_v2.tsv'\n",
        "banks_csv_path = '/EnquadramentoInicia_v2.tsv'\n",
        "\n",
        "# Leitura do arquivo CSV e criação da view temporária\n",
        "rwzd_bank = spark.read.csv(banks_csv_path, sep='\\t', encoding='utf8', header=True)\n",
        "rwzd_bank.createOrReplaceTempView(\"rwzd_bank\")\n",
        "spark.sql(\"SELECT * FROM rwzd_bank LIMIT 100\").show(truncate=False)"
      ]
    },
    {
      "cell_type": "markdown",
      "metadata": {
        "id": "TFMUdp5yAo-_"
      },
      "source": [
        "Analisando o esquema dos dados"
      ]
    },
    {
      "cell_type": "code",
      "execution_count": 28,
      "metadata": {
        "colab": {
          "base_uri": "https://localhost:8080/"
        },
        "id": "y1ZW9Tn_IPHb",
        "outputId": "22dd0677-370e-4f2b-f45f-5738e8c9e187"
      },
      "outputs": [
        {
          "name": "stdout",
          "output_type": "stream",
          "text": [
            "+--------+---------+-------+\n",
            "|col_name|data_type|comment|\n",
            "+--------+---------+-------+\n",
            "|Segmento|string   |NULL   |\n",
            "|CNPJ    |string   |NULL   |\n",
            "|Nome    |string   |NULL   |\n",
            "+--------+---------+-------+\n",
            "\n"
          ]
        }
      ],
      "source": [
        "spark.sql(\"DESCRIBE rwzd_bank\").show(truncate=False)"
      ]
    },
    {
      "cell_type": "markdown",
      "metadata": {
        "id": "t9FJ2mScAo-_"
      },
      "source": [
        "Contando a quantidade de linhas"
      ]
    },
    {
      "cell_type": "code",
      "execution_count": 17,
      "metadata": {
        "colab": {
          "base_uri": "https://localhost:8080/"
        },
        "id": "iMmswMSLAo-_",
        "outputId": "897dba2e-9a16-4c97-f617-a373b54f894f"
      },
      "outputs": [
        {
          "name": "stdout",
          "output_type": "stream",
          "text": [
            "Total de registros: 1474\n"
          ]
        }
      ],
      "source": [
        "total_records = spark.sql(\"SELECT COUNT(*) AS total FROM rwzd_bank\").collect()[0]['total']\n",
        "print(f\"Total de registros: {total_records}\")"
      ]
    },
    {
      "cell_type": "markdown",
      "metadata": {
        "id": "OiCtAAhyAo_A"
      },
      "source": [
        "Salvando dados na camada _raw_ no formato parquet"
      ]
    },
    {
      "cell_type": "code",
      "execution_count": null,
      "metadata": {
        "id": "C3HxAOIsAo_A"
      },
      "outputs": [],
      "source": [
        "# raw_bank_path = './raw/bank/'\n",
        "# rwzd_bank.write.parquet(raw_bank_path, mode=\"append\")"
      ]
    },
    {
      "cell_type": "markdown",
      "metadata": {
        "id": "rfzLBS0pAo_A"
      },
      "source": [
        "### **Employees file**"
      ]
    },
    {
      "cell_type": "markdown",
      "metadata": {
        "id": "hLMgXr-0Ao_A"
      },
      "source": [
        "Localizando todos os arquivos contendo dados de empregados"
      ]
    },
    {
      "cell_type": "code",
      "execution_count": 29,
      "metadata": {
        "colab": {
          "base_uri": "https://localhost:8080/",
          "height": 35
        },
        "id": "zLg4G9IjAo_A",
        "outputId": "ce9beb3e-a439-49fa-eb24-821c34ed05bf"
      },
      "outputs": [
        {
          "data": {
            "application/vnd.google.colaboratory.intrinsic+json": {
              "type": "string"
            },
            "text/plain": [
              "'/content/drive/MyDrive/eEDB-011-2024-3/Fonte de Dados/Bancos'"
            ]
          },
          "execution_count": 29,
          "metadata": {},
          "output_type": "execute_result"
        }
      ],
      "source": [
        "# employee_dir = '../Fonte de Dados/Empregados/'\n",
        "employee_dir = '/content/drive/MyDrive/eEDB-011-2024-3/Fonte de Dados'\n",
        "employee_files = os.listdir(employee_dir)\n",
        "employee_paths = list(map(lambda file: os.path.join(employee_dir, file), employee_files))[1]\n",
        "employee_paths"
      ]
    },
    {
      "cell_type": "markdown",
      "metadata": {
        "id": "9eRBfd_QAo_A"
      },
      "source": [
        "Lendo todos os arquivos de empregados como um único conjunto de dados"
      ]
    },
    {
      "cell_type": "code",
      "execution_count": 30,
      "metadata": {
        "colab": {
          "base_uri": "https://localhost:8080/"
        },
        "id": "URFUmKmyAo_A",
        "outputId": "01381428-aaa0-4bce-e203-ff313d90a2b2"
      },
      "outputs": [
        {
          "name": "stdout",
          "output_type": "stream",
          "text": [
            "+--------+--------+--------------------+\n",
            "|Segmento|    CNPJ|                Nome|\n",
            "+--------+--------+--------------------+\n",
            "|      S1|       0|BANCO DO BRASIL -...|\n",
            "|      S1|60746948|BRADESCO - PRUDEN...|\n",
            "|      S1|30306294|BTG PACTUAL - PRU...|\n",
            "|      S1|  360305|CAIXA ECONOMICA F...|\n",
            "|      S1|60872504|   ITAU - PRUDENCIAL|\n",
            "|      S1|90400888|SANTANDER - PRUDE...|\n",
            "|      S2|92702067|BANRISUL - PRUDEN...|\n",
            "|      S2| 7237373|BANCO DO NORDESTE...|\n",
            "|      S2|33657248|  BNDES - PRUDENCIAL|\n",
            "|      S2|33479023|CITIBANK - PRUDEN...|\n",
            "|      S2|33987793|CREDIT SUISSE - P...|\n",
            "|      S2|58160789|  SAFRA - PRUDENCIAL|\n",
            "|      S2|59588111|VOTORANTIM - PRUD...|\n",
            "|      S3|28195667|ABC-BRASIL - PRUD...|\n",
            "|      S3|60770336|   ALFA - PRUDENCIAL|\n",
            "|      S3|  655522|          APE POUPEX|\n",
            "|      S3| 2992446|BANCO CNH INDUSTR...|\n",
            "|      S3| 2038232|BANCOOB - PRUDENCIAL|\n",
            "|      S3|28127603|BANESTES - PRUDEN...|\n",
            "|      S3|31597552|BANCO CLASSICO S....|\n",
            "+--------+--------+--------------------+\n",
            "only showing top 20 rows\n",
            "\n"
          ]
        }
      ],
      "source": [
        "rwzd_employee = spark.read.csv(employee_paths, sep='\\t', encoding='utf8', header=True)\n",
        "rwzd_employee.createOrReplaceTempView(\"rwzd_employee\")\n",
        "spark.sql(\"SELECT * FROM rwzd_employee LIMIT 100\").show()"
      ]
    },
    {
      "cell_type": "markdown",
      "metadata": {
        "id": "F8gZjFFpAo_A"
      },
      "source": [
        "Removendo duplicatas com base no nome e segmento do banco"
      ]
    },
    {
      "cell_type": "code",
      "execution_count": null,
      "metadata": {
        "id": "TbotdDPSAo_A"
      },
      "outputs": [],
      "source": [
        "# Remover duplicatas com base nas colunas 'Nome' e 'Segmento'\n",
        "spark.sql(\"\"\"\n",
        "CREATE OR REPLACE TEMPORARY VIEW rwzd_employee_dedup AS\n",
        "SELECT *\n",
        "FROM (\n",
        "    SELECT *, ROW_NUMBER() OVER (PARTITION BY Nome, Segmento ORDER BY Nome) AS row_num\n",
        "    FROM rwzd_employee\n",
        ") tmp\n",
        "WHERE row_num = 1\n",
        "\"\"\")\n",
        "spark.sql(\"SELECT * FROM rwzd_employee_dedup\").show(truncate=False)"
      ]
    },
    {
      "cell_type": "markdown",
      "metadata": {
        "id": "YnUGtADOAo_A"
      },
      "source": [
        "Analisando o esquema dos dados"
      ]
    },
    {
      "cell_type": "code",
      "execution_count": null,
      "metadata": {
        "id": "O6AosT8CAo_A",
        "outputId": "58715e72-12b7-475d-b122-67cece84b95d"
      },
      "outputs": [
        {
          "name": "stdout",
          "output_type": "stream",
          "text": [
            "root\n",
            " |-- employer_name: string (nullable = true)\n",
            " |-- reviews_count: string (nullable = true)\n",
            " |-- culture_count: string (nullable = true)\n",
            " |-- salaries_count: string (nullable = true)\n",
            " |-- benefits_count: string (nullable = true)\n",
            " |-- employer-website: string (nullable = true)\n",
            " |-- employer-headquarters: string (nullable = true)\n",
            " |-- employer-founded: string (nullable = true)\n",
            " |-- employer-industry: string (nullable = true)\n",
            " |-- employer-revenue: string (nullable = true)\n",
            " |-- url: string (nullable = true)\n",
            " |-- Geral: string (nullable = true)\n",
            " |-- Cultura e valores: string (nullable = true)\n",
            " |-- Diversidade e inclusão: string (nullable = true)\n",
            " |-- Qualidade de vida: string (nullable = true)\n",
            " |-- Alta liderança: string (nullable = true)\n",
            " |-- Remuneração e benefícios: string (nullable = true)\n",
            " |-- Oportunidades de carreira: string (nullable = true)\n",
            " |-- Recomendam para outras pessoas(%): string (nullable = true)\n",
            " |-- Perspectiva positiva da empresa(%): string (nullable = true)\n",
            " |-- Segmento: string (nullable = true)\n",
            " |-- Nome: string (nullable = true)\n",
            " |-- match_percent: string (nullable = true)\n",
            "\n"
          ]
        }
      ],
      "source": [
        "rwzd_employee.printSchema()"
      ]
    },
    {
      "cell_type": "markdown",
      "metadata": {
        "id": "06a8-cSXAo_B"
      },
      "source": [
        "Contando a quantidade de linhas"
      ]
    },
    {
      "cell_type": "code",
      "execution_count": null,
      "metadata": {
        "id": "2_6fDaOUAo_B",
        "outputId": "b3e11557-fb0b-42b2-ddf4-bde808abb3de"
      },
      "outputs": [
        {
          "data": {
            "text/plain": [
              "32"
            ]
          },
          "execution_count": 54,
          "metadata": {},
          "output_type": "execute_result"
        }
      ],
      "source": [
        "rwzd_employee.count()"
      ]
    },
    {
      "cell_type": "markdown",
      "metadata": {
        "id": "1nm6A9HUAo_B"
      },
      "source": [
        "Salvando dados na camada _raw_ no formato parquet"
      ]
    },
    {
      "cell_type": "code",
      "execution_count": null,
      "metadata": {
        "id": "ZpXO5YkQAo_B"
      },
      "outputs": [],
      "source": [
        "# raw_employee_path = './raw/employee/'\n",
        "# rwzd_employee.write.parquet(raw_employee_path, mode=\"append\")"
      ]
    },
    {
      "cell_type": "markdown",
      "metadata": {
        "id": "gAIDCQXWAo_B"
      },
      "source": [
        "### **Claims**"
      ]
    },
    {
      "cell_type": "markdown",
      "metadata": {
        "id": "9XWT0c7tAo_B"
      },
      "source": [
        "Localizando todos os arquivos contendo dados de reclamações"
      ]
    },
    {
      "cell_type": "code",
      "execution_count": null,
      "metadata": {
        "id": "FprVpRvVAo_B",
        "outputId": "65ac5472-dade-4267-97e8-04f892c81b4e"
      },
      "outputs": [
        {
          "data": {
            "text/plain": [
              "['../Fonte de Dados/Reclamações/2021_tri_01.csv',\n",
              " '../Fonte de Dados/Reclamações/2021_tri_02.csv',\n",
              " '../Fonte de Dados/Reclamações/2021_tri_03.csv',\n",
              " '../Fonte de Dados/Reclamações/2021_tri_04.csv',\n",
              " '../Fonte de Dados/Reclamações/2022_tri_01.csv',\n",
              " '../Fonte de Dados/Reclamações/2022_tri_02_nao_ha_dados.csv',\n",
              " '../Fonte de Dados/Reclamações/2022_tri_03.csv',\n",
              " '../Fonte de Dados/Reclamações/2022_tri_04.csv']"
            ]
          },
          "execution_count": 56,
          "metadata": {},
          "output_type": "execute_result"
        }
      ],
      "source": [
        "claim_dir = '../Fonte de Dados/Reclamações/'\n",
        "claim_files = os.listdir(claim_dir)\n",
        "claim_paths = list(map(lambda file: os.path.join(claim_dir, file), claim_files))\n",
        "claim_paths"
      ]
    },
    {
      "cell_type": "code",
      "execution_count": null,
      "metadata": {
        "id": "e7AO49AjAo_B",
        "outputId": "5149d9ec-18f7-4dba-9179-ebac45bc897e"
      },
      "outputs": [
        {
          "name": "stdout",
          "output_type": "stream",
          "text": [
            "+----+---------+--------------------+----------------+--------+----------------------+------+-----------------------------------------------+--------------------------------------------+---------------------------------------+-------------------------------+----------------------------------------+----------------------------+----------------------------+----+\n",
            "| Ano|Trimestre|           Categoria|            Tipo| CNPJ IF|Instituição financeira|Índice|Quantidade de reclamações reguladas procedentes|Quantidade de reclamações reguladas - outras|Quantidade de reclamações não reguladas|Quantidade total de reclamações|Quantidade total de clientes  CCS e SCR|Quantidade de clientes  CCS|Quantidade de clientes  SCR|_c14|\n",
            "+----+---------+--------------------+----------------+--------+----------------------+------+-----------------------------------------------+--------------------------------------------+---------------------------------------+-------------------------------+----------------------------------------+----------------------------+----------------------------+----+\n",
            "|2022|       3º|Demais Bancos, Fi...|    Conglomerado|        |  ABC-BRASIL (congl...|      |                                              4|                                           7|                                      3|                             14|                                   50720|                       47485|                        6932|null|\n",
            "|2022|       3º|Demais Bancos, Fi...|    Conglomerado|        |  ABN AMRO (conglom...|      |                                              0|                                           0|                                      1|                              1|                                       0|                           0|                            |null|\n",
            "|2022|       3º|Demais Bancos, Fi...|Banco/financeira|13140088|  ACESSO SOLUÇÕES D...| 14,70|                                             75|                                         128|                                      9|                            212|                                 5098671|                     5098661|                       19396|null|\n",
            "|2022|       3º|Demais Bancos, Fi...|    Conglomerado|        |  AGIBANK (conglome...| 96,00|                                            182|                                         262|                                     95|                            539|                                 1895683|                     1540134|                     1176067|null|\n",
            "|2022|       3º|Demais Bancos, Fi...|Banco/financeira|36321990|  AGORACRED S/A SOC...|      |                                              4|                                           4|                                      2|                             10|                                  534795|                         133|                      534662|null|\n",
            "|2022|       3º|Demais Bancos, Fi...|Banco/financeira|27214112|  AL5 S.A. CRÉDITO,...|      |                                             10|                                           3|                                      2|                             15|                                   30959|                       19706|                       16841|null|\n",
            "|2022|       3º|Demais Bancos, Fi...|    Conglomerado|        |   ALFA (conglomerado)|      |                                             23|                                          48|                                      9|                             80|                                  436746|                      267423|                      170417|null|\n",
            "|2022|       3º|Demais Bancos, Fi...|Banco/financeira|32778350|  AME DIGITAL BRASI...|      |                                              6|                                          31|                                     90|                            127|                                       0|                           0|                           0|null|\n",
            "|2022|       3º|Demais Bancos, Fi...|    Conglomerado|        |  ANDBANK (conglome...|      |                                              0|                                           2|                                      2|                              4|                                    4302|                        4302|                          29|null|\n",
            "|2022|       3º|Demais Bancos, Fi...|Banco/financeira|19540550|  ASAAS GESTÃO FINA...|      |                                              8|                                          42|                                      5|                             55|                                  404447|                      404447|                            |null|\n",
            "|2022|       3º|Demais Bancos, Fi...|Banco/financeira|54403563|       BANCO ARBI S.A.|      |                                             14|                                           8|                                      0|                             22|                                   84526|                       75882|                       10846|null|\n",
            "|2022|       3º|Demais Bancos, Fi...|Banco/financeira|00997185|         BANCO B3 S.A.|      |                                              0|                                           1|                                      1|                              2|                                     896|                         896|                            |null|\n",
            "|2022|       3º|Demais Bancos, Fi...|Banco/financeira|02658435|  BANCO CATERPILLAR...|      |                                              1|                                           0|                                      0|                              1|                                    3325|                            |                        3325|null|\n",
            "|2022|       3º|Demais Bancos, Fi...|Banco/financeira|33132044|     BANCO CEDULA S.A.|      |                                              0|                                           1|                                      1|                              2|                                   18010|                        2805|                       15425|null|\n",
            "|2022|       3º|Demais Bancos, Fi...|Banco/financeira|02992446|  BANCO CNH INDUSTR...|      |                                              0|                                           2|                                      2|                              4|                                   28887|                        1290|                       27778|null|\n",
            "|2022|       3º|Demais Bancos, Fi...|Banco/financeira|08357240|        BANCO CSF S.A.|  9,98|                                             77|                                          72|                                     43|                            192|                                 7707988|                            |                     7707988|null|\n",
            "|2022|       3º|Demais Bancos, Fi...|Banco/financeira|04902979|  BANCO DA AMAZONIA...|      |                                              6|                                           7|                                     10|                             23|                                  507169|                      507169|                            |null|\n",
            "|2022|       3º|Demais Bancos, Fi...|Banco/financeira|33042151|  BANCO DE LA NACIO...|      |                                              0|                                           2|                                      0|                              2|                                     267|                         255|                          22|null|\n",
            "|2022|       3º|Demais Bancos, Fi...|Banco/financeira|05040481|  BANCO DE LAGE LAN...|      |                                              0|                                           0|                                      1|                              1|                                   35292|                           4|                       35289|null|\n",
            "|2022|       3º|Demais Bancos, Fi...|Banco/financeira|92874270|   BANCO DIGIMAIS S.A.|424,80|                                            132|                                          31|                                     33|                            196|                                  310734|                      142304|                      203761|null|\n",
            "+----+---------+--------------------+----------------+--------+----------------------+------+-----------------------------------------------+--------------------------------------------+---------------------------------------+-------------------------------+----------------------------------------+----------------------------+----------------------------+----+\n",
            "only showing top 20 rows\n",
            "\n"
          ]
        }
      ],
      "source": [
        "rwzd_claim = spark.read.csv(claim_paths, sep=';', encoding='latin1', header=True)\n",
        "rwzd_claim.show()"
      ]
    },
    {
      "cell_type": "markdown",
      "metadata": {
        "id": "1JTg9oLbAo_C"
      },
      "source": [
        "Analisando o esquema dos dados"
      ]
    },
    {
      "cell_type": "code",
      "execution_count": null,
      "metadata": {
        "id": "njDQGuo2Ao_C",
        "outputId": "b373330f-9799-4563-ced3-a891e9f0aa56"
      },
      "outputs": [
        {
          "name": "stdout",
          "output_type": "stream",
          "text": [
            "root\n",
            " |-- Ano: string (nullable = true)\n",
            " |-- Trimestre: string (nullable = true)\n",
            " |-- Categoria: string (nullable = true)\n",
            " |-- Tipo: string (nullable = true)\n",
            " |-- CNPJ IF: string (nullable = true)\n",
            " |-- Instituição financeira: string (nullable = true)\n",
            " |-- Índice: string (nullable = true)\n",
            " |-- Quantidade de reclamações reguladas procedentes: string (nullable = true)\n",
            " |-- Quantidade de reclamações reguladas - outras: string (nullable = true)\n",
            " |-- Quantidade de reclamações não reguladas: string (nullable = true)\n",
            " |-- Quantidade total de reclamações: string (nullable = true)\n",
            " |-- Quantidade total de clientes  CCS e SCR: string (nullable = true)\n",
            " |-- Quantidade de clientes  CCS: string (nullable = true)\n",
            " |-- Quantidade de clientes  SCR: string (nullable = true)\n",
            " |-- _c14: string (nullable = true)\n",
            "\n"
          ]
        }
      ],
      "source": [
        "rwzd_claim.printSchema()"
      ]
    },
    {
      "cell_type": "markdown",
      "metadata": {
        "id": "ENRhGXMBAo_C"
      },
      "source": [
        "Removendo coluna desnecessária"
      ]
    },
    {
      "cell_type": "code",
      "execution_count": null,
      "metadata": {
        "id": "m7H5BSrlAo_C"
      },
      "outputs": [],
      "source": [
        "rwzd_claim = rwzd_claim.drop('_c14')"
      ]
    },
    {
      "cell_type": "markdown",
      "metadata": {
        "id": "bczA-NhfAo_C"
      },
      "source": [
        "Contando a quantidade de linhas"
      ]
    },
    {
      "cell_type": "code",
      "execution_count": null,
      "metadata": {
        "id": "vlkE_p07Ao_M",
        "outputId": "19168115-0515-4bb3-be4d-725cae5e60d8"
      },
      "outputs": [
        {
          "data": {
            "text/plain": [
              "918"
            ]
          },
          "execution_count": 60,
          "metadata": {},
          "output_type": "execute_result"
        }
      ],
      "source": [
        "rwzd_claim.count()"
      ]
    },
    {
      "cell_type": "markdown",
      "metadata": {
        "id": "hm1Xp1sxAo_M"
      },
      "source": [
        "Salvando dados na camada _raw_ no formato parquet"
      ]
    },
    {
      "cell_type": "code",
      "execution_count": null,
      "metadata": {
        "id": "ujbb6y_qAo_M"
      },
      "outputs": [],
      "source": [
        "# raw_claim_path = './raw/claim/'\n",
        "# rwzd_claim.write.parquet(raw_claim_path, mode=\"append\")"
      ]
    }
  ],
  "metadata": {
    "colab": {
      "provenance": [],
      "toc_visible": true
    },
    "kernelspec": {
      "display_name": "pyspark",
      "language": "python",
      "name": "python3"
    },
    "language_info": {
      "codemirror_mode": {
        "name": "ipython",
        "version": 3
      },
      "file_extension": ".py",
      "mimetype": "text/x-python",
      "name": "python",
      "nbconvert_exporter": "python",
      "pygments_lexer": "ipython3",
      "version": "3.11.9"
    }
  },
  "nbformat": 4,
  "nbformat_minor": 0
}
