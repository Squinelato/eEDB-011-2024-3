{
  "cells": [
    {
      "cell_type": "markdown",
      "metadata": {
        "id": "unk3bShgAo-6"
      },
      "source": [
        "# eEDB-011-2024-3"
      ]
    },
    {
      "cell_type": "markdown",
      "metadata": {
        "id": "NWpybxIJAo-7"
      },
      "source": [
        "## Atividade 4 – Ingestão e ETL com linguagem de programação (Python + Spark + SQL)\n",
        "\n",
        "* Utilizar linguagem de programação Python para ingestão e tratamento de dados. Para processo de transformação\n",
        "deve ser realizado via SQL com uma das seguintes ferramentas:\n",
        "  * DBT (indicada)\n",
        "  *  SQL Mash – alternativa\n",
        "  *  Coalesce - Alternativa\n",
        "\n",
        "*  Base final deve ser um banco de dados relacional já utilizado nos exercícios anteriores.\n",
        "* O processamento SQL deve ser utilizado via ferramenta mais uma engine de SQL que pode ser o próprio Banco de\n",
        "Dados bem como um banco de dados em memória como Duckdb ou SLQLite, ou qualquer outra alternativa.\n",
        "*  Gerar uma tabela final com os dados tratados e unidos.\n",
        "  * O tratamento de dados deve ser realizado através da ferramenta escolhida para SQL\n",
        "*  Adicionar as seguintes camadas de processamento, dentro do próprio banco de dados ou em disco local. A\n",
        "Camada Delivery deve obrigatoriamente ter estar também no formato de uma tabela final dentro do banco de\n",
        "dados relacional:\n",
        "  *  RAW – formato dos dados livre\n",
        "  *  Trusted – formato de dados em Parquet ou ORC or AVRO (indicado Parquet)\n",
        "  *  Delivery– formato de dados em Parquet ou ORC or AVRO (indicado Parquet)"
      ]
    },
    {
      "cell_type": "markdown",
      "metadata": {
        "id": "7K9r_ELHAo-8"
      },
      "source": [
        "- **Grupo 02**:\n",
        "    - Aline Bini\n",
        "    - Ana Lívia Franco\n",
        "    - Ana Priss\n",
        "    - João Squinelato\n",
        "    - Marcelo Pena\n",
        "    - Thais Siqueira\n",
        "\n",
        "- [Github](https://github.com/Squinelato/eEDB-011-2024-3 \"eEDB-011-2024-3\")\n",
        "\n",
        "```Ingestão De Dados | Agosto 2024```"
      ]
    },
    {
      "cell_type": "markdown",
      "metadata": {
        "id": "82H1S6B1Ao-8"
      },
      "source": [
        "## To Do\n",
        "\n",
        "- raw\n",
        "- trusted\n",
        "- delivery"
      ]
    },
    {
      "cell_type": "code",
      "source": [
        "%pip install pyspark\n",
        "%pip install unidecode\n",
        "%pip install findspark"
      ],
      "metadata": {
        "colab": {
          "base_uri": "https://localhost:8080/"
        },
        "id": "JMau2ZmoB0mx",
        "outputId": "460ba140-358d-4788-db55-33057a711602"
      },
      "execution_count": 1,
      "outputs": [
        {
          "output_type": "stream",
          "name": "stdout",
          "text": [
            "Requirement already satisfied: pyspark in /usr/local/lib/python3.10/dist-packages (3.5.2)\n",
            "Requirement already satisfied: py4j==0.10.9.7 in /usr/local/lib/python3.10/dist-packages (from pyspark) (0.10.9.7)\n",
            "Requirement already satisfied: unidecode in /usr/local/lib/python3.10/dist-packages (1.3.8)\n",
            "Requirement already satisfied: findspark in /usr/local/lib/python3.10/dist-packages (2.0.1)\n"
          ]
        }
      ]
    },
    {
      "cell_type": "code",
      "execution_count": 2,
      "metadata": {
        "id": "Nx0t1-SmAo-9"
      },
      "outputs": [],
      "source": [
        "from pyspark.sql import SparkSession\n",
        "from pyspark.sql.functions import lpad, col, lpad, concat, sha1, regexp_replace, udf, lower, lit, when\n",
        "from pyspark.sql.types import StringType, FloatType, IntegerType, StructType, StructField, ArrayType\n",
        "from unidecode import unidecode\n",
        "\n",
        "import findspark\n",
        "import os"
      ]
    },
    {
      "cell_type": "code",
      "execution_count": 3,
      "metadata": {
        "id": "GBvVOb6AAo-9"
      },
      "outputs": [],
      "source": [
        "findspark.init()"
      ]
    },
    {
      "cell_type": "code",
      "execution_count": 4,
      "metadata": {
        "id": "CrZ0Y7cJAo--"
      },
      "outputs": [],
      "source": [
        "spark = SparkSession.builder \\\n",
        "    .master('local') \\\n",
        "    .appName('Basic ETL') \\\n",
        "    .config('spark.executor.timeout', \"1200s\") \\\n",
        "    .config('spark.sql.broadcastTimeout', '1200s') \\\n",
        "    .config('spark.rpc.askTimeout', '600s') \\\n",
        "    .config('spark.executor.heartbeatInterval', '120s') \\\n",
        "    .config('spark.network.timeout', '1200s') \\\n",
        "    .getOrCreate()"
      ]
    },
    {
      "cell_type": "code",
      "execution_count": 5,
      "metadata": {
        "colab": {
          "base_uri": "https://localhost:8080/",
          "height": 219
        },
        "id": "hDPajMxAAo--",
        "outputId": "21c98699-36fa-41e7-8567-ed006aaed76b"
      },
      "outputs": [
        {
          "output_type": "execute_result",
          "data": {
            "text/plain": [
              "<pyspark.sql.session.SparkSession at 0x7e5fac04f6a0>"
            ],
            "text/html": [
              "\n",
              "            <div>\n",
              "                <p><b>SparkSession - in-memory</b></p>\n",
              "                \n",
              "        <div>\n",
              "            <p><b>SparkContext</b></p>\n",
              "\n",
              "            <p><a href=\"http://00aa6b03492d:4040\">Spark UI</a></p>\n",
              "\n",
              "            <dl>\n",
              "              <dt>Version</dt>\n",
              "                <dd><code>v3.5.2</code></dd>\n",
              "              <dt>Master</dt>\n",
              "                <dd><code>local</code></dd>\n",
              "              <dt>AppName</dt>\n",
              "                <dd><code>Basic ETL</code></dd>\n",
              "            </dl>\n",
              "        </div>\n",
              "        \n",
              "            </div>\n",
              "        "
            ]
          },
          "metadata": {},
          "execution_count": 5
        }
      ],
      "source": [
        "spark"
      ]
    },
    {
      "cell_type": "markdown",
      "metadata": {
        "id": "okfVLmvIAo--"
      },
      "source": [
        "---\n",
        "## **Raw**"
      ]
    },
    {
      "cell_type": "markdown",
      "metadata": {
        "id": "UQNgy6BFAo-_"
      },
      "source": [
        "### **Banks file**"
      ]
    },
    {
      "cell_type": "code",
      "execution_count": 67,
      "metadata": {
        "colab": {
          "base_uri": "https://localhost:8080/"
        },
        "id": "gi4wDg-jAo-_",
        "outputId": "e7952fb0-4d1c-49d6-9ca1-2c77feb1af87"
      },
      "outputs": [
        {
          "output_type": "stream",
          "name": "stdout",
          "text": [
            "+--------+--------+---------------------------------------------+\n",
            "|Segmento|CNPJ    |Nome                                         |\n",
            "+--------+--------+---------------------------------------------+\n",
            "|S1      |0       |BANCO DO BRASIL - PRUDENCIAL                 |\n",
            "|S1      |60746948|BRADESCO - PRUDENCIAL                        |\n",
            "|S1      |30306294|BTG PACTUAL - PRUDENCIAL                     |\n",
            "|S1      |360305  |CAIXA ECONOMICA FEDERAL - PRUDENCIAL         |\n",
            "|S1      |60872504|ITAU - PRUDENCIAL                            |\n",
            "|S1      |90400888|SANTANDER - PRUDENCIAL                       |\n",
            "|S2      |92702067|BANRISUL - PRUDENCIAL                        |\n",
            "|S2      |7237373 |BANCO DO NORDESTE DO BRASIL S.A. - PRUDENCIAL|\n",
            "|S2      |33657248|BNDES - PRUDENCIAL                           |\n",
            "|S2      |33479023|CITIBANK - PRUDENCIAL                        |\n",
            "|S2      |33987793|CREDIT SUISSE - PRUDENCIAL                   |\n",
            "|S2      |58160789|SAFRA - PRUDENCIAL                           |\n",
            "|S2      |59588111|VOTORANTIM - PRUDENCIAL                      |\n",
            "|S3      |28195667|ABC-BRASIL - PRUDENCIAL                      |\n",
            "|S3      |60770336|ALFA - PRUDENCIAL                            |\n",
            "|S3      |655522  |APE POUPEX                                   |\n",
            "|S3      |2992446 |BANCO CNH INDUSTRIAL CAPITAL S.A - PRUDENCIAL|\n",
            "|S3      |2038232 |BANCOOB - PRUDENCIAL                         |\n",
            "|S3      |28127603|BANESTES - PRUDENCIAL                        |\n",
            "|S3      |31597552|BANCO CLASSICO S.A. - PRUDENCIAL             |\n",
            "+--------+--------+---------------------------------------------+\n",
            "only showing top 20 rows\n",
            "\n"
          ]
        }
      ],
      "source": [
        "# banks_csv_path = '../Fonte de Dados/Bancos/EnquadramentoInicia_v2.tsv'\n",
        "banks_csv_path = '/content/drive/MyDrive/eEDB-011-2024-3/Fonte de Dados/Bancos/EnquadramentoInicia_v2.tsv'\n",
        "\n",
        "# Leitura do arquivo CSV e criação da view temporária\n",
        "bank_df = spark.read.csv(banks_csv_path, sep='\\t', encoding='utf8', header=True)\n",
        "bank_df.createOrReplaceTempView(\"bank_temp\")\n",
        "spark.sql(\"SELECT * FROM bank_temp LIMIT 100\").show(truncate=False)"
      ]
    },
    {
      "cell_type": "markdown",
      "metadata": {
        "id": "TFMUdp5yAo-_"
      },
      "source": [
        "Analisando o esquema dos dados"
      ]
    },
    {
      "cell_type": "code",
      "source": [
        "spark.sql(\"DESCRIBE bank_temp\").show(truncate=False)"
      ],
      "metadata": {
        "colab": {
          "base_uri": "https://localhost:8080/"
        },
        "id": "y1ZW9Tn_IPHb",
        "outputId": "234d725f-6d36-4161-c5a2-6b73cd88565b"
      },
      "execution_count": 68,
      "outputs": [
        {
          "output_type": "stream",
          "name": "stdout",
          "text": [
            "+--------+---------+-------+\n",
            "|col_name|data_type|comment|\n",
            "+--------+---------+-------+\n",
            "|Segmento|string   |NULL   |\n",
            "|CNPJ    |string   |NULL   |\n",
            "|Nome    |string   |NULL   |\n",
            "+--------+---------+-------+\n",
            "\n"
          ]
        }
      ]
    },
    {
      "cell_type": "markdown",
      "metadata": {
        "id": "t9FJ2mScAo-_"
      },
      "source": [
        "Contando a quantidade de linhas"
      ]
    },
    {
      "cell_type": "code",
      "execution_count": 69,
      "metadata": {
        "colab": {
          "base_uri": "https://localhost:8080/"
        },
        "id": "iMmswMSLAo-_",
        "outputId": "cf8f04db-b63a-4745-9dba-a028936a4395"
      },
      "outputs": [
        {
          "output_type": "stream",
          "name": "stdout",
          "text": [
            "Total de registros: 1474\n"
          ]
        }
      ],
      "source": [
        "total_records = spark.sql(\"SELECT COUNT(*) AS total FROM bank_temp\").collect()[0]['total']\n",
        "print(f\"Total de registros: {total_records}\")"
      ]
    },
    {
      "cell_type": "markdown",
      "metadata": {
        "id": "OiCtAAhyAo_A"
      },
      "source": [
        "Salvando dados na camada _raw_ no formato parquet"
      ]
    },
    {
      "cell_type": "code",
      "source": [
        "# raw_bank_path = './raw/bank/'\n",
        "# rwzd_bank.write.parquet(raw_bank_path, mode=\"append\")\n",
        "\n",
        "spark.sql(\"\"\"\n",
        "CREATE TABLE rwzd_bank\n",
        "USING parquet\n",
        "LOCATION './raw/bank/'\n",
        "AS\n",
        "SELECT *\n",
        "FROM bank_temp\n",
        "\"\"\")\n",
        "spark.sql(\"DESCRIBE rwzd_bank\").show(truncate=False)"
      ],
      "metadata": {
        "colab": {
          "base_uri": "https://localhost:8080/"
        },
        "outputId": "59cbf832-cf31-417d-8779-0380a0c8422d",
        "id": "gTC0tG4qgvMX"
      },
      "execution_count": 70,
      "outputs": [
        {
          "output_type": "stream",
          "name": "stdout",
          "text": [
            "+--------+---------+-------+\n",
            "|col_name|data_type|comment|\n",
            "+--------+---------+-------+\n",
            "|Segmento|string   |NULL   |\n",
            "|CNPJ    |string   |NULL   |\n",
            "|Nome    |string   |NULL   |\n",
            "+--------+---------+-------+\n",
            "\n"
          ]
        }
      ]
    },
    {
      "cell_type": "markdown",
      "metadata": {
        "id": "rfzLBS0pAo_A"
      },
      "source": [
        "### **Employees file**"
      ]
    },
    {
      "cell_type": "markdown",
      "metadata": {
        "id": "hLMgXr-0Ao_A"
      },
      "source": [
        "Localizando todos os arquivos contendo dados de empregados"
      ]
    },
    {
      "cell_type": "code",
      "execution_count": 71,
      "metadata": {
        "colab": {
          "base_uri": "https://localhost:8080/",
          "height": 35
        },
        "id": "zLg4G9IjAo_A",
        "outputId": "46f18400-d825-49cf-992d-9b80d5fe4d56"
      },
      "outputs": [
        {
          "output_type": "execute_result",
          "data": {
            "text/plain": [
              "'/content/drive/MyDrive/eEDB-011-2024-3/Fonte de Dados/Empregados/glassdoor_consolidado_join_match_v2.csv'"
            ],
            "application/vnd.google.colaboratory.intrinsic+json": {
              "type": "string"
            }
          },
          "metadata": {},
          "execution_count": 71
        }
      ],
      "source": [
        "# employee_dir = '../Fonte de Dados/Empregados/'\n",
        "employee_dir = '/content/drive/MyDrive/eEDB-011-2024-3/Fonte de Dados/Empregados'\n",
        "employee_files = os.listdir(employee_dir)\n",
        "employee_paths = list(map(lambda file: os.path.join(employee_dir, file), employee_files))[1]\n",
        "employee_paths"
      ]
    },
    {
      "cell_type": "markdown",
      "metadata": {
        "id": "9eRBfd_QAo_A"
      },
      "source": [
        "Lendo todos os arquivos de empregados como um único conjunto de dados"
      ]
    },
    {
      "cell_type": "code",
      "execution_count": 72,
      "metadata": {
        "colab": {
          "base_uri": "https://localhost:8080/"
        },
        "id": "URFUmKmyAo_A",
        "outputId": "4bacc386-f05a-4387-bc64-0f69bbbd481e"
      },
      "outputs": [
        {
          "output_type": "stream",
          "name": "stdout",
          "text": [
            "+--------------------+-------------+-------------+--------------+--------------+--------------------+---------------------+----------------+--------------------+--------------------+--------------------+-----+-----------------+----------------------+-----------------+--------------+------------------------+-------------------------+---------------------------------+----------------------------------+--------+--------------------+-------------+\n",
            "|       employer_name|reviews_count|culture_count|salaries_count|benefits_count|    employer-website|employer-headquarters|employer-founded|   employer-industry|    employer-revenue|                 url|Geral|Cultura e valores|Diversidade e inclusão|Qualidade de vida|Alta liderança|Remuneração e benefícios|Oportunidades de carreira|Recomendam para outras pessoas(%)|Perspectiva positiva da empresa(%)|Segmento|                Nome|match_percent|\n",
            "+--------------------+-------------+-------------+--------------+--------------+--------------------+---------------------+----------------+--------------------+--------------------+--------------------+-----+-----------------+----------------------+-----------------+--------------+------------------------+-------------------------+---------------------------------+----------------------------------+--------+--------------------+-------------+\n",
            "|         BNP Paribas|        13000|         4100|         20000|          3600|http://www.group....|        Paris, França|          2000.0|/Explorar/melhore...|Mais de US$ 10 bi...|https://www.glass...|  3.8|              3.7|                   4.0|              3.8|           3.4|                     3.4|                      3.5|                             77.0|                              63.0|      S3|         BNP PARIBAS|          100|\n",
            "|         BTG Pactual|         1600|          683|          2800|           635|http://www.btgpac...|    São Paulo, Brasil|            NULL|/Explorar/melhore...|Desconhecida/não ...|https://www.glass...|  4.0|              3.7|                   3.5|              2.8|           3.7|                     4.4|                      4.2|                             78.0|                              73.0|      S1|         BTG PACTUAL|          100|\n",
            "|          Banco Alfa|          175|           74|           271|           105|http://www.alfane...|    São Paulo, Brasil|          1925.0|/Explorar/melhore...|Desconhecida/não ...|https://www.glass...|  3.5|              3.2|                   3.2|              3.1|           2.8|                     3.8|                      2.7|                             68.0|                              47.0|      S3|                ALFA|          100|\n",
            "|           Banco BMG|          445|          232|           704|           277|http://www.bancob...|    São Paulo, Brasil|          1930.0|/Explorar/melhore...|De US$ 1 a US$ 5 ...|https://www.glass...|  4.1|              3.9|                   4.1|              3.7|           3.6|                     4.2|                      3.5|                             79.0|                              63.0|      S3|                 BMG|          100|\n",
            "|      Banco Bradesco|        11000|         3300|         19000|          3200|http://www.bancob...|       Osasco, Brasil|          1943.0|/Explorar/melhore...|Mais de US$ 10 bi...|https://www.glass...|  4.2|              3.8|                   3.9|              3.4|           3.4|                     4.3|                      3.8|                             81.0|                              66.0|      S1|            BRADESCO|          100|\n",
            "|      Banco Daycoval|          300|          157|           521|           107|https://www.dayco...|    São Paulo, Brasil|          1971.0|/Explorar/melhore...|De US$ 25 a US$ 1...|https://www.glass...|  4.0|              3.7|                   3.6|              3.4|           3.3|                     4.1|                      3.4|                             78.0|                              72.0|      S3|  BANCO DAYCOVAL S.A|          100|\n",
            "|         Banco Fibra|          119|           41|           172|            37|http://www.bancof...|    São Paulo, Brasil|            NULL|/Explorar/melhore...|Desconhecida/não ...|https://www.glass...|  4.3|              4.3|                   4.3|              3.8|           3.7|                     4.2|                      3.6|                             87.0|                              84.0|      S3|    BANCO FIBRA S.A.|          100|\n",
            "|      Banco Original|          651|          286|          1100|           261|http://www.origin...|    São Paulo, Brasil|          2016.0|/Explorar/melhore...|Desconhecida/não ...|https://www.glass...|  3.8|              3.4|                   3.5|              3.4|           3.1|                     4.0|                      3.3|                             71.0|                              53.0|      S3|            ORIGINAL|          100|\n",
            "|           Banco PAN|         1100|          520|          1700|           493|http://www.bancop...|    São Paulo, Brasil|          2011.0|/Explorar/melhore...|Desconhecida/não ...|https://www.glass...|  4.4|              4.2|                   4.4|              3.9|           3.9|                     4.6|                      4.0|                             91.0|                              79.0|      S3|                 PAN|          100|\n",
            "|          Banco Pine|          121|           45|           216|            63| http://www.pine.com|    São Paulo, Brasil|          1997.0|/Explorar/melhore...|Desconhecida/não ...|https://www.glass...|  3.8|              3.5|                   3.5|              3.4|           3.0|                     3.9|                      3.5|                             71.0|                              50.0|      S3|                PINE|          100|\n",
            "|    Banco Votorantim|         1400|          563|          2100|           574|http://www.bancob...|    São Paulo, Brasil|          1991.0|/Explorar/melhore...|Desconhecida/não ...|https://www.glass...|  4.4|              4.3|                   4.4|              4.1|           3.9|                     4.6|                      3.9|                             93.0|                              79.0|      S2|          VOTORANTIM|          100|\n",
            "|     Banco do Brasil|         5000|         1100|          9200|          1200|https://www.bb.co...|     Brasília, Brasil|          1808.0|/Explorar/melhore...|Desconhecida/não ...|https://www.glass...|  4.3|              3.9|                   4.0|              3.7|           3.5|                     4.2|                      3.8|                             86.0|                              72.0|      S1|     BANCO DO BRASIL|          100|\n",
            "|Banco do Nordeste...|          525|          113|           840|           115|http://www.bnb.go...|    Fortaleza, Brasil|            NULL|/Explorar/melhore...|Desconhecido/Não ...|https://www.glass...|  4.5|              4.4|                   4.3|              4.3|           4.1|                     4.2|                      4.0|                             90.0|                              83.0|      S2|BANCO DO NORDESTE...|          100|\n",
            "|Bank Of Tokyo-Mit...|          770|          150|          1100|           228|http://www.bk.muf...|        Tóquio, Japão|          1919.0|/Explorar/melhore...|Mais de US$ 10 bi...|https://www.glass...|  3.6|              3.6|                   3.5|              3.4|           3.3|                     3.6|                      3.3|                             65.0|                              43.0|      S3|BANCO TOKYO-MITSU...|           80|\n",
            "|            Banrisul|         1000|          155|          1700|           127|http://www.banris...| Porto Alegre, Brasil|            NULL|/Explorar/melhore...|De US$ 25 a US$ 1...|https://www.glass...|  4.2|              3.6|                   3.8|              3.7|           3.4|                     4.1|                      3.3|                             84.0|                              59.0|      S2|            BANRISUL|          100|\n",
            "|Caixa Econômica F...|         4000|          717|          7300|           857|http://www.caixa....|     BRASILIA, Brasil|            NULL|/Explorar/melhore...|Desconhecida/não ...|https://www.glass...|  4.4|              3.8|                   4.2|              3.7|           3.5|                     4.3|                      3.9|                             86.0|                              72.0|      S1|CAIXA ECONOMICA F...|           98|\n",
            "|                Citi|        31000|         8900|         52000|          9900|http://www.citigr...| New York, Estados...|          1812.0|/Explorar/melhore...|Mais de US$ 10 bi...|https://www.glass...|  3.9|              3.8|                   4.1|              3.5|           3.5|                     3.8|                      3.9|                             76.0|                              68.0|      S2|            CITIBANK|          100|\n",
            "|       Credit Suisse|        11000|         3400|         22000|          2900|http://www.credit...|       Zurique, Suíça|          1856.0|/Explorar/melhore...|Mais de US$ 10 bi...|https://www.glass...|  3.8|              3.8|                   4.1|              3.9|           3.3|                     3.6|                      3.7|                             68.0|                              34.0|      S2|       CREDIT SUISSE|          100|\n",
            "|       Deutsche Bank|        12000|         3200|         21000|          3100|https://careers.d...| Frankfurt am Main...|          1870.0|/Explorar/melhore...|Mais de US$ 10 bi...|https://www.glass...|  3.9|              3.8|                   4.0|              3.8|           3.5|                     3.6|                      3.7|                             78.0|                              70.0|      S3|            DEUTSCHE|          100|\n",
            "|       Goldman Sachs|        17000|         4400|         36000|          4100|http://www.goldma...| New York, Estados...|          1869.0|/Explorar/melhore...|Mais de US$ 10 bi...|https://www.glass...|  3.9|              3.7|                   4.0|              2.9|           3.5|                     3.8|                      4.0|                             72.0|                              63.0|      S3|       GOLDMAN SACHS|          100|\n",
            "+--------------------+-------------+-------------+--------------+--------------+--------------------+---------------------+----------------+--------------------+--------------------+--------------------+-----+-----------------+----------------------+-----------------+--------------+------------------------+-------------------------+---------------------------------+----------------------------------+--------+--------------------+-------------+\n",
            "only showing top 20 rows\n",
            "\n"
          ]
        }
      ],
      "source": [
        "employee_df = spark.read.csv(employee_paths, sep='|', encoding='utf8', header=True)\n",
        "employee_df.createOrReplaceTempView(\"employee_temp\")\n",
        "spark.sql(\"SELECT * FROM employee_temp LIMIT 100\").show()"
      ]
    },
    {
      "cell_type": "code",
      "source": [
        "total_records_employee = spark.sql(\"SELECT COUNT(*) AS total FROM employee_temp\").collect()[0]['total']\n",
        "print(f\"Total de registros: {total_records_employee}\")"
      ],
      "metadata": {
        "colab": {
          "base_uri": "https://localhost:8080/"
        },
        "id": "D5hBk-SxLbTl",
        "outputId": "8c6833b2-8914-4275-9a2e-7b23f7cc7639"
      },
      "execution_count": 73,
      "outputs": [
        {
          "output_type": "stream",
          "name": "stdout",
          "text": [
            "Total de registros: 34\n"
          ]
        }
      ]
    },
    {
      "cell_type": "markdown",
      "metadata": {
        "id": "F8gZjFFpAo_A"
      },
      "source": [
        "Removendo duplicatas com base no nome e segmento do banco"
      ]
    },
    {
      "cell_type": "code",
      "execution_count": 74,
      "metadata": {
        "id": "TbotdDPSAo_A",
        "colab": {
          "base_uri": "https://localhost:8080/"
        },
        "outputId": "1fa0265f-e3b1-414e-81ad-20d8ef7cdbbe"
      },
      "outputs": [
        {
          "output_type": "stream",
          "name": "stdout",
          "text": [
            "+-------------------------------+-------------+-------------+--------------+--------------+-------------------------------+---------------------------+----------------+-----------------------------------------------------------------------------------+---------------------------+----------------------------------------------------------------------------------------------------------------+-----+-----------------+----------------------+-----------------+--------------+------------------------+-------------------------+---------------------------------+----------------------------------+--------+--------------------------------------------------+-------------+-------+\n",
            "|employer_name                  |reviews_count|culture_count|salaries_count|benefits_count|employer-website               |employer-headquarters      |employer-founded|employer-industry                                                                  |employer-revenue           |url                                                                                                             |Geral|Cultura e valores|Diversidade e inclusão|Qualidade de vida|Alta liderança|Remuneração e benefícios|Oportunidades de carreira|Recomendam para outras pessoas(%)|Perspectiva positiva da empresa(%)|Segmento|Nome                                              |match_percent|row_num|\n",
            "+-------------------------------+-------------+-------------+--------------+--------------+-------------------------------+---------------------------+----------------+-----------------------------------------------------------------------------------+---------------------------+----------------------------------------------------------------------------------------------------------------+-----+-----------------+----------------------+-----------------+--------------+------------------------+-------------------------+---------------------------------+----------------------------------+--------+--------------------------------------------------+-------------+-------+\n",
            "|Banco Alfa                     |175          |74           |271           |105           |http://www.alfanet.com.br      |São Paulo, Brasil          |1925.0          |/Explorar/melhores-serviços-bancários-e-de-crédito-empresas_II.9,40_IIND200048.htm |Desconhecida/não se aplica |https://www.glassdoor.com.br/Vis%C3%A3o-geral/Trabalhar-na-Banco-Alfa-EI_IE817306.13,23.htm                     |3.5  |3.2              |3.2                   |3.1              |2.8           |3.8                     |2.7                      |68.0                             |47.0                              |S3      |ALFA                                              |100          |1      |\n",
            "|Apex Group                     |432          |271          |561           |74            |http://www.apexgroup.com       |Hamilton, Bermuda          |2003.0          |/Explorar/melhores-gestão-de-ativos-e-investimentos-empresas_II.9,41_IIND200146.htm|Mais de US$ 10 bilhões     |https://www.glassdoor.com.br/Vis%C3%A3o-geral/Trabalhar-na-Apex-Group-EI_IE764729.13,23.htm                     |3.2  |2.9              |3.4                   |3.0              |2.9           |2.7                     |3.2                      |50.0                             |52.0                              |S3      |APE POUPEX                                        |70           |1      |\n",
            "|Banco Daycoval                 |300          |157          |521           |107           |https://www.daycoval.com.br    |São Paulo, Brasil          |1971.0          |/Explorar/melhores-serviços-bancários-e-de-crédito-empresas_II.9,40_IIND200048.htm |De US$ 25 a US$ 100 milhões|https://www.glassdoor.com.br/Vis%C3%A3o-geral/Trabalhar-na-Banco-Daycoval-EI_IE1480352.13,27.htm                |4.0  |3.7              |3.6                   |3.4              |3.3           |4.1                     |3.4                      |78.0                             |72.0                              |S3      |BANCO DAYCOVAL S.A                                |100          |1      |\n",
            "|Banco do Brasil                |5000         |1100         |9200          |1200          |https://www.bb.com.br          |Brasília, Brasil           |1808.0          |/Explorar/melhores-serviços-bancários-e-de-crédito-empresas_II.9,40_IIND200048.htm |Desconhecida/não se aplica |https://www.glassdoor.com.br/Vis%C3%A3o-geral/Trabalhar-na-Banco-do-Brasil-EI_IE3945.13,28.htm                  |4.3  |3.9              |4.0                   |3.7              |3.5           |4.2                     |3.8                      |86.0                             |72.0                              |S1      |BANCO DO BRASIL                                   |100          |1      |\n",
            "|Banco do Nordeste do Brasil    |525          |113          |840           |115           |http://www.bnb.gov.br          |Fortaleza, Brasil          |NULL            |/Explorar/melhores-gestão-de-ativos-e-investimentos-empresas_II.9,41_IIND200146.htm|Desconhecido/Não se aplica |https://www.glassdoor.com.br/Vis%C3%A3o-geral/Trabalhar-na-Banco-do-Nordeste-do-Brasil-EI_IE436304.13,40.htm    |4.5  |4.4              |4.3                   |4.3              |4.1           |4.2                     |4.0                      |90.0                             |83.0                              |S2      |BANCO DO NORDESTE DO BRASIL S.A.                  |100          |1      |\n",
            "|Banco Fibra                    |119          |41           |172           |37            |http://www.bancofibra.com.br   |São Paulo, Brasil          |NULL            |/Explorar/melhores-serviços-bancários-e-de-crédito-empresas_II.9,40_IIND200048.htm |Desconhecida/não se aplica |https://www.glassdoor.com.br/Vis%C3%A3o-geral/Trabalhar-na-Banco-Fibra-EI_IE744986.13,24.htm                    |4.3  |4.3              |4.3                   |3.8              |3.7           |4.2                     |3.6                      |87.0                             |84.0                              |S3      |BANCO FIBRA S.A.                                  |100          |1      |\n",
            "|Sumitomo Mitsui Financial Group|903          |246          |1300          |290           |http://www.smfg.co.jp          |Tóquio, Japão              |1996.0          |/Explorar/melhores-gestão-de-ativos-e-investimentos-empresas_II.9,41_IIND200146.htm|Mais de US$ 10 bilhões     |https://www.glassdoor.com.br/Vis%C3%A3o-geral/Trabalhar-na-Sumitomo-Mitsui-Financial-Group-EI_IE256138.13,44.htm|3.4  |3.3              |3.2                   |3.4              |3.1           |3.3                     |3.1                      |56.0                             |54.0                              |S3      |BANCO SUMITOMO MITSUI BRASIL S.A.                 |65           |1      |\n",
            "|Bank Of Tokyo-Mitsubishi UFJ   |770          |150          |1100          |228           |http://www.bk.mufg.jp/global   |Tóquio, Japão              |1919.0          |/Explorar/melhores-gestão-de-ativos-e-investimentos-empresas_II.9,41_IIND200146.htm|Mais de US$ 10 bilhões     |https://www.glassdoor.com.br/Vis%C3%A3o-geral/Trabalhar-na-Bank-Of-Tokyo-Mitsubishi-UFJ-EI_IE240039.13,41.htm   |3.6  |3.6              |3.5                   |3.4              |3.3           |3.6                     |3.3                      |65.0                             |43.0                              |S3      |BANCO TOKYO-MITSUBISHI BM S.A.                    |80           |1      |\n",
            "|Banrisul                       |1000         |155          |1700          |127           |http://www.banrisul.com.br     |Porto Alegre, Brasil       |NULL            |/Explorar/melhores-serviços-bancários-e-de-crédito-empresas_II.9,40_IIND200048.htm |De US$ 25 a US$ 100 milhões|https://www.glassdoor.com.br/Vis%C3%A3o-geral/Trabalhar-na-Banrisul-EI_IE678973.13,21.htm                       |4.2  |3.6              |3.8                   |3.7              |3.4           |4.1                     |3.3                      |84.0                             |59.0                              |S2      |BANRISUL                                          |100          |1      |\n",
            "|Banco BMG                      |445          |232          |704           |277           |http://www.bancobmg.com.br     |São Paulo, Brasil          |1930.0          |/Explorar/melhores-serviços-bancários-e-de-crédito-empresas_II.9,40_IIND200048.htm |De US$ 1 a US$ 5 milhões   |https://www.glassdoor.com.br/Vis%C3%A3o-geral/Trabalhar-na-Banco-BMG-EI_IE2482923.13,22.htm                     |4.1  |3.9              |4.1                   |3.7              |3.6           |4.2                     |3.5                      |79.0                             |63.0                              |S3      |BMG                                               |100          |1      |\n",
            "|BNP Paribas                    |13000        |4100         |20000         |3600          |http://www.group.bnpparibas    |Paris, França              |2000.0          |/Explorar/melhores-serviços-bancários-e-de-crédito-empresas_II.9,40_IIND200048.htm |Mais de US$ 10 bilhões     |https://www.glassdoor.com.br/Vis%C3%A3o-geral/Trabalhar-na-BNP-Paribas-EI_IE10342.13,24.htm                     |3.8  |3.7              |4.0                   |3.8              |3.4           |3.4                     |3.5                      |77.0                             |63.0                              |S3      |BNP PARIBAS                                       |100          |1      |\n",
            "|Merrill Lynch                  |5600         |1200         |9900          |1200          |http://www.ml.com              |New York, Estados Unidos   |1820.0          |/Explorar/melhores-gestão-de-ativos-e-investimentos-empresas_II.9,41_IIND200146.htm|Mais de US$ 10 bilhões     |https://www.glassdoor.com.br/Vis%C3%A3o-geral/Trabalhar-na-Merrill-Lynch-EI_IE440.13,26.htm                     |3.8  |3.6              |3.9                   |3.5              |3.5           |3.8                     |3.8                      |66.0                             |61.0                              |S3      |BOFA MERRILL LYNCH                                |84           |1      |\n",
            "|Banco Bradesco                 |11000        |3300         |19000         |3200          |http://www.bancobradesco.com.br|Osasco, Brasil             |1943.0          |/Explorar/melhores-serviços-bancários-e-de-crédito-empresas_II.9,40_IIND200048.htm |Mais de US$ 10 bilhões     |https://www.glassdoor.com.br/Vis%C3%A3o-geral/Trabalhar-na-Banco-Bradesco-EI_IE10997.13,27.htm                  |4.2  |3.8              |3.9                   |3.4              |3.4           |4.3                     |3.8                      |81.0                             |66.0                              |S1      |BRADESCO                                          |100          |1      |\n",
            "|BTG Pactual                    |1600         |683          |2800          |635           |http://www.btgpactual.com      |São Paulo, Brasil          |NULL            |/Explorar/melhores-gestão-de-ativos-e-investimentos-empresas_II.9,41_IIND200146.htm|Desconhecida/não se aplica |https://www.glassdoor.com.br/Vis%C3%A3o-geral/Trabalhar-na-BTG-Pactual-EI_IE411540.13,24.htm                    |4.0  |3.7              |3.5                   |2.8              |3.7           |4.4                     |4.2                      |78.0                             |73.0                              |S1      |BTG PACTUAL                                       |100          |1      |\n",
            "|Caixa Econômica Federal        |4000         |717          |7300          |857           |http://www.caixa.gov.br        |BRASILIA, Brasil           |NULL            |/Explorar/melhores-serviços-bancários-e-de-crédito-empresas_II.9,40_IIND200048.htm |Desconhecida/não se aplica |https://www.glassdoor.com.br/Vis%C3%A3o-geral/Trabalhar-na-Caixa-Econ%C3%B4mica-Federal-EI_IE41924.13,36.htm    |4.4  |3.8              |4.2                   |3.7              |3.5           |4.3                     |3.9                      |86.0                             |72.0                              |S1      |CAIXA ECONOMICA FEDERAL                           |98           |1      |\n",
            "|China Construction Bank        |871          |194          |720           |240           |http://www.ccb.com             |Pequim, China              |NULL            |/Explorar/melhores-serviços-bancários-e-de-crédito-empresas_II.9,40_IIND200048.htm |Mais de US$ 10 bilhões     |https://www.glassdoor.com.br/Vis%C3%A3o-geral/Trabalhar-na-China-Construction-Bank-EI_IE12617.13,36.htm         |3.4  |3.0              |2.9                   |3.4              |2.9           |3.5                     |2.8                      |54.0                             |42.0                              |S3      |CHINA CONSTRUCTION BANK (BRASIL) BANCO MULTIPLO S/|77           |1      |\n",
            "|Citi                           |31000        |8900         |52000         |9900          |http://www.citigroup.com       |New York, Estados Unidos   |1812.0          |/Explorar/melhores-gestão-de-ativos-e-investimentos-empresas_II.9,41_IIND200146.htm|Mais de US$ 10 bilhões     |https://www.glassdoor.com.br/citi                                                                               |3.9  |3.8              |4.1                   |3.5              |3.5           |3.8                     |3.9                      |76.0                             |68.0                              |S2      |CITIBANK                                          |100          |1      |\n",
            "|Credit Suisse                  |11000        |3400         |22000         |2900          |http://www.credit-suisse.com   |Zurique, Suíça             |1856.0          |/Explorar/melhores-gestão-de-ativos-e-investimentos-empresas_II.9,41_IIND200146.htm|Mais de US$ 10 bilhões     |https://www.glassdoor.com.br/Vis%C3%A3o-geral/Trabalhar-na-Credit-Suisse-EI_IE3141.13,26.htm                    |3.8  |3.8              |4.1                   |3.9              |3.3           |3.6                     |3.7                      |68.0                             |34.0                              |S2      |CREDIT SUISSE                                     |100          |1      |\n",
            "|Deutsche Bank                  |12000        |3200         |21000         |3100          |https://careers.db.com/        |Frankfurt am Main, Alemanha|1870.0          |/Explorar/melhores-serviços-bancários-e-de-crédito-empresas_II.9,40_IIND200048.htm |Mais de US$ 10 bilhões     |https://www.glassdoor.com.br/Vis%C3%A3o-geral/Trabalhar-na-Deutsche-Bank-EI_IE3150.13,26.htm                    |3.9  |3.8              |4.0                   |3.8              |3.5           |3.6                     |3.7                      |78.0                             |70.0                              |S3      |DEUTSCHE                                          |100          |1      |\n",
            "|Goldman Sachs                  |17000        |4400         |36000         |4100          |http://www.goldmansachs.com    |New York, Estados Unidos   |1869.0          |/Explorar/melhores-gestão-de-ativos-e-investimentos-empresas_II.9,41_IIND200146.htm|Mais de US$ 10 bilhões     |https://www.glassdoor.com.br/Vis%C3%A3o-geral/Trabalhar-na-Goldman-Sachs-EI_IE2800.13,26.htm                    |3.9  |3.7              |4.0                   |2.9              |3.5           |3.8                     |4.0                      |72.0                             |63.0                              |S3      |GOLDMAN SACHS                                     |100          |1      |\n",
            "+-------------------------------+-------------+-------------+--------------+--------------+-------------------------------+---------------------------+----------------+-----------------------------------------------------------------------------------+---------------------------+----------------------------------------------------------------------------------------------------------------+-----+-----------------+----------------------+-----------------+--------------+------------------------+-------------------------+---------------------------------+----------------------------------+--------+--------------------------------------------------+-------------+-------+\n",
            "only showing top 20 rows\n",
            "\n"
          ]
        }
      ],
      "source": [
        "# Remover duplicatas com base nas colunas 'Nome' e 'Segmento'\n",
        "spark.sql(\"\"\"\n",
        "CREATE OR REPLACE TEMPORARY VIEW employee_temp_dedup AS\n",
        "SELECT *\n",
        "FROM (\n",
        "    SELECT *, ROW_NUMBER() OVER (PARTITION BY Nome, Segmento ORDER BY Nome) AS row_num\n",
        "    FROM employee_temp\n",
        ") tmp\n",
        "WHERE row_num = 1\n",
        "\"\"\")\n",
        "spark.sql(\"SELECT * FROM employee_temp_dedup\").show(truncate=False)"
      ]
    },
    {
      "cell_type": "code",
      "source": [
        "total_records_employee_dedup = spark.sql(\"SELECT COUNT(*) AS total FROM employee_temp_dedup\").collect()[0]['total']\n",
        "print(f\"Registros subtraídos: {total_records_employee - total_records_employee_dedup}\")"
      ],
      "metadata": {
        "colab": {
          "base_uri": "https://localhost:8080/"
        },
        "id": "e2bkB9TwLff7",
        "outputId": "328b4782-7546-4acf-a756-5778b5e17489"
      },
      "execution_count": 75,
      "outputs": [
        {
          "output_type": "stream",
          "name": "stdout",
          "text": [
            "Registros subtraídos: 2\n"
          ]
        }
      ]
    },
    {
      "cell_type": "markdown",
      "metadata": {
        "id": "YnUGtADOAo_A"
      },
      "source": [
        "Analisando o esquema dos dados"
      ]
    },
    {
      "cell_type": "code",
      "source": [
        "spark.sql(\"DESCRIBE employee_temp_dedup\").show(truncate=False)"
      ],
      "metadata": {
        "colab": {
          "base_uri": "https://localhost:8080/"
        },
        "id": "3dYOZjGGPiO6",
        "outputId": "246f5aaa-0527-4116-bd31-101ddf6217dd"
      },
      "execution_count": 76,
      "outputs": [
        {
          "output_type": "stream",
          "name": "stdout",
          "text": [
            "+----------------------------------+---------+-------+\n",
            "|col_name                          |data_type|comment|\n",
            "+----------------------------------+---------+-------+\n",
            "|employer_name                     |string   |NULL   |\n",
            "|reviews_count                     |string   |NULL   |\n",
            "|culture_count                     |string   |NULL   |\n",
            "|salaries_count                    |string   |NULL   |\n",
            "|benefits_count                    |string   |NULL   |\n",
            "|employer-website                  |string   |NULL   |\n",
            "|employer-headquarters             |string   |NULL   |\n",
            "|employer-founded                  |string   |NULL   |\n",
            "|employer-industry                 |string   |NULL   |\n",
            "|employer-revenue                  |string   |NULL   |\n",
            "|url                               |string   |NULL   |\n",
            "|Geral                             |string   |NULL   |\n",
            "|Cultura e valores                 |string   |NULL   |\n",
            "|Diversidade e inclusão            |string   |NULL   |\n",
            "|Qualidade de vida                 |string   |NULL   |\n",
            "|Alta liderança                    |string   |NULL   |\n",
            "|Remuneração e benefícios          |string   |NULL   |\n",
            "|Oportunidades de carreira         |string   |NULL   |\n",
            "|Recomendam para outras pessoas(%) |string   |NULL   |\n",
            "|Perspectiva positiva da empresa(%)|string   |NULL   |\n",
            "+----------------------------------+---------+-------+\n",
            "only showing top 20 rows\n",
            "\n"
          ]
        }
      ]
    },
    {
      "cell_type": "markdown",
      "metadata": {
        "id": "1nm6A9HUAo_B"
      },
      "source": [
        "Salvando dados na camada _raw_ no formato parquet"
      ]
    },
    {
      "cell_type": "code",
      "execution_count": 77,
      "metadata": {
        "id": "ZpXO5YkQAo_B",
        "colab": {
          "base_uri": "https://localhost:8080/"
        },
        "outputId": "cd93c7bc-d620-444f-8570-adb5f941cc18"
      },
      "outputs": [
        {
          "output_type": "stream",
          "name": "stdout",
          "text": [
            "+----------------------------------+---------+-------+\n",
            "|col_name                          |data_type|comment|\n",
            "+----------------------------------+---------+-------+\n",
            "|employer_name                     |string   |NULL   |\n",
            "|reviews_count                     |string   |NULL   |\n",
            "|culture_count                     |string   |NULL   |\n",
            "|salaries_count                    |string   |NULL   |\n",
            "|benefits_count                    |string   |NULL   |\n",
            "|employer-website                  |string   |NULL   |\n",
            "|employer-headquarters             |string   |NULL   |\n",
            "|employer-founded                  |string   |NULL   |\n",
            "|employer-industry                 |string   |NULL   |\n",
            "|employer-revenue                  |string   |NULL   |\n",
            "|url                               |string   |NULL   |\n",
            "|Geral                             |string   |NULL   |\n",
            "|Cultura e valores                 |string   |NULL   |\n",
            "|Diversidade e inclusão            |string   |NULL   |\n",
            "|Qualidade de vida                 |string   |NULL   |\n",
            "|Alta liderança                    |string   |NULL   |\n",
            "|Remuneração e benefícios          |string   |NULL   |\n",
            "|Oportunidades de carreira         |string   |NULL   |\n",
            "|Recomendam para outras pessoas(%) |string   |NULL   |\n",
            "|Perspectiva positiva da empresa(%)|string   |NULL   |\n",
            "+----------------------------------+---------+-------+\n",
            "only showing top 20 rows\n",
            "\n"
          ]
        }
      ],
      "source": [
        "# raw_employee_path = './raw/employee/'\n",
        "# rwzd_employee.write.parquet(raw_employee_path, mode=\"append\")\n",
        "\n",
        "spark.sql(\"\"\"\n",
        "CREATE TABLE rwzd_employee\n",
        "USING parquet\n",
        "LOCATION './raw/employee/'\n",
        "AS\n",
        "SELECT *\n",
        "FROM employee_temp_dedup\n",
        "\"\"\")\n",
        "spark.sql(\"DESCRIBE rwzd_employee\").show(truncate=False)"
      ]
    },
    {
      "cell_type": "markdown",
      "metadata": {
        "id": "gAIDCQXWAo_B"
      },
      "source": [
        "### **Claims file**"
      ]
    },
    {
      "cell_type": "markdown",
      "metadata": {
        "id": "9XWT0c7tAo_B"
      },
      "source": [
        "Localizando todos os arquivos contendo dados de reclamações"
      ]
    },
    {
      "cell_type": "code",
      "execution_count": 8,
      "metadata": {
        "id": "FprVpRvVAo_B",
        "outputId": "538f7047-0806-4359-dd6e-402a35e3012f",
        "colab": {
          "base_uri": "https://localhost:8080/"
        }
      },
      "outputs": [
        {
          "output_type": "execute_result",
          "data": {
            "text/plain": [
              "['/content/drive/MyDrive/eEDB-011-2024-3/Fonte de Dados/Reclamações/2021_tri_02.csv',\n",
              " '/content/drive/MyDrive/eEDB-011-2024-3/Fonte de Dados/Reclamações/2021_tri_03.csv',\n",
              " '/content/drive/MyDrive/eEDB-011-2024-3/Fonte de Dados/Reclamações/2021_tri_01.csv',\n",
              " '/content/drive/MyDrive/eEDB-011-2024-3/Fonte de Dados/Reclamações/2022_tri_01.csv',\n",
              " '/content/drive/MyDrive/eEDB-011-2024-3/Fonte de Dados/Reclamações/2022_tri_02_nao_ha_dados.csv',\n",
              " '/content/drive/MyDrive/eEDB-011-2024-3/Fonte de Dados/Reclamações/2022_tri_03.csv',\n",
              " '/content/drive/MyDrive/eEDB-011-2024-3/Fonte de Dados/Reclamações/2021_tri_04.csv',\n",
              " '/content/drive/MyDrive/eEDB-011-2024-3/Fonte de Dados/Reclamações/2022_tri_04.csv']"
            ]
          },
          "metadata": {},
          "execution_count": 8
        }
      ],
      "source": [
        "# claim_dir = '../Fonte de Dados/Reclamações/'\n",
        "claim_dir = '/content/drive/MyDrive/eEDB-011-2024-3/Fonte de Dados/Reclamações'\n",
        "claim_files = os.listdir(claim_dir)\n",
        "claim_paths = list(map(lambda file: os.path.join(claim_dir, file), claim_files))\n",
        "claim_paths"
      ]
    },
    {
      "cell_type": "code",
      "execution_count": 22,
      "metadata": {
        "id": "e7AO49AjAo_B",
        "outputId": "e2ee9376-a609-41fd-9303-77fcd20e9b9b",
        "colab": {
          "base_uri": "https://localhost:8080/"
        }
      },
      "outputs": [
        {
          "output_type": "stream",
          "name": "stdout",
          "text": [
            "+----+---------+------------------------------------------------------+----------------+--------+----------------------------------------------------------------+------+-----------------------------------------------+--------------------------------------------+---------------------------------------+-------------------------------+----------------------------------------+----------------------------+----------------------------+----+\n",
            "|Ano |Trimestre|Categoria                                             |Tipo            |CNPJ IF |Instituição financeira                                          |Índice|Quantidade de reclamações reguladas procedentes|Quantidade de reclamações reguladas - outras|Quantidade de reclamações não reguladas|Quantidade total de reclamações|Quantidade total de clientes  CCS e SCR|Quantidade de clientes  CCS|Quantidade de clientes  SCR|_c14|\n",
            "+----+---------+------------------------------------------------------+----------------+--------+----------------------------------------------------------------+------+-----------------------------------------------+--------------------------------------------+---------------------------------------+-------------------------------+----------------------------------------+----------------------------+----------------------------+----+\n",
            "|2022|3º       |Demais Bancos, Financeiras e Instituições de Pagamento|Conglomerado    |        |ABC-BRASIL (conglomerado)                                       |      |4                                              |7                                           |3                                      |14                             |50720                                   |47485                       |6932                        |NULL|\n",
            "|2022|3º       |Demais Bancos, Financeiras e Instituições de Pagamento|Conglomerado    |        |ABN AMRO (conglomerado)                                         |      |0                                              |0                                           |1                                      |1                              |0                                       |0                           |                            |NULL|\n",
            "|2022|3º       |Demais Bancos, Financeiras e Instituições de Pagamento|Banco/financeira|13140088|ACESSO SOLUÇÕES DE PAGAMENTO S.A.                               |14,70 |75                                             |128                                         |9                                      |212                            |5098671                                 |5098661                     |19396                       |NULL|\n",
            "|2022|3º       |Demais Bancos, Financeiras e Instituições de Pagamento|Conglomerado    |        |AGIBANK (conglomerado)                                          |96,00 |182                                            |262                                         |95                                     |539                            |1895683                                 |1540134                     |1176067                     |NULL|\n",
            "|2022|3º       |Demais Bancos, Financeiras e Instituições de Pagamento|Banco/financeira|36321990|AGORACRED S/A SOCIEDADE DE CRÉDITO, FINANCIAMENTO E INVESTIMENTO|      |4                                              |4                                           |2                                      |10                             |534795                                  |133                         |534662                      |NULL|\n",
            "|2022|3º       |Demais Bancos, Financeiras e Instituições de Pagamento|Banco/financeira|27214112|AL5 S.A. CRÉDITO, FINANCIAMENTO E INVESTIMENTO                  |      |10                                             |3                                           |2                                      |15                             |30959                                   |19706                       |16841                       |NULL|\n",
            "|2022|3º       |Demais Bancos, Financeiras e Instituições de Pagamento|Conglomerado    |        |ALFA (conglomerado)                                             |      |23                                             |48                                          |9                                      |80                             |436746                                  |267423                      |170417                      |NULL|\n",
            "|2022|3º       |Demais Bancos, Financeiras e Instituições de Pagamento|Banco/financeira|32778350|AME DIGITAL BRASIL INSTITUICAO DE PAGAMENTO LTDA                |      |6                                              |31                                          |90                                     |127                            |0                                       |0                           |0                           |NULL|\n",
            "|2022|3º       |Demais Bancos, Financeiras e Instituições de Pagamento|Conglomerado    |        |ANDBANK (conglomerado)                                          |      |0                                              |2                                           |2                                      |4                              |4302                                    |4302                        |29                          |NULL|\n",
            "|2022|3º       |Demais Bancos, Financeiras e Instituições de Pagamento|Banco/financeira|19540550|ASAAS GESTÃO FINANCEIRA INSTITUIÇÃO DE PAGAMENTO S.A.           |      |8                                              |42                                          |5                                      |55                             |404447                                  |404447                      |                            |NULL|\n",
            "|2022|3º       |Demais Bancos, Financeiras e Instituições de Pagamento|Banco/financeira|54403563|BANCO ARBI S.A.                                                 |      |14                                             |8                                           |0                                      |22                             |84526                                   |75882                       |10846                       |NULL|\n",
            "|2022|3º       |Demais Bancos, Financeiras e Instituições de Pagamento|Banco/financeira|00997185|BANCO B3 S.A.                                                   |      |0                                              |1                                           |1                                      |2                              |896                                     |896                         |                            |NULL|\n",
            "|2022|3º       |Demais Bancos, Financeiras e Instituições de Pagamento|Banco/financeira|02658435|BANCO CATERPILLAR S.A.                                          |      |1                                              |0                                           |0                                      |1                              |3325                                    |                            |3325                        |NULL|\n",
            "|2022|3º       |Demais Bancos, Financeiras e Instituições de Pagamento|Banco/financeira|33132044|BANCO CEDULA S.A.                                               |      |0                                              |1                                           |1                                      |2                              |18010                                   |2805                        |15425                       |NULL|\n",
            "|2022|3º       |Demais Bancos, Financeiras e Instituições de Pagamento|Banco/financeira|02992446|BANCO CNH INDUSTRIAL CAPITAL S.A.                               |      |0                                              |2                                           |2                                      |4                              |28887                                   |1290                        |27778                       |NULL|\n",
            "|2022|3º       |Demais Bancos, Financeiras e Instituições de Pagamento|Banco/financeira|08357240|BANCO CSF S.A.                                                  |9,98  |77                                             |72                                          |43                                     |192                            |7707988                                 |                            |7707988                     |NULL|\n",
            "|2022|3º       |Demais Bancos, Financeiras e Instituições de Pagamento|Banco/financeira|04902979|BANCO DA AMAZONIA S.A.                                          |      |6                                              |7                                           |10                                     |23                             |507169                                  |507169                      |                            |NULL|\n",
            "|2022|3º       |Demais Bancos, Financeiras e Instituições de Pagamento|Banco/financeira|33042151|BANCO DE LA NACION ARGENTINA                                    |      |0                                              |2                                           |0                                      |2                              |267                                     |255                         |22                          |NULL|\n",
            "|2022|3º       |Demais Bancos, Financeiras e Instituições de Pagamento|Banco/financeira|05040481|BANCO DE LAGE LANDEN BRASIL S.A.                                |      |0                                              |0                                           |1                                      |1                              |35292                                   |4                           |35289                       |NULL|\n",
            "|2022|3º       |Demais Bancos, Financeiras e Instituições de Pagamento|Banco/financeira|92874270|BANCO DIGIMAIS S.A.                                             |424,80|132                                            |31                                          |33                                     |196                            |310734                                  |142304                      |203761                      |NULL|\n",
            "+----+---------+------------------------------------------------------+----------------+--------+----------------------------------------------------------------+------+-----------------------------------------------+--------------------------------------------+---------------------------------------+-------------------------------+----------------------------------------+----------------------------+----------------------------+----+\n",
            "only showing top 20 rows\n",
            "\n"
          ]
        }
      ],
      "source": [
        "claim_df = spark.read.csv(claim_paths, sep=';', encoding='latin1', header=True)\n",
        "claim_df.createOrReplaceTempView(\"claim_temp\")\n",
        "spark.sql(\"SELECT * FROM claim_temp LIMIT 100\").show(truncate=False)"
      ]
    },
    {
      "cell_type": "markdown",
      "metadata": {
        "id": "1JTg9oLbAo_C"
      },
      "source": [
        "Analisando o esquema dos dados"
      ]
    },
    {
      "cell_type": "code",
      "execution_count": 23,
      "metadata": {
        "id": "njDQGuo2Ao_C",
        "outputId": "67e4d18c-61f1-4722-d466-1bbf7cd8ffe6",
        "colab": {
          "base_uri": "https://localhost:8080/"
        }
      },
      "outputs": [
        {
          "output_type": "stream",
          "name": "stdout",
          "text": [
            "+-----------------------------------------------+---------+-------+\n",
            "|col_name                                       |data_type|comment|\n",
            "+-----------------------------------------------+---------+-------+\n",
            "|Ano                                            |string   |NULL   |\n",
            "|Trimestre                                      |string   |NULL   |\n",
            "|Categoria                                      |string   |NULL   |\n",
            "|Tipo                                           |string   |NULL   |\n",
            "|CNPJ IF                                        |string   |NULL   |\n",
            "|Instituição financeira                         |string   |NULL   |\n",
            "|Índice                                         |string   |NULL   |\n",
            "|Quantidade de reclamações reguladas procedentes|string   |NULL   |\n",
            "|Quantidade de reclamações reguladas - outras   |string   |NULL   |\n",
            "|Quantidade de reclamações não reguladas        |string   |NULL   |\n",
            "|Quantidade total de reclamações                |string   |NULL   |\n",
            "|Quantidade total de clientes  CCS e SCR       |string   |NULL   |\n",
            "|Quantidade de clientes  CCS                   |string   |NULL   |\n",
            "|Quantidade de clientes  SCR                   |string   |NULL   |\n",
            "|_c14                                           |string   |NULL   |\n",
            "+-----------------------------------------------+---------+-------+\n",
            "\n"
          ]
        }
      ],
      "source": [
        "spark.sql(\"DESCRIBE claim_temp\").show(truncate=False)"
      ]
    },
    {
      "cell_type": "markdown",
      "metadata": {
        "id": "ENRhGXMBAo_C"
      },
      "source": [
        "Removendo coluna desnecessária"
      ]
    },
    {
      "cell_type": "code",
      "execution_count": 46,
      "metadata": {
        "id": "m7H5BSrlAo_C",
        "colab": {
          "base_uri": "https://localhost:8080/"
        },
        "outputId": "896cfa16-89ad-4a3b-8d83-16100a90c3ea"
      },
      "outputs": [
        {
          "output_type": "stream",
          "name": "stdout",
          "text": [
            "+-----------------------------------------------+---------+-------+\n",
            "|col_name                                       |data_type|comment|\n",
            "+-----------------------------------------------+---------+-------+\n",
            "|Ano                                            |string   |NULL   |\n",
            "|Trimestre                                      |string   |NULL   |\n",
            "|Categoria                                      |string   |NULL   |\n",
            "|Tipo                                           |string   |NULL   |\n",
            "|CNPJ IF                                        |string   |NULL   |\n",
            "|Instituição financeira                         |string   |NULL   |\n",
            "|Índice                                         |string   |NULL   |\n",
            "|Quantidade de reclamações reguladas procedentes|string   |NULL   |\n",
            "|Quantidade de reclamações reguladas - outras   |string   |NULL   |\n",
            "|Quantidade de reclamações não reguladas        |string   |NULL   |\n",
            "|Quantidade total de reclamações                |string   |NULL   |\n",
            "|Quantidade total de clientes  CCS e SCR       |string   |NULL   |\n",
            "|Quantidade de clientes  CCS                   |string   |NULL   |\n",
            "|Quantidade de clientes  SCR                   |string   |NULL   |\n",
            "+-----------------------------------------------+---------+-------+\n",
            "\n"
          ]
        }
      ],
      "source": [
        "# Remove _c14 -> comando EXCEPT e DROP COLUMN nao funciona\n",
        "spark.sql(\"\"\"\n",
        "CREATE OR REPLACE TEMPORARY VIEW claim_temp_filtered AS\n",
        "SELECT \"Ano\", \"Trimestre\", \"Categoria\", \"Tipo\", \"CNPJ IF\", \"Instituição financeira\",\n",
        "\"Índice\", \"Quantidade de reclamações reguladas procedentes\", \"Quantidade de reclamações reguladas - outras\",\n",
        "\"Quantidade de reclamações não reguladas\", \"Quantidade total de reclamações\", \"Quantidade total de clientes  CCS e SCR\",\n",
        "\"Quantidade de clientes  CCS\", \"Quantidade de clientes  SCR\"\n",
        "FROM claim_temp\n",
        "\"\"\")\n",
        "spark.sql(\"DESCRIBE claim_temp_filtered\").show(truncate=False)"
      ]
    },
    {
      "cell_type": "markdown",
      "metadata": {
        "id": "bczA-NhfAo_C"
      },
      "source": [
        "Contando a quantidade de linhas"
      ]
    },
    {
      "cell_type": "code",
      "execution_count": 48,
      "metadata": {
        "id": "vlkE_p07Ao_M",
        "outputId": "0f3f5a11-c076-4043-f2a3-3ce1fe11c00a",
        "colab": {
          "base_uri": "https://localhost:8080/"
        }
      },
      "outputs": [
        {
          "output_type": "stream",
          "name": "stdout",
          "text": [
            "Registros claim: 918\n"
          ]
        }
      ],
      "source": [
        "total_records_claim= spark.sql(\"SELECT COUNT(*) AS total FROM claim_temp_filtered\").collect()[0]['total']\n",
        "print(f\"Registros claim: {total_records_claim}\")"
      ]
    },
    {
      "cell_type": "markdown",
      "metadata": {
        "id": "hm1Xp1sxAo_M"
      },
      "source": [
        "Salvando dados na camada _raw_ no formato parquet"
      ]
    },
    {
      "cell_type": "code",
      "source": [
        "# raw_claim_path = './raw/claim/'\n",
        "# rwzd_claim.write.parquet(raw_claim_path, mode=\"append\")\n",
        "\n",
        "spark.sql(\"\"\"\n",
        "CREATE TABLE rwzd_claim\n",
        "USING parquet\n",
        "LOCATION './raw/claim/'\n",
        "AS\n",
        "SELECT *\n",
        "FROM claim_temp_filtered\n",
        "\"\"\")\n",
        "spark.sql(\"DESCRIBE rwzd_claim\").show(truncate=False)"
      ],
      "metadata": {
        "colab": {
          "base_uri": "https://localhost:8080/"
        },
        "id": "iRmjUAShcSCL",
        "outputId": "e33e7301-5f30-4708-fd39-77b77c2151f1"
      },
      "execution_count": 62,
      "outputs": [
        {
          "output_type": "stream",
          "name": "stdout",
          "text": [
            "+-----------------------------------------------+---------+-------+\n",
            "|col_name                                       |data_type|comment|\n",
            "+-----------------------------------------------+---------+-------+\n",
            "|Ano                                            |string   |NULL   |\n",
            "|Trimestre                                      |string   |NULL   |\n",
            "|Categoria                                      |string   |NULL   |\n",
            "|Tipo                                           |string   |NULL   |\n",
            "|CNPJ IF                                        |string   |NULL   |\n",
            "|Instituição financeira                         |string   |NULL   |\n",
            "|Índice                                         |string   |NULL   |\n",
            "|Quantidade de reclamações reguladas procedentes|string   |NULL   |\n",
            "|Quantidade de reclamações reguladas - outras   |string   |NULL   |\n",
            "|Quantidade de reclamações não reguladas        |string   |NULL   |\n",
            "|Quantidade total de reclamações                |string   |NULL   |\n",
            "|Quantidade total de clientes  CCS e SCR       |string   |NULL   |\n",
            "|Quantidade de clientes  CCS                   |string   |NULL   |\n",
            "|Quantidade de clientes  SCR                   |string   |NULL   |\n",
            "+-----------------------------------------------+---------+-------+\n",
            "\n"
          ]
        }
      ]
    },
    {
      "cell_type": "markdown",
      "metadata": {
        "id": "jxBXkZ56h-zf"
      },
      "source": [
        "---\n",
        "## **Trusted**"
      ]
    },
    {
      "cell_type": "markdown",
      "source": [
        "### **Banks**"
      ],
      "metadata": {
        "id": "XSlhEWlxiard"
      }
    },
    {
      "cell_type": "code",
      "source": [
        "# rwzd_bank_df = spark.read.parquet('./raw/bank')\n",
        "# rwzd_bank_df.createOrReplaceTempView(\"rwzd_bank\")"
      ],
      "metadata": {
        "id": "n6p5DiMNk11c"
      },
      "execution_count": null,
      "outputs": []
    },
    {
      "cell_type": "markdown",
      "source": [
        "Aplicando transformações para melhorar a qualidade dos dados:"
      ],
      "metadata": {
        "id": "oOZ8qz__nO0m"
      }
    },
    {
      "cell_type": "markdown",
      "source": [
        "1 - Renomeando colunas do dataframe para ingles e no formato snake_case\n",
        "\n",
        "2 - Para que os dados da coluna _cnpj_ estivessem de acordo com seu padrão, os valores incompletos receberam numerais zeros à esquerda até completar 8 dígitos"
      ],
      "metadata": {
        "id": "VrASIahHn8YB"
      }
    },
    {
      "cell_type": "code",
      "source": [
        "spark.sql(\"\"\"\n",
        "CREATE TABLE trzd_banks\n",
        "USING parquet\n",
        "LOCATION './trusted/banks/'\n",
        "AS\n",
        "SELECT Segmento AS segment, Nome AS financial_institution_name,\n",
        "      CASE\n",
        "           WHEN cnpj = '' THEN NULL\n",
        "           ELSE LPAD(cnpj, 8, '0')\n",
        "       END AS cnpj\n",
        "FROM rwzd_bank\n",
        "\"\"\")\n",
        "spark.sql(\"DESCRIBE trzd_banks\").show(truncate=False)"
      ],
      "metadata": {
        "colab": {
          "base_uri": "https://localhost:8080/"
        },
        "id": "77Vpl1D7ieAS",
        "outputId": "f6243de1-0a64-431c-db73-bd19f1ffe0d0"
      },
      "execution_count": 98,
      "outputs": [
        {
          "output_type": "stream",
          "name": "stdout",
          "text": [
            "+--------------------------+---------+-------+\n",
            "|col_name                  |data_type|comment|\n",
            "+--------------------------+---------+-------+\n",
            "|segment                   |string   |NULL   |\n",
            "|financial_institution_name|string   |NULL   |\n",
            "|cnpj                      |string   |NULL   |\n",
            "+--------------------------+---------+-------+\n",
            "\n"
          ]
        }
      ]
    },
    {
      "cell_type": "code",
      "source": [
        "spark.sql(\"SELECT * FROM trzd_banks LIMIT 100\").show(truncate=False)"
      ],
      "metadata": {
        "colab": {
          "base_uri": "https://localhost:8080/"
        },
        "id": "Bh1Cq2q8pHau",
        "outputId": "22c35651-d97a-4a4d-a497-e2380cca8c76"
      },
      "execution_count": 99,
      "outputs": [
        {
          "output_type": "stream",
          "name": "stdout",
          "text": [
            "+-------+---------------------------------------------+--------+\n",
            "|segment|financial_institution_name                   |cnpj    |\n",
            "+-------+---------------------------------------------+--------+\n",
            "|S1     |BANCO DO BRASIL - PRUDENCIAL                 |00000000|\n",
            "|S1     |BRADESCO - PRUDENCIAL                        |60746948|\n",
            "|S1     |BTG PACTUAL - PRUDENCIAL                     |30306294|\n",
            "|S1     |CAIXA ECONOMICA FEDERAL - PRUDENCIAL         |00360305|\n",
            "|S1     |ITAU - PRUDENCIAL                            |60872504|\n",
            "|S1     |SANTANDER - PRUDENCIAL                       |90400888|\n",
            "|S2     |BANRISUL - PRUDENCIAL                        |92702067|\n",
            "|S2     |BANCO DO NORDESTE DO BRASIL S.A. - PRUDENCIAL|07237373|\n",
            "|S2     |BNDES - PRUDENCIAL                           |33657248|\n",
            "|S2     |CITIBANK - PRUDENCIAL                        |33479023|\n",
            "|S2     |CREDIT SUISSE - PRUDENCIAL                   |33987793|\n",
            "|S2     |SAFRA - PRUDENCIAL                           |58160789|\n",
            "|S2     |VOTORANTIM - PRUDENCIAL                      |59588111|\n",
            "|S3     |ABC-BRASIL - PRUDENCIAL                      |28195667|\n",
            "|S3     |ALFA - PRUDENCIAL                            |60770336|\n",
            "|S3     |APE POUPEX                                   |00655522|\n",
            "|S3     |BANCO CNH INDUSTRIAL CAPITAL S.A - PRUDENCIAL|02992446|\n",
            "|S3     |BANCOOB - PRUDENCIAL                         |02038232|\n",
            "|S3     |BANESTES - PRUDENCIAL                        |28127603|\n",
            "|S3     |BANCO CLASSICO S.A. - PRUDENCIAL             |31597552|\n",
            "+-------+---------------------------------------------+--------+\n",
            "only showing top 20 rows\n",
            "\n"
          ]
        }
      ]
    },
    {
      "cell_type": "markdown",
      "source": [
        "### **Employees**"
      ],
      "metadata": {
        "id": "DFRjpGF6tF6n"
      }
    },
    {
      "cell_type": "code",
      "source": [
        "# rwzd_employee_df = spark.read.parquet('./raw/employee')\n",
        "# rwzd_employee_df.createOrReplaceTempView(\"rwzd_employee\")"
      ],
      "metadata": {
        "id": "yJHaSObftMN7"
      },
      "execution_count": null,
      "outputs": []
    },
    {
      "cell_type": "markdown",
      "source": [
        "\n"
      ],
      "metadata": {
        "id": "3gPCTvb6tJJi"
      }
    },
    {
      "cell_type": "markdown",
      "source": [
        "---\n",
        "## **Delivery**"
      ],
      "metadata": {
        "id": "Yd3Cf6whiRTW"
      }
    }
  ],
  "metadata": {
    "kernelspec": {
      "display_name": "pyspark",
      "language": "python",
      "name": "python3"
    },
    "language_info": {
      "codemirror_mode": {
        "name": "ipython",
        "version": 3
      },
      "file_extension": ".py",
      "mimetype": "text/x-python",
      "name": "python",
      "nbconvert_exporter": "python",
      "pygments_lexer": "ipython3",
      "version": "3.11.9"
    },
    "colab": {
      "provenance": [],
      "collapsed_sections": [
        "82H1S6B1Ao-8",
        "rfzLBS0pAo_A"
      ]
    }
  },
  "nbformat": 4,
  "nbformat_minor": 0
}