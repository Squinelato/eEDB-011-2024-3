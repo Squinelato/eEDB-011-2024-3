{
 "cells": [
  {
   "cell_type": "markdown",
   "metadata": {},
   "source": [
    "# eEDB-011-2024-3"
   ]
  },
  {
   "cell_type": "markdown",
   "metadata": {},
   "source": [
    "## Atividade 3 – Ingestão e ETL com linguagem de programação (Python + Spark)\n",
    "\n",
    "- Utilizar linguagem de programação Python para ingestão e tratamento de dados. Todo o processo deve ser realizado via Spark.\n",
    "    - Pacotes adicionais podem ser utilizados\n",
    "    - Tratamento de dados não deve ser realizado via SQL\n",
    "- Realizar a ingestão de todas as base de dados em um banco de dados relacional open source. Pode ser utilizado qualquer banco de dado sendo algumas sugestões:\n",
    "    -  MySQL\n",
    "    -  Postgre\n",
    "    - ClickHouse\n",
    "- Gerar uma tabela final com os dados tratados e unidos.\n",
    "    - O tratamento de dados deve ser realizado através da linguagem de programação Python + Spark\n",
    "- Adicionar as seguintes camadas de processamento, dentro do próprio banco de dados ou em disco local. A Camada Delivery deve\n",
    "obrigatoriamente ter estar também no formato de uma tabela final dentro do banco de dados relacional:\n",
    "    - RAW – formato dos dados livre\n",
    "    - Trusted – formato de dados em Parquet ou ORC or AVRO (indicado Parquet)\n",
    "    - Delivery– formato de dados em Parquet ou ORC or AVRO (indicado Parquet)"
   ]
  },
  {
   "cell_type": "markdown",
   "metadata": {},
   "source": [
    "- **Grupo 02**:\n",
    "    - Aline Bini\n",
    "    - Ana Lívia Franco\n",
    "    - Ana Priss\n",
    "    - João Squinelato\n",
    "    - Marcelo Pena\n",
    "    - Thais Siqueira\n",
    "\n",
    "- [Github](https://github.com/Squinelato/eEDB-011-2024-3 \"eEDB-011-2024-3\")\n",
    "\n",
    "```Ingestão De Dados | Agosto 2024```"
   ]
  },
  {
   "cell_type": "markdown",
   "metadata": {},
   "source": [
    "## To Do\n",
    "\n",
    "- raw \n",
    "- trusted\n",
    "- delivery"
   ]
  },
  {
   "cell_type": "code",
   "execution_count": 2,
   "metadata": {},
   "outputs": [],
   "source": [
    "from pyspark.sql import SparkSession\n",
    "from pyspark.sql.functions import lpad, col, lpad, concat, sha1, regexp_replace, udf, lower, lit, when\n",
    "from pyspark.sql.types import StringType, FloatType, IntegerType, StructType, StructField, ArrayType\n",
    "from unidecode import unidecode\n",
    "\n",
    "import findspark\n",
    "import os"
   ]
  },
  {
   "cell_type": "code",
   "execution_count": 3,
   "metadata": {},
   "outputs": [],
   "source": [
    "findspark.init()"
   ]
  },
  {
   "cell_type": "code",
   "execution_count": 4,
   "metadata": {},
   "outputs": [],
   "source": [
    "spark = SparkSession.builder \\\n",
    "    .master('local') \\\n",
    "    .appName('Basic ETL') \\\n",
    "    .config('spark.executor.timeout', \"1200s\") \\\n",
    "    .config('spark.sql.broadcastTimeout', '1200s') \\\n",
    "    .config('spark.rpc.askTimeout', '600s') \\\n",
    "    .config('spark.executor.heartbeatInterval', '120s') \\\n",
    "    .config('spark.network.timeout', '1200s') \\\n",
    "    .getOrCreate()"
   ]
  },
  {
   "cell_type": "code",
   "execution_count": 5,
   "metadata": {},
   "outputs": [
    {
     "data": {
      "text/html": [
       "\n",
       "            <div>\n",
       "                <p><b>SparkSession - in-memory</b></p>\n",
       "                \n",
       "        <div>\n",
       "            <p><b>SparkContext</b></p>\n",
       "\n",
       "            <p><a href=\"http://NITRO5:4040\">Spark UI</a></p>\n",
       "\n",
       "            <dl>\n",
       "              <dt>Version</dt>\n",
       "                <dd><code>v3.4.1</code></dd>\n",
       "              <dt>Master</dt>\n",
       "                <dd><code>local</code></dd>\n",
       "              <dt>AppName</dt>\n",
       "                <dd><code>Basic ETL</code></dd>\n",
       "            </dl>\n",
       "        </div>\n",
       "        \n",
       "            </div>\n",
       "        "
      ],
      "text/plain": [
       "<pyspark.sql.session.SparkSession at 0x234613a4fd0>"
      ]
     },
     "execution_count": 5,
     "metadata": {},
     "output_type": "execute_result"
    }
   ],
   "source": [
    "spark"
   ]
  },
  {
   "cell_type": "markdown",
   "metadata": {},
   "source": [
    "---\n",
    "## **Raw**"
   ]
  },
  {
   "cell_type": "markdown",
   "metadata": {},
   "source": [
    "### **Banks file**"
   ]
  },
  {
   "cell_type": "code",
   "execution_count": 46,
   "metadata": {},
   "outputs": [
    {
     "name": "stdout",
     "output_type": "stream",
     "text": [
      "+--------+--------+--------------------------------------------------------------------------------------------------------------------------+\n",
      "|Segmento|CNPJ    |Nome                                                                                                                      |\n",
      "+--------+--------+--------------------------------------------------------------------------------------------------------------------------+\n",
      "|S1      |0       |BANCO DO BRASIL - PRUDENCIAL                                                                                              |\n",
      "|S1      |60746948|BRADESCO - PRUDENCIAL                                                                                                     |\n",
      "|S1      |30306294|BTG PACTUAL - PRUDENCIAL                                                                                                  |\n",
      "|S1      |360305  |CAIXA ECONOMICA FEDERAL - PRUDENCIAL                                                                                      |\n",
      "|S1      |60872504|ITAU - PRUDENCIAL                                                                                                         |\n",
      "|S1      |90400888|SANTANDER - PRUDENCIAL                                                                                                    |\n",
      "|S2      |92702067|BANRISUL - PRUDENCIAL                                                                                                     |\n",
      "|S2      |7237373 |BANCO DO NORDESTE DO BRASIL S.A. - PRUDENCIAL                                                                             |\n",
      "|S2      |33657248|BNDES - PRUDENCIAL                                                                                                        |\n",
      "|S2      |33479023|CITIBANK - PRUDENCIAL                                                                                                     |\n",
      "|S2      |33987793|CREDIT SUISSE - PRUDENCIAL                                                                                                |\n",
      "|S2      |58160789|SAFRA - PRUDENCIAL                                                                                                        |\n",
      "|S2      |59588111|VOTORANTIM - PRUDENCIAL                                                                                                   |\n",
      "|S3      |28195667|ABC-BRASIL - PRUDENCIAL                                                                                                   |\n",
      "|S3      |60770336|ALFA - PRUDENCIAL                                                                                                         |\n",
      "|S3      |655522  |APE POUPEX                                                                                                                |\n",
      "|S3      |2992446 |BANCO CNH INDUSTRIAL CAPITAL S.A - PRUDENCIAL                                                                             |\n",
      "|S3      |2038232 |BANCOOB - PRUDENCIAL                                                                                                      |\n",
      "|S3      |28127603|BANESTES - PRUDENCIAL                                                                                                     |\n",
      "|S3      |31597552|BANCO CLASSICO S.A. - PRUDENCIAL                                                                                          |\n",
      "|S3      |8357240 |BANCO CSF S.A. - PRUDENCIAL                                                                                               |\n",
      "|S3      |4902979 |BANCO DA AMAZONIA S.A. - PRUDENCIAL                                                                                       |\n",
      "|S3      |62232889|BANCO DAYCOVAL S.A - PRUDENCIAL                                                                                           |\n",
      "|S3      |38486817|BANCO DES. DE MG S.A. - PRUDENCIAL                                                                                        |\n",
      "|S3      |58616418|BANCO FIBRA S.A. - PRUDENCIAL                                                                                             |\n",
      "|S3      |1023570 |BANCO RABOBANK INTL BRASIL S.A. - PRUDENCIAL                                                                              |\n",
      "|S3      |60518222|BANCO SUMITOMO MITSUI BRASIL S.A. - PRUDENCIAL                                                                            |\n",
      "|S3      |60498557|BANCO TOKYO-MITSUBISHI BM S.A. - PRUDENCIAL                                                                               |\n",
      "|S3      |92816560|BD REGIONAL DO EXTREMO SUL - PRUDENCIAL                                                                                   |\n",
      "|S3      |61186680|BMG - PRUDENCIAL                                                                                                          |\n",
      "|S3      |1522368 |BNP PARIBAS - PRUDENCIAL                                                                                                  |\n",
      "|S3      |62073200|BOFA MERRILL LYNCH - PRUDENCIAL                                                                                           |\n",
      "|S3      |208     |BRB - PRUDENCIAL                                                                                                          |\n",
      "|S3      |7450604 |CCB - PRUDENCIAL                                                                                                          |\n",
      "|S3      |87437687|COOPERATIVA CENTRAL DE CREDITO DO RIO GRANDE DO SUL E SANTA CATARINA - CENTRAL SICREDI SUL                                |\n",
      "|S3      |80230774|COOPERATIVA CENTRAL DE CREDITO E INVESTIMENTO DOS ESTADOS DO PARANA, SAO PAULO E RIO DE JANEIRO - CENTRAL SICREDI PR/SP/RJ|\n",
      "|S3      |75647891|CREDIT AGRICOLE - PRUDENCIAL                                                                                              |\n",
      "|S3      |62331228|DEUTSCHE - PRUDENCIAL                                                                                                     |\n",
      "|S3      |59274605|GMAC - PRUDENCIAL                                                                                                         |\n",
      "|S3      |4332281 |GOLDMAN SACHS - PRUDENCIAL                                                                                                |\n",
      "|S3      |34111187|HAITONG - PRUDENCIAL                                                                                                      |\n",
      "|S3      |49336860|ING - PRUDENCIAL                                                                                                          |\n",
      "|S3      |33172537|JP MORGAN CHASE - PRUDENCIAL                                                                                              |\n",
      "|S3      |17184037|MERCANTIL DO BRASIL - PRUDENCIAL                                                                                          |\n",
      "|S3      |60814191|MERCEDES-BENZ - PRUDENCIAL                                                                                                |\n",
      "|S3      |2801938 |MORGAN STANLEY - PRUDENCIAL                                                                                               |\n",
      "|S3      |92894922|ORIGINAL - PRUDENCIAL                                                                                                     |\n",
      "|S3      |59285411|PAN                                                                                                                       |\n",
      "|S3      |62144175|PINE - PRUDENCIAL                                                                                                         |\n",
      "|S3      |1181521 |SICREDI - PRUDENCIAL                                                                                                      |\n",
      "|S3      |61533584|SOCIETE GENERALE - PRUDENCIAL                                                                                             |\n",
      "|S3      |59109165|VOLKSWAGEN - PRUDENCIAL                                                                                                   |\n",
      "|S4      |33824012|ADVALOR DTVM LTDA                                                                                                         |\n",
      "|S4      |92856905|ADVANCED CC LTDA                                                                                                          |\n",
      "|S4      |10663610|AF DESENVOLVE SP S.A.                                                                                                     |\n",
      "|S4      |82937293|AF DO ESTADO DE SC S.A.                                                                                                   |\n",
      "|S4      |13178690|AF ESTADO DE PERNAMBUCO S.A.                                                                                              |\n",
      "|S4      |3584906 |AF PARAN�                                                                                                                 |\n",
      "|S4      |10769660|AFAL S.A.                                                                                                                 |\n",
      "|S4      |3183937 |AFEAM                                                                                                                     |\n",
      "|S4      |2929977 |AG. FOMENTO AMAPA S.A.                                                                                                    |\n",
      "|S4      |3058464 |AG. FOMENTO ESTADO DE RORAIMA                                                                                             |\n",
      "|S4      |5474540 |AG. FOMENTO ESTADO DO TOCANTINS                                                                                           |\n",
      "|S4      |3848103 |AGENCIA DE FOMENTO DO RN S.A.                                                                                             |\n",
      "|S4      |6284531 |AG�NCIA DE FOMENTO MATO GROSSO                                                                                            |\n",
      "|S4      |5940203 |AGENCIA FOMENTO EST RJ S.A.                                                                                               |\n",
      "|S4      |3918382 |AGENCIA FOMENTO GOIAS                                                                                                     |\n",
      "|S4      |10664513|AGIPLAN FINANCEIRA S.A. - CFI - PRUDENCIAL                                                                                |\n",
      "|S4      |250699  |AGK CC S.A.                                                                                                               |\n",
      "|S4      |36321990|AGORACRED S/A SCFI                                                                                                        |\n",
      "|S4      |2678955 |AKRO DTVM S.A.                                                                                                            |\n",
      "|S4      |5452073 |ALBATROSS CCV S.A                                                                                                         |\n",
      "|S4      |3882245 |ALPES CCTVM LTDA                                                                                                          |\n",
      "|S4      |17312661|AMARIL FRANKLIN CTV LTDA                                                                                                  |\n",
      "|S4      |16927221|AMAZ�NIA CC LTDA.                                                                                                         |\n",
      "|S4      |48795256|ANDBANK - PRUDENCIAL                                                                                                      |\n",
      "|S4      |12719654|APEAL CREDITO IMOBILIARIO S/A                                                                                             |\n",
      "|S4      |4684647 |ARC CORRETORA CAMBIO S.A.                                                                                                 |\n",
      "|S4      |14425205|�TICO DTVM LTDA.                                                                                                          |\n",
      "|S4      |33775974|ATIVA S.A. INVESTIMENTOS CCTVM                                                                                            |\n",
      "|S4      |5956581 |ATRIA S.A. - CFI                                                                                                          |\n",
      "|S4      |3443143 |AVIPAM CC LTDA.                                                                                                           |\n",
      "|S4      |23862762|AVISTA S.A. CFI                                                                                                           |\n",
      "|S4      |25280945|AVS CC LTDA.                                                                                                              |\n",
      "|S4      |73622748|B & T ASSOCIADOS CC LTDA.                                                                                                 |\n",
      "|S4      |2885855 |BADESUL DESENVOLVIMENTO AF/RS                                                                                             |\n",
      "|S4      |61688131|BALUARTE SA CC                                                                                                            |\n",
      "|S4      |997185  |BANCO BM&FBOVESPA - PRUDENCIAL                                                                                            |\n",
      "|S4      |62237425|BANCO FIDIS - PRUDENCIAL                                                                                                  |\n",
      "|S4      |34270520|BANCO IBM S.A. - PRUDENCIAL                                                                                               |\n",
      "|S4      |23903068|BANCO KOMATSU DO BRASIL - PRUDENCIAL                                                                                      |\n",
      "|S4      |7441209 |BANCO MONEO S.A. - PRUDENCIAL                                                                                             |\n",
      "|S4      |40429946|BANCO PORTO REAL DE INVEST.S.A - PRUDENCIAL                                                                               |\n",
      "|S4      |517645  |BANCO RIBEIR�O PRETO - PRUDENCIAL                                                                                         |\n",
      "|S4      |795423  |BANCO SEMEAR - PRUDENCIAL                                                                                                 |\n",
      "|S4      |7679404 |BANCO TOP�ZIO S.A. - PRUDENCIAL                                                                                           |\n",
      "|S4      |9526594 |BANCO VIPAL - PRUDENCIAL                                                                                                  |\n",
      "|S4      |33884941|BANIF - PRUDENCIAL                                                                                                        |\n",
      "|S4      |61146577|BARCLAYS - PRUDENCIAL                                                                                                     |\n",
      "|S4      |556603  |BARIGUI                                                                                                                   |\n",
      "+--------+--------+--------------------------------------------------------------------------------------------------------------------------+\n",
      "only showing top 100 rows\n",
      "\n"
     ]
    }
   ],
   "source": [
    "banks_csv_path = '../Fonte de Dados/Bancos/EnquadramentoInicia_v2.tsv'\n",
    "rwzd_bank = spark.read.csv(banks_csv_path, sep='\\t', encoding='utf8', header=True)\n",
    "rwzd_bank.show(100, truncate=False)"
   ]
  },
  {
   "cell_type": "markdown",
   "metadata": {},
   "source": [
    "Analisando o esquema dos dados"
   ]
  },
  {
   "cell_type": "code",
   "execution_count": 47,
   "metadata": {},
   "outputs": [
    {
     "name": "stdout",
     "output_type": "stream",
     "text": [
      "root\n",
      " |-- Segmento: string (nullable = true)\n",
      " |-- CNPJ: string (nullable = true)\n",
      " |-- Nome: string (nullable = true)\n",
      "\n"
     ]
    }
   ],
   "source": [
    "rwzd_bank.printSchema()"
   ]
  },
  {
   "cell_type": "markdown",
   "metadata": {},
   "source": [
    "Contando a quantidade de linhas"
   ]
  },
  {
   "cell_type": "code",
   "execution_count": 48,
   "metadata": {},
   "outputs": [
    {
     "data": {
      "text/plain": [
       "1474"
      ]
     },
     "execution_count": 48,
     "metadata": {},
     "output_type": "execute_result"
    }
   ],
   "source": [
    "rwzd_bank.count()"
   ]
  },
  {
   "cell_type": "markdown",
   "metadata": {},
   "source": [
    "Salvando dados na camada _raw_ no formato parquet"
   ]
  },
  {
   "cell_type": "code",
   "execution_count": 49,
   "metadata": {},
   "outputs": [],
   "source": [
    "# raw_bank_path = './raw/bank/'\n",
    "# rwzd_bank.write.parquet(raw_bank_path, mode=\"append\")"
   ]
  },
  {
   "cell_type": "markdown",
   "metadata": {},
   "source": [
    "### **Employees file**"
   ]
  },
  {
   "cell_type": "markdown",
   "metadata": {},
   "source": [
    "Localizando todos os arquivos contendo dados de empregados"
   ]
  },
  {
   "cell_type": "code",
   "execution_count": 50,
   "metadata": {},
   "outputs": [
    {
     "data": {
      "text/plain": [
       "'../Fonte de Dados/Empregados/glassdoor_consolidado_join_match_v2.csv'"
      ]
     },
     "execution_count": 50,
     "metadata": {},
     "output_type": "execute_result"
    }
   ],
   "source": [
    "employee_dir = '../Fonte de Dados/Empregados/'\n",
    "employee_files = os.listdir(employee_dir)\n",
    "employee_paths = list(map(lambda file: os.path.join(employee_dir, file), employee_files))[1]\n",
    "employee_paths"
   ]
  },
  {
   "cell_type": "markdown",
   "metadata": {},
   "source": [
    "Lendo todos os arquivos de empregados como um único conjunto de dados"
   ]
  },
  {
   "cell_type": "code",
   "execution_count": 51,
   "metadata": {},
   "outputs": [],
   "source": [
    "rwzd_employee = spark.read.csv(employee_paths, sep='|', encoding='utf8', header=True)"
   ]
  },
  {
   "cell_type": "markdown",
   "metadata": {},
   "source": [
    "Removendo duplicatas com base no nome e segmento do banco"
   ]
  },
  {
   "cell_type": "code",
   "execution_count": 52,
   "metadata": {},
   "outputs": [],
   "source": [
    "rwzd_employee = rwzd_employee.dropDuplicates(['Nome', 'Segmento'])"
   ]
  },
  {
   "cell_type": "markdown",
   "metadata": {},
   "source": [
    "Analisando o esquema dos dados"
   ]
  },
  {
   "cell_type": "code",
   "execution_count": 53,
   "metadata": {},
   "outputs": [
    {
     "name": "stdout",
     "output_type": "stream",
     "text": [
      "root\n",
      " |-- employer_name: string (nullable = true)\n",
      " |-- reviews_count: string (nullable = true)\n",
      " |-- culture_count: string (nullable = true)\n",
      " |-- salaries_count: string (nullable = true)\n",
      " |-- benefits_count: string (nullable = true)\n",
      " |-- employer-website: string (nullable = true)\n",
      " |-- employer-headquarters: string (nullable = true)\n",
      " |-- employer-founded: string (nullable = true)\n",
      " |-- employer-industry: string (nullable = true)\n",
      " |-- employer-revenue: string (nullable = true)\n",
      " |-- url: string (nullable = true)\n",
      " |-- Geral: string (nullable = true)\n",
      " |-- Cultura e valores: string (nullable = true)\n",
      " |-- Diversidade e inclusão: string (nullable = true)\n",
      " |-- Qualidade de vida: string (nullable = true)\n",
      " |-- Alta liderança: string (nullable = true)\n",
      " |-- Remuneração e benefícios: string (nullable = true)\n",
      " |-- Oportunidades de carreira: string (nullable = true)\n",
      " |-- Recomendam para outras pessoas(%): string (nullable = true)\n",
      " |-- Perspectiva positiva da empresa(%): string (nullable = true)\n",
      " |-- Segmento: string (nullable = true)\n",
      " |-- Nome: string (nullable = true)\n",
      " |-- match_percent: string (nullable = true)\n",
      "\n"
     ]
    }
   ],
   "source": [
    "rwzd_employee.printSchema()"
   ]
  },
  {
   "cell_type": "markdown",
   "metadata": {},
   "source": [
    "Contando a quantidade de linhas"
   ]
  },
  {
   "cell_type": "code",
   "execution_count": 54,
   "metadata": {},
   "outputs": [
    {
     "data": {
      "text/plain": [
       "32"
      ]
     },
     "execution_count": 54,
     "metadata": {},
     "output_type": "execute_result"
    }
   ],
   "source": [
    "rwzd_employee.count()"
   ]
  },
  {
   "cell_type": "markdown",
   "metadata": {},
   "source": [
    "Salvando dados na camada _raw_ no formato parquet"
   ]
  },
  {
   "cell_type": "code",
   "execution_count": 55,
   "metadata": {},
   "outputs": [],
   "source": [
    "# raw_employee_path = './raw/employee/'\n",
    "# rwzd_employee.write.parquet(raw_employee_path, mode=\"append\")"
   ]
  },
  {
   "cell_type": "markdown",
   "metadata": {},
   "source": [
    "### **Claims**"
   ]
  },
  {
   "cell_type": "markdown",
   "metadata": {},
   "source": [
    "Localizando todos os arquivos contendo dados de reclamações"
   ]
  },
  {
   "cell_type": "code",
   "execution_count": 56,
   "metadata": {},
   "outputs": [
    {
     "data": {
      "text/plain": [
       "['../Fonte de Dados/Reclamações/2021_tri_01.csv',\n",
       " '../Fonte de Dados/Reclamações/2021_tri_02.csv',\n",
       " '../Fonte de Dados/Reclamações/2021_tri_03.csv',\n",
       " '../Fonte de Dados/Reclamações/2021_tri_04.csv',\n",
       " '../Fonte de Dados/Reclamações/2022_tri_01.csv',\n",
       " '../Fonte de Dados/Reclamações/2022_tri_02_nao_ha_dados.csv',\n",
       " '../Fonte de Dados/Reclamações/2022_tri_03.csv',\n",
       " '../Fonte de Dados/Reclamações/2022_tri_04.csv']"
      ]
     },
     "execution_count": 56,
     "metadata": {},
     "output_type": "execute_result"
    }
   ],
   "source": [
    "claim_dir = '../Fonte de Dados/Reclamações/'\n",
    "claim_files = os.listdir(claim_dir)\n",
    "claim_paths = list(map(lambda file: os.path.join(claim_dir, file), claim_files))\n",
    "claim_paths"
   ]
  },
  {
   "cell_type": "code",
   "execution_count": 57,
   "metadata": {},
   "outputs": [
    {
     "name": "stdout",
     "output_type": "stream",
     "text": [
      "+----+---------+--------------------+----------------+--------+----------------------+------+-----------------------------------------------+--------------------------------------------+---------------------------------------+-------------------------------+----------------------------------------+----------------------------+----------------------------+----+\n",
      "| Ano|Trimestre|           Categoria|            Tipo| CNPJ IF|Instituição financeira|Índice|Quantidade de reclamações reguladas procedentes|Quantidade de reclamações reguladas - outras|Quantidade de reclamações não reguladas|Quantidade total de reclamações|Quantidade total de clientes  CCS e SCR|Quantidade de clientes  CCS|Quantidade de clientes  SCR|_c14|\n",
      "+----+---------+--------------------+----------------+--------+----------------------+------+-----------------------------------------------+--------------------------------------------+---------------------------------------+-------------------------------+----------------------------------------+----------------------------+----------------------------+----+\n",
      "|2022|       3º|Demais Bancos, Fi...|    Conglomerado|        |  ABC-BRASIL (congl...|      |                                              4|                                           7|                                      3|                             14|                                   50720|                       47485|                        6932|null|\n",
      "|2022|       3º|Demais Bancos, Fi...|    Conglomerado|        |  ABN AMRO (conglom...|      |                                              0|                                           0|                                      1|                              1|                                       0|                           0|                            |null|\n",
      "|2022|       3º|Demais Bancos, Fi...|Banco/financeira|13140088|  ACESSO SOLUÇÕES D...| 14,70|                                             75|                                         128|                                      9|                            212|                                 5098671|                     5098661|                       19396|null|\n",
      "|2022|       3º|Demais Bancos, Fi...|    Conglomerado|        |  AGIBANK (conglome...| 96,00|                                            182|                                         262|                                     95|                            539|                                 1895683|                     1540134|                     1176067|null|\n",
      "|2022|       3º|Demais Bancos, Fi...|Banco/financeira|36321990|  AGORACRED S/A SOC...|      |                                              4|                                           4|                                      2|                             10|                                  534795|                         133|                      534662|null|\n",
      "|2022|       3º|Demais Bancos, Fi...|Banco/financeira|27214112|  AL5 S.A. CRÉDITO,...|      |                                             10|                                           3|                                      2|                             15|                                   30959|                       19706|                       16841|null|\n",
      "|2022|       3º|Demais Bancos, Fi...|    Conglomerado|        |   ALFA (conglomerado)|      |                                             23|                                          48|                                      9|                             80|                                  436746|                      267423|                      170417|null|\n",
      "|2022|       3º|Demais Bancos, Fi...|Banco/financeira|32778350|  AME DIGITAL BRASI...|      |                                              6|                                          31|                                     90|                            127|                                       0|                           0|                           0|null|\n",
      "|2022|       3º|Demais Bancos, Fi...|    Conglomerado|        |  ANDBANK (conglome...|      |                                              0|                                           2|                                      2|                              4|                                    4302|                        4302|                          29|null|\n",
      "|2022|       3º|Demais Bancos, Fi...|Banco/financeira|19540550|  ASAAS GESTÃO FINA...|      |                                              8|                                          42|                                      5|                             55|                                  404447|                      404447|                            |null|\n",
      "|2022|       3º|Demais Bancos, Fi...|Banco/financeira|54403563|       BANCO ARBI S.A.|      |                                             14|                                           8|                                      0|                             22|                                   84526|                       75882|                       10846|null|\n",
      "|2022|       3º|Demais Bancos, Fi...|Banco/financeira|00997185|         BANCO B3 S.A.|      |                                              0|                                           1|                                      1|                              2|                                     896|                         896|                            |null|\n",
      "|2022|       3º|Demais Bancos, Fi...|Banco/financeira|02658435|  BANCO CATERPILLAR...|      |                                              1|                                           0|                                      0|                              1|                                    3325|                            |                        3325|null|\n",
      "|2022|       3º|Demais Bancos, Fi...|Banco/financeira|33132044|     BANCO CEDULA S.A.|      |                                              0|                                           1|                                      1|                              2|                                   18010|                        2805|                       15425|null|\n",
      "|2022|       3º|Demais Bancos, Fi...|Banco/financeira|02992446|  BANCO CNH INDUSTR...|      |                                              0|                                           2|                                      2|                              4|                                   28887|                        1290|                       27778|null|\n",
      "|2022|       3º|Demais Bancos, Fi...|Banco/financeira|08357240|        BANCO CSF S.A.|  9,98|                                             77|                                          72|                                     43|                            192|                                 7707988|                            |                     7707988|null|\n",
      "|2022|       3º|Demais Bancos, Fi...|Banco/financeira|04902979|  BANCO DA AMAZONIA...|      |                                              6|                                           7|                                     10|                             23|                                  507169|                      507169|                            |null|\n",
      "|2022|       3º|Demais Bancos, Fi...|Banco/financeira|33042151|  BANCO DE LA NACIO...|      |                                              0|                                           2|                                      0|                              2|                                     267|                         255|                          22|null|\n",
      "|2022|       3º|Demais Bancos, Fi...|Banco/financeira|05040481|  BANCO DE LAGE LAN...|      |                                              0|                                           0|                                      1|                              1|                                   35292|                           4|                       35289|null|\n",
      "|2022|       3º|Demais Bancos, Fi...|Banco/financeira|92874270|   BANCO DIGIMAIS S.A.|424,80|                                            132|                                          31|                                     33|                            196|                                  310734|                      142304|                      203761|null|\n",
      "+----+---------+--------------------+----------------+--------+----------------------+------+-----------------------------------------------+--------------------------------------------+---------------------------------------+-------------------------------+----------------------------------------+----------------------------+----------------------------+----+\n",
      "only showing top 20 rows\n",
      "\n"
     ]
    }
   ],
   "source": [
    "rwzd_claim = spark.read.csv(claim_paths, sep=';', encoding='latin1', header=True)\n",
    "rwzd_claim.show()"
   ]
  },
  {
   "cell_type": "markdown",
   "metadata": {},
   "source": [
    "Analisando o esquema dos dados"
   ]
  },
  {
   "cell_type": "code",
   "execution_count": 58,
   "metadata": {},
   "outputs": [
    {
     "name": "stdout",
     "output_type": "stream",
     "text": [
      "root\n",
      " |-- Ano: string (nullable = true)\n",
      " |-- Trimestre: string (nullable = true)\n",
      " |-- Categoria: string (nullable = true)\n",
      " |-- Tipo: string (nullable = true)\n",
      " |-- CNPJ IF: string (nullable = true)\n",
      " |-- Instituição financeira: string (nullable = true)\n",
      " |-- Índice: string (nullable = true)\n",
      " |-- Quantidade de reclamações reguladas procedentes: string (nullable = true)\n",
      " |-- Quantidade de reclamações reguladas - outras: string (nullable = true)\n",
      " |-- Quantidade de reclamações não reguladas: string (nullable = true)\n",
      " |-- Quantidade total de reclamações: string (nullable = true)\n",
      " |-- Quantidade total de clientes  CCS e SCR: string (nullable = true)\n",
      " |-- Quantidade de clientes  CCS: string (nullable = true)\n",
      " |-- Quantidade de clientes  SCR: string (nullable = true)\n",
      " |-- _c14: string (nullable = true)\n",
      "\n"
     ]
    }
   ],
   "source": [
    "rwzd_claim.printSchema()"
   ]
  },
  {
   "cell_type": "markdown",
   "metadata": {},
   "source": [
    "Removendo coluna desnecessária"
   ]
  },
  {
   "cell_type": "code",
   "execution_count": 59,
   "metadata": {},
   "outputs": [],
   "source": [
    "rwzd_claim = rwzd_claim.drop('_c14')"
   ]
  },
  {
   "cell_type": "markdown",
   "metadata": {},
   "source": [
    "Contando a quantidade de linhas"
   ]
  },
  {
   "cell_type": "code",
   "execution_count": 60,
   "metadata": {},
   "outputs": [
    {
     "data": {
      "text/plain": [
       "918"
      ]
     },
     "execution_count": 60,
     "metadata": {},
     "output_type": "execute_result"
    }
   ],
   "source": [
    "rwzd_claim.count()"
   ]
  },
  {
   "cell_type": "markdown",
   "metadata": {},
   "source": [
    "Salvando dados na camada _raw_ no formato parquet"
   ]
  },
  {
   "cell_type": "code",
   "execution_count": 61,
   "metadata": {},
   "outputs": [],
   "source": [
    "# raw_claim_path = './raw/claim/'\n",
    "# rwzd_claim.write.parquet(raw_claim_path, mode=\"append\")"
   ]
  },
  {
   "cell_type": "markdown",
   "metadata": {},
   "source": [
    "---\n",
    "## **Trusted**"
   ]
  },
  {
   "cell_type": "code",
   "execution_count": 62,
   "metadata": {},
   "outputs": [],
   "source": [
    "def unicode_normalizer(word: str) -> str:\n",
    "    return unidecode(word)\n",
    "\n",
    "unaccent = udf(unicode_normalizer, StringType())"
   ]
  },
  {
   "cell_type": "markdown",
   "metadata": {},
   "source": [
    "### **Banks**"
   ]
  },
  {
   "cell_type": "code",
   "execution_count": 63,
   "metadata": {},
   "outputs": [],
   "source": [
    "trzd_bank = rwzd_bank"
   ]
  },
  {
   "cell_type": "markdown",
   "metadata": {},
   "source": [
    "Aplicando algumas transformações com o intuito de melhorar a qualidade dos dados:"
   ]
  },
  {
   "cell_type": "markdown",
   "metadata": {},
   "source": [
    "1 - Renomeando colunas do _dataframe_ para inglês e no formato _snake case_"
   ]
  },
  {
   "cell_type": "code",
   "execution_count": 64,
   "metadata": {},
   "outputs": [],
   "source": [
    "trzd_bank = trzd_bank.withColumnsRenamed({\n",
    "    'Segmento': 'segment',\n",
    "    'CNPJ': 'cnpj',\n",
    "    'Nome': 'financial_institution_name'\n",
    "})"
   ]
  },
  {
   "cell_type": "markdown",
   "metadata": {},
   "source": [
    "2 - Para que os dados da coluna _cnpj_ estivessem de acordo com seu padrão, os valores incompletos receberam numerais zeros à esquerda até completar 8 dígitos"
   ]
  },
  {
   "cell_type": "code",
   "execution_count": 65,
   "metadata": {},
   "outputs": [],
   "source": [
    "trzd_bank = trzd_bank \\\n",
    "    .withColumn('cnpj', when(col('cnpj') == '', lit(None).cast(StringType())) \\\n",
    "    .otherwise(lpad(col('cnpj'), 8, '0')))"
   ]
  },
  {
   "cell_type": "code",
   "execution_count": 66,
   "metadata": {},
   "outputs": [],
   "source": [
    "trzd_bank = trzd_bank.withColumn('sk_cnpj_segment', sha1(concat(col('cnpj'), col('segment'))))"
   ]
  },
  {
   "cell_type": "code",
   "execution_count": 67,
   "metadata": {},
   "outputs": [
    {
     "name": "stdout",
     "output_type": "stream",
     "text": [
      "+-------+--------+--------------------------------------------------------------------------------------------------------------------------+----------------------------------------+\n",
      "|segment|cnpj    |financial_institution_name                                                                                                |sk_cnpj_segment                         |\n",
      "+-------+--------+--------------------------------------------------------------------------------------------------------------------------+----------------------------------------+\n",
      "|S1     |00000000|BANCO DO BRASIL - PRUDENCIAL                                                                                              |d9be4941c63af670d63086dcb0849a997e062a64|\n",
      "|S1     |60746948|BRADESCO - PRUDENCIAL                                                                                                     |2f59bebc86f6b4dd5628043cac240c6e6a6f651d|\n",
      "|S1     |30306294|BTG PACTUAL - PRUDENCIAL                                                                                                  |110ffbf347c0837827daf658f4f97950ebe9f741|\n",
      "|S1     |00360305|CAIXA ECONOMICA FEDERAL - PRUDENCIAL                                                                                      |587e4dca521e8c4426371a29658419ecb0087262|\n",
      "|S1     |60872504|ITAU - PRUDENCIAL                                                                                                         |4b6e5b20d113f3415704fd6a998f2e4500340b18|\n",
      "|S1     |90400888|SANTANDER - PRUDENCIAL                                                                                                    |75ddb1c713e8da4daab944522b8ee5dda29c2983|\n",
      "|S2     |92702067|BANRISUL - PRUDENCIAL                                                                                                     |ddd1cba40d24bcf93c637028f2ef047ce4fae886|\n",
      "|S2     |07237373|BANCO DO NORDESTE DO BRASIL S.A. - PRUDENCIAL                                                                             |4e52ea413cf937405f38013294434e85be954f2d|\n",
      "|S2     |33657248|BNDES - PRUDENCIAL                                                                                                        |bd262ac480470e839f0e98c0f57383d2034ac1a6|\n",
      "|S2     |33479023|CITIBANK - PRUDENCIAL                                                                                                     |9dfc299c9dffe3629288d302b47a2dcf9ec883cb|\n",
      "|S2     |33987793|CREDIT SUISSE - PRUDENCIAL                                                                                                |2d52471f560d1a3b35ad745dd9626640fdf2a12e|\n",
      "|S2     |58160789|SAFRA - PRUDENCIAL                                                                                                        |10fd63fa68a9399399c41747efaccbbd7f474b80|\n",
      "|S2     |59588111|VOTORANTIM - PRUDENCIAL                                                                                                   |7c0daecf7f3d35c4c8b991ff49149a87d1c680b8|\n",
      "|S3     |28195667|ABC-BRASIL - PRUDENCIAL                                                                                                   |4396c9aca92a8cfb1aba2ce3fa1e98a15ab209b3|\n",
      "|S3     |60770336|ALFA - PRUDENCIAL                                                                                                         |aa27f0a03ce357a431c2789b7f6596e0b464e2bc|\n",
      "|S3     |00655522|APE POUPEX                                                                                                                |d52450adc95fa0bbb0d69e46f1b200a2191be886|\n",
      "|S3     |02992446|BANCO CNH INDUSTRIAL CAPITAL S.A - PRUDENCIAL                                                                             |4110f81144c29257d25a66c80576c8929f84ecc4|\n",
      "|S3     |02038232|BANCOOB - PRUDENCIAL                                                                                                      |a0eed533328d57ac2d7846c49b7ccc23798cd566|\n",
      "|S3     |28127603|BANESTES - PRUDENCIAL                                                                                                     |2748b9aae2109a4b4b66e4c870b3539f1fd5ce12|\n",
      "|S3     |31597552|BANCO CLASSICO S.A. - PRUDENCIAL                                                                                          |5f93aa376cd172e5543caf6a511eb917292c5024|\n",
      "|S3     |08357240|BANCO CSF S.A. - PRUDENCIAL                                                                                               |c90f063530a63c27de9a1fd36a5d947eb72d5660|\n",
      "|S3     |04902979|BANCO DA AMAZONIA S.A. - PRUDENCIAL                                                                                       |e2e2818466a11ff90032daded2bfd22cb7855ad8|\n",
      "|S3     |62232889|BANCO DAYCOVAL S.A - PRUDENCIAL                                                                                           |a968fe8263835e211365acb902fd226412a10c0c|\n",
      "|S3     |38486817|BANCO DES. DE MG S.A. - PRUDENCIAL                                                                                        |6575589951afcbfd48e97853888a591d42b5efc8|\n",
      "|S3     |58616418|BANCO FIBRA S.A. - PRUDENCIAL                                                                                             |1dab2feef834b8d195e0e5d21f36be9904b77bdb|\n",
      "|S3     |01023570|BANCO RABOBANK INTL BRASIL S.A. - PRUDENCIAL                                                                              |89b95984ce392dcac745b599f3dfd8bea749f74d|\n",
      "|S3     |60518222|BANCO SUMITOMO MITSUI BRASIL S.A. - PRUDENCIAL                                                                            |ec817511307464a6c045fae18019d1afd9adc486|\n",
      "|S3     |60498557|BANCO TOKYO-MITSUBISHI BM S.A. - PRUDENCIAL                                                                               |4ecbb8191cbb67c0d788d0e70a3874f42d0ad82d|\n",
      "|S3     |92816560|BD REGIONAL DO EXTREMO SUL - PRUDENCIAL                                                                                   |118f9b96de7121e5b667569ce03d1ce6bc4e626b|\n",
      "|S3     |61186680|BMG - PRUDENCIAL                                                                                                          |090d00fdb0898203ed991fbd204c8cca8e936f08|\n",
      "|S3     |01522368|BNP PARIBAS - PRUDENCIAL                                                                                                  |7bd9bddc4a400c8ec00d4985d60a3e0a2d4107e4|\n",
      "|S3     |62073200|BOFA MERRILL LYNCH - PRUDENCIAL                                                                                           |4dc7771dc080164c40064d3567bac885dde5516e|\n",
      "|S3     |00000208|BRB - PRUDENCIAL                                                                                                          |3bdeb625c2c731f138d41f0af8fbfa6d4bc4def1|\n",
      "|S3     |07450604|CCB - PRUDENCIAL                                                                                                          |410fc049bcb64dd77d4b044bffdd45702bf7ffaa|\n",
      "|S3     |87437687|COOPERATIVA CENTRAL DE CREDITO DO RIO GRANDE DO SUL E SANTA CATARINA - CENTRAL SICREDI SUL                                |8b4ab8f171d1e82c91daeeb857336900e5dc5274|\n",
      "|S3     |80230774|COOPERATIVA CENTRAL DE CREDITO E INVESTIMENTO DOS ESTADOS DO PARANA, SAO PAULO E RIO DE JANEIRO - CENTRAL SICREDI PR/SP/RJ|55d696832ffd11c7799024e16a20428c960833b4|\n",
      "|S3     |75647891|CREDIT AGRICOLE - PRUDENCIAL                                                                                              |27a7b1154cb0e897bdc4f7db212a13e0fc10b8c6|\n",
      "|S3     |62331228|DEUTSCHE - PRUDENCIAL                                                                                                     |a75a648161a7de2dd70db295dc3a4f266d99b3aa|\n",
      "|S3     |59274605|GMAC - PRUDENCIAL                                                                                                         |c40b387d3841ff54ac0688f543735dcfa1e2a8cc|\n",
      "|S3     |04332281|GOLDMAN SACHS - PRUDENCIAL                                                                                                |8aa955654d7a4cb30245326221d04c9213c4fed1|\n",
      "|S3     |34111187|HAITONG - PRUDENCIAL                                                                                                      |6182422980c3043455096a83316efc1529cff5c7|\n",
      "|S3     |49336860|ING - PRUDENCIAL                                                                                                          |7fcfb4b3d61e52b36a34ba0e18eb9dfcd310163f|\n",
      "|S3     |33172537|JP MORGAN CHASE - PRUDENCIAL                                                                                              |83819fae4ad1db2d10265578d60d872ab669b1bc|\n",
      "|S3     |17184037|MERCANTIL DO BRASIL - PRUDENCIAL                                                                                          |0ef0f0f4e26b503c8cba160f1c2b7be29cba5581|\n",
      "|S3     |60814191|MERCEDES-BENZ - PRUDENCIAL                                                                                                |9d6c6c2913933329faa1383070a3ab3aac8b510f|\n",
      "|S3     |02801938|MORGAN STANLEY - PRUDENCIAL                                                                                               |56b7f9d64bccd8319726eb351e6ea4afd385ec9e|\n",
      "|S3     |92894922|ORIGINAL - PRUDENCIAL                                                                                                     |c211c747fb59b257f53d4901f1e3e942d036534b|\n",
      "|S3     |59285411|PAN                                                                                                                       |76aeac1ef0ae0279dde1a672b2d3b38d502762cd|\n",
      "|S3     |62144175|PINE - PRUDENCIAL                                                                                                         |7e177319f2cdc003130185842d944284e3c26879|\n",
      "|S3     |01181521|SICREDI - PRUDENCIAL                                                                                                      |81cd2ddb9c47d0fdd7e1f5d825ad53ae42947d0f|\n",
      "|S3     |61533584|SOCIETE GENERALE - PRUDENCIAL                                                                                             |eec4b0702dde2ae9b5099da020299938eb37fe51|\n",
      "|S3     |59109165|VOLKSWAGEN - PRUDENCIAL                                                                                                   |7879a328ae2286e08351520384b0b2aa1b39695a|\n",
      "|S4     |33824012|ADVALOR DTVM LTDA                                                                                                         |210833d0a6fff07437722e8838f9ba7a6d3efb9b|\n",
      "|S4     |92856905|ADVANCED CC LTDA                                                                                                          |f5943d2869d05f08d8b01170c33f03e26f12c31e|\n",
      "|S4     |10663610|AF DESENVOLVE SP S.A.                                                                                                     |29968bb6862da9bc963039a82af6a9daa2173b9d|\n",
      "|S4     |82937293|AF DO ESTADO DE SC S.A.                                                                                                   |c455e761dfee29c677544b678cada901482a0dd0|\n",
      "|S4     |13178690|AF ESTADO DE PERNAMBUCO S.A.                                                                                              |7aeb351d132744eb67434a06cb924bc455dd7007|\n",
      "|S4     |03584906|AF PARAN�                                                                                                                 |dfca2968996ac65c72bdf7c5733b4ff633fe3221|\n",
      "|S4     |10769660|AFAL S.A.                                                                                                                 |415b448f2e0001628ca03da3e9e7310b4ecbbba3|\n",
      "|S4     |03183937|AFEAM                                                                                                                     |34d9fc72b6d14732a33521b5ed43116530ce6218|\n",
      "|S4     |02929977|AG. FOMENTO AMAPA S.A.                                                                                                    |92dba6331799db9b7ff6be6c1e0b587675be5bbb|\n",
      "|S4     |03058464|AG. FOMENTO ESTADO DE RORAIMA                                                                                             |ecd302a442bcf3764199e28c51067f04032d021d|\n",
      "|S4     |05474540|AG. FOMENTO ESTADO DO TOCANTINS                                                                                           |aa052900c7540d619b91689f834492afc652e39d|\n",
      "|S4     |03848103|AGENCIA DE FOMENTO DO RN S.A.                                                                                             |ccc9c7bcdc405e52ac1889bb1d847cef3077b2fa|\n",
      "|S4     |06284531|AG�NCIA DE FOMENTO MATO GROSSO                                                                                            |bfa2d44a147b09fee26b1937d6ea7a4a77841caa|\n",
      "|S4     |05940203|AGENCIA FOMENTO EST RJ S.A.                                                                                               |b19101221468d2f40c861041e9a02dd58f71482c|\n",
      "|S4     |03918382|AGENCIA FOMENTO GOIAS                                                                                                     |a07604db97a23fe55569860270008ea804e38a50|\n",
      "|S4     |10664513|AGIPLAN FINANCEIRA S.A. - CFI - PRUDENCIAL                                                                                |e84ed432df16a53e1e0202622a5f402f1bdc650a|\n",
      "|S4     |00250699|AGK CC S.A.                                                                                                               |847405d6e7b0578472230b14a9679252739f3d1e|\n",
      "|S4     |36321990|AGORACRED S/A SCFI                                                                                                        |b5a8f0808f253ba305496155fa6fd50f449e5846|\n",
      "|S4     |02678955|AKRO DTVM S.A.                                                                                                            |ac8c4964398c1ef37d33f66478632377b3e271cf|\n",
      "|S4     |05452073|ALBATROSS CCV S.A                                                                                                         |78fece0b761ae615f4b9a7deb13132cac51fb864|\n",
      "|S4     |03882245|ALPES CCTVM LTDA                                                                                                          |f6d37d6c74f8ada01d605af3da76d02c0ee5d9c3|\n",
      "|S4     |17312661|AMARIL FRANKLIN CTV LTDA                                                                                                  |f71fb92d43e4adaefbf845effc0820295ff852b6|\n",
      "|S4     |16927221|AMAZ�NIA CC LTDA.                                                                                                         |104033d086d3a1fc7104474382d56e1fc72b1f71|\n",
      "|S4     |48795256|ANDBANK - PRUDENCIAL                                                                                                      |aaeb93b3d24cd10936be9e58e140705007d142bf|\n",
      "|S4     |12719654|APEAL CREDITO IMOBILIARIO S/A                                                                                             |b4365c7b9c579ed43f742dd3398dbcebb2aede4f|\n",
      "|S4     |04684647|ARC CORRETORA CAMBIO S.A.                                                                                                 |b743e507a3d8159367775de9687969dc7098c688|\n",
      "|S4     |14425205|�TICO DTVM LTDA.                                                                                                          |318794f9603539e8188340effe6e34c403725e9e|\n",
      "|S4     |33775974|ATIVA S.A. INVESTIMENTOS CCTVM                                                                                            |b259b08fd16f18deaa85f5158da12536e023c850|\n",
      "|S4     |05956581|ATRIA S.A. - CFI                                                                                                          |78698b210f267e2a081982903750b3091e852069|\n",
      "|S4     |03443143|AVIPAM CC LTDA.                                                                                                           |f0a3a6b43100cfb741c6826f22f40bf77e01a7b0|\n",
      "|S4     |23862762|AVISTA S.A. CFI                                                                                                           |f3a70a62c6b72164cf0775d17ee3810c89e46d04|\n",
      "|S4     |25280945|AVS CC LTDA.                                                                                                              |57e0fec8de69882a4dab0fadb769f69cc3688855|\n",
      "|S4     |73622748|B & T ASSOCIADOS CC LTDA.                                                                                                 |8166223fb0ca31620ca6c342b4aa9c454b99c42d|\n",
      "|S4     |02885855|BADESUL DESENVOLVIMENTO AF/RS                                                                                             |03126bdb1b935dac3fd601638ffe3f9e2ae81b2b|\n",
      "|S4     |61688131|BALUARTE SA CC                                                                                                            |9db6c827570c28aca4743f4c1ab395d44928059c|\n",
      "|S4     |00997185|BANCO BM&FBOVESPA - PRUDENCIAL                                                                                            |8896a91e54d730ab953d2a8b1a817f5e2bb5e58f|\n",
      "|S4     |62237425|BANCO FIDIS - PRUDENCIAL                                                                                                  |885246467390cce9fe03d8d5b6b5297cf40ed835|\n",
      "|S4     |34270520|BANCO IBM S.A. - PRUDENCIAL                                                                                               |ad79fa1b03dab5a0a6d244d7d876c221342d31bb|\n",
      "|S4     |23903068|BANCO KOMATSU DO BRASIL - PRUDENCIAL                                                                                      |daa3e049d7248f993b76a3aab09194c59668b002|\n",
      "|S4     |07441209|BANCO MONEO S.A. - PRUDENCIAL                                                                                             |4db725a511e233c565154c78c551939da27e0897|\n",
      "|S4     |40429946|BANCO PORTO REAL DE INVEST.S.A - PRUDENCIAL                                                                               |932f9a32bdf08a3b23277ed8e3e12e578b37b0b9|\n",
      "|S4     |00517645|BANCO RIBEIR�O PRETO - PRUDENCIAL                                                                                         |dd403dee9fce0dd1e4abcc6684c519d93236a4dd|\n",
      "|S4     |00795423|BANCO SEMEAR - PRUDENCIAL                                                                                                 |6ec95db7854079f07f13942396ec6e4f27f47b59|\n",
      "|S4     |07679404|BANCO TOP�ZIO S.A. - PRUDENCIAL                                                                                           |ec8e0018f3a8182a6321886403f6e6c458ec5f0a|\n",
      "|S4     |09526594|BANCO VIPAL - PRUDENCIAL                                                                                                  |d67965987ab099fff25d952319071fb6e56dd7f1|\n",
      "|S4     |33884941|BANIF - PRUDENCIAL                                                                                                        |3175feac1ffe48ac2d12b9f42172c6341a6d893e|\n",
      "|S4     |61146577|BARCLAYS - PRUDENCIAL                                                                                                     |b6b9b1183a787e35f160c558e296aca5d1cbf741|\n",
      "|S4     |00556603|BARIGUI                                                                                                                   |810bd04c8a76352f40c92899277ae86a1de8d9fa|\n",
      "+-------+--------+--------------------------------------------------------------------------------------------------------------------------+----------------------------------------+\n",
      "only showing top 100 rows\n",
      "\n"
     ]
    }
   ],
   "source": [
    "trzd_bank.show(100, truncate=False)"
   ]
  },
  {
   "cell_type": "code",
   "execution_count": 31,
   "metadata": {},
   "outputs": [],
   "source": [
    "## salvar em parquet"
   ]
  },
  {
   "cell_type": "markdown",
   "metadata": {},
   "source": [
    "### **Employees**"
   ]
  },
  {
   "cell_type": "code",
   "execution_count": 68,
   "metadata": {},
   "outputs": [],
   "source": [
    "trzd_employee = rwzd_employee"
   ]
  },
  {
   "cell_type": "code",
   "execution_count": 69,
   "metadata": {},
   "outputs": [],
   "source": [
    "trzd_employee = trzd_employee.withColumnsRenamed({\n",
    "    'employer-website': 'employer_website',\n",
    "    'employer-headquarters': 'employer_headquarters',\n",
    "    'employer-founded': 'employer_founded',\n",
    "    'employer-industry': 'employer_industry',\n",
    "    'employer-revenue': 'employer_revenue',\n",
    "    'Geral': 'general_score',\n",
    "    'Cultura e valores': 'culture_values_score',\n",
    "    'Diversidade e inclusão': 'diversity_inclusion_score',\n",
    "    'Qualidade de vida': 'life_quality_score',\n",
    "    'Alta liderança': 'senior_leadership_score',\n",
    "    'Remuneração e benefícios': 'compensation_benefits_score',\n",
    "    'Oportunidades de carreira': 'career_opportunities_score',\n",
    "    'Recomendam para outras pessoas(%)': 'recommendation_score',\n",
    "    'Perspectiva positiva da empresa(%)': 'company_positive_score',\n",
    "    'Segmento': 'segment',\n",
    "    'Nome': 'financial_institution_name'\n",
    "})"
   ]
  },
  {
   "cell_type": "code",
   "execution_count": 70,
   "metadata": {},
   "outputs": [],
   "source": [
    "trzd_employee = trzd_employee.withColumn('employer_founded', regexp_replace(col('employer_founded'), r'\\..*', ''))"
   ]
  },
  {
   "cell_type": "code",
   "execution_count": 71,
   "metadata": {},
   "outputs": [],
   "source": [
    "trzd_employee = trzd_employee \\\n",
    "    .withColumn('sk_financial_institution_name', unaccent(col('financial_institution_name'))) \\\n",
    "    .withColumn('sk_financial_institution_name', lower(col('sk_financial_institution_name'))) \\\n",
    "    .withColumn('sk_financial_institution_name', regexp_replace(col('sk_financial_institution_name'), r' ', '')) \\\n",
    "    .withColumn('sk_financial_institution_name', sha1(col('sk_financial_institution_name')))"
   ]
  },
  {
   "cell_type": "code",
   "execution_count": 72,
   "metadata": {},
   "outputs": [],
   "source": [
    "trzd_employee = trzd_employee \\\n",
    "    .withColumn('reviews_count', col('reviews_count').cast(IntegerType())) \\\n",
    "    .withColumn('culture_count', col('culture_count').cast(IntegerType())) \\\n",
    "    .withColumn('salaries_count', col('salaries_count').cast(IntegerType())) \\\n",
    "    .withColumn('benefits_count', col('benefits_count').cast(IntegerType())) \\\n",
    "    .withColumn('general_score', col('general_score').cast(FloatType())) \\\n",
    "    .withColumn('culture_values_score', col('culture_values_score').cast(FloatType())) \\\n",
    "    .withColumn('diversity_inclusion_score', col('diversity_inclusion_score').cast(FloatType())) \\\n",
    "    .withColumn('life_quality_score', col('life_quality_score').cast(FloatType())) \\\n",
    "    .withColumn('senior_leadership_score', col('senior_leadership_score').cast(FloatType())) \\\n",
    "    .withColumn('compensation_benefits_score', col('compensation_benefits_score').cast(FloatType())) \\\n",
    "    .withColumn('career_opportunities_score', col('career_opportunities_score').cast(FloatType())) \\\n",
    "    .withColumn('recommendation_score', col('recommendation_score').cast(FloatType())) \\\n",
    "    .withColumn('company_positive_score', col('company_positive_score').cast(FloatType())) \\\n",
    "    .withColumn('match_percent', col('match_percent').cast(IntegerType()))"
   ]
  },
  {
   "cell_type": "code",
   "execution_count": 73,
   "metadata": {},
   "outputs": [
    {
     "name": "stdout",
     "output_type": "stream",
     "text": [
      "+-------------------------------+-------------+-------------+--------------+--------------+---------------------------------------------------+---------------------------+----------------+-----------------------------------------------------------------------------------+---------------------------+-----------------------------------------------------------------------------------------------------------------------+-------------+--------------------+-------------------------+------------------+-----------------------+---------------------------+--------------------------+--------------------+----------------------+-------+--------------------------------------------------+-------------+----------------------------------------+\n",
      "|employer_name                  |reviews_count|culture_count|salaries_count|benefits_count|employer_website                                   |employer_headquarters      |employer_founded|employer_industry                                                                  |employer_revenue           |url                                                                                                                    |general_score|culture_values_score|diversity_inclusion_score|life_quality_score|senior_leadership_score|compensation_benefits_score|career_opportunities_score|recommendation_score|company_positive_score|segment|financial_institution_name                        |match_percent|sk_financial_institution_name           |\n",
      "+-------------------------------+-------------+-------------+--------------+--------------+---------------------------------------------------+---------------------------+----------------+-----------------------------------------------------------------------------------+---------------------------+-----------------------------------------------------------------------------------------------------------------------+-------------+--------------------+-------------------------+------------------+-----------------------+---------------------------+--------------------------+--------------------+----------------------+-------+--------------------------------------------------+-------------+----------------------------------------+\n",
      "|Banco Alfa                     |175          |74           |271           |105           |http://www.alfanet.com.br                          |São Paulo, Brasil          |1925            |/Explorar/melhores-serviços-bancários-e-de-crédito-empresas_II.9,40_IIND200048.htm |Desconhecida/não se aplica |https://www.glassdoor.com.br/Vis%C3%A3o-geral/Trabalhar-na-Banco-Alfa-EI_IE817306.13,23.htm                            |3.5          |3.2                 |3.2                      |3.1               |2.8                    |3.8                        |2.7                       |68.0                |47.0                  |S3     |ALFA                                              |100          |1f7d72cc0ecb87cb6225c2979f3ccbeaf7cd0c33|\n",
      "|Apex Group                     |432          |271          |561           |74            |http://www.apexgroup.com                           |Hamilton, Bermuda          |2003            |/Explorar/melhores-gestão-de-ativos-e-investimentos-empresas_II.9,41_IIND200146.htm|Mais de US$ 10 bilhões     |https://www.glassdoor.com.br/Vis%C3%A3o-geral/Trabalhar-na-Apex-Group-EI_IE764729.13,23.htm                            |3.2          |2.9                 |3.4                      |3.0               |2.9                    |2.7                        |3.2                       |50.0                |52.0                  |S3     |APE POUPEX                                        |70           |c07f6f4d0b064ee3a4bdea1c8ae43627d08ecc42|\n",
      "|Banco Daycoval                 |300          |157          |521           |107           |https://www.daycoval.com.br                        |São Paulo, Brasil          |1971            |/Explorar/melhores-serviços-bancários-e-de-crédito-empresas_II.9,40_IIND200048.htm |De US$ 25 a US$ 100 milhões|https://www.glassdoor.com.br/Vis%C3%A3o-geral/Trabalhar-na-Banco-Daycoval-EI_IE1480352.13,27.htm                       |4.0          |3.7                 |3.6                      |3.4               |3.3                    |4.1                        |3.4                       |78.0                |72.0                  |S3     |BANCO DAYCOVAL S.A                                |100          |232138ec23a9f84ca4604fb3f5e5293f3a85b571|\n",
      "|Banco do Brasil                |5000         |1100         |9200          |1200          |https://www.bb.com.br                              |Brasília, Brasil           |1808            |/Explorar/melhores-serviços-bancários-e-de-crédito-empresas_II.9,40_IIND200048.htm |Desconhecida/não se aplica |https://www.glassdoor.com.br/Vis%C3%A3o-geral/Trabalhar-na-Banco-do-Brasil-EI_IE3945.13,28.htm                         |4.3          |3.9                 |4.0                      |3.7               |3.5                    |4.2                        |3.8                       |86.0                |72.0                  |S1     |BANCO DO BRASIL                                   |100          |42151eaf691e06db20f0a70676f6115ad7679454|\n",
      "|Banco do Nordeste do Brasil    |525          |113          |840           |115           |http://www.bnb.gov.br                              |Fortaleza, Brasil          |null            |/Explorar/melhores-gestão-de-ativos-e-investimentos-empresas_II.9,41_IIND200146.htm|Desconhecido/Não se aplica |https://www.glassdoor.com.br/Vis%C3%A3o-geral/Trabalhar-na-Banco-do-Nordeste-do-Brasil-EI_IE436304.13,40.htm           |4.5          |4.4                 |4.3                      |4.3               |4.1                    |4.2                        |4.0                       |90.0                |83.0                  |S2     |BANCO DO NORDESTE DO BRASIL S.A.                  |100          |bb953b4df7711bcfb088e1ded4bf13761c4c5aed|\n",
      "|Banco Fibra                    |119          |41           |172           |37            |http://www.bancofibra.com.br                       |São Paulo, Brasil          |null            |/Explorar/melhores-serviços-bancários-e-de-crédito-empresas_II.9,40_IIND200048.htm |Desconhecida/não se aplica |https://www.glassdoor.com.br/Vis%C3%A3o-geral/Trabalhar-na-Banco-Fibra-EI_IE744986.13,24.htm                           |4.3          |4.3                 |4.3                      |3.8               |3.7                    |4.2                        |3.6                       |87.0                |84.0                  |S3     |BANCO FIBRA S.A.                                  |100          |359326cf4de50a99ccf55a8b17f67ab96b820c63|\n",
      "|Sumitomo Mitsui Financial Group|903          |246          |1300          |290           |http://www.smfg.co.jp                              |Tóquio, Japão              |1996            |/Explorar/melhores-gestão-de-ativos-e-investimentos-empresas_II.9,41_IIND200146.htm|Mais de US$ 10 bilhões     |https://www.glassdoor.com.br/Vis%C3%A3o-geral/Trabalhar-na-Sumitomo-Mitsui-Financial-Group-EI_IE256138.13,44.htm       |3.4          |3.3                 |3.2                      |3.4               |3.1                    |3.3                        |3.1                       |56.0                |54.0                  |S3     |BANCO SUMITOMO MITSUI BRASIL S.A.                 |65           |e8bb4099d510fb0723280776a823d9c2deb96bc3|\n",
      "|Bank Of Tokyo-Mitsubishi UFJ   |770          |150          |1100          |228           |http://www.bk.mufg.jp/global                       |Tóquio, Japão              |1919            |/Explorar/melhores-gestão-de-ativos-e-investimentos-empresas_II.9,41_IIND200146.htm|Mais de US$ 10 bilhões     |https://www.glassdoor.com.br/Vis%C3%A3o-geral/Trabalhar-na-Bank-Of-Tokyo-Mitsubishi-UFJ-EI_IE240039.13,41.htm          |3.6          |3.6                 |3.5                      |3.4               |3.3                    |3.6                        |3.3                       |65.0                |43.0                  |S3     |BANCO TOKYO-MITSUBISHI BM S.A.                    |80           |2f619fdb380821d4ff43b3ab9c0b898e3131702b|\n",
      "|Banrisul                       |1000         |155          |1700          |127           |http://www.banrisul.com.br                         |Porto Alegre, Brasil       |null            |/Explorar/melhores-serviços-bancários-e-de-crédito-empresas_II.9,40_IIND200048.htm |De US$ 25 a US$ 100 milhões|https://www.glassdoor.com.br/Vis%C3%A3o-geral/Trabalhar-na-Banrisul-EI_IE678973.13,21.htm                              |4.2          |3.6                 |3.8                      |3.7               |3.4                    |4.1                        |3.3                       |84.0                |59.0                  |S2     |BANRISUL                                          |100          |78d8b8b937435d027cb18df07eff064b35448892|\n",
      "|Banco BMG                      |445          |232          |704           |277           |http://www.bancobmg.com.br                         |São Paulo, Brasil          |1930            |/Explorar/melhores-serviços-bancários-e-de-crédito-empresas_II.9,40_IIND200048.htm |De US$ 1 a US$ 5 milhões   |https://www.glassdoor.com.br/Vis%C3%A3o-geral/Trabalhar-na-Banco-BMG-EI_IE2482923.13,22.htm                            |4.1          |3.9                 |4.1                      |3.7               |3.6                    |4.2                        |3.5                       |79.0                |63.0                  |S3     |BMG                                               |100          |c89e80ee154b6215c5dc790d93590f620e1ec45d|\n",
      "|BNP Paribas                    |13000        |4100         |20000         |3600          |http://www.group.bnpparibas                        |Paris, França              |2000            |/Explorar/melhores-serviços-bancários-e-de-crédito-empresas_II.9,40_IIND200048.htm |Mais de US$ 10 bilhões     |https://www.glassdoor.com.br/Vis%C3%A3o-geral/Trabalhar-na-BNP-Paribas-EI_IE10342.13,24.htm                            |3.8          |3.7                 |4.0                      |3.8               |3.4                    |3.4                        |3.5                       |77.0                |63.0                  |S3     |BNP PARIBAS                                       |100          |0612d12173005ce00d9c10800a27985a1e75997e|\n",
      "|Merrill Lynch                  |5600         |1200         |9900          |1200          |http://www.ml.com                                  |New York, Estados Unidos   |1820            |/Explorar/melhores-gestão-de-ativos-e-investimentos-empresas_II.9,41_IIND200146.htm|Mais de US$ 10 bilhões     |https://www.glassdoor.com.br/Vis%C3%A3o-geral/Trabalhar-na-Merrill-Lynch-EI_IE440.13,26.htm                            |3.8          |3.6                 |3.9                      |3.5               |3.5                    |3.8                        |3.8                       |66.0                |61.0                  |S3     |BOFA MERRILL LYNCH                                |84           |ad83ef23a768f6e7d3177561c9d2d02124205837|\n",
      "|Banco Bradesco                 |11000        |3300         |19000         |3200          |http://www.bancobradesco.com.br                    |Osasco, Brasil             |1943            |/Explorar/melhores-serviços-bancários-e-de-crédito-empresas_II.9,40_IIND200048.htm |Mais de US$ 10 bilhões     |https://www.glassdoor.com.br/Vis%C3%A3o-geral/Trabalhar-na-Banco-Bradesco-EI_IE10997.13,27.htm                         |4.2          |3.8                 |3.9                      |3.4               |3.4                    |4.3                        |3.8                       |81.0                |66.0                  |S1     |BRADESCO                                          |100          |dd2b7d97678a3cb8b5a9f5e5bf60907d29293298|\n",
      "|BTG Pactual                    |1600         |683          |2800          |635           |http://www.btgpactual.com                          |São Paulo, Brasil          |null            |/Explorar/melhores-gestão-de-ativos-e-investimentos-empresas_II.9,41_IIND200146.htm|Desconhecida/não se aplica |https://www.glassdoor.com.br/Vis%C3%A3o-geral/Trabalhar-na-BTG-Pactual-EI_IE411540.13,24.htm                           |4.0          |3.7                 |3.5                      |2.8               |3.7                    |4.4                        |4.2                       |78.0                |73.0                  |S1     |BTG PACTUAL                                       |100          |cdd80a41f223ad9a4236b42c6c1c465c41908aed|\n",
      "|Caixa Econômica Federal        |4000         |717          |7300          |857           |http://www.caixa.gov.br                            |BRASILIA, Brasil           |null            |/Explorar/melhores-serviços-bancários-e-de-crédito-empresas_II.9,40_IIND200048.htm |Desconhecida/não se aplica |https://www.glassdoor.com.br/Vis%C3%A3o-geral/Trabalhar-na-Caixa-Econ%C3%B4mica-Federal-EI_IE41924.13,36.htm           |4.4          |3.8                 |4.2                      |3.7               |3.5                    |4.3                        |3.9                       |86.0                |72.0                  |S1     |CAIXA ECONOMICA FEDERAL                           |98           |307cc3e3d4901086018a2a686a6ff2669f40ee7d|\n",
      "|China Construction Bank        |871          |194          |720           |240           |http://www.ccb.com                                 |Pequim, China              |null            |/Explorar/melhores-serviços-bancários-e-de-crédito-empresas_II.9,40_IIND200048.htm |Mais de US$ 10 bilhões     |https://www.glassdoor.com.br/Vis%C3%A3o-geral/Trabalhar-na-China-Construction-Bank-EI_IE12617.13,36.htm                |3.4          |3.0                 |2.9                      |3.4               |2.9                    |3.5                        |2.8                       |54.0                |42.0                  |S3     |CHINA CONSTRUCTION BANK (BRASIL) BANCO MULTIPLO S/|77           |4136dfdb7c547ec3bc0f1bc07e330b031ce0d197|\n",
      "|Citi                           |31000        |8900         |52000         |9900          |http://www.citigroup.com                           |New York, Estados Unidos   |1812            |/Explorar/melhores-gestão-de-ativos-e-investimentos-empresas_II.9,41_IIND200146.htm|Mais de US$ 10 bilhões     |https://www.glassdoor.com.br/citi                                                                                      |3.9          |3.8                 |4.1                      |3.5               |3.5                    |3.8                        |3.9                       |76.0                |68.0                  |S2     |CITIBANK                                          |100          |fb91dc3beccbe69ffbccc745ccf8c66447d3aaa9|\n",
      "|Credit Suisse                  |11000        |3400         |22000         |2900          |http://www.credit-suisse.com                       |Zurique, Suíça             |1856            |/Explorar/melhores-gestão-de-ativos-e-investimentos-empresas_II.9,41_IIND200146.htm|Mais de US$ 10 bilhões     |https://www.glassdoor.com.br/Vis%C3%A3o-geral/Trabalhar-na-Credit-Suisse-EI_IE3141.13,26.htm                           |3.8          |3.8                 |4.1                      |3.9               |3.3                    |3.6                        |3.7                       |68.0                |34.0                  |S2     |CREDIT SUISSE                                     |100          |5dbb7a49ed389ecd03bdddf70e44ee1026e1b48b|\n",
      "|Deutsche Bank                  |12000        |3200         |21000         |3100          |https://careers.db.com/                            |Frankfurt am Main, Alemanha|1870            |/Explorar/melhores-serviços-bancários-e-de-crédito-empresas_II.9,40_IIND200048.htm |Mais de US$ 10 bilhões     |https://www.glassdoor.com.br/Vis%C3%A3o-geral/Trabalhar-na-Deutsche-Bank-EI_IE3150.13,26.htm                           |3.9          |3.8                 |4.0                      |3.8               |3.5                    |3.6                        |3.7                       |78.0                |70.0                  |S3     |DEUTSCHE                                          |100          |b21c4ab5b9d00b8b3b844369172e2a1c92296c10|\n",
      "|Goldman Sachs                  |17000        |4400         |36000         |4100          |http://www.goldmansachs.com                        |New York, Estados Unidos   |1869            |/Explorar/melhores-gestão-de-ativos-e-investimentos-empresas_II.9,41_IIND200146.htm|Mais de US$ 10 bilhões     |https://www.glassdoor.com.br/Vis%C3%A3o-geral/Trabalhar-na-Goldman-Sachs-EI_IE2800.13,26.htm                           |3.9          |3.7                 |4.0                      |2.9               |3.5                    |3.8                        |4.0                       |72.0                |63.0                  |S3     |GOLDMAN SACHS                                     |100          |13b9767f731eb940765c210edf044efc949c5b09|\n",
      "|ING                            |4500         |1500         |7600          |1100          |http://www.ing.com/en.htm                          |Amsterdão, Países Baixos   |1900            |/Explorar/melhores-gestão-de-ativos-e-investimentos-empresas_II.9,41_IIND200146.htm|De US$ 5 a US$ 25 milhões  |https://www.glassdoor.com.br/Vis%C3%A3o-geral/Trabalhar-na-ING-EI_IE4264.13,16.htm                                     |4.1          |4.1                 |4.2                      |4.1               |3.6                    |3.8                        |3.8                       |83.0                |73.0                  |S3     |ING                                               |100          |d6d989ed83e48a300f2c6d5e66e0ffe9f4e6e11b|\n",
      "|Itau                           |22000        |7500         |38000         |7500          |http://www.itau.com.br                             |São Paulo, Brasil          |1903            |/Explorar/melhores-serviços-bancários-e-de-crédito-empresas_II.9,40_IIND200048.htm |Mais de US$ 10 bilhões     |https://www.glassdoor.com.br/Vis%C3%A3o-geral/Trabalhar-na-Ita%C3%BA-Unibanco-Ita%C3%BA-BBA-e-Rede-EI_IE10999.13,42.htm|4.5          |4.3                 |4.4                      |3.9               |4.0                    |4.6                        |4.2                       |91.0                |82.0                  |S1     |ITAU                                              |100          |63c61f41bb7599ec7690876172c5fbf0b5a30c9c|\n",
      "|JPMorgan Chase & Co            |22000        |8800         |65000         |9600          |https://www.jpmorganchase.com/                     |New York, Estados Unidos   |1799            |/Explorar/melhores-serviços-bancários-e-de-crédito-empresas_II.9,40_IIND200048.htm |Mais de US$ 10 bilhões     |https://www.glassdoor.com.br/Vis%C3%A3o-geral/Trabalhar-na-JPMorgan-Chase-and-Co-EI_IE5224839.13,34.htm                |4.0          |4.0                 |4.2                      |3.6               |3.6                    |3.9                        |4.0                       |80.0                |76.0                  |S3     |JP MORGAN CHASE                                   |88           |261a86d456101baf738de10731a5422cacc2dd0d|\n",
      "|Mercedes-Benz Mobility         |282          |90           |513           |118           |https://www.mercedes-benz-mobility.com/de/karriere/|Estugarda, Alemanha        |1990            |/Explorar/melhores-serviços-bancários-e-de-crédito-empresas_II.9,40_IIND200048.htm |Mais de US$ 10 bilhões     |https://www.glassdoor.com.br/Vis%C3%A3o-geral/Trabalhar-na-Mercedes-Benz-Mobility-EI_IE38563.13,35.htm                 |4.1          |4.1                 |4.0                      |4.4               |3.8                    |4.0                        |3.6                       |86.0                |56.0                  |S3     |MERCEDES-BENZ                                     |73           |dfa4386abf783f3f422225001adba3febc105a50|\n",
      "|Morgan Stanley                 |17000        |4600         |33000         |4800          |http://www.morganstanley.com                       |New York, Estados Unidos   |1935            |/Explorar/melhores-gestão-de-ativos-e-investimentos-empresas_II.9,41_IIND200146.htm|Mais de US$ 10 bilhões     |https://www.glassdoor.com.br/Vis%C3%A3o-geral/Trabalhar-na-Morgan-Stanley-EI_IE2282.13,27.htm                          |4.0          |4.0                 |4.1                      |3.6               |3.7                    |3.7                        |3.9                       |81.0                |76.0                  |S3     |MORGAN STANLEY                                    |100          |1d8734ad81a470902eb81d837fe9b008dc337952|\n",
      "|Banco Original                 |651          |286          |1100          |261           |http://www.original.com.br                         |São Paulo, Brasil          |2016            |/Explorar/melhores-serviços-bancários-e-de-crédito-empresas_II.9,40_IIND200048.htm |Desconhecida/não se aplica |https://www.glassdoor.com.br/Vis%C3%A3o-geral/Trabalhar-na-Banco-Original-EI_IE1026577.13,27.htm                       |3.8          |3.4                 |3.5                      |3.4               |3.1                    |4.0                        |3.3                       |71.0                |53.0                  |S3     |ORIGINAL                                          |100          |d73ef92426f2b11dfc4aed4d4bfc41c49ee1087c|\n",
      "|Banco PAN                      |1100         |520          |1700          |493           |http://www.bancopan.com.br                         |São Paulo, Brasil          |2011            |/Explorar/melhores-serviços-bancários-e-de-crédito-empresas_II.9,40_IIND200048.htm |Desconhecida/não se aplica |https://www.glassdoor.com.br/Vis%C3%A3o-geral/Trabalhar-na-Banco-PAN-EI_IE1184444.13,22.htm                            |4.4          |4.2                 |4.4                      |3.9               |3.9                    |4.6                        |4.0                       |91.0                |79.0                  |S3     |PAN                                               |100          |bd2bd8216b9cb4aa5a12daa6cfc98eef2ee20e56|\n",
      "|Banco Pine                     |121          |45           |216           |63            |http://www.pine.com                                |São Paulo, Brasil          |1997            |/Explorar/melhores-serviços-bancários-e-de-crédito-empresas_II.9,40_IIND200048.htm |Desconhecida/não se aplica |https://www.glassdoor.com.br/Vis%C3%A3o-geral/Trabalhar-na-Banco-Pine-EI_IE1086238.13,23.htm                           |3.8          |3.5                 |3.5                      |3.4               |3.0                    |3.9                        |3.5                       |71.0                |50.0                  |S3     |PINE                                              |100          |2d02a8f51cd38317c6edaf9962e246af47600f8c|\n",
      "|Santander                      |17000        |5900         |29000         |5100          |http://www.santandercareers.com                    |Madrid, Espanha            |1856            |/Explorar/melhores-serviços-bancários-e-de-crédito-empresas_II.9,40_IIND200048.htm |Mais de US$ 10 bilhões     |https://www.glassdoor.com.br/Vis%C3%A3o-geral/Trabalhar-na-Santander-EI_IE828048.13,22.htm                             |3.9          |3.7                 |4.0                      |3.4               |3.4                    |4.0                        |3.8                       |75.0                |65.0                  |S1     |SANTANDER                                         |100          |263594ba73ade3fa2b3a121a3334f1a808479148|\n",
      "|Sicredi                        |2900         |1300         |4800          |1100          |http://www.sicredi.com.br                          |Porto Alegre, Brasil       |1903            |/Explorar/melhores-serviços-bancários-e-de-crédito-empresas_II.9,40_IIND200048.htm |Mais de US$ 10 bilhões     |https://www.glassdoor.com.br/Vis%C3%A3o-geral/Trabalhar-na-Sicredi-EI_IE661772.13,20.htm                               |4.4          |4.4                 |4.2                      |4.3               |3.9                    |4.1                        |4.1                       |89.0                |80.0                  |S3     |SICREDI                                           |100          |5f4981bfa44866b280a7f630a3a03a3fb3461345|\n",
      "|Société Générale               |11000        |3400         |16000         |2800          |http://www.societegenerale.com                     |Paris, França              |1864            |/Explorar/melhores-gestão-de-ativos-e-investimentos-empresas_II.9,41_IIND200146.htm|Mais de US$ 10 bilhões     |https://www.glassdoor.com.br/Vis%C3%A3o-geral/Trabalhar-na-Soci%C3%A9t%C3%A9-G%C3%A9n%C3%A9rale-EI_IE10350.13,29.htm   |3.7          |3.7                 |3.9                      |3.9               |3.3                    |3.3                        |3.5                       |75.0                |55.0                  |S3     |SOCIETE GENERALE                                  |86           |37cd191b7b4e28cf65968fb690d35c44186daddc|\n",
      "|Banco Votorantim               |1400         |563          |2100          |574           |http://www.bancobv.com.br                          |São Paulo, Brasil          |1991            |/Explorar/melhores-gestão-de-ativos-e-investimentos-empresas_II.9,41_IIND200146.htm|Desconhecida/não se aplica |https://www.glassdoor.com.br/Vis%C3%A3o-geral/Trabalhar-na-banco-BV-EI_IE333951.13,21.htm                              |4.4          |4.3                 |4.4                      |4.1               |3.9                    |4.6                        |3.9                       |93.0                |79.0                  |S2     |VOTORANTIM                                        |100          |009df97a71e97a8d0d3ef44ddae6c718968b2b0c|\n",
      "+-------------------------------+-------------+-------------+--------------+--------------+---------------------------------------------------+---------------------------+----------------+-----------------------------------------------------------------------------------+---------------------------+-----------------------------------------------------------------------------------------------------------------------+-------------+--------------------+-------------------------+------------------+-----------------------+---------------------------+--------------------------+--------------------+----------------------+-------+--------------------------------------------------+-------------+----------------------------------------+\n",
      "\n"
     ]
    }
   ],
   "source": [
    "trzd_employee.show(100, truncate=False)"
   ]
  },
  {
   "cell_type": "markdown",
   "metadata": {},
   "source": [
    "### **Claims**"
   ]
  },
  {
   "cell_type": "code",
   "execution_count": 94,
   "metadata": {},
   "outputs": [],
   "source": [
    "trzd_claim = rwzd_claim"
   ]
  },
  {
   "cell_type": "code",
   "execution_count": 95,
   "metadata": {},
   "outputs": [],
   "source": [
    "trzd_claim = trzd_claim.withColumnsRenamed({\n",
    "    'Ano': 'year_claim',\n",
    "    'Trimestre': 'quarter_claim',\n",
    "    'Categoria': 'category',\n",
    "    'Tipo': 'bank_type',\n",
    "    'CNPJ IF': 'cnpj',\n",
    "    'Instituição financeira': 'financial_institution_name',\n",
    "    'Índice': 'bank_index',\n",
    "    'Quantidade de reclamações reguladas procedentes': 'number_of_regulated_proceeding_complaints',\n",
    "    'Quantidade de reclamações reguladas - outras': 'number_of_regulated_other_complaints',\n",
    "    'Quantidade de reclamações não reguladas': 'number_of_unregulated_complaints',\n",
    "    'Quantidade total de reclamações': 'total_number_of_complaints',\n",
    "    'Quantidade total de clientes  CCS e SCR': 'total_number_of_ccs_and_scr_customers',\n",
    "    'Quantidade de clientes  CCS': 'number_of_ccs_customers',\n",
    "    'Quantidade de clientes  SCR': 'number_of_scr_customers'\n",
    "})"
   ]
  },
  {
   "cell_type": "code",
   "execution_count": 96,
   "metadata": {},
   "outputs": [],
   "source": [
    "trzd_claim = trzd_claim \\\n",
    "    .withColumn('bank_index', regexp_replace(col('bank_index'), r'\\.', '')) \\\n",
    "    .withColumn('bank_index', regexp_replace(col('bank_index'), r',', '.')) \\\n",
    "    .withColumn('bank_index', regexp_replace(col('bank_index'), r' ', '')) \\\n",
    "    .withColumn(\"bank_index\", col(\"bank_index\").cast(FloatType()))"
   ]
  },
  {
   "cell_type": "code",
   "execution_count": 97,
   "metadata": {},
   "outputs": [],
   "source": [
    "trzd_claim = trzd_claim.withColumn('quarter_claim', regexp_replace(col('quarter_claim'), 'º', ''))"
   ]
  },
  {
   "cell_type": "code",
   "execution_count": 98,
   "metadata": {},
   "outputs": [],
   "source": [
    "trzd_claim = trzd_claim \\\n",
    "    .withColumn('cnpj', when(col('cnpj') == ' ', lit(None).cast(StringType())) \\\n",
    "    .otherwise(lpad(col('cnpj'), 8, '0')))"
   ]
  },
  {
   "cell_type": "code",
   "execution_count": 99,
   "metadata": {},
   "outputs": [],
   "source": [
    "trzd_claim = trzd_claim \\\n",
    "    .withColumn('total_number_of_ccs_and_scr_customers', regexp_replace(col('total_number_of_ccs_and_scr_customers'), r' ', '')) \\\n",
    "    .withColumn(\"total_number_of_ccs_and_scr_customers\", col(\"total_number_of_ccs_and_scr_customers\").cast(IntegerType()))\n",
    "\n",
    "trzd_claim = trzd_claim \\\n",
    "    .withColumn('number_of_ccs_customers', regexp_replace(col('number_of_ccs_customers'), r' ', '')) \\\n",
    "    .withColumn(\"number_of_ccs_customers\", col(\"number_of_ccs_customers\").cast(IntegerType()))\n",
    "\n",
    "trzd_claim = trzd_claim \\\n",
    "    .withColumn('number_of_scr_customers', regexp_replace(col('number_of_scr_customers'), r' ', '')) \\\n",
    "    .withColumn(\"number_of_scr_customers\", col(\"number_of_scr_customers\").cast(IntegerType()))"
   ]
  },
  {
   "cell_type": "code",
   "execution_count": 100,
   "metadata": {},
   "outputs": [],
   "source": [
    "trzd_claim = trzd_claim \\\n",
    "    .withColumn('financial_institution_name', regexp_replace(col('financial_institution_name'), r' \\(conglomerado\\)', ''))"
   ]
  },
  {
   "cell_type": "code",
   "execution_count": 101,
   "metadata": {},
   "outputs": [],
   "source": [
    "bank_names = {\n",
    "    'BB': 'BANCO DO BRASIL',\n",
    "    'DAYCOVAL': 'BANCO DAYCOVAL S.A',\n",
    "    'DEUTSCHE BANK S.A. - BANCO ALEMAO': 'DEUTSCHE',\n",
    "    'BANCO SUMITOMO MITSUI BRASILEIRO S.A.': 'BANCO SUMITOMO MITSUI BRASIL S.A.'\n",
    "}\n",
    "\n",
    "trzd_claim = trzd_claim.na.replace(to_replace=bank_names, subset='financial_institution_name')"
   ]
  },
  {
   "cell_type": "code",
   "execution_count": 102,
   "metadata": {},
   "outputs": [],
   "source": [
    "trzd_claim = trzd_claim \\\n",
    "    .withColumn('sk_financial_institution_name', unaccent(col('financial_institution_name'))) \\\n",
    "    .withColumn('sk_financial_institution_name', lower(col('sk_financial_institution_name'))) \\\n",
    "    .withColumn('sk_financial_institution_name', regexp_replace(col('sk_financial_institution_name'), r' ', '')) \\\n",
    "    .withColumn('sk_financial_institution_name', sha1(col('sk_financial_institution_name')))"
   ]
  },
  {
   "cell_type": "code",
   "execution_count": 103,
   "metadata": {},
   "outputs": [],
   "source": [
    "trzd_claim = trzd_claim \\\n",
    "    .withColumn('quarter_claim', col('quarter_claim').cast(IntegerType())) \\\n",
    "    .withColumn('number_of_regulated_proceeding_complaints', col('number_of_regulated_proceeding_complaints').cast(IntegerType())) \\\n",
    "    .withColumn('number_of_regulated_other_complaints', col('number_of_regulated_other_complaints').cast(IntegerType())) \\\n",
    "    .withColumn('number_of_unregulated_complaints', col('number_of_unregulated_complaints').cast(IntegerType())) \\\n",
    "    .withColumn('total_number_of_complaints', col('total_number_of_complaints').cast(IntegerType()))\n",
    "    "
   ]
  },
  {
   "cell_type": "code",
   "execution_count": 104,
   "metadata": {},
   "outputs": [
    {
     "name": "stdout",
     "output_type": "stream",
     "text": [
      "root\n",
      " |-- year_claim: string (nullable = true)\n",
      " |-- quarter_claim: integer (nullable = true)\n",
      " |-- category: string (nullable = true)\n",
      " |-- bank_type: string (nullable = true)\n",
      " |-- cnpj: string (nullable = true)\n",
      " |-- financial_institution_name: string (nullable = true)\n",
      " |-- bank_index: float (nullable = true)\n",
      " |-- number_of_regulated_proceeding_complaints: integer (nullable = true)\n",
      " |-- number_of_regulated_other_complaints: integer (nullable = true)\n",
      " |-- number_of_unregulated_complaints: integer (nullable = true)\n",
      " |-- total_number_of_complaints: integer (nullable = true)\n",
      " |-- total_number_of_ccs_and_scr_customers: integer (nullable = true)\n",
      " |-- number_of_ccs_customers: integer (nullable = true)\n",
      " |-- number_of_scr_customers: integer (nullable = true)\n",
      " |-- sk_financial_institution_name: string (nullable = true)\n",
      "\n"
     ]
    }
   ],
   "source": [
    "trzd_claim.printSchema()"
   ]
  },
  {
   "cell_type": "code",
   "execution_count": 105,
   "metadata": {},
   "outputs": [
    {
     "name": "stdout",
     "output_type": "stream",
     "text": [
      "+----------+-------------+--------------------------------------------------------+----------------+--------+-----------------------------------------------------------------+----------+-----------------------------------------+------------------------------------+--------------------------------+--------------------------+-------------------------------------+-----------------------+-----------------------+----------------------------------------+\n",
      "|year_claim|quarter_claim|category                                                |bank_type       |cnpj    |financial_institution_name                                       |bank_index|number_of_regulated_proceeding_complaints|number_of_regulated_other_complaints|number_of_unregulated_complaints|total_number_of_complaints|total_number_of_ccs_and_scr_customers|number_of_ccs_customers|number_of_scr_customers|sk_financial_institution_name           |\n",
      "+----------+-------------+--------------------------------------------------------+----------------+--------+-----------------------------------------------------------------+----------+-----------------------------------------+------------------------------------+--------------------------------+--------------------------+-------------------------------------+-----------------------+-----------------------+----------------------------------------+\n",
      "|2022      |3            |Demais Bancos, Financeiras e Instituições de Pagamento  |Conglomerado    |null    |ABC-BRASIL                                                       |null      |4                                        |7                                   |3                               |14                        |50720                                |47485                  |6932                   |e59e75522e2fc29a497ee94dfac733ebe7557b68|\n",
      "|2022      |3            |Demais Bancos, Financeiras e Instituições de Pagamento  |Conglomerado    |null    |ABN AMRO                                                         |null      |0                                        |0                                   |1                               |1                         |0                                    |0                      |null                   |8338714698eef394edd888e566dc46b7ab398b89|\n",
      "|2022      |3            |Demais Bancos, Financeiras e Instituições de Pagamento  |Banco/financeira|13140088|ACESSO SOLUÇÕES DE PAGAMENTO S.A.                                |14.7      |75                                       |128                                 |9                               |212                       |5098671                              |5098661                |19396                  |61b2a2c1428f71dfe9944ab1e4d82fc8ed3c0f30|\n",
      "|2022      |3            |Demais Bancos, Financeiras e Instituições de Pagamento  |Conglomerado    |null    |AGIBANK                                                          |96.0      |182                                      |262                                 |95                              |539                       |1895683                              |1540134                |1176067                |9935e071203e03fbcf8bebc6bf6eed7f348e3a7a|\n",
      "|2022      |3            |Demais Bancos, Financeiras e Instituições de Pagamento  |Banco/financeira|36321990|AGORACRED S/A SOCIEDADE DE CRÉDITO, FINANCIAMENTO E INVESTIMENTO |null      |4                                        |4                                   |2                               |10                        |534795                               |133                    |534662                 |d14cba42359f43b5fbd61ee3d0faefaa73997b85|\n",
      "|2022      |3            |Demais Bancos, Financeiras e Instituições de Pagamento  |Banco/financeira|27214112|AL5 S.A. CRÉDITO, FINANCIAMENTO E INVESTIMENTO                   |null      |10                                       |3                                   |2                               |15                        |30959                                |19706                  |16841                  |c01ccc940cb107c1e48d2eef610c91c7d0354b2e|\n",
      "|2022      |3            |Demais Bancos, Financeiras e Instituições de Pagamento  |Conglomerado    |null    |ALFA                                                             |null      |23                                       |48                                  |9                               |80                        |436746                               |267423                 |170417                 |1f7d72cc0ecb87cb6225c2979f3ccbeaf7cd0c33|\n",
      "|2022      |3            |Demais Bancos, Financeiras e Instituições de Pagamento  |Banco/financeira|32778350|AME DIGITAL BRASIL INSTITUICAO DE PAGAMENTO LTDA                 |null      |6                                        |31                                  |90                              |127                       |0                                    |0                      |0                      |f8f9af44b3f97dd7db819a809a0276dac04b8a3c|\n",
      "|2022      |3            |Demais Bancos, Financeiras e Instituições de Pagamento  |Conglomerado    |null    |ANDBANK                                                          |null      |0                                        |2                                   |2                               |4                         |4302                                 |4302                   |29                     |5088734b4c248d158412deda8af1492eee65cb03|\n",
      "|2022      |3            |Demais Bancos, Financeiras e Instituições de Pagamento  |Banco/financeira|19540550|ASAAS GESTÃO FINANCEIRA INSTITUIÇÃO DE PAGAMENTO S.A.            |null      |8                                        |42                                  |5                               |55                        |404447                               |404447                 |null                   |3e3b9f0e236a30a4cd3f9665c970614154981183|\n",
      "|2022      |3            |Demais Bancos, Financeiras e Instituições de Pagamento  |Banco/financeira|54403563|BANCO ARBI S.A.                                                  |null      |14                                       |8                                   |0                               |22                        |84526                                |75882                  |10846                  |e3cb9e9282bd5a761688e082e08e9ed993ea3104|\n",
      "|2022      |3            |Demais Bancos, Financeiras e Instituições de Pagamento  |Banco/financeira|00997185|BANCO B3 S.A.                                                    |null      |0                                        |1                                   |1                               |2                         |896                                  |896                    |null                   |7e8f902d4d6c995810c0462128059ce675a5de22|\n",
      "|2022      |3            |Demais Bancos, Financeiras e Instituições de Pagamento  |Banco/financeira|02658435|BANCO CATERPILLAR S.A.                                           |null      |1                                        |0                                   |0                               |1                         |3325                                 |null                   |3325                   |22fef79897f86a01cc78c03842fbdc9ef066206d|\n",
      "|2022      |3            |Demais Bancos, Financeiras e Instituições de Pagamento  |Banco/financeira|33132044|BANCO CEDULA S.A.                                                |null      |0                                        |1                                   |1                               |2                         |18010                                |2805                   |15425                  |14bbd5e516b697080e89121043a0204023356e5a|\n",
      "|2022      |3            |Demais Bancos, Financeiras e Instituições de Pagamento  |Banco/financeira|02992446|BANCO CNH INDUSTRIAL CAPITAL S.A.                                |null      |0                                        |2                                   |2                               |4                         |28887                                |1290                   |27778                  |211fee3c9ff3b26ba0f252bd6834cdc36e7430fa|\n",
      "|2022      |3            |Demais Bancos, Financeiras e Instituições de Pagamento  |Banco/financeira|08357240|BANCO CSF S.A.                                                   |9.98      |77                                       |72                                  |43                              |192                       |7707988                              |null                   |7707988                |5e4ee65003ca624a51f5090a3f2cb286b66361c6|\n",
      "|2022      |3            |Demais Bancos, Financeiras e Instituições de Pagamento  |Banco/financeira|04902979|BANCO DA AMAZONIA S.A.                                           |null      |6                                        |7                                   |10                              |23                        |507169                               |507169                 |null                   |34c0e57ea367daa88fe3df56007ae13d33a606a1|\n",
      "|2022      |3            |Demais Bancos, Financeiras e Instituições de Pagamento  |Banco/financeira|33042151|BANCO DE LA NACION ARGENTINA                                     |null      |0                                        |2                                   |0                               |2                         |267                                  |255                    |22                     |d7423aaef9872f2dc2989f9459cdf57fdacf7a08|\n",
      "|2022      |3            |Demais Bancos, Financeiras e Instituições de Pagamento  |Banco/financeira|05040481|BANCO DE LAGE LANDEN BRASIL S.A.                                 |null      |0                                        |0                                   |1                               |1                         |35292                                |4                      |35289                  |0e2076ebec095174695aec6b3596ba37e53ca858|\n",
      "|2022      |3            |Demais Bancos, Financeiras e Instituições de Pagamento  |Banco/financeira|92874270|BANCO DIGIMAIS S.A.                                              |424.8     |132                                      |31                                  |33                              |196                       |310734                               |142304                 |203761                 |eabb2abc90c7b22c171638ee9337664fb73ef6e6|\n",
      "|2022      |3            |Demais Bancos, Financeiras e Instituições de Pagamento  |Banco/financeira|13009717|BANCO DO ESTADO DE SERGIPE S.A.                                  |164.66    |139                                      |44                                  |33                              |216                       |844129                               |844129                 |null                   |b144fd3dc1173d2981d22e4c442d38226f195ae7|\n",
      "|2022      |3            |Demais Bancos, Financeiras e Instituições de Pagamento  |Banco/financeira|04913711|BANCO DO ESTADO DO PARÁ S.A.                                     |56.38     |56                                       |28                                  |23                              |107                       |993127                               |869557                 |435700                 |4481d0bd78db2d0066d5c4f3d9f4bff212966e1d|\n",
      "|2022      |3            |Demais Bancos, Financeiras e Instituições de Pagamento  |Banco/financeira|07237373|BANCO DO NORDESTE DO BRASIL S.A.                                 |null      |9                                        |41                                  |48                              |98                        |9294372                              |8720080                |3310284                |bb953b4df7711bcfb088e1ded4bf13761c4c5aed|\n",
      "|2022      |3            |Demais Bancos, Financeiras e Instituições de Pagamento  |Banco/financeira|33644196|BANCO FATOR S.A.                                                 |null      |1                                        |0                                   |0                               |1                         |13172                                |13168                  |13                     |811c452d7ef335c885b99d25d02810c481053452|\n",
      "|2022      |3            |Demais Bancos, Financeiras e Instituições de Pagamento  |Banco/financeira|58616418|BANCO FIBRA S.A.                                                 |null      |0                                        |1                                   |0                               |1                         |163544                               |4432                   |159809                 |359326cf4de50a99ccf55a8b17f67ab96b820c63|\n",
      "|2022      |3            |Demais Bancos, Financeiras e Instituições de Pagamento  |Banco/financeira|53518684|BANCO HSBC S.A.                                                  |null      |0                                        |4                                   |8                               |12                        |3858                                 |3843                   |82                     |ac0b467f7c8694bf4a311f229f73222e56ea3300|\n",
      "|2022      |3            |Demais Bancos, Financeiras e Instituições de Pagamento  |Banco/financeira|04866275|BANCO INBURSA S.A.                                               |null      |10                                       |10                                  |5                               |25                        |27585                                |10                     |27575                  |58a291f0ac3b3bf4d469e1184f0f4febf9c6be40|\n",
      "|2022      |3            |Demais Bancos, Financeiras e Instituições de Pagamento  |Banco/financeira|91884981|BANCO JOHN DEERE S.A.                                            |null      |0                                        |1                                   |0                               |1                         |13559                                |254                    |13367                  |9342da7ecb1e6178baff3d9a18b043bcf802c124|\n",
      "|2022      |3            |Demais Bancos, Financeiras e Instituições de Pagamento  |Banco/financeira|61088183|BANCO MIZUHO DO BRASIL S.A.                                      |null      |1                                        |2                                   |0                               |3                         |1249                                 |1226                   |63                     |0efce001da9177cc8527618d4df616a990e4897c|\n",
      "|2022      |3            |Demais Bancos, Financeiras e Instituições de Pagamento  |Banco/financeira|78632767|BANCO OURINVEST S.A.                                             |null      |6                                        |14                                  |1                               |21                        |257799                               |253773                 |4082                   |0688a0378c430f676870c6ba22f4d72ccaebf828|\n",
      "|2022      |3            |Demais Bancos, Financeiras e Instituições de Pagamento  |Banco/financeira|61820817|BANCO PAULISTA S.A.                                              |null      |13                                       |4                                   |0                               |17                        |57603                                |8406                   |49516                  |68cbc9e4f81ee0faf83d2595cfe93a6e5aaaa3b4|\n",
      "|2022      |3            |Demais Bancos, Financeiras e Instituições de Pagamento  |Banco/financeira|01023570|BANCO RABOBANK INTERNATIONAL BRASIL S.A.                         |null      |0                                        |1                                   |0                               |1                         |3872                                 |3691                   |1699                   |15d5cf10c7fbf76a347aceea86d10cd0c540098c|\n",
      "|2022      |3            |Demais Bancos, Financeiras e Instituições de Pagamento  |Banco/financeira|00517645|BANCO RIBEIRAO PRETO S.A.                                        |null      |2                                        |0                                   |0                               |2                         |4456                                 |4290                   |1784                   |e3caec41ebc6108e3afa523d4f71272d5a46604a|\n",
      "|2022      |3            |Demais Bancos, Financeiras e Instituições de Pagamento  |Banco/financeira|80271455|BANCO RNX S.A.                                                   |null      |0                                        |1                                   |0                               |1                         |2452                                 |60                     |2407                   |116b3d66f7e4e311f9777da40a0ea57451e321bb|\n",
      "|2022      |3            |Demais Bancos, Financeiras e Instituições de Pagamento  |Banco/financeira|00795423|BANCO SEMEAR S.A.                                                |null      |4                                        |14                                  |2                               |20                        |315587                               |6155                   |310457                 |542727e4aed67c24e4c3b7132d98531c94de96f2|\n",
      "|2022      |3            |Demais Bancos, Financeiras e Instituições de Pagamento  |Conglomerado    |null    |BANCO SICOOB                                                     |17.47     |102                                      |93                                  |30                              |225                       |5835765                              |2633199                |3887697                |2a6450d14c70524d8a640783e171acae74523dad|\n",
      "|2022      |3            |Demais Bancos, Financeiras e Instituições de Pagamento  |Banco/financeira|07679404|BANCO TOPÁZIO S.A.                                               |null      |7                                        |14                                  |2                               |23                        |12749                                |11617                  |2803                   |496243367ba0ff820d9aaed7dca2ca7a265588eb|\n",
      "|2022      |3            |Demais Bancos, Financeiras e Instituições de Pagamento  |Conglomerado    |null    |BANCO TOYOTA DO BRASIL S.A.                                      |null      |4                                        |6                                   |18                              |28                        |154520                               |15261                  |140131                 |3e181708aa767a5664e6beda45267baad4c0e657|\n",
      "|2022      |3            |Demais Bancos, Financeiras e Instituições de Pagamento  |Banco/financeira|17351180|BANCO TRIANGULO S.A.                                             |null      |8                                        |24                                  |10                              |42                        |1740049                              |679997                 |1431577                |b671ebc24c556663726bc1c296adbdb868873deb|\n",
      "|2022      |3            |Demais Bancos, Financeiras e Instituições de Pagamento  |Conglomerado    |null    |BANESTES                                                         |25.51     |36                                       |44                                  |13                              |93                        |1410675                              |1360265                |483399                 |ec5aa2779a87fd970f7ed761ffb3303a8b6d7f3e|\n",
      "|2022      |3            |Demais Bancos, Financeiras e Instituições de Pagamento  |Conglomerado    |null    |BANRISUL                                                         |7.31      |38                                       |190                                 |68                              |296                       |5198088                              |3716170                |4072650                |78d8b8b937435d027cb18df07eff064b35448892|\n",
      "|2022      |3            |Demais Bancos, Financeiras e Instituições de Pagamento  |Conglomerado    |null    |BARIGUI                                                          |null      |20                                       |66                                  |19                              |105                       |349049                               |316165                 |64436                  |409105b8f26a46edb6bdcdad99ba90e02dc8d970|\n",
      "|2022      |3            |Top 15 - Bancos, Financeiras e Instituições de Pagamento|Conglomerado    |null    |BANCO DO BRASIL                                                  |12.64     |930                                      |2217                                |1162                            |4309                      |73557524                             |66988564               |35361914               |42151eaf691e06db20f0a70676f6115ad7679454|\n",
      "|2022      |3            |Demais Bancos, Financeiras e Instituições de Pagamento  |Conglomerado    |null    |BBC                                                              |null      |3                                        |4                                   |2                               |9                         |5872                                 |null                   |5872                   |0fbe2a58568b4590569588e52ed6a7da4e91b6ab|\n",
      "|2022      |3            |Demais Bancos, Financeiras e Instituições de Pagamento  |Banco/financeira|11285104|BIORC FINANCEIRA - CRÉDITO, FINANCIAMENTO E INVESTIMENTO S.A.    |null      |0                                        |1                                   |0                               |1                         |17785                                |254                    |17531                  |17c11e39a3e7c3019d8c800ef0b90ccc486989ee|\n",
      "|2022      |3            |Top 15 - Bancos, Financeiras e Instituições de Pagamento|Conglomerado    |null    |BMG                                                              |46.87     |542                                      |844                                 |154                             |1540                      |11561565                             |7399043                |6467199                |c89e80ee154b6215c5dc790d93590f620e1ec45d|\n",
      "|2022      |3            |Demais Bancos, Financeiras e Instituições de Pagamento  |Conglomerado    |null    |BMW                                                              |null      |0                                        |1                                   |3                               |4                         |31181                                |29742                  |22022                  |c034ffd9489f47eb8bcc876f70d6a3d9ec85c321|\n",
      "|2022      |3            |Demais Bancos, Financeiras e Instituições de Pagamento  |Conglomerado    |null    |BNP PARIBAS                                                      |42.48     |87                                       |279                                 |74                              |440                       |2047673                              |11438                  |2036674                |0612d12173005ce00d9c10800a27985a1e75997e|\n",
      "|2022      |3            |Demais Bancos, Financeiras e Instituições de Pagamento  |Conglomerado    |null    |BNQI - FINANCEIRO                                                |null      |29                                       |37                                  |7                               |73                        |null                                 |null                   |null                   |ca637a9f5f12d987a5b749037b7c3bbd61a5a23a|\n",
      "|2022      |3            |Top 15 - Bancos, Financeiras e Instituições de Pagamento|Conglomerado    |null    |BRADESCO                                                         |25.18     |2564                                     |4393                                |1765                            |8722                      |101788328                            |95939623               |39991382               |dd2b7d97678a3cb8b5a9f5e5bf60907d29293298|\n",
      "|2022      |3            |Demais Bancos, Financeiras e Instituições de Pagamento  |Conglomerado    |null    |BRB                                                              |46.81     |269                                      |297                                 |144                             |710                       |5745833                              |4110808                |2879389                |f55438a1640220c3fcf7ab0162061c51c9572fc7|\n",
      "|2022      |3            |Demais Bancos, Financeiras e Instituições de Pagamento  |Banco/financeira|12865507|BRK S.A. CRÉDITO, FINANCIAMENTO E INVESTIMENTO                   |null      |0                                        |1                                   |0                               |1                         |23238                                |18388                  |20990                  |045ce36d18b6c531caba491e137b2966fb636c6c|\n",
      "|2022      |3            |Top 15 - Bancos, Financeiras e Instituições de Pagamento|Conglomerado    |null    |BTG PACTUAL/BANCO PAN                                            |76.14     |1559                                     |1003                                |513                             |3075                      |20473165                             |15651421               |8783911                |a69c3671f5c7da083b9082b84675d6fbc7e15276|\n",
      "|2022      |3            |Top 15 - Bancos, Financeiras e Instituições de Pagamento|Conglomerado    |null    |C6 BANK                                                          |50.18     |1070                                     |1741                                |519                             |3330                      |21320772                             |19080023               |6995013                |d974f288e278ee3894ca988d7489e3721e389c5a|\n",
      "|2022      |3            |Top 15 - Bancos, Financeiras e Instituições de Pagamento|Conglomerado    |null    |CAIXA ECONÔMICA FEDERAL                                          |17.19     |2550                                     |3067                                |2729                            |8346                      |148308904                            |146717181              |29403700               |307cc3e3d4901086018a2a686a6ff2669f40ee7d|\n",
      "|2022      |3            |Demais Bancos, Financeiras e Instituições de Pagamento  |Conglomerado    |null    |CAIXA GERAL                                                      |null      |2                                        |2                                   |1                               |5                         |982                                  |959                    |57                     |c3c757096813514df69c02c4e01c59b9814ce94c|\n",
      "|2022      |3            |Demais Bancos, Financeiras e Instituições de Pagamento  |Banco/financeira|37122487|CALCRED S.A. - CRÉDITO, FINANCIAMENTO E INVESTIMENTO             |null      |3                                        |4                                   |1                               |8                         |163794                               |null                   |163794                 |f9f7e8293e07768cba9a1d67ccb654e3556a8e0b|\n",
      "|2022      |3            |Demais Bancos, Financeiras e Instituições de Pagamento  |Banco/financeira|09313766|CARUANA S.A. - SOCIEDADE DE CRÉDITO, FINANCIAMENTO E INVESTIMENTO|null      |6                                        |4                                   |2                               |12                        |58790                                |53422                  |14080                  |5595266e17e809ae19c7777e6ed5b22b6aea71a4|\n",
      "|2022      |3            |Demais Bancos, Financeiras e Instituições de Pagamento  |Conglomerado    |null    |CCB                                                              |null      |4                                        |68                                  |11                              |83                        |160508                               |3521                   |157408                 |80b19a81cf8a8dffce0eb87f657b8c4f8bb138a2|\n",
      "|2022      |3            |Demais Bancos, Financeiras e Instituições de Pagamento  |Banco/financeira|13935893|CELCOIN INSTITUICAO DE PAGAMENTO S.A.                            |null      |5                                        |16                                  |2                               |23                        |0                                    |0                      |0                      |0abaef63e874aec90043e54eb6c5f65034744360|\n",
      "|2022      |3            |Demais Bancos, Financeiras e Instituições de Pagamento  |Banco/financeira|26225776|CENTROCRED S.A. CRÉDITO, FINANCIAMENTO E INVESTIMENTOS           |null      |1                                        |0                                   |0                               |1                         |110863                               |72                     |110791                 |cdba4d3debf2efe922b8b7b7f6906cb007d8c02d|\n",
      "|2022      |3            |Demais Bancos, Financeiras e Instituições de Pagamento  |Banco/financeira|01027058|CIELO S.A. - INSTITUIÇÃO DE PAGAMENTO                            |null      |21                                       |34                                  |32                              |87                        |194142                               |194030                 |112                    |22539dabcf7ba570e005ca255bfcde79ba6a595a|\n",
      "|2022      |3            |Demais Bancos, Financeiras e Instituições de Pagamento  |Conglomerado    |null    |CITIBANK                                                         |null      |4                                        |14                                  |7                               |25                        |18558                                |17710                  |1759                   |fb91dc3beccbe69ffbccc745ccf8c66447d3aaa9|\n",
      "|2022      |3            |Demais Bancos, Financeiras e Instituições de Pagamento  |Conglomerado    |null    |COBUCCIO                                                         |null      |10                                       |15                                  |22                              |47                        |null                                 |null                   |null                   |2676c7f14db05eaa23bd51e4c56374b381c66f9e|\n",
      "|2022      |3            |Demais Bancos, Financeiras e Instituições de Pagamento  |Conglomerado    |null    |COLOMBO                                                          |null      |1                                        |5                                   |3                               |9                         |322307                               |60                     |322265                 |53de98e799bd20f7697835a75e4c9137e7a65d30|\n",
      "|2022      |3            |Demais Bancos, Financeiras e Instituições de Pagamento  |Banco/financeira|05938780|COOPER CARD INSTITUIÇÃO DE PAGAMENTO LTDA.                       |null      |0                                        |1                                   |1                               |2                         |378360                               |120371                 |280195                 |f6b30523120bd79a5609ab44a904bae0c412e734|\n",
      "|2022      |3            |Demais Bancos, Financeiras e Instituições de Pagamento  |Banco/financeira|62895230|CREDI-SHOP S/A - INSTITUIÇÃO DE PAGAMENTO                        |null      |0                                        |2                                   |0                               |2                         |701423                               |null                   |701423                 |0b86f7d0acf4b6b234495852cc336e5a44b3aa08|\n",
      "|2022      |3            |Demais Bancos, Financeiras e Instituições de Pagamento  |Conglomerado    |null    |CREDIT SUISSE                                                    |null      |0                                        |2                                   |2                               |4                         |5997                                 |5993                   |384                    |5dbb7a49ed389ecd03bdddf70e44ee1026e1b48b|\n",
      "|2022      |3            |Demais Bancos, Financeiras e Instituições de Pagamento  |Conglomerado    |null    |CREDSYSTEM                                                       |null      |18                                       |52                                  |25                              |95                        |null                                 |null                   |null                   |6af5d3e9d24a35f529de7f832aea5e516e2de5c5|\n",
      "|2022      |3            |Demais Bancos, Financeiras e Instituições de Pagamento  |Conglomerado    |null    |CREFISA                                                          |22.94     |75                                       |135                                 |61                              |271                       |3268995                              |1890679                |1776220                |05c7af1de2078e9f9fbb36d5da0da972012091f4|\n",
      "|2022      |3            |Demais Bancos, Financeiras e Instituições de Pagamento  |Conglomerado    |null    |BANCO DAYCOVAL S.A                                               |110.61    |173                                      |447                                 |60                              |680                       |1564046                              |237353                 |1377871                |232138ec23a9f84ca4604fb3f5e5293f3a85b571|\n",
      "|2022      |3            |Demais Bancos, Financeiras e Instituições de Pagamento  |Banco/financeira|13370835|DOCK INSTITUIÇÃO DE PAGAMENTO S.A.                               |null      |23                                       |26                                  |8                               |57                        |1997904                              |1997904                |null                   |21187e5d30d04d48610d8dd4b8da7e8a5cf2c22e|\n",
      "|2022      |3            |Demais Bancos, Financeiras e Instituições de Pagamento  |Banco/financeira|21018182|EBANX INSTITUICAO DE PAGAMENTOS LTDA.                            |70.09     |39                                       |60                                  |15                              |114                       |556387                               |556385                 |2                      |a460df7b864329275cf8239f0fe6421034a3fb10|\n",
      "|2022      |3            |Demais Bancos, Financeiras e Instituições de Pagamento  |Banco/financeira|00714671|EWALLY INSTITUIÇÃO DE PAGAMENTO S.A.                             |null      |4                                        |0                                   |5                               |9                         |0                                    |0                      |0                      |279d7bbef757d70c7f832326bec97e41c41ad376|\n",
      "|2022      |3            |Demais Bancos, Financeiras e Instituições de Pagamento  |Banco/financeira|39321657|FACEBOOK INSTITUIÇÃO DE PAGAMENTO DO BRASIL LTDA.                |null      |1                                        |2                                   |3                               |6                         |0                                    |0                      |0                      |15fe4ab5b4f71eea4163a07262660f05da3bd514|\n",
      "|2022      |3            |Demais Bancos, Financeiras e Instituições de Pagamento  |Banco/financeira|15581638|FACTA FINANCEIRA S.A. - CRÉDITO FINANCIAMENTO E INVESTIMENTO     |113.04    |79                                       |169                                 |14                              |262                       |698817                               |686                    |698139                 |aafc708242170626da68a1ba54b1412cd102c75a|\n",
      "|2022      |3            |Demais Bancos, Financeiras e Instituições de Pagamento  |Banco/financeira|36583700|FC FINANCEIRA S.A. - CRÉDITO, FINANCIAMENTO E INVESTIMENTO       |null      |1                                        |6                                   |7                               |14                        |25394                                |null                   |25394                  |bcbf05512a318165d40c6e57389808050cee285c|\n",
      "|2022      |3            |Demais Bancos, Financeiras e Instituições de Pagamento  |Banco/financeira|00411939|FINAMAX S.A. - CREDITO, FINANCIAMENTO E INVESTIMENTO             |null      |1                                        |4                                   |4                               |9                         |84947                                |1591                   |83394                  |13286bc4f4e651b367d9f5dcbda360c00bda7e2e|\n",
      "|2022      |3            |Demais Bancos, Financeiras e Instituições de Pagamento  |Banco/financeira|13203354|FITBANK PAGAMENTOS ELETRONICOS S.A.                              |null      |5                                        |0                                   |3                               |8                         |18359                                |18359                  |null                   |e97cbd959221033ca5bcf5c9219ffb108240e9de|\n",
      "|2022      |3            |Demais Bancos, Financeiras e Instituições de Pagamento  |Banco/financeira|23114447|FLAGSHIP INSTITUICAO DE PAGAMENTOS LTDA                          |null      |7                                        |8                                   |0                               |15                        |0                                    |0                      |0                      |c21094130b2b7dc8b6362f2d7fa8905c7453c2cc|\n",
      "|2022      |3            |Demais Bancos, Financeiras e Instituições de Pagamento  |Banco/financeira|02732968|FORTBRASIL INSTITUIÇÃO DE PAGAMENTO S/A                          |null      |7                                        |9                                   |7                               |23                        |697417                               |null                   |697417                 |d4ce590e4a510d5b6bd7dba808782e9af762da49|\n",
      "|2022      |3            |Demais Bancos, Financeiras e Instituições de Pagamento  |Conglomerado    |null    |GAZIN                                                            |null      |0                                        |1                                   |1                               |2                         |49647                                |352                    |49357                  |711d132bca779416cc0fc1384681a69efa365af1|\n",
      "|2022      |3            |Demais Bancos, Financeiras e Instituições de Pagamento  |Conglomerado    |null    |GENIAL                                                           |null      |9                                        |10                                  |1                               |20                        |657765                               |657761                 |406                    |060e5a621450024136177302e800aee23a931d0f|\n",
      "|2022      |3            |Demais Bancos, Financeiras e Instituições de Pagamento  |Conglomerado    |null    |GERENCIANET                                                      |null      |13                                       |37                                  |9                               |59                        |334816                               |334644                 |15120                  |69519e506b21fe348615672823113145b4f51c12|\n",
      "|2022      |3            |Demais Bancos, Financeiras e Instituições de Pagamento  |Conglomerado    |null    |GM                                                               |null      |4                                        |13                                  |13                              |30                        |227309                               |474                    |226918                 |d2d359e4ae582adac36781910ecc7abbb6c45854|\n",
      "|2022      |3            |Demais Bancos, Financeiras e Instituições de Pagamento  |Banco/financeira|22177858|GRANITO INSTITUIÇÃO DE PAGAMENTO S.A.                            |null      |4                                        |4                                   |4                               |12                        |0                                    |0                      |0                      |9fb48ef8c17160034409bbe78801c6a54fe7da36|\n",
      "|2022      |3            |Demais Bancos, Financeiras e Instituições de Pagamento  |Conglomerado    |null    |GRUPO BONSUCESSO - BS2                                           |323.09    |111                                      |186                                 |37                              |334                       |343552                               |336575                 |11875                  |d7d1cbf69c180c5799da0694bbb0ffa04fd2e21f|\n",
      "|2022      |3            |Demais Bancos, Financeiras e Instituições de Pagamento  |Conglomerado    |null    |GRUPO ZEMA                                                       |null      |1                                        |14                                  |11                              |26                        |505005                               |18246                  |490852                 |5080ebfc3d312f855533210bd8b4bd40c3259397|\n",
      "|2022      |3            |Demais Bancos, Financeiras e Instituições de Pagamento  |Conglomerado    |null    |HERVAL - HS                                                      |null      |5                                        |7                                   |3                               |15                        |211524                               |801                    |210925                 |8eca8c2cae2ab583095a758f8d90d99678577267|\n",
      "|2022      |3            |Demais Bancos, Financeiras e Instituições de Pagamento  |Conglomerado    |null    |HONDA                                                            |null      |9                                        |18                                  |8                               |35                        |385212                               |142                    |385159                 |de3d5bd1e1b72410a8786678ee4408d6a9cf7061|\n",
      "|2022      |3            |Demais Bancos, Financeiras e Instituições de Pagamento  |Banco/financeira|13884775|HUB INSTITUIÇÃO DE PAGAMENTO S.A.                                |null      |26                                       |73                                  |5                               |104                       |9935547                              |9935547                |49                     |6d778052bd9f86d569691f3b8315c3b26304cd90|\n",
      "|2022      |3            |Demais Bancos, Financeiras e Instituições de Pagamento  |Conglomerado    |null    |INDUSTRIAL DO BRASIL                                             |null      |7                                        |25                                  |1                               |33                        |69360                                |4561                   |65597                  |e296770f102873e8dfd77f52a8dadc597bc840a5|\n",
      "|2022      |3            |Top 15 - Bancos, Financeiras e Instituições de Pagamento|Conglomerado    |null    |INTER                                                            |36.81     |782                                      |935                                 |426                             |2143                      |21243511                             |21118007               |3264018                |b6708d593ee28aa091422ecce1960712345d85b8|\n",
      "|2022      |3            |Top 15 - Bancos, Financeiras e Instituições de Pagamento|Conglomerado    |null    |ITAU                                                             |14.4      |1375                                     |3171                                |1312                            |5858                      |95481328                             |76800409               |55246772               |63c61f41bb7599ec7690876172c5fbf0b5a30c9c|\n",
      "|2022      |3            |Demais Bancos, Financeiras e Instituições de Pagamento  |Banco/financeira|15111975|IUGU INSTITUIÇÃO DE PAGAMENTO S.A.                               |null      |10                                       |4                                   |1                               |15                        |2010                                 |null                   |2010                   |fa5faae2abc77584f1205ec34f0e652b18732b06|\n",
      "|2022      |3            |Demais Bancos, Financeiras e Instituições de Pagamento  |Banco/financeira|04230630|JBCRED S.A. SOCIEDADE DE CREDITO, FINANCIAMENTO E INVESTIMENTO   |null      |1                                        |8                                   |7                               |16                        |60558                                |null                   |60558                  |5efdeb2bdb56ceac705aaa8760ae5fa08b7e4ca8|\n",
      "|2022      |3            |Demais Bancos, Financeiras e Instituições de Pagamento  |Conglomerado    |null    |JP MORGAN CHASE                                                  |null      |0                                        |2                                   |2                               |4                         |3672                                 |3649                   |109                    |261a86d456101baf738de10731a5422cacc2dd0d|\n",
      "|2022      |3            |Demais Bancos, Financeiras e Instituições de Pagamento  |Banco/financeira|06040559|KREDILIG S.A. - CRÉDITO, FINANCIAMENTO E INVESTIMENTO            |null      |1                                        |3                                   |1                               |5                         |314082                               |5                      |314080                 |603b293c25d3aff6eba4c3f8b75c5a5d8a6b093f|\n",
      "|2022      |3            |Demais Bancos, Financeiras e Instituições de Pagamento  |Banco/financeira|11271860|LEBES FINANCEIRA S.A. - CRÉDITO, FINANCIAMENTO E INVESTIMENTO    |null      |5                                        |3                                   |5                               |13                        |304471                               |5                      |304467                 |b8f5571d920fb5fa5a870e628061926c11556c91|\n",
      "|2022      |3            |Demais Bancos, Financeiras e Instituições de Pagamento  |Banco/financeira|07652226|LECCA CRÉDITO, FINANCIAMENTO E INVESTIMENTO S/A                  |null      |4                                        |0                                   |9                               |13                        |24016                                |284                    |23732                  |9a06c5c47eb033e9f35c0618975bf9002df80a30|\n",
      "+----------+-------------+--------------------------------------------------------+----------------+--------+-----------------------------------------------------------------+----------+-----------------------------------------+------------------------------------+--------------------------------+--------------------------+-------------------------------------+-----------------------+-----------------------+----------------------------------------+\n",
      "only showing top 100 rows\n",
      "\n"
     ]
    }
   ],
   "source": [
    "trzd_claim.show(100, truncate=False)"
   ]
  },
  {
   "cell_type": "code",
   "execution_count": null,
   "metadata": {},
   "outputs": [],
   "source": [
    "## salvar em parquet"
   ]
  },
  {
   "cell_type": "markdown",
   "metadata": {},
   "source": [
    "---\n",
    "## **Delivery**"
   ]
  },
  {
   "cell_type": "code",
   "execution_count": null,
   "metadata": {},
   "outputs": [],
   "source": [
    "# trzd_bank_path = './trusted/bank'\n",
    "# banks = spark.read.parquet(trzd_bank_path)\n",
    "\n",
    "# trzd_employee_path = './trusted/employee'\n",
    "# employee = spark.read.parquett(trzd_employee_path)\n",
    "\n",
    "# trzd_claim_path = './trusted/claim'\n",
    "# claims = spark.read.parquet(trzd_claim_path)"
   ]
  },
  {
   "cell_type": "code",
   "execution_count": 114,
   "metadata": {},
   "outputs": [],
   "source": [
    "banks = trzd_bank\n",
    "\n",
    "employee = trzd_employee\n",
    "\n",
    "claims = trzd_claim"
   ]
  },
  {
   "cell_type": "code",
   "execution_count": 115,
   "metadata": {},
   "outputs": [
    {
     "name": "stdout",
     "output_type": "stream",
     "text": [
      "+--------+----------+-------------+---------------------------+----------------+--------------------------------+----------+-----------------------------------------+------------------------------------+--------------------------------+--------------------------+-------------------------------------+-----------------------+-----------------------+----------------------------------------+-------+----------------------------------------+\n",
      "|cnpj    |year_claim|quarter_claim|category                   |bank_type       |financial_institution_name      |bank_index|number_of_regulated_proceeding_complaints|number_of_regulated_other_complaints|number_of_unregulated_complaints|total_number_of_complaints|total_number_of_ccs_and_scr_customers|number_of_ccs_customers|number_of_scr_customers|sk_financial_institution_name           |segment|sk_cnpj_segment                         |\n",
      "+--------+----------+-------------+---------------------------+----------------+--------------------------------+----------+-----------------------------------------+------------------------------------+--------------------------------+--------------------------+-------------------------------------+-----------------------+-----------------------+----------------------------------------+-------+----------------------------------------+\n",
      "|07237373|2021      |1            |Grupo Secundário           |Banco/financeira|BANCO DO NORDESTE DO BRASIL S.A.|null      |19                                       |8                                   |20                              |47                        |8512373                              |7928582                |3161435                |bb953b4df7711bcfb088e1ded4bf13761c4c5aed|S2     |4e52ea413cf937405f38013294434e85be954f2d|\n",
      "|07237373|2021      |2            |Demais bancos e financeiras|Banco/financeira|BANCO DO NORDESTE DO BRASIL S.A.|null      |27                                       |23                                  |30                              |80                        |8679633                              |8095479                |3223472                |bb953b4df7711bcfb088e1ded4bf13761c4c5aed|S2     |4e52ea413cf937405f38013294434e85be954f2d|\n",
      "+--------+----------+-------------+---------------------------+----------------+--------------------------------+----------+-----------------------------------------+------------------------------------+--------------------------------+--------------------------+-------------------------------------+-----------------------+-----------------------+----------------------------------------+-------+----------------------------------------+\n",
      "only showing top 2 rows\n",
      "\n"
     ]
    }
   ],
   "source": [
    "banks = banks.drop('financial_institution_name')\n",
    "\n",
    "banks_claims = claims.join(banks, on='cnpj', how='inner')\n",
    "\n",
    "banks_claims.show(2, truncate=False)"
   ]
  },
  {
   "cell_type": "code",
   "execution_count": 116,
   "metadata": {},
   "outputs": [
    {
     "name": "stdout",
     "output_type": "stream",
     "text": [
      "+-----------------------------+----------+-------------+--------------------+----------------+--------+--------------------------+----------+-----------------------------------------+------------------------------------+--------------------------------+--------------------------+-------------------------------------+-----------------------+-----------------------+--------------------+-------------+-------------+--------------+--------------+--------------------+---------------------+----------------+--------------------+--------------------+--------------------+-------------+--------------------+-------------------------+------------------+-----------------------+---------------------------+--------------------------+--------------------+----------------------+-------+-------------+\n",
      "|sk_financial_institution_name|year_claim|quarter_claim|            category|       bank_type|    cnpj|financial_institution_name|bank_index|number_of_regulated_proceeding_complaints|number_of_regulated_other_complaints|number_of_unregulated_complaints|total_number_of_complaints|total_number_of_ccs_and_scr_customers|number_of_ccs_customers|number_of_scr_customers|       employer_name|reviews_count|culture_count|salaries_count|benefits_count|    employer_website|employer_headquarters|employer_founded|   employer_industry|    employer_revenue|                 url|general_score|culture_values_score|diversity_inclusion_score|life_quality_score|senior_leadership_score|compensation_benefits_score|career_opportunities_score|recommendation_score|company_positive_score|segment|match_percent|\n",
      "+-----------------------------+----------+-------------+--------------------+----------------+--------+--------------------------+----------+-----------------------------------------+------------------------------------+--------------------------------+--------------------------+-------------------------------------+-----------------------+-----------------------+--------------------+-------------+-------------+--------------+--------------+--------------------+---------------------+----------------+--------------------+--------------------+--------------------+-------------+--------------------+-------------------------+------------------+-----------------------+---------------------------+--------------------------+--------------------+----------------------+-------+-------------+\n",
      "|         1f7d72cc0ecb87cb6...|      2022|            3|Demais Bancos, Fi...|    Conglomerado|    null|                      ALFA|      null|                                       23|                                  48|                               9|                        80|                               436746|                 267423|                 170417|          Banco Alfa|          175|           74|           271|           105|http://www.alfane...|    São Paulo, Brasil|            1925|/Explorar/melhore...|Desconhecida/não ...|https://www.glass...|          3.5|                 3.2|                      3.2|               3.1|                    2.8|                        3.8|                       2.7|                68.0|                  47.0|     S3|          100|\n",
      "|         bb953b4df7711bcfb...|      2022|            3|Demais Bancos, Fi...|Banco/financeira|07237373|      BANCO DO NORDESTE...|      null|                                        9|                                  41|                              48|                        98|                              9294372|                8720080|                3310284|Banco do Nordeste...|          525|          113|           840|           115|http://www.bnb.go...|    Fortaleza, Brasil|            null|/Explorar/melhore...|Desconhecido/Não ...|https://www.glass...|          4.5|                 4.4|                      4.3|               4.3|                    4.1|                        4.2|                       4.0|                90.0|                  83.0|     S2|          100|\n",
      "+-----------------------------+----------+-------------+--------------------+----------------+--------+--------------------------+----------+-----------------------------------------+------------------------------------+--------------------------------+--------------------------+-------------------------------------+-----------------------+-----------------------+--------------------+-------------+-------------+--------------+--------------+--------------------+---------------------+----------------+--------------------+--------------------+--------------------+-------------+--------------------+-------------------------+------------------+-----------------------+---------------------------+--------------------------+--------------------+----------------------+-------+-------------+\n",
      "only showing top 2 rows\n",
      "\n"
     ]
    }
   ],
   "source": [
    "employee = employee.drop('financial_institution_name')\n",
    "\n",
    "employee_claims = claims.join(employee, on='sk_financial_institution_name', how='inner')\n",
    "\n",
    "employee_claims.show(2)"
   ]
  },
  {
   "cell_type": "code",
   "execution_count": 117,
   "metadata": {},
   "outputs": [],
   "source": [
    "employee_claims = employee_claims.withColumn('sk_cnpj_segment', sha1(concat(col('cnpj'), col('segment'))))"
   ]
  },
  {
   "cell_type": "code",
   "execution_count": 123,
   "metadata": {},
   "outputs": [
    {
     "data": {
      "text/plain": [
       "['sk_financial_institution_name',\n",
       " 'number_of_unregulated_complaints',\n",
       " 'number_of_regulated_proceeding_complaints',\n",
       " 'quarter_claim',\n",
       " 'category',\n",
       " 'segment',\n",
       " 'year_claim',\n",
       " 'total_number_of_complaints',\n",
       " 'financial_institution_name',\n",
       " 'bank_index',\n",
       " 'number_of_regulated_other_complaints',\n",
       " 'number_of_ccs_customers',\n",
       " 'total_number_of_ccs_and_scr_customers',\n",
       " 'cnpj',\n",
       " 'number_of_scr_customers',\n",
       " 'bank_type']"
      ]
     },
     "execution_count": 123,
     "metadata": {},
     "output_type": "execute_result"
    }
   ],
   "source": [
    "columns_to_add_employee_claims = list(set(employee_claims.columns) - set(banks_claims.columns))\n",
    "columns_to_add_employee_claims.append('sk_cnpj_segment')\n",
    "columns_to_drop = list(set(employee_claims.columns) - set(columns_to_add_employee_claims))\n",
    "columns_to_drop"
   ]
  },
  {
   "cell_type": "code",
   "execution_count": 125,
   "metadata": {},
   "outputs": [],
   "source": [
    "employee_claims = employee_claims.drop(*columns_to_drop)\n",
    "\n",
    "dlzd_bank_employment_satisfaction = banks_claims.join(\n",
    "    employee_claims, \n",
    "    on='sk_cnpj_segment', \n",
    "    how='inner'\n",
    ")"
   ]
  },
  {
   "cell_type": "code",
   "execution_count": 128,
   "metadata": {},
   "outputs": [],
   "source": [
    "dlzd_bank_employment_satisfaction = dlzd_bank_employment_satisfaction.drop_duplicates()"
   ]
  },
  {
   "cell_type": "code",
   "execution_count": 129,
   "metadata": {},
   "outputs": [
    {
     "data": {
      "text/plain": [
       "16"
      ]
     },
     "execution_count": 129,
     "metadata": {},
     "output_type": "execute_result"
    }
   ],
   "source": [
    "dlzd_bank_employment_satisfaction.count()"
   ]
  },
  {
   "cell_type": "code",
   "execution_count": 130,
   "metadata": {},
   "outputs": [
    {
     "name": "stdout",
     "output_type": "stream",
     "text": [
      "+--------------------+--------+----------+-------------+--------------------+----------------+--------------------------+----------+-----------------------------------------+------------------------------------+--------------------------------+--------------------------+-------------------------------------+-----------------------+-----------------------+-----------------------------+-------+--------------------+-------------+-------------+--------------+--------------+--------------------+---------------------+----------------+--------------------+--------------------+--------------------+-------------+--------------------+-------------------------+------------------+-----------------------+---------------------------+--------------------------+--------------------+----------------------+-------------+\n",
      "|     sk_cnpj_segment|    cnpj|year_claim|quarter_claim|            category|       bank_type|financial_institution_name|bank_index|number_of_regulated_proceeding_complaints|number_of_regulated_other_complaints|number_of_unregulated_complaints|total_number_of_complaints|total_number_of_ccs_and_scr_customers|number_of_ccs_customers|number_of_scr_customers|sk_financial_institution_name|segment|       employer_name|reviews_count|culture_count|salaries_count|benefits_count|    employer_website|employer_headquarters|employer_founded|   employer_industry|    employer_revenue|                 url|general_score|culture_values_score|diversity_inclusion_score|life_quality_score|senior_leadership_score|compensation_benefits_score|career_opportunities_score|recommendation_score|company_positive_score|match_percent|\n",
      "+--------------------+--------+----------+-------------+--------------------+----------------+--------------------------+----------+-----------------------------------------+------------------------------------+--------------------------------+--------------------------+-------------------------------------+-----------------------+-----------------------+-----------------------------+-------+--------------------+-------------+-------------+--------------+--------------+--------------------+---------------------+----------------+--------------------+--------------------+--------------------+-------------+--------------------+-------------------------+------------------+-----------------------+---------------------------+--------------------------+--------------------+----------------------+-------------+\n",
      "|4e52ea413cf937405...|07237373|      2022|            3|Demais Bancos, Fi...|Banco/financeira|      BANCO DO NORDESTE...|      null|                                        9|                                  41|                              48|                        98|                              9294372|                8720080|                3310284|         bb953b4df7711bcfb...|     S2|Banco do Nordeste...|          525|          113|           840|           115|http://www.bnb.go...|    Fortaleza, Brasil|            null|/Explorar/melhore...|Desconhecido/Não ...|https://www.glass...|          4.5|                 4.4|                      4.3|               4.3|                    4.1|                        4.2|                       4.0|                90.0|                  83.0|          100|\n",
      "|4e52ea413cf937405...|07237373|      2022|            4|Demais Bancos, Fi...|Banco/financeira|      BANCO DO NORDESTE...|      null|                                        7|                                  27|                              27|                        61|                              9384798|                8816792|                3284218|         bb953b4df7711bcfb...|     S2|Banco do Nordeste...|          525|          113|           840|           115|http://www.bnb.go...|    Fortaleza, Brasil|            null|/Explorar/melhore...|Desconhecido/Não ...|https://www.glass...|          4.5|                 4.4|                      4.3|               4.3|                    4.1|                        4.2|                       4.0|                90.0|                  83.0|          100|\n",
      "|4e52ea413cf937405...|07237373|      2022|            1|Demais Bancos, Fi...|Banco/financeira|      BANCO DO NORDESTE...|      null|                                        9|                                  26|                              31|                        66|                              9079293|                8496689|                3340534|         bb953b4df7711bcfb...|     S2|Banco do Nordeste...|          525|          113|           840|           115|http://www.bnb.go...|    Fortaleza, Brasil|            null|/Explorar/melhore...|Desconhecido/Não ...|https://www.glass...|          4.5|                 4.4|                      4.3|               4.3|                    4.1|                        4.2|                       4.0|                90.0|                  83.0|          100|\n",
      "|4e52ea413cf937405...|07237373|      2021|            4|Demais Bancos, Fi...|Banco/financeira|      BANCO DO NORDESTE...|      null|                                        5|                                  34|                              26|                        65|                              8967632|                8384030|                3314376|         bb953b4df7711bcfb...|     S2|Banco do Nordeste...|          525|          113|           840|           115|http://www.bnb.go...|    Fortaleza, Brasil|            null|/Explorar/melhore...|Desconhecido/Não ...|https://www.glass...|          4.5|                 4.4|                      4.3|               4.3|                    4.1|                        4.2|                       4.0|                90.0|                  83.0|          100|\n",
      "|4e52ea413cf937405...|07237373|      2021|            3|Demais bancos e f...|Banco/financeira|      BANCO DO NORDESTE...|      null|                                       13|                                  23|                              37|                        73|                              8844660|                8261233|                3268835|         bb953b4df7711bcfb...|     S2|Banco do Nordeste...|          525|          113|           840|           115|http://www.bnb.go...|    Fortaleza, Brasil|            null|/Explorar/melhore...|Desconhecido/Não ...|https://www.glass...|          4.5|                 4.4|                      4.3|               4.3|                    4.1|                        4.2|                       4.0|                90.0|                  83.0|          100|\n",
      "|4e52ea413cf937405...|07237373|      2021|            2|Demais bancos e f...|Banco/financeira|      BANCO DO NORDESTE...|      null|                                       27|                                  23|                              30|                        80|                              8679633|                8095479|                3223472|         bb953b4df7711bcfb...|     S2|Banco do Nordeste...|          525|          113|           840|           115|http://www.bnb.go...|    Fortaleza, Brasil|            null|/Explorar/melhore...|Desconhecido/Não ...|https://www.glass...|          4.5|                 4.4|                      4.3|               4.3|                    4.1|                        4.2|                       4.0|                90.0|                  83.0|          100|\n",
      "|4e52ea413cf937405...|07237373|      2021|            1|    Grupo Secundário|Banco/financeira|      BANCO DO NORDESTE...|      null|                                       19|                                   8|                              20|                        47|                              8512373|                7928582|                3161435|         bb953b4df7711bcfb...|     S2|Banco do Nordeste...|          525|          113|           840|           115|http://www.bnb.go...|    Fortaleza, Brasil|            null|/Explorar/melhore...|Desconhecido/Não ...|https://www.glass...|          4.5|                 4.4|                      4.3|               4.3|                    4.1|                        4.2|                       4.0|                90.0|                  83.0|          100|\n",
      "|ec817511307464a6c...|60518222|      2022|            4|Demais Bancos, Fi...|Banco/financeira|      BANCO SUMITOMO MI...|      null|                                        0|                                   0|                               1|                         1|                                 1180|                   1140|                    123|         e8bb4099d510fb072...|     S3|Sumitomo Mitsui F...|          903|          246|          1300|           290|http://www.smfg.c...|        Tóquio, Japão|            1996|/Explorar/melhore...|Mais de US$ 10 bi...|https://www.glass...|          3.4|                 3.3|                      3.2|               3.4|                    3.1|                        3.3|                       3.1|                56.0|                  54.0|           65|\n",
      "|ec817511307464a6c...|60518222|      2021|            2|Demais bancos e f...|Banco/financeira|      BANCO SUMITOMO MI...|      null|                                        0|                                   0|                               1|                         1|                                 1063|                   1023|                    126|         e8bb4099d510fb072...|     S3|Sumitomo Mitsui F...|          903|          246|          1300|           290|http://www.smfg.c...|        Tóquio, Japão|            1996|/Explorar/melhore...|Mais de US$ 10 bi...|https://www.glass...|          3.4|                 3.3|                      3.2|               3.4|                    3.1|                        3.3|                       3.1|                56.0|                  54.0|           65|\n",
      "|a75a648161a7de2dd...|62331228|      2021|            1|    Grupo Secundário|Banco/financeira|                  DEUTSCHE|      null|                                        0|                                   1|                               0|                         1|                                 2112|                   2093|                    164|         b21c4ab5b9d00b8b3...|     S3|       Deutsche Bank|        12000|         3200|         21000|          3100|https://careers.d...| Frankfurt am Main...|            1870|/Explorar/melhore...|Mais de US$ 10 bi...|https://www.glass...|          3.9|                 3.8|                      4.0|               3.8|                    3.5|                        3.6|                       3.7|                78.0|                  70.0|          100|\n",
      "|1dab2feef834b8d19...|58616418|      2022|            3|Demais Bancos, Fi...|Banco/financeira|          BANCO FIBRA S.A.|      null|                                        0|                                   1|                               0|                         1|                               163544|                   4432|                 159809|         359326cf4de50a99c...|     S3|         Banco Fibra|          119|           41|           172|            37|http://www.bancof...|    São Paulo, Brasil|            null|/Explorar/melhore...|Desconhecida/não ...|https://www.glass...|          4.3|                 4.3|                      4.3|               3.8|                    3.7|                        4.2|                       3.6|                87.0|                  84.0|          100|\n",
      "|1dab2feef834b8d19...|58616418|      2022|            1|Demais Bancos, Fi...|Banco/financeira|          BANCO FIBRA S.A.|      null|                                        1|                                   1|                               0|                         2|                               163906|                   4390|                 160140|         359326cf4de50a99c...|     S3|         Banco Fibra|          119|           41|           172|            37|http://www.bancof...|    São Paulo, Brasil|            null|/Explorar/melhore...|Desconhecida/não ...|https://www.glass...|          4.3|                 4.3|                      4.3|               3.8|                    3.7|                        4.2|                       3.6|                87.0|                  84.0|          100|\n",
      "|1dab2feef834b8d19...|58616418|      2021|            4|Demais Bancos, Fi...|Banco/financeira|          BANCO FIBRA S.A.|      null|                                        1|                                   2|                               0|                         3|                               164195|                   4262|                 160535|         359326cf4de50a99c...|     S3|         Banco Fibra|          119|           41|           172|            37|http://www.bancof...|    São Paulo, Brasil|            null|/Explorar/melhore...|Desconhecida/não ...|https://www.glass...|          4.3|                 4.3|                      4.3|               3.8|                    3.7|                        4.2|                       3.6|                87.0|                  84.0|          100|\n",
      "|1dab2feef834b8d19...|58616418|      2021|            3|Demais bancos e f...|Banco/financeira|          BANCO FIBRA S.A.|      null|                                        0|                                   0|                               1|                         1|                               163670|                   4092|                 160152|         359326cf4de50a99c...|     S3|         Banco Fibra|          119|           41|           172|            37|http://www.bancof...|    São Paulo, Brasil|            null|/Explorar/melhore...|Desconhecida/não ...|https://www.glass...|          4.3|                 4.3|                      4.3|               3.8|                    3.7|                        4.2|                       3.6|                87.0|                  84.0|          100|\n",
      "|1dab2feef834b8d19...|58616418|      2021|            2|Demais bancos e f...|Banco/financeira|          BANCO FIBRA S.A.|      null|                                        0|                                   2|                               3|                         5|                               163669|                   4032|                 160187|         359326cf4de50a99c...|     S3|         Banco Fibra|          119|           41|           172|            37|http://www.bancof...|    São Paulo, Brasil|            null|/Explorar/melhore...|Desconhecida/não ...|https://www.glass...|          4.3|                 4.3|                      4.3|               3.8|                    3.7|                        4.2|                       3.6|                87.0|                  84.0|          100|\n",
      "|1dab2feef834b8d19...|58616418|      2021|            1|    Grupo Secundário|Banco/financeira|          BANCO FIBRA S.A.|      null|                                        1|                                   2|                               2|                         5|                               163619|                   3832|                 160325|         359326cf4de50a99c...|     S3|         Banco Fibra|          119|           41|           172|            37|http://www.bancof...|    São Paulo, Brasil|            null|/Explorar/melhore...|Desconhecida/não ...|https://www.glass...|          4.3|                 4.3|                      4.3|               3.8|                    3.7|                        4.2|                       3.6|                87.0|                  84.0|          100|\n",
      "+--------------------+--------+----------+-------------+--------------------+----------------+--------------------------+----------+-----------------------------------------+------------------------------------+--------------------------------+--------------------------+-------------------------------------+-----------------------+-----------------------+-----------------------------+-------+--------------------+-------------+-------------+--------------+--------------+--------------------+---------------------+----------------+--------------------+--------------------+--------------------+-------------+--------------------+-------------------------+------------------+-----------------------+---------------------------+--------------------------+--------------------+----------------------+-------------+\n",
      "\n"
     ]
    }
   ],
   "source": [
    "dlzd_bank_employment_satisfaction.show()"
   ]
  },
  {
   "cell_type": "code",
   "execution_count": null,
   "metadata": {},
   "outputs": [],
   "source": []
  }
 ],
 "metadata": {
  "kernelspec": {
   "display_name": "pyspark",
   "language": "python",
   "name": "python3"
  },
  "language_info": {
   "codemirror_mode": {
    "name": "ipython",
    "version": 3
   },
   "file_extension": ".py",
   "mimetype": "text/x-python",
   "name": "python",
   "nbconvert_exporter": "python",
   "pygments_lexer": "ipython3",
   "version": "3.11.9"
  }
 },
 "nbformat": 4,
 "nbformat_minor": 2
}
