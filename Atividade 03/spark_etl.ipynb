{
 "cells": [
  {
   "cell_type": "markdown",
   "metadata": {},
   "source": [
    "# eEDB-011-2024-3"
   ]
  },
  {
   "cell_type": "markdown",
   "metadata": {},
   "source": [
    "## Atividade 3 – Ingestão e ETL com linguagem de programação (Python + Spark)\n",
    "\n",
    "- Utilizar linguagem de programação Python para ingestão e tratamento de dados. Todo o processo deve ser realizado via Spark.\n",
    "    - Pacotes adicionais podem ser utilizados\n",
    "    - Tratamento de dados não deve ser realizado via SQL\n",
    "- Realizar a ingestão de todas as base de dados em um banco de dados relacional open source. Pode ser utilizado qualquer banco de dado sendo algumas sugestões:\n",
    "    -  MySQL\n",
    "    -  Postgre\n",
    "    - ClickHouse\n",
    "- Gerar uma tabela final com os dados tratados e unidos.\n",
    "    - O tratamento de dados deve ser realizado através da linguagem de programação Python + Spark\n",
    "- Adicionar as seguintes camadas de processamento, dentro do próprio banco de dados ou em disco local. A Camada Delivery deve\n",
    "obrigatoriamente ter estar também no formato de uma tabela final dentro do banco de dados relacional:\n",
    "    - RAW – formato dos dados livre\n",
    "    - Trusted – formato de dados em Parquet ou ORC or AVRO (indicado Parquet)\n",
    "    - Delivery– formato de dados em Parquet ou ORC or AVRO (indicado Parquet)"
   ]
  },
  {
   "cell_type": "markdown",
   "metadata": {},
   "source": [
    "- **Grupo 02**:\n",
    "    - Aline Bini\n",
    "    - Ana Lívia Franco\n",
    "    - Ana Priss\n",
    "    - João Squinelato\n",
    "    - Marcelo Pena\n",
    "    - Thais Siqueira\n",
    "\n",
    "- [Github](https://github.com/Squinelato/eEDB-011-2024-3 \"eEDB-011-2024-3\")\n",
    "\n",
    "```Ingestão De Dados | Agosto 2024```"
   ]
  },
  {
   "cell_type": "markdown",
   "metadata": {},
   "source": [
    "## To Do\n",
    "\n",
    "- raw \n",
    "- trusted\n",
    "- delivery"
   ]
  },
  {
   "cell_type": "code",
   "execution_count": 1,
   "metadata": {},
   "outputs": [],
   "source": [
    "from pyspark.sql import SparkSession\n",
    "from pyspark.sql.functions import lpad, col, lpad, concat, sha1, regexp_replace, udf, lower\n",
    "from pyspark.sql.types import StringType, FloatType, IntegerType\n",
    "from unidecode import unidecode\n",
    "\n",
    "import os"
   ]
  },
  {
   "cell_type": "code",
   "execution_count": 6,
   "metadata": {},
   "outputs": [],
   "source": [
    "spark = SparkSession.builder.getOrCreate()"
   ]
  },
  {
   "cell_type": "code",
   "execution_count": 10,
   "metadata": {},
   "outputs": [],
   "source": [
    "# spark.conf.set('spark.rpc.askTimeout', '600s') \n",
    "# spark.conf.set('spark.executor.heartbeatInterval', \"120s\") \n",
    "spark.conf.set('spark.executor.timeout', \"1200s\") \n",
    "spark.conf.set('spark.sql.broadcastTimeout', \"1200\")"
   ]
  },
  {
   "cell_type": "code",
   "execution_count": 11,
   "metadata": {},
   "outputs": [
    {
     "data": {
      "text/html": [
       "\n",
       "            <div>\n",
       "                <p><b>SparkSession - in-memory</b></p>\n",
       "                \n",
       "        <div>\n",
       "            <p><b>SparkContext</b></p>\n",
       "\n",
       "            <p><a href=\"http://NITRO5:4040\">Spark UI</a></p>\n",
       "\n",
       "            <dl>\n",
       "              <dt>Version</dt>\n",
       "                <dd><code>v3.4.1</code></dd>\n",
       "              <dt>Master</dt>\n",
       "                <dd><code>local[*]</code></dd>\n",
       "              <dt>AppName</dt>\n",
       "                <dd><code>pyspark-shell</code></dd>\n",
       "            </dl>\n",
       "        </div>\n",
       "        \n",
       "            </div>\n",
       "        "
      ],
      "text/plain": [
       "<pyspark.sql.session.SparkSession at 0x24317f632c0>"
      ]
     },
     "execution_count": 11,
     "metadata": {},
     "output_type": "execute_result"
    }
   ],
   "source": [
    "spark"
   ]
  },
  {
   "cell_type": "markdown",
   "metadata": {},
   "source": [
    "---\n",
    "## **Raw**"
   ]
  },
  {
   "cell_type": "markdown",
   "metadata": {},
   "source": [
    "### **Banks file**"
   ]
  },
  {
   "cell_type": "code",
   "execution_count": 12,
   "metadata": {},
   "outputs": [
    {
     "name": "stdout",
     "output_type": "stream",
     "text": [
      "+--------+--------+--------------------------------------------------------------------------------------------------------------------------+\n",
      "|Segmento|CNPJ    |Nome                                                                                                                      |\n",
      "+--------+--------+--------------------------------------------------------------------------------------------------------------------------+\n",
      "|S1      |0       |BANCO DO BRASIL - PRUDENCIAL                                                                                              |\n",
      "|S1      |60746948|BRADESCO - PRUDENCIAL                                                                                                     |\n",
      "|S1      |30306294|BTG PACTUAL - PRUDENCIAL                                                                                                  |\n",
      "|S1      |360305  |CAIXA ECONOMICA FEDERAL - PRUDENCIAL                                                                                      |\n",
      "|S1      |60872504|ITAU - PRUDENCIAL                                                                                                         |\n",
      "|S1      |90400888|SANTANDER - PRUDENCIAL                                                                                                    |\n",
      "|S2      |92702067|BANRISUL - PRUDENCIAL                                                                                                     |\n",
      "|S2      |7237373 |BANCO DO NORDESTE DO BRASIL S.A. - PRUDENCIAL                                                                             |\n",
      "|S2      |33657248|BNDES - PRUDENCIAL                                                                                                        |\n",
      "|S2      |33479023|CITIBANK - PRUDENCIAL                                                                                                     |\n",
      "|S2      |33987793|CREDIT SUISSE - PRUDENCIAL                                                                                                |\n",
      "|S2      |58160789|SAFRA - PRUDENCIAL                                                                                                        |\n",
      "|S2      |59588111|VOTORANTIM - PRUDENCIAL                                                                                                   |\n",
      "|S3      |28195667|ABC-BRASIL - PRUDENCIAL                                                                                                   |\n",
      "|S3      |60770336|ALFA - PRUDENCIAL                                                                                                         |\n",
      "|S3      |655522  |APE POUPEX                                                                                                                |\n",
      "|S3      |2992446 |BANCO CNH INDUSTRIAL CAPITAL S.A - PRUDENCIAL                                                                             |\n",
      "|S3      |2038232 |BANCOOB - PRUDENCIAL                                                                                                      |\n",
      "|S3      |28127603|BANESTES - PRUDENCIAL                                                                                                     |\n",
      "|S3      |31597552|BANCO CLASSICO S.A. - PRUDENCIAL                                                                                          |\n",
      "|S3      |8357240 |BANCO CSF S.A. - PRUDENCIAL                                                                                               |\n",
      "|S3      |4902979 |BANCO DA AMAZONIA S.A. - PRUDENCIAL                                                                                       |\n",
      "|S3      |62232889|BANCO DAYCOVAL S.A - PRUDENCIAL                                                                                           |\n",
      "|S3      |38486817|BANCO DES. DE MG S.A. - PRUDENCIAL                                                                                        |\n",
      "|S3      |58616418|BANCO FIBRA S.A. - PRUDENCIAL                                                                                             |\n",
      "|S3      |1023570 |BANCO RABOBANK INTL BRASIL S.A. - PRUDENCIAL                                                                              |\n",
      "|S3      |60518222|BANCO SUMITOMO MITSUI BRASIL S.A. - PRUDENCIAL                                                                            |\n",
      "|S3      |60498557|BANCO TOKYO-MITSUBISHI BM S.A. - PRUDENCIAL                                                                               |\n",
      "|S3      |92816560|BD REGIONAL DO EXTREMO SUL - PRUDENCIAL                                                                                   |\n",
      "|S3      |61186680|BMG - PRUDENCIAL                                                                                                          |\n",
      "|S3      |1522368 |BNP PARIBAS - PRUDENCIAL                                                                                                  |\n",
      "|S3      |62073200|BOFA MERRILL LYNCH - PRUDENCIAL                                                                                           |\n",
      "|S3      |208     |BRB - PRUDENCIAL                                                                                                          |\n",
      "|S3      |7450604 |CCB - PRUDENCIAL                                                                                                          |\n",
      "|S3      |87437687|COOPERATIVA CENTRAL DE CREDITO DO RIO GRANDE DO SUL E SANTA CATARINA - CENTRAL SICREDI SUL                                |\n",
      "|S3      |80230774|COOPERATIVA CENTRAL DE CREDITO E INVESTIMENTO DOS ESTADOS DO PARANA, SAO PAULO E RIO DE JANEIRO - CENTRAL SICREDI PR/SP/RJ|\n",
      "|S3      |75647891|CREDIT AGRICOLE - PRUDENCIAL                                                                                              |\n",
      "|S3      |62331228|DEUTSCHE - PRUDENCIAL                                                                                                     |\n",
      "|S3      |59274605|GMAC - PRUDENCIAL                                                                                                         |\n",
      "|S3      |4332281 |GOLDMAN SACHS - PRUDENCIAL                                                                                                |\n",
      "|S3      |34111187|HAITONG - PRUDENCIAL                                                                                                      |\n",
      "|S3      |49336860|ING - PRUDENCIAL                                                                                                          |\n",
      "|S3      |33172537|JP MORGAN CHASE - PRUDENCIAL                                                                                              |\n",
      "|S3      |17184037|MERCANTIL DO BRASIL - PRUDENCIAL                                                                                          |\n",
      "|S3      |60814191|MERCEDES-BENZ - PRUDENCIAL                                                                                                |\n",
      "|S3      |2801938 |MORGAN STANLEY - PRUDENCIAL                                                                                               |\n",
      "|S3      |92894922|ORIGINAL - PRUDENCIAL                                                                                                     |\n",
      "|S3      |59285411|PAN                                                                                                                       |\n",
      "|S3      |62144175|PINE - PRUDENCIAL                                                                                                         |\n",
      "|S3      |1181521 |SICREDI - PRUDENCIAL                                                                                                      |\n",
      "|S3      |61533584|SOCIETE GENERALE - PRUDENCIAL                                                                                             |\n",
      "|S3      |59109165|VOLKSWAGEN - PRUDENCIAL                                                                                                   |\n",
      "|S4      |33824012|ADVALOR DTVM LTDA                                                                                                         |\n",
      "|S4      |92856905|ADVANCED CC LTDA                                                                                                          |\n",
      "|S4      |10663610|AF DESENVOLVE SP S.A.                                                                                                     |\n",
      "|S4      |82937293|AF DO ESTADO DE SC S.A.                                                                                                   |\n",
      "|S4      |13178690|AF ESTADO DE PERNAMBUCO S.A.                                                                                              |\n",
      "|S4      |3584906 |AF PARAN�                                                                                                                 |\n",
      "|S4      |10769660|AFAL S.A.                                                                                                                 |\n",
      "|S4      |3183937 |AFEAM                                                                                                                     |\n",
      "|S4      |2929977 |AG. FOMENTO AMAPA S.A.                                                                                                    |\n",
      "|S4      |3058464 |AG. FOMENTO ESTADO DE RORAIMA                                                                                             |\n",
      "|S4      |5474540 |AG. FOMENTO ESTADO DO TOCANTINS                                                                                           |\n",
      "|S4      |3848103 |AGENCIA DE FOMENTO DO RN S.A.                                                                                             |\n",
      "|S4      |6284531 |AG�NCIA DE FOMENTO MATO GROSSO                                                                                            |\n",
      "|S4      |5940203 |AGENCIA FOMENTO EST RJ S.A.                                                                                               |\n",
      "|S4      |3918382 |AGENCIA FOMENTO GOIAS                                                                                                     |\n",
      "|S4      |10664513|AGIPLAN FINANCEIRA S.A. - CFI - PRUDENCIAL                                                                                |\n",
      "|S4      |250699  |AGK CC S.A.                                                                                                               |\n",
      "|S4      |36321990|AGORACRED S/A SCFI                                                                                                        |\n",
      "|S4      |2678955 |AKRO DTVM S.A.                                                                                                            |\n",
      "|S4      |5452073 |ALBATROSS CCV S.A                                                                                                         |\n",
      "|S4      |3882245 |ALPES CCTVM LTDA                                                                                                          |\n",
      "|S4      |17312661|AMARIL FRANKLIN CTV LTDA                                                                                                  |\n",
      "|S4      |16927221|AMAZ�NIA CC LTDA.                                                                                                         |\n",
      "|S4      |48795256|ANDBANK - PRUDENCIAL                                                                                                      |\n",
      "|S4      |12719654|APEAL CREDITO IMOBILIARIO S/A                                                                                             |\n",
      "|S4      |4684647 |ARC CORRETORA CAMBIO S.A.                                                                                                 |\n",
      "|S4      |14425205|�TICO DTVM LTDA.                                                                                                          |\n",
      "|S4      |33775974|ATIVA S.A. INVESTIMENTOS CCTVM                                                                                            |\n",
      "|S4      |5956581 |ATRIA S.A. - CFI                                                                                                          |\n",
      "|S4      |3443143 |AVIPAM CC LTDA.                                                                                                           |\n",
      "|S4      |23862762|AVISTA S.A. CFI                                                                                                           |\n",
      "|S4      |25280945|AVS CC LTDA.                                                                                                              |\n",
      "|S4      |73622748|B & T ASSOCIADOS CC LTDA.                                                                                                 |\n",
      "|S4      |2885855 |BADESUL DESENVOLVIMENTO AF/RS                                                                                             |\n",
      "|S4      |61688131|BALUARTE SA CC                                                                                                            |\n",
      "|S4      |997185  |BANCO BM&FBOVESPA - PRUDENCIAL                                                                                            |\n",
      "|S4      |62237425|BANCO FIDIS - PRUDENCIAL                                                                                                  |\n",
      "|S4      |34270520|BANCO IBM S.A. - PRUDENCIAL                                                                                               |\n",
      "|S4      |23903068|BANCO KOMATSU DO BRASIL - PRUDENCIAL                                                                                      |\n",
      "|S4      |7441209 |BANCO MONEO S.A. - PRUDENCIAL                                                                                             |\n",
      "|S4      |40429946|BANCO PORTO REAL DE INVEST.S.A - PRUDENCIAL                                                                               |\n",
      "|S4      |517645  |BANCO RIBEIR�O PRETO - PRUDENCIAL                                                                                         |\n",
      "|S4      |795423  |BANCO SEMEAR - PRUDENCIAL                                                                                                 |\n",
      "|S4      |7679404 |BANCO TOP�ZIO S.A. - PRUDENCIAL                                                                                           |\n",
      "|S4      |9526594 |BANCO VIPAL - PRUDENCIAL                                                                                                  |\n",
      "|S4      |33884941|BANIF - PRUDENCIAL                                                                                                        |\n",
      "|S4      |61146577|BARCLAYS - PRUDENCIAL                                                                                                     |\n",
      "|S4      |556603  |BARIGUI                                                                                                                   |\n",
      "+--------+--------+--------------------------------------------------------------------------------------------------------------------------+\n",
      "only showing top 100 rows\n",
      "\n"
     ]
    }
   ],
   "source": [
    "banks_csv_path = '../Fonte de Dados/Bancos/EnquadramentoInicia_v2.tsv'\n",
    "rwzd_bank = spark.read.csv(banks_csv_path, sep='\\t', encoding='utf8', header=True)\n",
    "rwzd_bank.show(100, truncate=False)"
   ]
  },
  {
   "cell_type": "markdown",
   "metadata": {},
   "source": [
    "Analisando o esquema dos dados"
   ]
  },
  {
   "cell_type": "code",
   "execution_count": 13,
   "metadata": {},
   "outputs": [
    {
     "name": "stdout",
     "output_type": "stream",
     "text": [
      "root\n",
      " |-- Segmento: string (nullable = true)\n",
      " |-- CNPJ: string (nullable = true)\n",
      " |-- Nome: string (nullable = true)\n",
      "\n"
     ]
    }
   ],
   "source": [
    "rwzd_bank.printSchema()"
   ]
  },
  {
   "cell_type": "markdown",
   "metadata": {},
   "source": [
    "Contando a quantidade de linhas"
   ]
  },
  {
   "cell_type": "code",
   "execution_count": 14,
   "metadata": {},
   "outputs": [
    {
     "data": {
      "text/plain": [
       "1474"
      ]
     },
     "execution_count": 14,
     "metadata": {},
     "output_type": "execute_result"
    }
   ],
   "source": [
    "rwzd_bank.count()"
   ]
  },
  {
   "cell_type": "markdown",
   "metadata": {},
   "source": [
    "Salvando dados na camada _raw_ no formato parquet"
   ]
  },
  {
   "cell_type": "code",
   "execution_count": 15,
   "metadata": {},
   "outputs": [],
   "source": [
    "# raw_bank_path = './raw/bank/'\n",
    "# rwzd_bank.write.parquet(raw_bank_path, mode=\"append\")"
   ]
  },
  {
   "cell_type": "markdown",
   "metadata": {},
   "source": [
    "### **Employees file**"
   ]
  },
  {
   "cell_type": "markdown",
   "metadata": {},
   "source": [
    "Localizando todos os arquivos contendo dados de empregados"
   ]
  },
  {
   "cell_type": "code",
   "execution_count": 16,
   "metadata": {},
   "outputs": [
    {
     "data": {
      "text/plain": [
       "['../Fonte de Dados/Empregados/glassdoor_consolidado_join_match_less_v2.csv',\n",
       " '../Fonte de Dados/Empregados/glassdoor_consolidado_join_match_v2.csv']"
      ]
     },
     "execution_count": 16,
     "metadata": {},
     "output_type": "execute_result"
    }
   ],
   "source": [
    "employee_dir = '../Fonte de Dados/Empregados/'\n",
    "employee_files = os.listdir(employee_dir)\n",
    "employee_paths = list(map(lambda file: os.path.join(employee_dir, file), employee_files))\n",
    "employee_paths"
   ]
  },
  {
   "cell_type": "markdown",
   "metadata": {},
   "source": [
    "Lendo todos os arquivos de empregados como um único conjunto de dados"
   ]
  },
  {
   "cell_type": "code",
   "execution_count": 17,
   "metadata": {},
   "outputs": [
    {
     "name": "stdout",
     "output_type": "stream",
     "text": [
      "+--------------------+-------------+-------------+--------------+--------------+--------------------+---------------------+----------------+--------------------+--------------------+--------------------+-----+-----------------+----------------------+-----------------+--------------+------------------------+-------------------------+---------------------------------+----------------------------------+--------+--------------------+-------------+\n",
      "|       employer_name|reviews_count|culture_count|salaries_count|benefits_count|    employer-website|employer-headquarters|employer-founded|   employer-industry|    employer-revenue|                 url|Geral|Cultura e valores|Diversidade e inclusão|Qualidade de vida|Alta liderança|Remuneração e benefícios|Oportunidades de carreira|Recomendam para outras pessoas(%)|Perspectiva positiva da empresa(%)|Segmento|                Nome|match_percent|\n",
      "+--------------------+-------------+-------------+--------------+--------------+--------------------+---------------------+----------------+--------------------+--------------------+--------------------+-----+-----------------+----------------------+-----------------+--------------+------------------------+-------------------------+---------------------------------+----------------------------------+--------+--------------------+-------------+\n",
      "|         BNP Paribas|        13000|         4100|         20000|          3600|http://www.group....|        Paris, França|          2000.0|/Explorar/melhore...|Mais de US$ 10 bi...|https://www.glass...|  3.8|              3.7|                   4.0|              3.8|           3.4|                     3.4|                      3.5|                             77.0|                              63.0|      S3|         BNP PARIBAS|          100|\n",
      "|         BTG Pactual|         1600|          683|          2800|           635|http://www.btgpac...|    São Paulo, Brasil|            null|/Explorar/melhore...|Desconhecida/não ...|https://www.glass...|  4.0|              3.7|                   3.5|              2.8|           3.7|                     4.4|                      4.2|                             78.0|                              73.0|      S1|         BTG PACTUAL|          100|\n",
      "|          Banco Alfa|          175|           74|           271|           105|http://www.alfane...|    São Paulo, Brasil|          1925.0|/Explorar/melhore...|Desconhecida/não ...|https://www.glass...|  3.5|              3.2|                   3.2|              3.1|           2.8|                     3.8|                      2.7|                             68.0|                              47.0|      S3|                ALFA|          100|\n",
      "|           Banco BMG|          445|          232|           704|           277|http://www.bancob...|    São Paulo, Brasil|          1930.0|/Explorar/melhore...|De US$ 1 a US$ 5 ...|https://www.glass...|  4.1|              3.9|                   4.1|              3.7|           3.6|                     4.2|                      3.5|                             79.0|                              63.0|      S3|                 BMG|          100|\n",
      "|      Banco Bradesco|        11000|         3300|         19000|          3200|http://www.bancob...|       Osasco, Brasil|          1943.0|/Explorar/melhore...|Mais de US$ 10 bi...|https://www.glass...|  4.2|              3.8|                   3.9|              3.4|           3.4|                     4.3|                      3.8|                             81.0|                              66.0|      S1|            BRADESCO|          100|\n",
      "|      Banco Daycoval|          300|          157|           521|           107|https://www.dayco...|    São Paulo, Brasil|          1971.0|/Explorar/melhore...|De US$ 25 a US$ 1...|https://www.glass...|  4.0|              3.7|                   3.6|              3.4|           3.3|                     4.1|                      3.4|                             78.0|                              72.0|      S3|  BANCO DAYCOVAL S.A|          100|\n",
      "|         Banco Fibra|          119|           41|           172|            37|http://www.bancof...|    São Paulo, Brasil|            null|/Explorar/melhore...|Desconhecida/não ...|https://www.glass...|  4.3|              4.3|                   4.3|              3.8|           3.7|                     4.2|                      3.6|                             87.0|                              84.0|      S3|    BANCO FIBRA S.A.|          100|\n",
      "|      Banco Original|          651|          286|          1100|           261|http://www.origin...|    São Paulo, Brasil|          2016.0|/Explorar/melhore...|Desconhecida/não ...|https://www.glass...|  3.8|              3.4|                   3.5|              3.4|           3.1|                     4.0|                      3.3|                             71.0|                              53.0|      S3|            ORIGINAL|          100|\n",
      "|           Banco PAN|         1100|          520|          1700|           493|http://www.bancop...|    São Paulo, Brasil|          2011.0|/Explorar/melhore...|Desconhecida/não ...|https://www.glass...|  4.4|              4.2|                   4.4|              3.9|           3.9|                     4.6|                      4.0|                             91.0|                              79.0|      S3|                 PAN|          100|\n",
      "|          Banco Pine|          121|           45|           216|            63| http://www.pine.com|    São Paulo, Brasil|          1997.0|/Explorar/melhore...|Desconhecida/não ...|https://www.glass...|  3.8|              3.5|                   3.5|              3.4|           3.0|                     3.9|                      3.5|                             71.0|                              50.0|      S3|                PINE|          100|\n",
      "|    Banco Votorantim|         1400|          563|          2100|           574|http://www.bancob...|    São Paulo, Brasil|          1991.0|/Explorar/melhore...|Desconhecida/não ...|https://www.glass...|  4.4|              4.3|                   4.4|              4.1|           3.9|                     4.6|                      3.9|                             93.0|                              79.0|      S2|          VOTORANTIM|          100|\n",
      "|     Banco do Brasil|         5000|         1100|          9200|          1200|https://www.bb.co...|     Brasília, Brasil|          1808.0|/Explorar/melhore...|Desconhecida/não ...|https://www.glass...|  4.3|              3.9|                   4.0|              3.7|           3.5|                     4.2|                      3.8|                             86.0|                              72.0|      S1|     BANCO DO BRASIL|          100|\n",
      "|Banco do Nordeste...|          525|          113|           840|           115|http://www.bnb.go...|    Fortaleza, Brasil|            null|/Explorar/melhore...|Desconhecido/Não ...|https://www.glass...|  4.5|              4.4|                   4.3|              4.3|           4.1|                     4.2|                      4.0|                             90.0|                              83.0|      S2|BANCO DO NORDESTE...|          100|\n",
      "|Bank Of Tokyo-Mit...|          770|          150|          1100|           228|http://www.bk.muf...|        Tóquio, Japão|          1919.0|/Explorar/melhore...|Mais de US$ 10 bi...|https://www.glass...|  3.6|              3.6|                   3.5|              3.4|           3.3|                     3.6|                      3.3|                             65.0|                              43.0|      S3|BANCO TOKYO-MITSU...|           80|\n",
      "|            Banrisul|         1000|          155|          1700|           127|http://www.banris...| Porto Alegre, Brasil|            null|/Explorar/melhore...|De US$ 25 a US$ 1...|https://www.glass...|  4.2|              3.6|                   3.8|              3.7|           3.4|                     4.1|                      3.3|                             84.0|                              59.0|      S2|            BANRISUL|          100|\n",
      "|Caixa Econômica F...|         4000|          717|          7300|           857|http://www.caixa....|     BRASILIA, Brasil|            null|/Explorar/melhore...|Desconhecida/não ...|https://www.glass...|  4.4|              3.8|                   4.2|              3.7|           3.5|                     4.3|                      3.9|                             86.0|                              72.0|      S1|CAIXA ECONOMICA F...|           98|\n",
      "|                Citi|        31000|         8900|         52000|          9900|http://www.citigr...| New York, Estados...|          1812.0|/Explorar/melhore...|Mais de US$ 10 bi...|https://www.glass...|  3.9|              3.8|                   4.1|              3.5|           3.5|                     3.8|                      3.9|                             76.0|                              68.0|      S2|            CITIBANK|          100|\n",
      "|       Credit Suisse|        11000|         3400|         22000|          2900|http://www.credit...|       Zurique, Suíça|          1856.0|/Explorar/melhore...|Mais de US$ 10 bi...|https://www.glass...|  3.8|              3.8|                   4.1|              3.9|           3.3|                     3.6|                      3.7|                             68.0|                              34.0|      S2|       CREDIT SUISSE|          100|\n",
      "|       Deutsche Bank|        12000|         3200|         21000|          3100|https://careers.d...| Frankfurt am Main...|          1870.0|/Explorar/melhore...|Mais de US$ 10 bi...|https://www.glass...|  3.9|              3.8|                   4.0|              3.8|           3.5|                     3.6|                      3.7|                             78.0|                              70.0|      S3|            DEUTSCHE|          100|\n",
      "|       Goldman Sachs|        17000|         4400|         36000|          4100|http://www.goldma...| New York, Estados...|          1869.0|/Explorar/melhore...|Mais de US$ 10 bi...|https://www.glass...|  3.9|              3.7|                   4.0|              2.9|           3.5|                     3.8|                      4.0|                             72.0|                              63.0|      S3|       GOLDMAN SACHS|          100|\n",
      "+--------------------+-------------+-------------+--------------+--------------+--------------------+---------------------+----------------+--------------------+--------------------+--------------------+-----+-----------------+----------------------+-----------------+--------------+------------------------+-------------------------+---------------------------------+----------------------------------+--------+--------------------+-------------+\n",
      "only showing top 20 rows\n",
      "\n"
     ]
    }
   ],
   "source": [
    "rwzd_employee = spark.read.csv(employee_paths, sep='|', encoding='utf8', header=True)\n",
    "rwzd_employee.show()"
   ]
  },
  {
   "cell_type": "markdown",
   "metadata": {},
   "source": [
    "Removendo duplicatas com base no nome e segmento do banco"
   ]
  },
  {
   "cell_type": "code",
   "execution_count": 18,
   "metadata": {},
   "outputs": [],
   "source": [
    "rwzd_employee = rwzd_employee.dropDuplicates(['Nome', 'Segmento'])"
   ]
  },
  {
   "cell_type": "markdown",
   "metadata": {},
   "source": [
    "Analisando o esquema dos dados"
   ]
  },
  {
   "cell_type": "code",
   "execution_count": 19,
   "metadata": {},
   "outputs": [
    {
     "name": "stdout",
     "output_type": "stream",
     "text": [
      "root\n",
      " |-- employer_name: string (nullable = true)\n",
      " |-- reviews_count: string (nullable = true)\n",
      " |-- culture_count: string (nullable = true)\n",
      " |-- salaries_count: string (nullable = true)\n",
      " |-- benefits_count: string (nullable = true)\n",
      " |-- employer-website: string (nullable = true)\n",
      " |-- employer-headquarters: string (nullable = true)\n",
      " |-- employer-founded: string (nullable = true)\n",
      " |-- employer-industry: string (nullable = true)\n",
      " |-- employer-revenue: string (nullable = true)\n",
      " |-- url: string (nullable = true)\n",
      " |-- Geral: string (nullable = true)\n",
      " |-- Cultura e valores: string (nullable = true)\n",
      " |-- Diversidade e inclusão: string (nullable = true)\n",
      " |-- Qualidade de vida: string (nullable = true)\n",
      " |-- Alta liderança: string (nullable = true)\n",
      " |-- Remuneração e benefícios: string (nullable = true)\n",
      " |-- Oportunidades de carreira: string (nullable = true)\n",
      " |-- Recomendam para outras pessoas(%): string (nullable = true)\n",
      " |-- Perspectiva positiva da empresa(%): string (nullable = true)\n",
      " |-- Segmento: string (nullable = true)\n",
      " |-- Nome: string (nullable = true)\n",
      " |-- match_percent: string (nullable = true)\n",
      "\n"
     ]
    }
   ],
   "source": [
    "rwzd_employee.printSchema()"
   ]
  },
  {
   "cell_type": "markdown",
   "metadata": {},
   "source": [
    "Contando a quantidade de linhas"
   ]
  },
  {
   "cell_type": "code",
   "execution_count": 20,
   "metadata": {},
   "outputs": [
    {
     "data": {
      "text/plain": [
       "37"
      ]
     },
     "execution_count": 20,
     "metadata": {},
     "output_type": "execute_result"
    }
   ],
   "source": [
    "rwzd_employee.count()"
   ]
  },
  {
   "cell_type": "markdown",
   "metadata": {},
   "source": [
    "Salvando dados na camada _raw_ no formato parquet"
   ]
  },
  {
   "cell_type": "code",
   "execution_count": 21,
   "metadata": {},
   "outputs": [],
   "source": [
    "# raw_employee_path = './raw/employee/'\n",
    "# rwzd_employee.write.parquet(raw_employee_path, mode=\"append\")"
   ]
  },
  {
   "cell_type": "markdown",
   "metadata": {},
   "source": [
    "### **Claims**"
   ]
  },
  {
   "cell_type": "markdown",
   "metadata": {},
   "source": [
    "Localizando todos os arquivos contendo dados de reclamações"
   ]
  },
  {
   "cell_type": "code",
   "execution_count": 22,
   "metadata": {},
   "outputs": [
    {
     "data": {
      "text/plain": [
       "['../Fonte de Dados/Reclamações/2021_tri_01.csv',\n",
       " '../Fonte de Dados/Reclamações/2021_tri_02.csv',\n",
       " '../Fonte de Dados/Reclamações/2021_tri_03.csv',\n",
       " '../Fonte de Dados/Reclamações/2021_tri_04.csv',\n",
       " '../Fonte de Dados/Reclamações/2022_tri_01.csv',\n",
       " '../Fonte de Dados/Reclamações/2022_tri_02_nao_ha_dados.csv',\n",
       " '../Fonte de Dados/Reclamações/2022_tri_03.csv',\n",
       " '../Fonte de Dados/Reclamações/2022_tri_04.csv']"
      ]
     },
     "execution_count": 22,
     "metadata": {},
     "output_type": "execute_result"
    }
   ],
   "source": [
    "claim_dir = '../Fonte de Dados/Reclamações/'\n",
    "claim_files = os.listdir(claim_dir)\n",
    "claim_paths = list(map(lambda file: os.path.join(claim_dir, file), claim_files))\n",
    "claim_paths"
   ]
  },
  {
   "cell_type": "code",
   "execution_count": 23,
   "metadata": {},
   "outputs": [
    {
     "name": "stdout",
     "output_type": "stream",
     "text": [
      "+----+---------+--------------------+----------------+--------+----------------------+------+-----------------------------------------------+--------------------------------------------+---------------------------------------+-------------------------------+----------------------------------------+----------------------------+----------------------------+----+\n",
      "| Ano|Trimestre|           Categoria|            Tipo| CNPJ IF|Instituição financeira|Índice|Quantidade de reclamações reguladas procedentes|Quantidade de reclamações reguladas - outras|Quantidade de reclamações não reguladas|Quantidade total de reclamações|Quantidade total de clientes  CCS e SCR|Quantidade de clientes  CCS|Quantidade de clientes  SCR|_c14|\n",
      "+----+---------+--------------------+----------------+--------+----------------------+------+-----------------------------------------------+--------------------------------------------+---------------------------------------+-------------------------------+----------------------------------------+----------------------------+----------------------------+----+\n",
      "|2022|       3º|Demais Bancos, Fi...|    Conglomerado|        |  ABC-BRASIL (congl...|      |                                              4|                                           7|                                      3|                             14|                                   50720|                       47485|                        6932|null|\n",
      "|2022|       3º|Demais Bancos, Fi...|    Conglomerado|        |  ABN AMRO (conglom...|      |                                              0|                                           0|                                      1|                              1|                                       0|                           0|                            |null|\n",
      "|2022|       3º|Demais Bancos, Fi...|Banco/financeira|13140088|  ACESSO SOLUÇÕES D...| 14,70|                                             75|                                         128|                                      9|                            212|                                 5098671|                     5098661|                       19396|null|\n",
      "|2022|       3º|Demais Bancos, Fi...|    Conglomerado|        |  AGIBANK (conglome...| 96,00|                                            182|                                         262|                                     95|                            539|                                 1895683|                     1540134|                     1176067|null|\n",
      "|2022|       3º|Demais Bancos, Fi...|Banco/financeira|36321990|  AGORACRED S/A SOC...|      |                                              4|                                           4|                                      2|                             10|                                  534795|                         133|                      534662|null|\n",
      "|2022|       3º|Demais Bancos, Fi...|Banco/financeira|27214112|  AL5 S.A. CRÉDITO,...|      |                                             10|                                           3|                                      2|                             15|                                   30959|                       19706|                       16841|null|\n",
      "|2022|       3º|Demais Bancos, Fi...|    Conglomerado|        |   ALFA (conglomerado)|      |                                             23|                                          48|                                      9|                             80|                                  436746|                      267423|                      170417|null|\n",
      "|2022|       3º|Demais Bancos, Fi...|Banco/financeira|32778350|  AME DIGITAL BRASI...|      |                                              6|                                          31|                                     90|                            127|                                       0|                           0|                           0|null|\n",
      "|2022|       3º|Demais Bancos, Fi...|    Conglomerado|        |  ANDBANK (conglome...|      |                                              0|                                           2|                                      2|                              4|                                    4302|                        4302|                          29|null|\n",
      "|2022|       3º|Demais Bancos, Fi...|Banco/financeira|19540550|  ASAAS GESTÃO FINA...|      |                                              8|                                          42|                                      5|                             55|                                  404447|                      404447|                            |null|\n",
      "|2022|       3º|Demais Bancos, Fi...|Banco/financeira|54403563|       BANCO ARBI S.A.|      |                                             14|                                           8|                                      0|                             22|                                   84526|                       75882|                       10846|null|\n",
      "|2022|       3º|Demais Bancos, Fi...|Banco/financeira|00997185|         BANCO B3 S.A.|      |                                              0|                                           1|                                      1|                              2|                                     896|                         896|                            |null|\n",
      "|2022|       3º|Demais Bancos, Fi...|Banco/financeira|02658435|  BANCO CATERPILLAR...|      |                                              1|                                           0|                                      0|                              1|                                    3325|                            |                        3325|null|\n",
      "|2022|       3º|Demais Bancos, Fi...|Banco/financeira|33132044|     BANCO CEDULA S.A.|      |                                              0|                                           1|                                      1|                              2|                                   18010|                        2805|                       15425|null|\n",
      "|2022|       3º|Demais Bancos, Fi...|Banco/financeira|02992446|  BANCO CNH INDUSTR...|      |                                              0|                                           2|                                      2|                              4|                                   28887|                        1290|                       27778|null|\n",
      "|2022|       3º|Demais Bancos, Fi...|Banco/financeira|08357240|        BANCO CSF S.A.|  9,98|                                             77|                                          72|                                     43|                            192|                                 7707988|                            |                     7707988|null|\n",
      "|2022|       3º|Demais Bancos, Fi...|Banco/financeira|04902979|  BANCO DA AMAZONIA...|      |                                              6|                                           7|                                     10|                             23|                                  507169|                      507169|                            |null|\n",
      "|2022|       3º|Demais Bancos, Fi...|Banco/financeira|33042151|  BANCO DE LA NACIO...|      |                                              0|                                           2|                                      0|                              2|                                     267|                         255|                          22|null|\n",
      "|2022|       3º|Demais Bancos, Fi...|Banco/financeira|05040481|  BANCO DE LAGE LAN...|      |                                              0|                                           0|                                      1|                              1|                                   35292|                           4|                       35289|null|\n",
      "|2022|       3º|Demais Bancos, Fi...|Banco/financeira|92874270|   BANCO DIGIMAIS S.A.|424,80|                                            132|                                          31|                                     33|                            196|                                  310734|                      142304|                      203761|null|\n",
      "+----+---------+--------------------+----------------+--------+----------------------+------+-----------------------------------------------+--------------------------------------------+---------------------------------------+-------------------------------+----------------------------------------+----------------------------+----------------------------+----+\n",
      "only showing top 20 rows\n",
      "\n"
     ]
    }
   ],
   "source": [
    "rwzd_claim = spark.read.csv(claim_paths, sep=';', encoding='latin1', header=True)\n",
    "rwzd_claim.show()"
   ]
  },
  {
   "cell_type": "markdown",
   "metadata": {},
   "source": [
    "Analisando o esquema dos dados"
   ]
  },
  {
   "cell_type": "code",
   "execution_count": 24,
   "metadata": {},
   "outputs": [
    {
     "name": "stdout",
     "output_type": "stream",
     "text": [
      "root\n",
      " |-- Ano: string (nullable = true)\n",
      " |-- Trimestre: string (nullable = true)\n",
      " |-- Categoria: string (nullable = true)\n",
      " |-- Tipo: string (nullable = true)\n",
      " |-- CNPJ IF: string (nullable = true)\n",
      " |-- Instituição financeira: string (nullable = true)\n",
      " |-- Índice: string (nullable = true)\n",
      " |-- Quantidade de reclamações reguladas procedentes: string (nullable = true)\n",
      " |-- Quantidade de reclamações reguladas - outras: string (nullable = true)\n",
      " |-- Quantidade de reclamações não reguladas: string (nullable = true)\n",
      " |-- Quantidade total de reclamações: string (nullable = true)\n",
      " |-- Quantidade total de clientes  CCS e SCR: string (nullable = true)\n",
      " |-- Quantidade de clientes  CCS: string (nullable = true)\n",
      " |-- Quantidade de clientes  SCR: string (nullable = true)\n",
      " |-- _c14: string (nullable = true)\n",
      "\n"
     ]
    }
   ],
   "source": [
    "rwzd_claim.printSchema()"
   ]
  },
  {
   "cell_type": "markdown",
   "metadata": {},
   "source": [
    "Removendo coluna desnecessária"
   ]
  },
  {
   "cell_type": "code",
   "execution_count": 25,
   "metadata": {},
   "outputs": [],
   "source": [
    "rwzd_claim = rwzd_claim.drop('_c14')"
   ]
  },
  {
   "cell_type": "markdown",
   "metadata": {},
   "source": [
    "Contando a quantidade de linhas"
   ]
  },
  {
   "cell_type": "code",
   "execution_count": 26,
   "metadata": {},
   "outputs": [
    {
     "data": {
      "text/plain": [
       "918"
      ]
     },
     "execution_count": 26,
     "metadata": {},
     "output_type": "execute_result"
    }
   ],
   "source": [
    "rwzd_claim.count()"
   ]
  },
  {
   "cell_type": "markdown",
   "metadata": {},
   "source": [
    "Salvando dados na camada _raw_ no formato parquet"
   ]
  },
  {
   "cell_type": "code",
   "execution_count": 27,
   "metadata": {},
   "outputs": [],
   "source": [
    "# raw_claim_path = './raw/claim/'\n",
    "# rwzd_claim.write.parquet(raw_claim_path, mode=\"append\")"
   ]
  },
  {
   "cell_type": "markdown",
   "metadata": {},
   "source": [
    "---\n",
    "## **Trusted**"
   ]
  },
  {
   "cell_type": "markdown",
   "metadata": {},
   "source": [
    "### **Banks**"
   ]
  },
  {
   "cell_type": "code",
   "execution_count": 28,
   "metadata": {},
   "outputs": [],
   "source": [
    "trzd_bank = rwzd_bank"
   ]
  },
  {
   "cell_type": "markdown",
   "metadata": {},
   "source": [
    "Aplicando algumas transformações com o intuito de melhorar a qualidade dos dados:"
   ]
  },
  {
   "cell_type": "markdown",
   "metadata": {},
   "source": [
    "1 - Renomeando colunas do _dataframe_ para inglês e no formato _snake case_"
   ]
  },
  {
   "cell_type": "code",
   "execution_count": 29,
   "metadata": {},
   "outputs": [],
   "source": [
    "trzd_bank = trzd_bank.withColumnsRenamed({\n",
    "    'Segmento': 'segment',\n",
    "    'CNPJ': 'cnpj',\n",
    "    'Nome': 'financial_institution_name'\n",
    "})"
   ]
  },
  {
   "cell_type": "markdown",
   "metadata": {},
   "source": [
    "2 - Para que os dados da coluna _cnpj_ estivessem de acordo com seu padrão, os valores incompletos receberam numerais zeros à esquerda até completar 8 dígitos"
   ]
  },
  {
   "cell_type": "code",
   "execution_count": 30,
   "metadata": {},
   "outputs": [],
   "source": [
    "trzd_bank = trzd_bank.withColumn('cnpj', lpad(col('cnpj'), 8, '0'))"
   ]
  },
  {
   "cell_type": "code",
   "execution_count": 31,
   "metadata": {},
   "outputs": [],
   "source": [
    "trzd_bank = trzd_bank.withColumn('sk_cnpj_segment', sha1(concat(col('cnpj'), col('segment'))))"
   ]
  },
  {
   "cell_type": "code",
   "execution_count": 32,
   "metadata": {},
   "outputs": [
    {
     "name": "stdout",
     "output_type": "stream",
     "text": [
      "+-------+--------+---------------------------------------------+----------------------------------------+\n",
      "|segment|cnpj    |financial_institution_name                   |sk_cnpj_segment                         |\n",
      "+-------+--------+---------------------------------------------+----------------------------------------+\n",
      "|S1     |00000000|BANCO DO BRASIL - PRUDENCIAL                 |d9be4941c63af670d63086dcb0849a997e062a64|\n",
      "|S1     |60746948|BRADESCO - PRUDENCIAL                        |2f59bebc86f6b4dd5628043cac240c6e6a6f651d|\n",
      "|S1     |30306294|BTG PACTUAL - PRUDENCIAL                     |110ffbf347c0837827daf658f4f97950ebe9f741|\n",
      "|S1     |00360305|CAIXA ECONOMICA FEDERAL - PRUDENCIAL         |587e4dca521e8c4426371a29658419ecb0087262|\n",
      "|S1     |60872504|ITAU - PRUDENCIAL                            |4b6e5b20d113f3415704fd6a998f2e4500340b18|\n",
      "|S1     |90400888|SANTANDER - PRUDENCIAL                       |75ddb1c713e8da4daab944522b8ee5dda29c2983|\n",
      "|S2     |92702067|BANRISUL - PRUDENCIAL                        |ddd1cba40d24bcf93c637028f2ef047ce4fae886|\n",
      "|S2     |07237373|BANCO DO NORDESTE DO BRASIL S.A. - PRUDENCIAL|4e52ea413cf937405f38013294434e85be954f2d|\n",
      "|S2     |33657248|BNDES - PRUDENCIAL                           |bd262ac480470e839f0e98c0f57383d2034ac1a6|\n",
      "|S2     |33479023|CITIBANK - PRUDENCIAL                        |9dfc299c9dffe3629288d302b47a2dcf9ec883cb|\n",
      "|S2     |33987793|CREDIT SUISSE - PRUDENCIAL                   |2d52471f560d1a3b35ad745dd9626640fdf2a12e|\n",
      "|S2     |58160789|SAFRA - PRUDENCIAL                           |10fd63fa68a9399399c41747efaccbbd7f474b80|\n",
      "|S2     |59588111|VOTORANTIM - PRUDENCIAL                      |7c0daecf7f3d35c4c8b991ff49149a87d1c680b8|\n",
      "|S3     |28195667|ABC-BRASIL - PRUDENCIAL                      |4396c9aca92a8cfb1aba2ce3fa1e98a15ab209b3|\n",
      "|S3     |60770336|ALFA - PRUDENCIAL                            |aa27f0a03ce357a431c2789b7f6596e0b464e2bc|\n",
      "|S3     |00655522|APE POUPEX                                   |d52450adc95fa0bbb0d69e46f1b200a2191be886|\n",
      "|S3     |02992446|BANCO CNH INDUSTRIAL CAPITAL S.A - PRUDENCIAL|4110f81144c29257d25a66c80576c8929f84ecc4|\n",
      "|S3     |02038232|BANCOOB - PRUDENCIAL                         |a0eed533328d57ac2d7846c49b7ccc23798cd566|\n",
      "|S3     |28127603|BANESTES - PRUDENCIAL                        |2748b9aae2109a4b4b66e4c870b3539f1fd5ce12|\n",
      "|S3     |31597552|BANCO CLASSICO S.A. - PRUDENCIAL             |5f93aa376cd172e5543caf6a511eb917292c5024|\n",
      "+-------+--------+---------------------------------------------+----------------------------------------+\n",
      "only showing top 20 rows\n",
      "\n"
     ]
    }
   ],
   "source": [
    "trzd_bank.show(truncate=False)"
   ]
  },
  {
   "cell_type": "code",
   "execution_count": 33,
   "metadata": {},
   "outputs": [],
   "source": [
    "## salvar em parquet"
   ]
  },
  {
   "cell_type": "markdown",
   "metadata": {},
   "source": [
    "### **Employees**"
   ]
  },
  {
   "cell_type": "code",
   "execution_count": 34,
   "metadata": {},
   "outputs": [],
   "source": [
    "trzd_employee = rwzd_employee"
   ]
  },
  {
   "cell_type": "code",
   "execution_count": 35,
   "metadata": {},
   "outputs": [],
   "source": [
    "trzd_employee = trzd_employee.withColumnsRenamed({\n",
    "    'employer-website': 'employer_website',\n",
    "    'employer-headquarters': 'employer_headquarters',\n",
    "    'employer-founded': 'employer_founded',\n",
    "    'employer-industry': 'employer_industry',\n",
    "    'employer-revenue': 'employer_revenue',\n",
    "    'Geral': 'general_score',\n",
    "    'Cultura e valores': 'culture_values_score',\n",
    "    'Diversidade e inclusão': 'diversity_inclusion_score',\n",
    "    'Qualidade de vida': 'life_quality_score',\n",
    "    'Alta liderança': 'senior_leadership_score',\n",
    "    'Remuneração e benefícios': 'compensation_benefits_score',\n",
    "    'Oportunidades de carreira': 'career_opportunities_score',\n",
    "    'Recomendam para outras pessoas(%)': 'recommendation_score',\n",
    "    'Perspectiva positiva da empresa(%)': 'company_positive_score',\n",
    "    'Segmento': 'segment',\n",
    "    'Nome': 'financial_institution_name'\n",
    "})"
   ]
  },
  {
   "cell_type": "code",
   "execution_count": 36,
   "metadata": {},
   "outputs": [],
   "source": [
    "trzd_employee = trzd_employee.withColumn('employer_founded', regexp_replace(col('employer_founded'), r'\\..*', ''))"
   ]
  },
  {
   "cell_type": "code",
   "execution_count": 37,
   "metadata": {},
   "outputs": [],
   "source": [
    "def unaccent_new(word: str) -> str:\n",
    "    return unidecode(word)\n",
    "\n",
    "unaccent = udf(unaccent_new, StringType())"
   ]
  },
  {
   "cell_type": "code",
   "execution_count": 38,
   "metadata": {},
   "outputs": [],
   "source": [
    "# unaccent = udf(lambda word: unidecode(word))\n",
    "\n",
    "trzd_employee = trzd_employee \\\n",
    "    .withColumn('sk_financial_institution_name', unaccent(col('financial_institution_name'))) \\\n",
    "    .withColumn('sk_financial_institution_name', lower(col('sk_financial_institution_name'))) \\\n",
    "    .withColumn('sk_financial_institution_name', regexp_replace(col('sk_financial_institution_name'), r' ', '')) \\\n",
    "    .withColumn('sk_financial_institution_name', sha1(col('sk_financial_institution_name')))"
   ]
  },
  {
   "cell_type": "code",
   "execution_count": 39,
   "metadata": {},
   "outputs": [
    {
     "ename": "Py4JJavaError",
     "evalue": "An error occurred while calling o130.showString.\n: org.apache.spark.SparkException: Job aborted due to stage failure: Task 0 in stage 21.0 failed 1 times, most recent failure: Lost task 0.0 in stage 21.0 (TID 23) (NITRO5 executor driver): org.apache.spark.SparkException: Python worker failed to connect back.\r\n\tat org.apache.spark.api.python.PythonWorkerFactory.createSimpleWorker(PythonWorkerFactory.scala:192)\r\n\tat org.apache.spark.api.python.PythonWorkerFactory.create(PythonWorkerFactory.scala:109)\r\n\tat org.apache.spark.SparkEnv.createPythonWorker(SparkEnv.scala:124)\r\n\tat org.apache.spark.api.python.BasePythonRunner.compute(PythonRunner.scala:166)\r\n\tat org.apache.spark.sql.execution.python.BatchEvalPythonExec.evaluate(BatchEvalPythonExec.scala:82)\r\n\tat org.apache.spark.sql.execution.python.EvalPythonExec.$anonfun$doExecute$2(EvalPythonExec.scala:131)\r\n\tat org.apache.spark.rdd.RDD.$anonfun$mapPartitions$2(RDD.scala:853)\r\n\tat org.apache.spark.rdd.RDD.$anonfun$mapPartitions$2$adapted(RDD.scala:853)\r\n\tat org.apache.spark.rdd.MapPartitionsRDD.compute(MapPartitionsRDD.scala:52)\r\n\tat org.apache.spark.rdd.RDD.computeOrReadCheckpoint(RDD.scala:364)\r\n\tat org.apache.spark.rdd.RDD.iterator(RDD.scala:328)\r\n\tat org.apache.spark.rdd.MapPartitionsRDD.compute(MapPartitionsRDD.scala:52)\r\n\tat org.apache.spark.rdd.RDD.computeOrReadCheckpoint(RDD.scala:364)\r\n\tat org.apache.spark.rdd.RDD.iterator(RDD.scala:328)\r\n\tat org.apache.spark.rdd.MapPartitionsRDD.compute(MapPartitionsRDD.scala:52)\r\n\tat org.apache.spark.rdd.RDD.computeOrReadCheckpoint(RDD.scala:364)\r\n\tat org.apache.spark.rdd.RDD.iterator(RDD.scala:328)\r\n\tat org.apache.spark.scheduler.ResultTask.runTask(ResultTask.scala:92)\r\n\tat org.apache.spark.TaskContext.runTaskWithListeners(TaskContext.scala:161)\r\n\tat org.apache.spark.scheduler.Task.run(Task.scala:139)\r\n\tat org.apache.spark.executor.Executor$TaskRunner.$anonfun$run$3(Executor.scala:554)\r\n\tat org.apache.spark.util.Utils$.tryWithSafeFinally(Utils.scala:1529)\r\n\tat org.apache.spark.executor.Executor$TaskRunner.run(Executor.scala:557)\r\n\tat java.util.concurrent.ThreadPoolExecutor.runWorker(Unknown Source)\r\n\tat java.util.concurrent.ThreadPoolExecutor$Worker.run(Unknown Source)\r\n\tat java.lang.Thread.run(Unknown Source)\r\nCaused by: java.net.SocketTimeoutException: Accept timed out\r\n\tat java.net.DualStackPlainSocketImpl.waitForNewConnection(Native Method)\r\n\tat java.net.DualStackPlainSocketImpl.socketAccept(Unknown Source)\r\n\tat java.net.AbstractPlainSocketImpl.accept(Unknown Source)\r\n\tat java.net.PlainSocketImpl.accept(Unknown Source)\r\n\tat java.net.ServerSocket.implAccept(Unknown Source)\r\n\tat java.net.ServerSocket.accept(Unknown Source)\r\n\tat org.apache.spark.api.python.PythonWorkerFactory.createSimpleWorker(PythonWorkerFactory.scala:179)\r\n\t... 25 more\r\n\nDriver stacktrace:\r\n\tat org.apache.spark.scheduler.DAGScheduler.failJobAndIndependentStages(DAGScheduler.scala:2785)\r\n\tat org.apache.spark.scheduler.DAGScheduler.$anonfun$abortStage$2(DAGScheduler.scala:2721)\r\n\tat org.apache.spark.scheduler.DAGScheduler.$anonfun$abortStage$2$adapted(DAGScheduler.scala:2720)\r\n\tat scala.collection.mutable.ResizableArray.foreach(ResizableArray.scala:62)\r\n\tat scala.collection.mutable.ResizableArray.foreach$(ResizableArray.scala:55)\r\n\tat scala.collection.mutable.ArrayBuffer.foreach(ArrayBuffer.scala:49)\r\n\tat org.apache.spark.scheduler.DAGScheduler.abortStage(DAGScheduler.scala:2720)\r\n\tat org.apache.spark.scheduler.DAGScheduler.$anonfun$handleTaskSetFailed$1(DAGScheduler.scala:1206)\r\n\tat org.apache.spark.scheduler.DAGScheduler.$anonfun$handleTaskSetFailed$1$adapted(DAGScheduler.scala:1206)\r\n\tat scala.Option.foreach(Option.scala:407)\r\n\tat org.apache.spark.scheduler.DAGScheduler.handleTaskSetFailed(DAGScheduler.scala:1206)\r\n\tat org.apache.spark.scheduler.DAGSchedulerEventProcessLoop.doOnReceive(DAGScheduler.scala:2984)\r\n\tat org.apache.spark.scheduler.DAGSchedulerEventProcessLoop.onReceive(DAGScheduler.scala:2923)\r\n\tat org.apache.spark.scheduler.DAGSchedulerEventProcessLoop.onReceive(DAGScheduler.scala:2912)\r\n\tat org.apache.spark.util.EventLoop$$anon$1.run(EventLoop.scala:49)\r\n\tat org.apache.spark.scheduler.DAGScheduler.runJob(DAGScheduler.scala:971)\r\n\tat org.apache.spark.SparkContext.runJob(SparkContext.scala:2263)\r\n\tat org.apache.spark.SparkContext.runJob(SparkContext.scala:2284)\r\n\tat org.apache.spark.SparkContext.runJob(SparkContext.scala:2303)\r\n\tat org.apache.spark.sql.execution.SparkPlan.executeTake(SparkPlan.scala:530)\r\n\tat org.apache.spark.sql.execution.SparkPlan.executeTake(SparkPlan.scala:483)\r\n\tat org.apache.spark.sql.execution.CollectLimitExec.executeCollect(limit.scala:61)\r\n\tat org.apache.spark.sql.execution.adaptive.AdaptiveSparkPlanExec.$anonfun$executeCollect$1(AdaptiveSparkPlanExec.scala:354)\r\n\tat org.apache.spark.sql.execution.adaptive.AdaptiveSparkPlanExec.withFinalPlanUpdate(AdaptiveSparkPlanExec.scala:382)\r\n\tat org.apache.spark.sql.execution.adaptive.AdaptiveSparkPlanExec.executeCollect(AdaptiveSparkPlanExec.scala:354)\r\n\tat org.apache.spark.sql.Dataset.collectFromPlan(Dataset.scala:4177)\r\n\tat org.apache.spark.sql.Dataset.$anonfun$head$1(Dataset.scala:3161)\r\n\tat org.apache.spark.sql.Dataset.$anonfun$withAction$2(Dataset.scala:4167)\r\n\tat org.apache.spark.sql.execution.QueryExecution$.withInternalError(QueryExecution.scala:526)\r\n\tat org.apache.spark.sql.Dataset.$anonfun$withAction$1(Dataset.scala:4165)\r\n\tat org.apache.spark.sql.execution.SQLExecution$.$anonfun$withNewExecutionId$6(SQLExecution.scala:118)\r\n\tat org.apache.spark.sql.execution.SQLExecution$.withSQLConfPropagated(SQLExecution.scala:195)\r\n\tat org.apache.spark.sql.execution.SQLExecution$.$anonfun$withNewExecutionId$1(SQLExecution.scala:103)\r\n\tat org.apache.spark.sql.SparkSession.withActive(SparkSession.scala:827)\r\n\tat org.apache.spark.sql.execution.SQLExecution$.withNewExecutionId(SQLExecution.scala:65)\r\n\tat org.apache.spark.sql.Dataset.withAction(Dataset.scala:4165)\r\n\tat org.apache.spark.sql.Dataset.head(Dataset.scala:3161)\r\n\tat org.apache.spark.sql.Dataset.take(Dataset.scala:3382)\r\n\tat org.apache.spark.sql.Dataset.getRows(Dataset.scala:284)\r\n\tat org.apache.spark.sql.Dataset.showString(Dataset.scala:323)\r\n\tat sun.reflect.NativeMethodAccessorImpl.invoke0(Native Method)\r\n\tat sun.reflect.NativeMethodAccessorImpl.invoke(Unknown Source)\r\n\tat sun.reflect.DelegatingMethodAccessorImpl.invoke(Unknown Source)\r\n\tat java.lang.reflect.Method.invoke(Unknown Source)\r\n\tat py4j.reflection.MethodInvoker.invoke(MethodInvoker.java:244)\r\n\tat py4j.reflection.ReflectionEngine.invoke(ReflectionEngine.java:374)\r\n\tat py4j.Gateway.invoke(Gateway.java:282)\r\n\tat py4j.commands.AbstractCommand.invokeMethod(AbstractCommand.java:132)\r\n\tat py4j.commands.CallCommand.execute(CallCommand.java:79)\r\n\tat py4j.ClientServerConnection.waitForCommands(ClientServerConnection.java:182)\r\n\tat py4j.ClientServerConnection.run(ClientServerConnection.java:106)\r\n\tat java.lang.Thread.run(Unknown Source)\r\nCaused by: org.apache.spark.SparkException: Python worker failed to connect back.\r\n\tat org.apache.spark.api.python.PythonWorkerFactory.createSimpleWorker(PythonWorkerFactory.scala:192)\r\n\tat org.apache.spark.api.python.PythonWorkerFactory.create(PythonWorkerFactory.scala:109)\r\n\tat org.apache.spark.SparkEnv.createPythonWorker(SparkEnv.scala:124)\r\n\tat org.apache.spark.api.python.BasePythonRunner.compute(PythonRunner.scala:166)\r\n\tat org.apache.spark.sql.execution.python.BatchEvalPythonExec.evaluate(BatchEvalPythonExec.scala:82)\r\n\tat org.apache.spark.sql.execution.python.EvalPythonExec.$anonfun$doExecute$2(EvalPythonExec.scala:131)\r\n\tat org.apache.spark.rdd.RDD.$anonfun$mapPartitions$2(RDD.scala:853)\r\n\tat org.apache.spark.rdd.RDD.$anonfun$mapPartitions$2$adapted(RDD.scala:853)\r\n\tat org.apache.spark.rdd.MapPartitionsRDD.compute(MapPartitionsRDD.scala:52)\r\n\tat org.apache.spark.rdd.RDD.computeOrReadCheckpoint(RDD.scala:364)\r\n\tat org.apache.spark.rdd.RDD.iterator(RDD.scala:328)\r\n\tat org.apache.spark.rdd.MapPartitionsRDD.compute(MapPartitionsRDD.scala:52)\r\n\tat org.apache.spark.rdd.RDD.computeOrReadCheckpoint(RDD.scala:364)\r\n\tat org.apache.spark.rdd.RDD.iterator(RDD.scala:328)\r\n\tat org.apache.spark.rdd.MapPartitionsRDD.compute(MapPartitionsRDD.scala:52)\r\n\tat org.apache.spark.rdd.RDD.computeOrReadCheckpoint(RDD.scala:364)\r\n\tat org.apache.spark.rdd.RDD.iterator(RDD.scala:328)\r\n\tat org.apache.spark.scheduler.ResultTask.runTask(ResultTask.scala:92)\r\n\tat org.apache.spark.TaskContext.runTaskWithListeners(TaskContext.scala:161)\r\n\tat org.apache.spark.scheduler.Task.run(Task.scala:139)\r\n\tat org.apache.spark.executor.Executor$TaskRunner.$anonfun$run$3(Executor.scala:554)\r\n\tat org.apache.spark.util.Utils$.tryWithSafeFinally(Utils.scala:1529)\r\n\tat org.apache.spark.executor.Executor$TaskRunner.run(Executor.scala:557)\r\n\tat java.util.concurrent.ThreadPoolExecutor.runWorker(Unknown Source)\r\n\tat java.util.concurrent.ThreadPoolExecutor$Worker.run(Unknown Source)\r\n\t... 1 more\r\nCaused by: java.net.SocketTimeoutException: Accept timed out\r\n\tat java.net.DualStackPlainSocketImpl.waitForNewConnection(Native Method)\r\n\tat java.net.DualStackPlainSocketImpl.socketAccept(Unknown Source)\r\n\tat java.net.AbstractPlainSocketImpl.accept(Unknown Source)\r\n\tat java.net.PlainSocketImpl.accept(Unknown Source)\r\n\tat java.net.ServerSocket.implAccept(Unknown Source)\r\n\tat java.net.ServerSocket.accept(Unknown Source)\r\n\tat org.apache.spark.api.python.PythonWorkerFactory.createSimpleWorker(PythonWorkerFactory.scala:179)\r\n\t... 25 more\r\n",
     "output_type": "error",
     "traceback": [
      "\u001b[1;31m---------------------------------------------------------------------------\u001b[0m",
      "\u001b[1;31mPy4JJavaError\u001b[0m                             Traceback (most recent call last)",
      "Cell \u001b[1;32mIn[39], line 1\u001b[0m\n\u001b[1;32m----> 1\u001b[0m trzd_employee\u001b[38;5;241m.\u001b[39mshow(truncate\u001b[38;5;241m=\u001b[39m\u001b[38;5;28;01mFalse\u001b[39;00m)\n",
      "File \u001b[1;32mc:\\ProgramData\\anaconda3\\envs\\pyspark-env\\Lib\\site-packages\\pyspark\\sql\\dataframe.py:912\u001b[0m, in \u001b[0;36mDataFrame.show\u001b[1;34m(self, n, truncate, vertical)\u001b[0m\n\u001b[0;32m    903\u001b[0m \u001b[38;5;28;01mexcept\u001b[39;00m \u001b[38;5;167;01mValueError\u001b[39;00m:\n\u001b[0;32m    904\u001b[0m     \u001b[38;5;28;01mraise\u001b[39;00m PySparkTypeError(\n\u001b[0;32m    905\u001b[0m         error_class\u001b[38;5;241m=\u001b[39m\u001b[38;5;124m\"\u001b[39m\u001b[38;5;124mNOT_BOOL\u001b[39m\u001b[38;5;124m\"\u001b[39m,\n\u001b[0;32m    906\u001b[0m         message_parameters\u001b[38;5;241m=\u001b[39m{\n\u001b[1;32m   (...)\u001b[0m\n\u001b[0;32m    909\u001b[0m         },\n\u001b[0;32m    910\u001b[0m     )\n\u001b[1;32m--> 912\u001b[0m \u001b[38;5;28mprint\u001b[39m(\u001b[38;5;28mself\u001b[39m\u001b[38;5;241m.\u001b[39m_jdf\u001b[38;5;241m.\u001b[39mshowString(n, int_truncate, vertical))\n",
      "File \u001b[1;32mc:\\ProgramData\\anaconda3\\envs\\pyspark-env\\Lib\\site-packages\\py4j\\java_gateway.py:1322\u001b[0m, in \u001b[0;36mJavaMember.__call__\u001b[1;34m(self, *args)\u001b[0m\n\u001b[0;32m   1316\u001b[0m command \u001b[38;5;241m=\u001b[39m proto\u001b[38;5;241m.\u001b[39mCALL_COMMAND_NAME \u001b[38;5;241m+\u001b[39m\\\n\u001b[0;32m   1317\u001b[0m     \u001b[38;5;28mself\u001b[39m\u001b[38;5;241m.\u001b[39mcommand_header \u001b[38;5;241m+\u001b[39m\\\n\u001b[0;32m   1318\u001b[0m     args_command \u001b[38;5;241m+\u001b[39m\\\n\u001b[0;32m   1319\u001b[0m     proto\u001b[38;5;241m.\u001b[39mEND_COMMAND_PART\n\u001b[0;32m   1321\u001b[0m answer \u001b[38;5;241m=\u001b[39m \u001b[38;5;28mself\u001b[39m\u001b[38;5;241m.\u001b[39mgateway_client\u001b[38;5;241m.\u001b[39msend_command(command)\n\u001b[1;32m-> 1322\u001b[0m return_value \u001b[38;5;241m=\u001b[39m get_return_value(\n\u001b[0;32m   1323\u001b[0m     answer, \u001b[38;5;28mself\u001b[39m\u001b[38;5;241m.\u001b[39mgateway_client, \u001b[38;5;28mself\u001b[39m\u001b[38;5;241m.\u001b[39mtarget_id, \u001b[38;5;28mself\u001b[39m\u001b[38;5;241m.\u001b[39mname)\n\u001b[0;32m   1325\u001b[0m \u001b[38;5;28;01mfor\u001b[39;00m temp_arg \u001b[38;5;129;01min\u001b[39;00m temp_args:\n\u001b[0;32m   1326\u001b[0m     \u001b[38;5;28;01mif\u001b[39;00m \u001b[38;5;28mhasattr\u001b[39m(temp_arg, \u001b[38;5;124m\"\u001b[39m\u001b[38;5;124m_detach\u001b[39m\u001b[38;5;124m\"\u001b[39m):\n",
      "File \u001b[1;32mc:\\ProgramData\\anaconda3\\envs\\pyspark-env\\Lib\\site-packages\\pyspark\\errors\\exceptions\\captured.py:169\u001b[0m, in \u001b[0;36mcapture_sql_exception.<locals>.deco\u001b[1;34m(*a, **kw)\u001b[0m\n\u001b[0;32m    167\u001b[0m \u001b[38;5;28;01mdef\u001b[39;00m \u001b[38;5;21mdeco\u001b[39m(\u001b[38;5;241m*\u001b[39ma: Any, \u001b[38;5;241m*\u001b[39m\u001b[38;5;241m*\u001b[39mkw: Any) \u001b[38;5;241m-\u001b[39m\u001b[38;5;241m>\u001b[39m Any:\n\u001b[0;32m    168\u001b[0m     \u001b[38;5;28;01mtry\u001b[39;00m:\n\u001b[1;32m--> 169\u001b[0m         \u001b[38;5;28;01mreturn\u001b[39;00m f(\u001b[38;5;241m*\u001b[39ma, \u001b[38;5;241m*\u001b[39m\u001b[38;5;241m*\u001b[39mkw)\n\u001b[0;32m    170\u001b[0m     \u001b[38;5;28;01mexcept\u001b[39;00m Py4JJavaError \u001b[38;5;28;01mas\u001b[39;00m e:\n\u001b[0;32m    171\u001b[0m         converted \u001b[38;5;241m=\u001b[39m convert_exception(e\u001b[38;5;241m.\u001b[39mjava_exception)\n",
      "File \u001b[1;32mc:\\ProgramData\\anaconda3\\envs\\pyspark-env\\Lib\\site-packages\\py4j\\protocol.py:326\u001b[0m, in \u001b[0;36mget_return_value\u001b[1;34m(answer, gateway_client, target_id, name)\u001b[0m\n\u001b[0;32m    324\u001b[0m value \u001b[38;5;241m=\u001b[39m OUTPUT_CONVERTER[\u001b[38;5;28mtype\u001b[39m](answer[\u001b[38;5;241m2\u001b[39m:], gateway_client)\n\u001b[0;32m    325\u001b[0m \u001b[38;5;28;01mif\u001b[39;00m answer[\u001b[38;5;241m1\u001b[39m] \u001b[38;5;241m==\u001b[39m REFERENCE_TYPE:\n\u001b[1;32m--> 326\u001b[0m     \u001b[38;5;28;01mraise\u001b[39;00m Py4JJavaError(\n\u001b[0;32m    327\u001b[0m         \u001b[38;5;124m\"\u001b[39m\u001b[38;5;124mAn error occurred while calling \u001b[39m\u001b[38;5;132;01m{0}\u001b[39;00m\u001b[38;5;132;01m{1}\u001b[39;00m\u001b[38;5;132;01m{2}\u001b[39;00m\u001b[38;5;124m.\u001b[39m\u001b[38;5;130;01m\\n\u001b[39;00m\u001b[38;5;124m\"\u001b[39m\u001b[38;5;241m.\u001b[39m\n\u001b[0;32m    328\u001b[0m         \u001b[38;5;28mformat\u001b[39m(target_id, \u001b[38;5;124m\"\u001b[39m\u001b[38;5;124m.\u001b[39m\u001b[38;5;124m\"\u001b[39m, name), value)\n\u001b[0;32m    329\u001b[0m \u001b[38;5;28;01melse\u001b[39;00m:\n\u001b[0;32m    330\u001b[0m     \u001b[38;5;28;01mraise\u001b[39;00m Py4JError(\n\u001b[0;32m    331\u001b[0m         \u001b[38;5;124m\"\u001b[39m\u001b[38;5;124mAn error occurred while calling \u001b[39m\u001b[38;5;132;01m{0}\u001b[39;00m\u001b[38;5;132;01m{1}\u001b[39;00m\u001b[38;5;132;01m{2}\u001b[39;00m\u001b[38;5;124m. Trace:\u001b[39m\u001b[38;5;130;01m\\n\u001b[39;00m\u001b[38;5;132;01m{3}\u001b[39;00m\u001b[38;5;130;01m\\n\u001b[39;00m\u001b[38;5;124m\"\u001b[39m\u001b[38;5;241m.\u001b[39m\n\u001b[0;32m    332\u001b[0m         \u001b[38;5;28mformat\u001b[39m(target_id, \u001b[38;5;124m\"\u001b[39m\u001b[38;5;124m.\u001b[39m\u001b[38;5;124m\"\u001b[39m, name, value))\n",
      "\u001b[1;31mPy4JJavaError\u001b[0m: An error occurred while calling o130.showString.\n: org.apache.spark.SparkException: Job aborted due to stage failure: Task 0 in stage 21.0 failed 1 times, most recent failure: Lost task 0.0 in stage 21.0 (TID 23) (NITRO5 executor driver): org.apache.spark.SparkException: Python worker failed to connect back.\r\n\tat org.apache.spark.api.python.PythonWorkerFactory.createSimpleWorker(PythonWorkerFactory.scala:192)\r\n\tat org.apache.spark.api.python.PythonWorkerFactory.create(PythonWorkerFactory.scala:109)\r\n\tat org.apache.spark.SparkEnv.createPythonWorker(SparkEnv.scala:124)\r\n\tat org.apache.spark.api.python.BasePythonRunner.compute(PythonRunner.scala:166)\r\n\tat org.apache.spark.sql.execution.python.BatchEvalPythonExec.evaluate(BatchEvalPythonExec.scala:82)\r\n\tat org.apache.spark.sql.execution.python.EvalPythonExec.$anonfun$doExecute$2(EvalPythonExec.scala:131)\r\n\tat org.apache.spark.rdd.RDD.$anonfun$mapPartitions$2(RDD.scala:853)\r\n\tat org.apache.spark.rdd.RDD.$anonfun$mapPartitions$2$adapted(RDD.scala:853)\r\n\tat org.apache.spark.rdd.MapPartitionsRDD.compute(MapPartitionsRDD.scala:52)\r\n\tat org.apache.spark.rdd.RDD.computeOrReadCheckpoint(RDD.scala:364)\r\n\tat org.apache.spark.rdd.RDD.iterator(RDD.scala:328)\r\n\tat org.apache.spark.rdd.MapPartitionsRDD.compute(MapPartitionsRDD.scala:52)\r\n\tat org.apache.spark.rdd.RDD.computeOrReadCheckpoint(RDD.scala:364)\r\n\tat org.apache.spark.rdd.RDD.iterator(RDD.scala:328)\r\n\tat org.apache.spark.rdd.MapPartitionsRDD.compute(MapPartitionsRDD.scala:52)\r\n\tat org.apache.spark.rdd.RDD.computeOrReadCheckpoint(RDD.scala:364)\r\n\tat org.apache.spark.rdd.RDD.iterator(RDD.scala:328)\r\n\tat org.apache.spark.scheduler.ResultTask.runTask(ResultTask.scala:92)\r\n\tat org.apache.spark.TaskContext.runTaskWithListeners(TaskContext.scala:161)\r\n\tat org.apache.spark.scheduler.Task.run(Task.scala:139)\r\n\tat org.apache.spark.executor.Executor$TaskRunner.$anonfun$run$3(Executor.scala:554)\r\n\tat org.apache.spark.util.Utils$.tryWithSafeFinally(Utils.scala:1529)\r\n\tat org.apache.spark.executor.Executor$TaskRunner.run(Executor.scala:557)\r\n\tat java.util.concurrent.ThreadPoolExecutor.runWorker(Unknown Source)\r\n\tat java.util.concurrent.ThreadPoolExecutor$Worker.run(Unknown Source)\r\n\tat java.lang.Thread.run(Unknown Source)\r\nCaused by: java.net.SocketTimeoutException: Accept timed out\r\n\tat java.net.DualStackPlainSocketImpl.waitForNewConnection(Native Method)\r\n\tat java.net.DualStackPlainSocketImpl.socketAccept(Unknown Source)\r\n\tat java.net.AbstractPlainSocketImpl.accept(Unknown Source)\r\n\tat java.net.PlainSocketImpl.accept(Unknown Source)\r\n\tat java.net.ServerSocket.implAccept(Unknown Source)\r\n\tat java.net.ServerSocket.accept(Unknown Source)\r\n\tat org.apache.spark.api.python.PythonWorkerFactory.createSimpleWorker(PythonWorkerFactory.scala:179)\r\n\t... 25 more\r\n\nDriver stacktrace:\r\n\tat org.apache.spark.scheduler.DAGScheduler.failJobAndIndependentStages(DAGScheduler.scala:2785)\r\n\tat org.apache.spark.scheduler.DAGScheduler.$anonfun$abortStage$2(DAGScheduler.scala:2721)\r\n\tat org.apache.spark.scheduler.DAGScheduler.$anonfun$abortStage$2$adapted(DAGScheduler.scala:2720)\r\n\tat scala.collection.mutable.ResizableArray.foreach(ResizableArray.scala:62)\r\n\tat scala.collection.mutable.ResizableArray.foreach$(ResizableArray.scala:55)\r\n\tat scala.collection.mutable.ArrayBuffer.foreach(ArrayBuffer.scala:49)\r\n\tat org.apache.spark.scheduler.DAGScheduler.abortStage(DAGScheduler.scala:2720)\r\n\tat org.apache.spark.scheduler.DAGScheduler.$anonfun$handleTaskSetFailed$1(DAGScheduler.scala:1206)\r\n\tat org.apache.spark.scheduler.DAGScheduler.$anonfun$handleTaskSetFailed$1$adapted(DAGScheduler.scala:1206)\r\n\tat scala.Option.foreach(Option.scala:407)\r\n\tat org.apache.spark.scheduler.DAGScheduler.handleTaskSetFailed(DAGScheduler.scala:1206)\r\n\tat org.apache.spark.scheduler.DAGSchedulerEventProcessLoop.doOnReceive(DAGScheduler.scala:2984)\r\n\tat org.apache.spark.scheduler.DAGSchedulerEventProcessLoop.onReceive(DAGScheduler.scala:2923)\r\n\tat org.apache.spark.scheduler.DAGSchedulerEventProcessLoop.onReceive(DAGScheduler.scala:2912)\r\n\tat org.apache.spark.util.EventLoop$$anon$1.run(EventLoop.scala:49)\r\n\tat org.apache.spark.scheduler.DAGScheduler.runJob(DAGScheduler.scala:971)\r\n\tat org.apache.spark.SparkContext.runJob(SparkContext.scala:2263)\r\n\tat org.apache.spark.SparkContext.runJob(SparkContext.scala:2284)\r\n\tat org.apache.spark.SparkContext.runJob(SparkContext.scala:2303)\r\n\tat org.apache.spark.sql.execution.SparkPlan.executeTake(SparkPlan.scala:530)\r\n\tat org.apache.spark.sql.execution.SparkPlan.executeTake(SparkPlan.scala:483)\r\n\tat org.apache.spark.sql.execution.CollectLimitExec.executeCollect(limit.scala:61)\r\n\tat org.apache.spark.sql.execution.adaptive.AdaptiveSparkPlanExec.$anonfun$executeCollect$1(AdaptiveSparkPlanExec.scala:354)\r\n\tat org.apache.spark.sql.execution.adaptive.AdaptiveSparkPlanExec.withFinalPlanUpdate(AdaptiveSparkPlanExec.scala:382)\r\n\tat org.apache.spark.sql.execution.adaptive.AdaptiveSparkPlanExec.executeCollect(AdaptiveSparkPlanExec.scala:354)\r\n\tat org.apache.spark.sql.Dataset.collectFromPlan(Dataset.scala:4177)\r\n\tat org.apache.spark.sql.Dataset.$anonfun$head$1(Dataset.scala:3161)\r\n\tat org.apache.spark.sql.Dataset.$anonfun$withAction$2(Dataset.scala:4167)\r\n\tat org.apache.spark.sql.execution.QueryExecution$.withInternalError(QueryExecution.scala:526)\r\n\tat org.apache.spark.sql.Dataset.$anonfun$withAction$1(Dataset.scala:4165)\r\n\tat org.apache.spark.sql.execution.SQLExecution$.$anonfun$withNewExecutionId$6(SQLExecution.scala:118)\r\n\tat org.apache.spark.sql.execution.SQLExecution$.withSQLConfPropagated(SQLExecution.scala:195)\r\n\tat org.apache.spark.sql.execution.SQLExecution$.$anonfun$withNewExecutionId$1(SQLExecution.scala:103)\r\n\tat org.apache.spark.sql.SparkSession.withActive(SparkSession.scala:827)\r\n\tat org.apache.spark.sql.execution.SQLExecution$.withNewExecutionId(SQLExecution.scala:65)\r\n\tat org.apache.spark.sql.Dataset.withAction(Dataset.scala:4165)\r\n\tat org.apache.spark.sql.Dataset.head(Dataset.scala:3161)\r\n\tat org.apache.spark.sql.Dataset.take(Dataset.scala:3382)\r\n\tat org.apache.spark.sql.Dataset.getRows(Dataset.scala:284)\r\n\tat org.apache.spark.sql.Dataset.showString(Dataset.scala:323)\r\n\tat sun.reflect.NativeMethodAccessorImpl.invoke0(Native Method)\r\n\tat sun.reflect.NativeMethodAccessorImpl.invoke(Unknown Source)\r\n\tat sun.reflect.DelegatingMethodAccessorImpl.invoke(Unknown Source)\r\n\tat java.lang.reflect.Method.invoke(Unknown Source)\r\n\tat py4j.reflection.MethodInvoker.invoke(MethodInvoker.java:244)\r\n\tat py4j.reflection.ReflectionEngine.invoke(ReflectionEngine.java:374)\r\n\tat py4j.Gateway.invoke(Gateway.java:282)\r\n\tat py4j.commands.AbstractCommand.invokeMethod(AbstractCommand.java:132)\r\n\tat py4j.commands.CallCommand.execute(CallCommand.java:79)\r\n\tat py4j.ClientServerConnection.waitForCommands(ClientServerConnection.java:182)\r\n\tat py4j.ClientServerConnection.run(ClientServerConnection.java:106)\r\n\tat java.lang.Thread.run(Unknown Source)\r\nCaused by: org.apache.spark.SparkException: Python worker failed to connect back.\r\n\tat org.apache.spark.api.python.PythonWorkerFactory.createSimpleWorker(PythonWorkerFactory.scala:192)\r\n\tat org.apache.spark.api.python.PythonWorkerFactory.create(PythonWorkerFactory.scala:109)\r\n\tat org.apache.spark.SparkEnv.createPythonWorker(SparkEnv.scala:124)\r\n\tat org.apache.spark.api.python.BasePythonRunner.compute(PythonRunner.scala:166)\r\n\tat org.apache.spark.sql.execution.python.BatchEvalPythonExec.evaluate(BatchEvalPythonExec.scala:82)\r\n\tat org.apache.spark.sql.execution.python.EvalPythonExec.$anonfun$doExecute$2(EvalPythonExec.scala:131)\r\n\tat org.apache.spark.rdd.RDD.$anonfun$mapPartitions$2(RDD.scala:853)\r\n\tat org.apache.spark.rdd.RDD.$anonfun$mapPartitions$2$adapted(RDD.scala:853)\r\n\tat org.apache.spark.rdd.MapPartitionsRDD.compute(MapPartitionsRDD.scala:52)\r\n\tat org.apache.spark.rdd.RDD.computeOrReadCheckpoint(RDD.scala:364)\r\n\tat org.apache.spark.rdd.RDD.iterator(RDD.scala:328)\r\n\tat org.apache.spark.rdd.MapPartitionsRDD.compute(MapPartitionsRDD.scala:52)\r\n\tat org.apache.spark.rdd.RDD.computeOrReadCheckpoint(RDD.scala:364)\r\n\tat org.apache.spark.rdd.RDD.iterator(RDD.scala:328)\r\n\tat org.apache.spark.rdd.MapPartitionsRDD.compute(MapPartitionsRDD.scala:52)\r\n\tat org.apache.spark.rdd.RDD.computeOrReadCheckpoint(RDD.scala:364)\r\n\tat org.apache.spark.rdd.RDD.iterator(RDD.scala:328)\r\n\tat org.apache.spark.scheduler.ResultTask.runTask(ResultTask.scala:92)\r\n\tat org.apache.spark.TaskContext.runTaskWithListeners(TaskContext.scala:161)\r\n\tat org.apache.spark.scheduler.Task.run(Task.scala:139)\r\n\tat org.apache.spark.executor.Executor$TaskRunner.$anonfun$run$3(Executor.scala:554)\r\n\tat org.apache.spark.util.Utils$.tryWithSafeFinally(Utils.scala:1529)\r\n\tat org.apache.spark.executor.Executor$TaskRunner.run(Executor.scala:557)\r\n\tat java.util.concurrent.ThreadPoolExecutor.runWorker(Unknown Source)\r\n\tat java.util.concurrent.ThreadPoolExecutor$Worker.run(Unknown Source)\r\n\t... 1 more\r\nCaused by: java.net.SocketTimeoutException: Accept timed out\r\n\tat java.net.DualStackPlainSocketImpl.waitForNewConnection(Native Method)\r\n\tat java.net.DualStackPlainSocketImpl.socketAccept(Unknown Source)\r\n\tat java.net.AbstractPlainSocketImpl.accept(Unknown Source)\r\n\tat java.net.PlainSocketImpl.accept(Unknown Source)\r\n\tat java.net.ServerSocket.implAccept(Unknown Source)\r\n\tat java.net.ServerSocket.accept(Unknown Source)\r\n\tat org.apache.spark.api.python.PythonWorkerFactory.createSimpleWorker(PythonWorkerFactory.scala:179)\r\n\t... 25 more\r\n"
     ]
    }
   ],
   "source": [
    "trzd_employee.show(truncate=False)"
   ]
  },
  {
   "cell_type": "code",
   "execution_count": null,
   "metadata": {},
   "outputs": [],
   "source": []
  }
 ],
 "metadata": {
  "kernelspec": {
   "display_name": "pyspark-env",
   "language": "python",
   "name": "pyspark-env"
  },
  "language_info": {
   "codemirror_mode": {
    "name": "ipython",
    "version": 3
   },
   "file_extension": ".py",
   "mimetype": "text/x-python",
   "name": "python",
   "nbconvert_exporter": "python",
   "pygments_lexer": "ipython3",
   "version": "3.12.2"
  }
 },
 "nbformat": 4,
 "nbformat_minor": 2
}
