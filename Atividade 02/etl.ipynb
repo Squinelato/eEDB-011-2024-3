{
 "cells": [
  {
   "cell_type": "markdown",
   "metadata": {},
   "source": [
    "# Atividade 02: Ingestão e ETL com linguagem de programação (Python)\n",
    "\n",
    "- Utilizar linguagem de programação Python para ingestão e tratamento de dados.\n",
    "    - Pacotes adicionais podem ser utilizados (exceto Spark)\n",
    "    - Tratamento de dados não deve ser realizado via SQL\n",
    "- Realizar a ingestão de todas as base de dados em um banco de dados relacional open source. Pode ser utilizado qualquer banco de dado sendo algumas sugestões:\n",
    "    - MySQL\n",
    "    - Postgre\n",
    "    - ClickHouse\n",
    "- Gerar uma tabela final com os dados tratados e unidos.\n",
    "    - O tratamento de dados deve ser realizado através da linguagem de programação Python\n",
    "- Adicionar as seguintes camadas de processamento, dentro do próprio banco de dados ou em disco local. A Camada Delivery deve obrigatoriamente ter estar também no formato de uma tabela final dentro do banco de dados relacional:\n",
    "    - RAW – formato dos dados livre\n",
    "    - Trusted – formato de dados em Parquet ou ORC or AVRO (indicado Parquet)\n",
    "    - Delivery– formato de dados em Parquet ou ORC or AVRO (indicado Parquet)"
   ]
  },
  {
   "cell_type": "markdown",
   "metadata": {},
   "source": [
    "## To Do\n",
    "\n",
    "- raw \n",
    "    - salvar em parquet (ok)\n",
    "    - salvar rwzd_{tabela} (ok)\n",
    "- trusted\n",
    "    - ler da raw\n",
    "    - aplicar data quality\n",
    "        - trocar os nomes das colunas para ingles\n",
    "        - trocar os nomes das colunas para snakecase\n",
    "        - mudar tipos\n",
    "        - outras transformacoes\n",
    "            - remover string \"- prudential\"\n",
    "            - remover coluna unnamed\n",
    "- delivery\n",
    "    - tabela consolidada\n",
    "    - agregação\n",
    "\n",
    "- organizar jupyter"
   ]
  },
  {
   "cell_type": "markdown",
   "metadata": {},
   "source": [
    "---\n",
    "## Importação Bibliotecas"
   ]
  },
  {
   "cell_type": "code",
   "execution_count": 7,
   "metadata": {},
   "outputs": [],
   "source": [
    "import pandas as pd\n",
    "import os"
   ]
  },
  {
   "cell_type": "markdown",
   "metadata": {},
   "source": [
    "---\n",
    "## Raw"
   ]
  },
  {
   "cell_type": "markdown",
   "metadata": {},
   "source": [
    "### Arquivos Bancos"
   ]
  },
  {
   "cell_type": "code",
   "execution_count": 8,
   "metadata": {},
   "outputs": [],
   "source": [
    "banks = pd.read_csv('./trzd/Bancos/EnquadramentoInicia_v2_alterado_manualmente_revisado.csv', sep='\\t', encoding='utf8')"
   ]
  },
  {
   "cell_type": "code",
   "execution_count": 9,
   "metadata": {},
   "outputs": [
    {
     "data": {
      "text/html": [
       "<div>\n",
       "<style scoped>\n",
       "    .dataframe tbody tr th:only-of-type {\n",
       "        vertical-align: middle;\n",
       "    }\n",
       "\n",
       "    .dataframe tbody tr th {\n",
       "        vertical-align: top;\n",
       "    }\n",
       "\n",
       "    .dataframe thead th {\n",
       "        text-align: right;\n",
       "    }\n",
       "</style>\n",
       "<table border=\"1\" class=\"dataframe\">\n",
       "  <thead>\n",
       "    <tr style=\"text-align: right;\">\n",
       "      <th></th>\n",
       "      <th>Segmento</th>\n",
       "      <th>CNPJ</th>\n",
       "      <th>Nome</th>\n",
       "    </tr>\n",
       "  </thead>\n",
       "  <tbody>\n",
       "    <tr>\n",
       "      <th>0</th>\n",
       "      <td>S1</td>\n",
       "      <td>0</td>\n",
       "      <td>BANCO DO BRASIL - PRUDENCIAL</td>\n",
       "    </tr>\n",
       "    <tr>\n",
       "      <th>1</th>\n",
       "      <td>S1</td>\n",
       "      <td>60746948</td>\n",
       "      <td>BRADESCO - PRUDENCIAL</td>\n",
       "    </tr>\n",
       "    <tr>\n",
       "      <th>2</th>\n",
       "      <td>S1</td>\n",
       "      <td>30306294</td>\n",
       "      <td>BTG PACTUAL - PRUDENCIAL</td>\n",
       "    </tr>\n",
       "    <tr>\n",
       "      <th>3</th>\n",
       "      <td>S1</td>\n",
       "      <td>360305</td>\n",
       "      <td>CAIXA ECONOMICA FEDERAL - PRUDENCIAL</td>\n",
       "    </tr>\n",
       "    <tr>\n",
       "      <th>4</th>\n",
       "      <td>S1</td>\n",
       "      <td>60872504</td>\n",
       "      <td>ITAU - PRUDENCIAL</td>\n",
       "    </tr>\n",
       "  </tbody>\n",
       "</table>\n",
       "</div>"
      ],
      "text/plain": [
       "  Segmento      CNPJ                                  Nome\n",
       "0       S1         0          BANCO DO BRASIL - PRUDENCIAL\n",
       "1       S1  60746948                 BRADESCO - PRUDENCIAL\n",
       "2       S1  30306294              BTG PACTUAL - PRUDENCIAL\n",
       "3       S1    360305  CAIXA ECONOMICA FEDERAL - PRUDENCIAL\n",
       "4       S1  60872504                     ITAU - PRUDENCIAL"
      ]
     },
     "execution_count": 9,
     "metadata": {},
     "output_type": "execute_result"
    }
   ],
   "source": [
    "banks.head()"
   ]
  },
  {
   "cell_type": "code",
   "execution_count": 11,
   "metadata": {},
   "outputs": [],
   "source": [
    "banks.to_parquet('./raw/rwzd_banks.parquet', engine='pyarrow', compression='snappy')"
   ]
  },
  {
   "cell_type": "markdown",
   "metadata": {},
   "source": [
    "### Arquivo Empregados"
   ]
  },
  {
   "cell_type": "code",
   "execution_count": 13,
   "metadata": {},
   "outputs": [],
   "source": [
    "employees = pd.read_csv('./trzd/Empregados/glassdoor_consolidado_join_match_v2.csv', sep='|', encoding='utf-8')"
   ]
  },
  {
   "cell_type": "code",
   "execution_count": 14,
   "metadata": {},
   "outputs": [
    {
     "data": {
      "text/html": [
       "<div>\n",
       "<style scoped>\n",
       "    .dataframe tbody tr th:only-of-type {\n",
       "        vertical-align: middle;\n",
       "    }\n",
       "\n",
       "    .dataframe tbody tr th {\n",
       "        vertical-align: top;\n",
       "    }\n",
       "\n",
       "    .dataframe thead th {\n",
       "        text-align: right;\n",
       "    }\n",
       "</style>\n",
       "<table border=\"1\" class=\"dataframe\">\n",
       "  <thead>\n",
       "    <tr style=\"text-align: right;\">\n",
       "      <th></th>\n",
       "      <th>employer_name</th>\n",
       "      <th>reviews_count</th>\n",
       "      <th>culture_count</th>\n",
       "      <th>salaries_count</th>\n",
       "      <th>benefits_count</th>\n",
       "      <th>employer-website</th>\n",
       "      <th>employer-headquarters</th>\n",
       "      <th>employer-founded</th>\n",
       "      <th>employer-industry</th>\n",
       "      <th>employer-revenue</th>\n",
       "      <th>...</th>\n",
       "      <th>Diversidade e inclusão</th>\n",
       "      <th>Qualidade de vida</th>\n",
       "      <th>Alta liderança</th>\n",
       "      <th>Remuneração e benefícios</th>\n",
       "      <th>Oportunidades de carreira</th>\n",
       "      <th>Recomendam para outras pessoas(%)</th>\n",
       "      <th>Perspectiva positiva da empresa(%)</th>\n",
       "      <th>Segmento</th>\n",
       "      <th>Nome</th>\n",
       "      <th>match_percent</th>\n",
       "    </tr>\n",
       "  </thead>\n",
       "  <tbody>\n",
       "    <tr>\n",
       "      <th>0</th>\n",
       "      <td>BNP Paribas</td>\n",
       "      <td>13000</td>\n",
       "      <td>4100</td>\n",
       "      <td>20000</td>\n",
       "      <td>3600</td>\n",
       "      <td>http://www.group.bnpparibas</td>\n",
       "      <td>Paris, França</td>\n",
       "      <td>2000.0</td>\n",
       "      <td>/Explorar/melhores-serviços-bancários-e-de-cré...</td>\n",
       "      <td>Mais de US$ 10 bilhões</td>\n",
       "      <td>...</td>\n",
       "      <td>4.0</td>\n",
       "      <td>3.8</td>\n",
       "      <td>3.4</td>\n",
       "      <td>3.4</td>\n",
       "      <td>3.5</td>\n",
       "      <td>77.0</td>\n",
       "      <td>63.0</td>\n",
       "      <td>S3</td>\n",
       "      <td>BNP PARIBAS</td>\n",
       "      <td>100</td>\n",
       "    </tr>\n",
       "    <tr>\n",
       "      <th>1</th>\n",
       "      <td>BTG Pactual</td>\n",
       "      <td>1600</td>\n",
       "      <td>683</td>\n",
       "      <td>2800</td>\n",
       "      <td>635</td>\n",
       "      <td>http://www.btgpactual.com</td>\n",
       "      <td>São Paulo, Brasil</td>\n",
       "      <td>NaN</td>\n",
       "      <td>/Explorar/melhores-gestão-de-ativos-e-investim...</td>\n",
       "      <td>Desconhecida/não se aplica</td>\n",
       "      <td>...</td>\n",
       "      <td>3.5</td>\n",
       "      <td>2.8</td>\n",
       "      <td>3.7</td>\n",
       "      <td>4.4</td>\n",
       "      <td>4.2</td>\n",
       "      <td>78.0</td>\n",
       "      <td>73.0</td>\n",
       "      <td>S1</td>\n",
       "      <td>BTG PACTUAL</td>\n",
       "      <td>100</td>\n",
       "    </tr>\n",
       "  </tbody>\n",
       "</table>\n",
       "<p>2 rows × 23 columns</p>\n",
       "</div>"
      ],
      "text/plain": [
       "  employer_name  reviews_count  culture_count  salaries_count  benefits_count  \\\n",
       "0   BNP Paribas          13000           4100           20000            3600   \n",
       "1   BTG Pactual           1600            683            2800             635   \n",
       "\n",
       "              employer-website employer-headquarters  employer-founded  \\\n",
       "0  http://www.group.bnpparibas         Paris, França            2000.0   \n",
       "1    http://www.btgpactual.com     São Paulo, Brasil               NaN   \n",
       "\n",
       "                                   employer-industry  \\\n",
       "0  /Explorar/melhores-serviços-bancários-e-de-cré...   \n",
       "1  /Explorar/melhores-gestão-de-ativos-e-investim...   \n",
       "\n",
       "             employer-revenue  ... Diversidade e inclusão  Qualidade de vida  \\\n",
       "0      Mais de US$ 10 bilhões  ...                    4.0                3.8   \n",
       "1  Desconhecida/não se aplica  ...                    3.5                2.8   \n",
       "\n",
       "   Alta liderança  Remuneração e benefícios  Oportunidades de carreira  \\\n",
       "0             3.4                       3.4                        3.5   \n",
       "1             3.7                       4.4                        4.2   \n",
       "\n",
       "   Recomendam para outras pessoas(%)  Perspectiva positiva da empresa(%)  \\\n",
       "0                               77.0                                63.0   \n",
       "1                               78.0                                73.0   \n",
       "\n",
       "   Segmento         Nome  match_percent  \n",
       "0        S3  BNP PARIBAS            100  \n",
       "1        S1  BTG PACTUAL            100  \n",
       "\n",
       "[2 rows x 23 columns]"
      ]
     },
     "execution_count": 14,
     "metadata": {},
     "output_type": "execute_result"
    }
   ],
   "source": [
    "employees.head(2)"
   ]
  },
  {
   "cell_type": "code",
   "execution_count": 16,
   "metadata": {},
   "outputs": [],
   "source": [
    "employees.to_parquet('./raw/rwzd_employees.parquet', engine='pyarrow', compression='snappy')"
   ]
  },
  {
   "cell_type": "markdown",
   "metadata": {},
   "source": [
    "### Arquivo Reclamações"
   ]
  },
  {
   "cell_type": "code",
   "execution_count": 17,
   "metadata": {},
   "outputs": [
    {
     "name": "stdout",
     "output_type": "stream",
     "text": [
      "Processing file: ./trzd/Reclamações\\2021_tri_01.csv\n",
      "Processing file: ./trzd/Reclamações\\2021_tri_02.csv\n",
      "Processing file: ./trzd/Reclamações\\2021_tri_03.csv\n",
      "Processing file: ./trzd/Reclamações\\2021_tri_04.csv\n",
      "Processing file: ./trzd/Reclamações\\2022_tri_01.csv\n",
      "Processing file: ./trzd/Reclamações\\2022_tri_03.csv\n",
      "Processing file: ./trzd/Reclamações\\2022_tri_04.csv\n"
     ]
    }
   ],
   "source": [
    "list_df_claims = []\n",
    "dir = './trzd/Reclamações'\n",
    "\n",
    "for file in os.listdir(dir):\n",
    "    full_path = os.path.join(dir, file)\n",
    "    print(f'Processing file: {full_path}')\n",
    "    list_df_claims.append(pd.read_csv(full_path, sep=';', encoding='utf-8'))\n"
   ]
  },
  {
   "cell_type": "code",
   "execution_count": 18,
   "metadata": {},
   "outputs": [
    {
     "data": {
      "text/html": [
       "<div>\n",
       "<style scoped>\n",
       "    .dataframe tbody tr th:only-of-type {\n",
       "        vertical-align: middle;\n",
       "    }\n",
       "\n",
       "    .dataframe tbody tr th {\n",
       "        vertical-align: top;\n",
       "    }\n",
       "\n",
       "    .dataframe thead th {\n",
       "        text-align: right;\n",
       "    }\n",
       "</style>\n",
       "<table border=\"1\" class=\"dataframe\">\n",
       "  <thead>\n",
       "    <tr style=\"text-align: right;\">\n",
       "      <th></th>\n",
       "      <th>Ano</th>\n",
       "      <th>Trimestre</th>\n",
       "      <th>Categoria</th>\n",
       "      <th>Tipo</th>\n",
       "      <th>CNPJ IF</th>\n",
       "      <th>Instituição financeira</th>\n",
       "      <th>Índice</th>\n",
       "      <th>Quantidade de reclamações reguladas procedentes</th>\n",
       "      <th>Quantidade de reclamações reguladas - outras</th>\n",
       "      <th>Quantidade de reclamações não reguladas</th>\n",
       "      <th>Quantidade total de reclamações</th>\n",
       "      <th>Quantidade total de clientes – CCS e SCR</th>\n",
       "      <th>Quantidade de clientes – CCS</th>\n",
       "      <th>Quantidade de clientes – SCR</th>\n",
       "      <th>Unnamed: 14</th>\n",
       "    </tr>\n",
       "  </thead>\n",
       "  <tbody>\n",
       "    <tr>\n",
       "      <th>0</th>\n",
       "      <td>2021</td>\n",
       "      <td>1º</td>\n",
       "      <td>Grupo Secundário</td>\n",
       "      <td>Conglomerado</td>\n",
       "      <td></td>\n",
       "      <td>ABC-BRASIL (conglomerado)</td>\n",
       "      <td></td>\n",
       "      <td>2</td>\n",
       "      <td>3</td>\n",
       "      <td>4</td>\n",
       "      <td>9</td>\n",
       "      <td>26230</td>\n",
       "      <td>24698</td>\n",
       "      <td>3810</td>\n",
       "      <td>NaN</td>\n",
       "    </tr>\n",
       "    <tr>\n",
       "      <th>1</th>\n",
       "      <td>2021</td>\n",
       "      <td>1º</td>\n",
       "      <td>Grupo Secundário</td>\n",
       "      <td>Conglomerado</td>\n",
       "      <td></td>\n",
       "      <td>AGIBANK (conglomerado)</td>\n",
       "      <td>54,79</td>\n",
       "      <td>58</td>\n",
       "      <td>140</td>\n",
       "      <td>73</td>\n",
       "      <td>271</td>\n",
       "      <td>1058431</td>\n",
       "      <td>790848</td>\n",
       "      <td>693843</td>\n",
       "      <td>NaN</td>\n",
       "    </tr>\n",
       "  </tbody>\n",
       "</table>\n",
       "</div>"
      ],
      "text/plain": [
       "    Ano Trimestre         Categoria          Tipo CNPJ IF  \\\n",
       "0  2021        1º  Grupo Secundário  Conglomerado           \n",
       "1  2021        1º  Grupo Secundário  Conglomerado           \n",
       "\n",
       "      Instituição financeira Índice  \\\n",
       "0  ABC-BRASIL (conglomerado)          \n",
       "1     AGIBANK (conglomerado)  54,79   \n",
       "\n",
       "   Quantidade de reclamações reguladas procedentes  \\\n",
       "0                                                2   \n",
       "1                                               58   \n",
       "\n",
       "   Quantidade de reclamações reguladas - outras  \\\n",
       "0                                             3   \n",
       "1                                           140   \n",
       "\n",
       "   Quantidade de reclamações não reguladas  Quantidade total de reclamações  \\\n",
       "0                                        4                                9   \n",
       "1                                       73                              271   \n",
       "\n",
       "  Quantidade total de clientes – CCS e SCR Quantidade de clientes – CCS  \\\n",
       "0                                    26230                        24698   \n",
       "1                                  1058431                       790848   \n",
       "\n",
       "  Quantidade de clientes – SCR  Unnamed: 14  \n",
       "0                         3810          NaN  \n",
       "1                       693843          NaN  "
      ]
     },
     "execution_count": 18,
     "metadata": {},
     "output_type": "execute_result"
    }
   ],
   "source": [
    "claims = pd.concat(list_df_claims)\n",
    "claims.head(2)"
   ]
  },
  {
   "cell_type": "code",
   "execution_count": 43,
   "metadata": {},
   "outputs": [],
   "source": [
    "# este campo estava com strings e numeros. Como haviam strings vazias, converti a coluna para str a fim de discutirmos depois como tratar na etapa Trusted\n",
    "claims['Quantidade total de clientes – CCS e SCR'] = claims['Quantidade total de clientes – CCS e SCR'].astype(str)"
   ]
  },
  {
   "cell_type": "code",
   "execution_count": 44,
   "metadata": {},
   "outputs": [],
   "source": [
    "claims.to_parquet('./raw/rwzd_claims.parquet', engine='pyarrow', compression='snappy')"
   ]
  },
  {
   "cell_type": "markdown",
   "metadata": {},
   "source": [
    "---\n",
    "## Trusted"
   ]
  },
  {
   "cell_type": "code",
   "execution_count": 63,
   "metadata": {},
   "outputs": [],
   "source": [
    "# banks['Nome'] = banks['Nome'].replace(to_replace = r' - PRUDENCIAL', value = \"\", regex=True)"
   ]
  },
  {
   "cell_type": "markdown",
   "metadata": {},
   "source": [
    "---\n",
    "## Delivery"
   ]
  },
  {
   "cell_type": "code",
   "execution_count": null,
   "metadata": {},
   "outputs": [],
   "source": []
  },
  {
   "cell_type": "markdown",
   "metadata": {},
   "source": [
    "---\n",
    "## Gerar arquivo python\n",
    "Exemplo"
   ]
  },
  {
   "cell_type": "code",
   "execution_count": 62,
   "metadata": {},
   "outputs": [
    {
     "name": "stdout",
     "output_type": "stream",
     "text": [
      "Writing ./scripts/testes.pyg\n"
     ]
    }
   ],
   "source": [
    "%%writefile ./scripts/testes.pyg\n",
    "print('hello world')"
   ]
  }
 ],
 "metadata": {
  "kernelspec": {
   "display_name": "base",
   "language": "python",
   "name": "python3"
  },
  "language_info": {
   "codemirror_mode": {
    "name": "ipython",
    "version": 3
   },
   "file_extension": ".py",
   "mimetype": "text/x-python",
   "name": "python",
   "nbconvert_exporter": "python",
   "pygments_lexer": "ipython3",
   "version": "3.9.7"
  }
 },
 "nbformat": 4,
 "nbformat_minor": 2
}
