{
 "cells": [
  {
   "cell_type": "markdown",
   "metadata": {},
   "source": [
    "# Atividade 02: Ingestão e ETL com linguagem de programação (Python)\n",
    "\n",
    "- Utilizar linguagem de programação Python para ingestão e tratamento de dados.\n",
    "    - Pacotes adicionais podem ser utilizados (exceto Spark)\n",
    "    - Tratamento de dados não deve ser realizado via SQL\n",
    "- Realizar a ingestão de todas as base de dados em um banco de dados relacional open source. Pode ser utilizado qualquer banco de dado sendo algumas sugestões:\n",
    "    - MySQL\n",
    "    - Postgre\n",
    "    - ClickHouse\n",
    "- Gerar uma tabela final com os dados tratados e unidos.\n",
    "    - O tratamento de dados deve ser realizado através da linguagem de programação Python\n",
    "- Adicionar as seguintes camadas de processamento, dentro do próprio banco de dados ou em disco local. A Camada Delivery deve obrigatoriamente ter estar também no formato de uma tabela final dentro do banco de dados relacional:\n",
    "    - RAW – formato dos dados livre\n",
    "    - Trusted – formato de dados em Parquet ou ORC or AVRO (indicado Parquet)\n",
    "    - Delivery– formato de dados em Parquet ou ORC or AVRO (indicado Parquet)"
   ]
  },
  {
   "cell_type": "markdown",
   "metadata": {},
   "source": [
    "## To Do\n",
    "\n",
    "- raw \n",
    "    - salvar em parquet (ok)\n",
    "    - salvar rwzd_{tabela} (ok)\n",
    "    - setar schema de str\n",
    "    - criar as pastas pros parquets\n",
    "- trusted\n",
    "    - ler da raw (ok)\n",
    "    - criar uma chave artificial em todas as tabelas trusted a partir do cálculo de hash da coluna que contém o nome da instituição financeira, porém, removendo os espaços em branco e deixando todas as letras em caixa baixa e removendo a acentuação.\n",
    "    - aplicar data quality\n",
    "        - trocar os nomes das colunas para ingles (pegar do arquivo de DDL)\n",
    "        - trocar os nomes das colunas para snakecase\n",
    "        - mudar tipos\n",
    "        - outras transformacoes\n",
    "            - remover string \"- prudential\"\n",
    "            - remover coluna unnamed\n",
    "- delivery\n",
    "    - tabela consolidada\n",
    "    - agregação"
   ]
  },
  {
   "cell_type": "markdown",
   "metadata": {},
   "source": [
    "---\n",
    "## Library Imports"
   ]
  },
  {
   "cell_type": "code",
   "execution_count": 7,
   "metadata": {},
   "outputs": [],
   "source": [
    "import pandas as pd\n",
    "import os"
   ]
  },
  {
   "cell_type": "markdown",
   "metadata": {},
   "source": [
    "---\n",
    "## Raw"
   ]
  },
  {
   "cell_type": "markdown",
   "metadata": {},
   "source": [
    "### Banks file"
   ]
  },
  {
   "cell_type": "code",
   "execution_count": 8,
   "metadata": {},
   "outputs": [],
   "source": [
    "banks = pd.read_csv('./trzd/Bancos/EnquadramentoInicia_v2_alterado_manualmente_revisado.csv', sep='\\t', encoding='utf8')"
   ]
  },
  {
   "cell_type": "code",
   "execution_count": 9,
   "metadata": {},
   "outputs": [
    {
     "data": {
      "text/html": [
       "<div>\n",
       "<style scoped>\n",
       "    .dataframe tbody tr th:only-of-type {\n",
       "        vertical-align: middle;\n",
       "    }\n",
       "\n",
       "    .dataframe tbody tr th {\n",
       "        vertical-align: top;\n",
       "    }\n",
       "\n",
       "    .dataframe thead th {\n",
       "        text-align: right;\n",
       "    }\n",
       "</style>\n",
       "<table border=\"1\" class=\"dataframe\">\n",
       "  <thead>\n",
       "    <tr style=\"text-align: right;\">\n",
       "      <th></th>\n",
       "      <th>Segmento</th>\n",
       "      <th>CNPJ</th>\n",
       "      <th>Nome</th>\n",
       "    </tr>\n",
       "  </thead>\n",
       "  <tbody>\n",
       "    <tr>\n",
       "      <th>0</th>\n",
       "      <td>S1</td>\n",
       "      <td>0</td>\n",
       "      <td>BANCO DO BRASIL - PRUDENCIAL</td>\n",
       "    </tr>\n",
       "    <tr>\n",
       "      <th>1</th>\n",
       "      <td>S1</td>\n",
       "      <td>60746948</td>\n",
       "      <td>BRADESCO - PRUDENCIAL</td>\n",
       "    </tr>\n",
       "    <tr>\n",
       "      <th>2</th>\n",
       "      <td>S1</td>\n",
       "      <td>30306294</td>\n",
       "      <td>BTG PACTUAL - PRUDENCIAL</td>\n",
       "    </tr>\n",
       "    <tr>\n",
       "      <th>3</th>\n",
       "      <td>S1</td>\n",
       "      <td>360305</td>\n",
       "      <td>CAIXA ECONOMICA FEDERAL - PRUDENCIAL</td>\n",
       "    </tr>\n",
       "    <tr>\n",
       "      <th>4</th>\n",
       "      <td>S1</td>\n",
       "      <td>60872504</td>\n",
       "      <td>ITAU - PRUDENCIAL</td>\n",
       "    </tr>\n",
       "  </tbody>\n",
       "</table>\n",
       "</div>"
      ],
      "text/plain": [
       "  Segmento      CNPJ                                  Nome\n",
       "0       S1         0          BANCO DO BRASIL - PRUDENCIAL\n",
       "1       S1  60746948                 BRADESCO - PRUDENCIAL\n",
       "2       S1  30306294              BTG PACTUAL - PRUDENCIAL\n",
       "3       S1    360305  CAIXA ECONOMICA FEDERAL - PRUDENCIAL\n",
       "4       S1  60872504                     ITAU - PRUDENCIAL"
      ]
     },
     "execution_count": 9,
     "metadata": {},
     "output_type": "execute_result"
    }
   ],
   "source": [
    "banks.head()"
   ]
  },
  {
   "cell_type": "code",
   "execution_count": 11,
   "metadata": {},
   "outputs": [],
   "source": [
    "banks.to_parquet('./raw/rwzd_banks.parquet', engine='pyarrow', compression='snappy')"
   ]
  },
  {
   "cell_type": "markdown",
   "metadata": {},
   "source": [
    "### Employees file"
   ]
  },
  {
   "cell_type": "code",
   "execution_count": 13,
   "metadata": {},
   "outputs": [],
   "source": [
    "employees = pd.read_csv('./trzd/Empregados/glassdoor_consolidado_join_match_v2.csv', sep='|', encoding='utf-8')"
   ]
  },
  {
   "cell_type": "code",
   "execution_count": 14,
   "metadata": {},
   "outputs": [
    {
     "data": {
      "text/html": [
       "<div>\n",
       "<style scoped>\n",
       "    .dataframe tbody tr th:only-of-type {\n",
       "        vertical-align: middle;\n",
       "    }\n",
       "\n",
       "    .dataframe tbody tr th {\n",
       "        vertical-align: top;\n",
       "    }\n",
       "\n",
       "    .dataframe thead th {\n",
       "        text-align: right;\n",
       "    }\n",
       "</style>\n",
       "<table border=\"1\" class=\"dataframe\">\n",
       "  <thead>\n",
       "    <tr style=\"text-align: right;\">\n",
       "      <th></th>\n",
       "      <th>employer_name</th>\n",
       "      <th>reviews_count</th>\n",
       "      <th>culture_count</th>\n",
       "      <th>salaries_count</th>\n",
       "      <th>benefits_count</th>\n",
       "      <th>employer-website</th>\n",
       "      <th>employer-headquarters</th>\n",
       "      <th>employer-founded</th>\n",
       "      <th>employer-industry</th>\n",
       "      <th>employer-revenue</th>\n",
       "      <th>...</th>\n",
       "      <th>Diversidade e inclusão</th>\n",
       "      <th>Qualidade de vida</th>\n",
       "      <th>Alta liderança</th>\n",
       "      <th>Remuneração e benefícios</th>\n",
       "      <th>Oportunidades de carreira</th>\n",
       "      <th>Recomendam para outras pessoas(%)</th>\n",
       "      <th>Perspectiva positiva da empresa(%)</th>\n",
       "      <th>Segmento</th>\n",
       "      <th>Nome</th>\n",
       "      <th>match_percent</th>\n",
       "    </tr>\n",
       "  </thead>\n",
       "  <tbody>\n",
       "    <tr>\n",
       "      <th>0</th>\n",
       "      <td>BNP Paribas</td>\n",
       "      <td>13000</td>\n",
       "      <td>4100</td>\n",
       "      <td>20000</td>\n",
       "      <td>3600</td>\n",
       "      <td>http://www.group.bnpparibas</td>\n",
       "      <td>Paris, França</td>\n",
       "      <td>2000.0</td>\n",
       "      <td>/Explorar/melhores-serviços-bancários-e-de-cré...</td>\n",
       "      <td>Mais de US$ 10 bilhões</td>\n",
       "      <td>...</td>\n",
       "      <td>4.0</td>\n",
       "      <td>3.8</td>\n",
       "      <td>3.4</td>\n",
       "      <td>3.4</td>\n",
       "      <td>3.5</td>\n",
       "      <td>77.0</td>\n",
       "      <td>63.0</td>\n",
       "      <td>S3</td>\n",
       "      <td>BNP PARIBAS</td>\n",
       "      <td>100</td>\n",
       "    </tr>\n",
       "    <tr>\n",
       "      <th>1</th>\n",
       "      <td>BTG Pactual</td>\n",
       "      <td>1600</td>\n",
       "      <td>683</td>\n",
       "      <td>2800</td>\n",
       "      <td>635</td>\n",
       "      <td>http://www.btgpactual.com</td>\n",
       "      <td>São Paulo, Brasil</td>\n",
       "      <td>NaN</td>\n",
       "      <td>/Explorar/melhores-gestão-de-ativos-e-investim...</td>\n",
       "      <td>Desconhecida/não se aplica</td>\n",
       "      <td>...</td>\n",
       "      <td>3.5</td>\n",
       "      <td>2.8</td>\n",
       "      <td>3.7</td>\n",
       "      <td>4.4</td>\n",
       "      <td>4.2</td>\n",
       "      <td>78.0</td>\n",
       "      <td>73.0</td>\n",
       "      <td>S1</td>\n",
       "      <td>BTG PACTUAL</td>\n",
       "      <td>100</td>\n",
       "    </tr>\n",
       "  </tbody>\n",
       "</table>\n",
       "<p>2 rows × 23 columns</p>\n",
       "</div>"
      ],
      "text/plain": [
       "  employer_name  reviews_count  culture_count  salaries_count  benefits_count  \\\n",
       "0   BNP Paribas          13000           4100           20000            3600   \n",
       "1   BTG Pactual           1600            683            2800             635   \n",
       "\n",
       "              employer-website employer-headquarters  employer-founded  \\\n",
       "0  http://www.group.bnpparibas         Paris, França            2000.0   \n",
       "1    http://www.btgpactual.com     São Paulo, Brasil               NaN   \n",
       "\n",
       "                                   employer-industry  \\\n",
       "0  /Explorar/melhores-serviços-bancários-e-de-cré...   \n",
       "1  /Explorar/melhores-gestão-de-ativos-e-investim...   \n",
       "\n",
       "             employer-revenue  ... Diversidade e inclusão  Qualidade de vida  \\\n",
       "0      Mais de US$ 10 bilhões  ...                    4.0                3.8   \n",
       "1  Desconhecida/não se aplica  ...                    3.5                2.8   \n",
       "\n",
       "   Alta liderança  Remuneração e benefícios  Oportunidades de carreira  \\\n",
       "0             3.4                       3.4                        3.5   \n",
       "1             3.7                       4.4                        4.2   \n",
       "\n",
       "   Recomendam para outras pessoas(%)  Perspectiva positiva da empresa(%)  \\\n",
       "0                               77.0                                63.0   \n",
       "1                               78.0                                73.0   \n",
       "\n",
       "   Segmento         Nome  match_percent  \n",
       "0        S3  BNP PARIBAS            100  \n",
       "1        S1  BTG PACTUAL            100  \n",
       "\n",
       "[2 rows x 23 columns]"
      ]
     },
     "execution_count": 14,
     "metadata": {},
     "output_type": "execute_result"
    }
   ],
   "source": [
    "employees.head(2)"
   ]
  },
  {
   "cell_type": "code",
   "execution_count": 16,
   "metadata": {},
   "outputs": [],
   "source": [
    "employees.to_parquet('./raw/rwzd_employees.parquet', engine='pyarrow', compression='snappy')"
   ]
  },
  {
   "cell_type": "markdown",
   "metadata": {},
   "source": [
    "### Claims file"
   ]
  },
  {
   "cell_type": "code",
   "execution_count": 17,
   "metadata": {},
   "outputs": [
    {
     "name": "stdout",
     "output_type": "stream",
     "text": [
      "Processing file: ./trzd/Reclamações\\2021_tri_01.csv\n",
      "Processing file: ./trzd/Reclamações\\2021_tri_02.csv\n",
      "Processing file: ./trzd/Reclamações\\2021_tri_03.csv\n",
      "Processing file: ./trzd/Reclamações\\2021_tri_04.csv\n",
      "Processing file: ./trzd/Reclamações\\2022_tri_01.csv\n",
      "Processing file: ./trzd/Reclamações\\2022_tri_03.csv\n",
      "Processing file: ./trzd/Reclamações\\2022_tri_04.csv\n"
     ]
    }
   ],
   "source": [
    "list_df_claims = []\n",
    "dir = './trzd/Reclamações'\n",
    "\n",
    "for file in os.listdir(dir):\n",
    "    full_path = os.path.join(dir, file)\n",
    "    print(f'Processing file: {full_path}')\n",
    "    list_df_claims.append(pd.read_csv(full_path, sep=';', encoding='utf-8'))\n"
   ]
  },
  {
   "cell_type": "code",
   "execution_count": 18,
   "metadata": {},
   "outputs": [
    {
     "data": {
      "text/html": [
       "<div>\n",
       "<style scoped>\n",
       "    .dataframe tbody tr th:only-of-type {\n",
       "        vertical-align: middle;\n",
       "    }\n",
       "\n",
       "    .dataframe tbody tr th {\n",
       "        vertical-align: top;\n",
       "    }\n",
       "\n",
       "    .dataframe thead th {\n",
       "        text-align: right;\n",
       "    }\n",
       "</style>\n",
       "<table border=\"1\" class=\"dataframe\">\n",
       "  <thead>\n",
       "    <tr style=\"text-align: right;\">\n",
       "      <th></th>\n",
       "      <th>Ano</th>\n",
       "      <th>Trimestre</th>\n",
       "      <th>Categoria</th>\n",
       "      <th>Tipo</th>\n",
       "      <th>CNPJ IF</th>\n",
       "      <th>Instituição financeira</th>\n",
       "      <th>Índice</th>\n",
       "      <th>Quantidade de reclamações reguladas procedentes</th>\n",
       "      <th>Quantidade de reclamações reguladas - outras</th>\n",
       "      <th>Quantidade de reclamações não reguladas</th>\n",
       "      <th>Quantidade total de reclamações</th>\n",
       "      <th>Quantidade total de clientes – CCS e SCR</th>\n",
       "      <th>Quantidade de clientes – CCS</th>\n",
       "      <th>Quantidade de clientes – SCR</th>\n",
       "      <th>Unnamed: 14</th>\n",
       "    </tr>\n",
       "  </thead>\n",
       "  <tbody>\n",
       "    <tr>\n",
       "      <th>0</th>\n",
       "      <td>2021</td>\n",
       "      <td>1º</td>\n",
       "      <td>Grupo Secundário</td>\n",
       "      <td>Conglomerado</td>\n",
       "      <td></td>\n",
       "      <td>ABC-BRASIL (conglomerado)</td>\n",
       "      <td></td>\n",
       "      <td>2</td>\n",
       "      <td>3</td>\n",
       "      <td>4</td>\n",
       "      <td>9</td>\n",
       "      <td>26230</td>\n",
       "      <td>24698</td>\n",
       "      <td>3810</td>\n",
       "      <td>NaN</td>\n",
       "    </tr>\n",
       "    <tr>\n",
       "      <th>1</th>\n",
       "      <td>2021</td>\n",
       "      <td>1º</td>\n",
       "      <td>Grupo Secundário</td>\n",
       "      <td>Conglomerado</td>\n",
       "      <td></td>\n",
       "      <td>AGIBANK (conglomerado)</td>\n",
       "      <td>54,79</td>\n",
       "      <td>58</td>\n",
       "      <td>140</td>\n",
       "      <td>73</td>\n",
       "      <td>271</td>\n",
       "      <td>1058431</td>\n",
       "      <td>790848</td>\n",
       "      <td>693843</td>\n",
       "      <td>NaN</td>\n",
       "    </tr>\n",
       "  </tbody>\n",
       "</table>\n",
       "</div>"
      ],
      "text/plain": [
       "    Ano Trimestre         Categoria          Tipo CNPJ IF  \\\n",
       "0  2021        1º  Grupo Secundário  Conglomerado           \n",
       "1  2021        1º  Grupo Secundário  Conglomerado           \n",
       "\n",
       "      Instituição financeira Índice  \\\n",
       "0  ABC-BRASIL (conglomerado)          \n",
       "1     AGIBANK (conglomerado)  54,79   \n",
       "\n",
       "   Quantidade de reclamações reguladas procedentes  \\\n",
       "0                                                2   \n",
       "1                                               58   \n",
       "\n",
       "   Quantidade de reclamações reguladas - outras  \\\n",
       "0                                             3   \n",
       "1                                           140   \n",
       "\n",
       "   Quantidade de reclamações não reguladas  Quantidade total de reclamações  \\\n",
       "0                                        4                                9   \n",
       "1                                       73                              271   \n",
       "\n",
       "  Quantidade total de clientes – CCS e SCR Quantidade de clientes – CCS  \\\n",
       "0                                    26230                        24698   \n",
       "1                                  1058431                       790848   \n",
       "\n",
       "  Quantidade de clientes – SCR  Unnamed: 14  \n",
       "0                         3810          NaN  \n",
       "1                       693843          NaN  "
      ]
     },
     "execution_count": 18,
     "metadata": {},
     "output_type": "execute_result"
    }
   ],
   "source": [
    "claims = pd.concat(list_df_claims)\n",
    "claims.head(2)"
   ]
  },
  {
   "cell_type": "code",
   "execution_count": 43,
   "metadata": {},
   "outputs": [],
   "source": [
    "# este campo estava com strings e numeros. Como haviam strings vazias, converti a coluna para str a fim de discutirmos depois como tratar na etapa Trusted\n",
    "claims['Quantidade total de clientes – CCS e SCR'] = claims['Quantidade total de clientes – CCS e SCR'].astype(str)"
   ]
  },
  {
   "cell_type": "code",
   "execution_count": 44,
   "metadata": {},
   "outputs": [],
   "source": [
    "claims.to_parquet('./raw/rwzd_claims.parquet', engine='pyarrow', compression='snappy')"
   ]
  },
  {
   "cell_type": "markdown",
   "metadata": {},
   "source": [
    "---\n",
    "## Trusted"
   ]
  },
  {
   "cell_type": "markdown",
   "metadata": {},
   "source": [
    "### Banks"
   ]
  },
  {
   "cell_type": "code",
   "execution_count": 222,
   "metadata": {},
   "outputs": [],
   "source": [
    "banks = pd.read_parquet('./raw/rwzd_banks.parquet', engine='pyarrow')"
   ]
  },
  {
   "cell_type": "code",
   "execution_count": 223,
   "metadata": {},
   "outputs": [],
   "source": [
    "#  rever\n",
    "banks.rename(columns={\n",
    "    'Segmento': 'segment',\n",
    "    'CNPJ': 'cnpj',\n",
    "    'Nome': 'name'\n",
    "}, inplace = True)"
   ]
  },
  {
   "cell_type": "code",
   "execution_count": 229,
   "metadata": {},
   "outputs": [
    {
     "data": {
      "text/html": [
       "<div>\n",
       "<style scoped>\n",
       "    .dataframe tbody tr th:only-of-type {\n",
       "        vertical-align: middle;\n",
       "    }\n",
       "\n",
       "    .dataframe tbody tr th {\n",
       "        vertical-align: top;\n",
       "    }\n",
       "\n",
       "    .dataframe thead th {\n",
       "        text-align: right;\n",
       "    }\n",
       "</style>\n",
       "<table border=\"1\" class=\"dataframe\">\n",
       "  <thead>\n",
       "    <tr style=\"text-align: right;\">\n",
       "      <th></th>\n",
       "      <th>name</th>\n",
       "      <th>cnpj</th>\n",
       "    </tr>\n",
       "  </thead>\n",
       "  <tbody>\n",
       "    <tr>\n",
       "      <th>4</th>\n",
       "      <td>ITAU - PRUDENCIAL</td>\n",
       "      <td>60872504</td>\n",
       "    </tr>\n",
       "    <tr>\n",
       "      <th>1458</th>\n",
       "      <td>BANCO ITAU S/A</td>\n",
       "      <td>33058660</td>\n",
       "    </tr>\n",
       "    <tr>\n",
       "      <th>1459</th>\n",
       "      <td>BANCO ITAUBANK S.A.</td>\n",
       "      <td>60394079</td>\n",
       "    </tr>\n",
       "    <tr>\n",
       "      <th>1473</th>\n",
       "      <td>ITAU UNIBANCO HOLDING S.A.</td>\n",
       "      <td>60872504</td>\n",
       "    </tr>\n",
       "  </tbody>\n",
       "</table>\n",
       "</div>"
      ],
      "text/plain": [
       "                            name      cnpj\n",
       "4              ITAU - PRUDENCIAL  60872504\n",
       "1458              BANCO ITAU S/A  33058660\n",
       "1459         BANCO ITAUBANK S.A.  60394079\n",
       "1473  ITAU UNIBANCO HOLDING S.A.  60872504"
      ]
     },
     "execution_count": 229,
     "metadata": {},
     "output_type": "execute_result"
    }
   ],
   "source": [
    "banks[['name', 'cnpj']][banks['name'].str.contains('ITAU')]"
   ]
  },
  {
   "cell_type": "code",
   "execution_count": 125,
   "metadata": {},
   "outputs": [
    {
     "data": {
      "text/html": [
       "<div>\n",
       "<style scoped>\n",
       "    .dataframe tbody tr th:only-of-type {\n",
       "        vertical-align: middle;\n",
       "    }\n",
       "\n",
       "    .dataframe tbody tr th {\n",
       "        vertical-align: top;\n",
       "    }\n",
       "\n",
       "    .dataframe thead th {\n",
       "        text-align: right;\n",
       "    }\n",
       "</style>\n",
       "<table border=\"1\" class=\"dataframe\">\n",
       "  <thead>\n",
       "    <tr style=\"text-align: right;\">\n",
       "      <th></th>\n",
       "      <th>segment</th>\n",
       "      <th>cnpj</th>\n",
       "      <th>name</th>\n",
       "    </tr>\n",
       "  </thead>\n",
       "  <tbody>\n",
       "    <tr>\n",
       "      <th>0</th>\n",
       "      <td>S1</td>\n",
       "      <td>0</td>\n",
       "      <td>BANCO DO BRASIL</td>\n",
       "    </tr>\n",
       "    <tr>\n",
       "      <th>1</th>\n",
       "      <td>S1</td>\n",
       "      <td>60746948</td>\n",
       "      <td>BRADESCO</td>\n",
       "    </tr>\n",
       "    <tr>\n",
       "      <th>2</th>\n",
       "      <td>S1</td>\n",
       "      <td>30306294</td>\n",
       "      <td>BTG PACTUAL</td>\n",
       "    </tr>\n",
       "    <tr>\n",
       "      <th>3</th>\n",
       "      <td>S1</td>\n",
       "      <td>360305</td>\n",
       "      <td>CAIXA ECONOMICA FEDERAL</td>\n",
       "    </tr>\n",
       "    <tr>\n",
       "      <th>4</th>\n",
       "      <td>S1</td>\n",
       "      <td>60872504</td>\n",
       "      <td>ITAU</td>\n",
       "    </tr>\n",
       "  </tbody>\n",
       "</table>\n",
       "</div>"
      ],
      "text/plain": [
       "  segment      cnpj                     name\n",
       "0      S1         0          BANCO DO BRASIL\n",
       "1      S1  60746948                 BRADESCO\n",
       "2      S1  30306294              BTG PACTUAL\n",
       "3      S1    360305  CAIXA ECONOMICA FEDERAL\n",
       "4      S1  60872504                     ITAU"
      ]
     },
     "execution_count": 125,
     "metadata": {},
     "output_type": "execute_result"
    }
   ],
   "source": [
    "banks.head()"
   ]
  },
  {
   "cell_type": "markdown",
   "metadata": {},
   "source": [
    "### Employees"
   ]
  },
  {
   "cell_type": "code",
   "execution_count": 126,
   "metadata": {},
   "outputs": [],
   "source": [
    "employees = pd.read_parquet('./raw/rwzd_employees.parquet', engine='pyarrow')"
   ]
  },
  {
   "cell_type": "code",
   "execution_count": 127,
   "metadata": {},
   "outputs": [
    {
     "data": {
      "text/plain": [
       "Index(['employer_name', 'reviews_count', 'culture_count', 'salaries_count',\n",
       "       'benefits_count', 'employer-website', 'employer-headquarters',\n",
       "       'employer-founded', 'employer-industry', 'employer-revenue', 'url',\n",
       "       'Geral', 'Cultura e valores', 'Diversidade e inclusão',\n",
       "       'Qualidade de vida', 'Alta liderança', 'Remuneração e benefícios',\n",
       "       'Oportunidades de carreira', 'Recomendam para outras pessoas(%)',\n",
       "       'Perspectiva positiva da empresa(%)', 'Segmento', 'Nome',\n",
       "       'match_percent'],\n",
       "      dtype='object')"
      ]
     },
     "execution_count": 127,
     "metadata": {},
     "output_type": "execute_result"
    }
   ],
   "source": [
    "employees.columns"
   ]
  },
  {
   "cell_type": "code",
   "execution_count": 219,
   "metadata": {},
   "outputs": [],
   "source": [
    "# rever\n",
    "# tratamento no nome das colunas para snake case\n",
    "employees.columns = employees.columns.map(lambda x: x.replace(\" \", \"_\").replace(\"-\", \"_\").lower())"
   ]
  },
  {
   "cell_type": "code",
   "execution_count": 129,
   "metadata": {},
   "outputs": [],
   "source": [
    "# mudança do nome das colunas para o inglês\n",
    "employees.rename(columns={\n",
    "    'geral': 'general',\n",
    "    'cultura_e_valores': 'culture_and_values',\n",
    "    'diversidade_e_inclusão': 'diversity_and_inclusion',\n",
    "    'qualidade_de_vida': 'quality_of_life',\n",
    "    'alta_liderança': 'senior_leadership',\n",
    "    'remuneração_e_benefícios': 'compensation_and_benefits',\n",
    "    'oportunidades_de_carreira': 'career_opportunities',\n",
    "    'recomendam_para_outras_pessoas(%)': 'recommend_to_others',\n",
    "    'perspectiva_positiva_da_empresa(%)': 'positive_company_outlook',\n",
    "    'segmento': 'segment',\n",
    "    'nome': 'name'\n",
    "}, inplace=True)"
   ]
  },
  {
   "cell_type": "code",
   "execution_count": 217,
   "metadata": {},
   "outputs": [],
   "source": [
    "# conversão da coluna employer_founded para inteiro\n",
    "#  rever, talvez nao precise setando o schema na raw\n",
    "employees['employer_founded'] = employees['employer_founded'].fillna(0)\n",
    "employees['employer_founded'] = employees['employer_founded'].astype(str)"
   ]
  },
  {
   "cell_type": "code",
   "execution_count": 131,
   "metadata": {},
   "outputs": [
    {
     "data": {
      "text/html": [
       "<div>\n",
       "<style scoped>\n",
       "    .dataframe tbody tr th:only-of-type {\n",
       "        vertical-align: middle;\n",
       "    }\n",
       "\n",
       "    .dataframe tbody tr th {\n",
       "        vertical-align: top;\n",
       "    }\n",
       "\n",
       "    .dataframe thead th {\n",
       "        text-align: right;\n",
       "    }\n",
       "</style>\n",
       "<table border=\"1\" class=\"dataframe\">\n",
       "  <thead>\n",
       "    <tr style=\"text-align: right;\">\n",
       "      <th></th>\n",
       "      <th>employer_name</th>\n",
       "      <th>reviews_count</th>\n",
       "      <th>culture_count</th>\n",
       "      <th>salaries_count</th>\n",
       "      <th>benefits_count</th>\n",
       "      <th>employer_website</th>\n",
       "      <th>employer_headquarters</th>\n",
       "      <th>employer_founded</th>\n",
       "      <th>employer_industry</th>\n",
       "      <th>employer_revenue</th>\n",
       "      <th>...</th>\n",
       "      <th>diversity_and_inclusion</th>\n",
       "      <th>quality_of_life</th>\n",
       "      <th>senior_leadership</th>\n",
       "      <th>compensation_and_benefits</th>\n",
       "      <th>career_opportunities</th>\n",
       "      <th>recommend_to_others</th>\n",
       "      <th>positive_company_outlook</th>\n",
       "      <th>segment</th>\n",
       "      <th>name</th>\n",
       "      <th>match_percent</th>\n",
       "    </tr>\n",
       "  </thead>\n",
       "  <tbody>\n",
       "    <tr>\n",
       "      <th>0</th>\n",
       "      <td>BNP Paribas</td>\n",
       "      <td>13000</td>\n",
       "      <td>4100</td>\n",
       "      <td>20000</td>\n",
       "      <td>3600</td>\n",
       "      <td>http://www.group.bnpparibas</td>\n",
       "      <td>Paris, França</td>\n",
       "      <td>2000</td>\n",
       "      <td>/Explorar/melhores-serviços-bancários-e-de-cré...</td>\n",
       "      <td>Mais de US$ 10 bilhões</td>\n",
       "      <td>...</td>\n",
       "      <td>4.0</td>\n",
       "      <td>3.8</td>\n",
       "      <td>3.4</td>\n",
       "      <td>3.4</td>\n",
       "      <td>3.5</td>\n",
       "      <td>77.0</td>\n",
       "      <td>63.0</td>\n",
       "      <td>S3</td>\n",
       "      <td>BNP PARIBAS</td>\n",
       "      <td>100</td>\n",
       "    </tr>\n",
       "    <tr>\n",
       "      <th>1</th>\n",
       "      <td>BTG Pactual</td>\n",
       "      <td>1600</td>\n",
       "      <td>683</td>\n",
       "      <td>2800</td>\n",
       "      <td>635</td>\n",
       "      <td>http://www.btgpactual.com</td>\n",
       "      <td>São Paulo, Brasil</td>\n",
       "      <td>0</td>\n",
       "      <td>/Explorar/melhores-gestão-de-ativos-e-investim...</td>\n",
       "      <td>Desconhecida/não se aplica</td>\n",
       "      <td>...</td>\n",
       "      <td>3.5</td>\n",
       "      <td>2.8</td>\n",
       "      <td>3.7</td>\n",
       "      <td>4.4</td>\n",
       "      <td>4.2</td>\n",
       "      <td>78.0</td>\n",
       "      <td>73.0</td>\n",
       "      <td>S1</td>\n",
       "      <td>BTG PACTUAL</td>\n",
       "      <td>100</td>\n",
       "    </tr>\n",
       "  </tbody>\n",
       "</table>\n",
       "<p>2 rows × 23 columns</p>\n",
       "</div>"
      ],
      "text/plain": [
       "  employer_name  reviews_count  culture_count  salaries_count  benefits_count  \\\n",
       "0   BNP Paribas          13000           4100           20000            3600   \n",
       "1   BTG Pactual           1600            683            2800             635   \n",
       "\n",
       "              employer_website employer_headquarters  employer_founded  \\\n",
       "0  http://www.group.bnpparibas         Paris, França              2000   \n",
       "1    http://www.btgpactual.com     São Paulo, Brasil                 0   \n",
       "\n",
       "                                   employer_industry  \\\n",
       "0  /Explorar/melhores-serviços-bancários-e-de-cré...   \n",
       "1  /Explorar/melhores-gestão-de-ativos-e-investim...   \n",
       "\n",
       "             employer_revenue  ... diversity_and_inclusion  quality_of_life  \\\n",
       "0      Mais de US$ 10 bilhões  ...                     4.0              3.8   \n",
       "1  Desconhecida/não se aplica  ...                     3.5              2.8   \n",
       "\n",
       "   senior_leadership  compensation_and_benefits  career_opportunities  \\\n",
       "0                3.4                        3.4                   3.5   \n",
       "1                3.7                        4.4                   4.2   \n",
       "\n",
       "   recommend_to_others  positive_company_outlook  segment         name  \\\n",
       "0                 77.0                      63.0       S3  BNP PARIBAS   \n",
       "1                 78.0                      73.0       S1  BTG PACTUAL   \n",
       "\n",
       "   match_percent  \n",
       "0            100  \n",
       "1            100  \n",
       "\n",
       "[2 rows x 23 columns]"
      ]
     },
     "execution_count": 131,
     "metadata": {},
     "output_type": "execute_result"
    }
   ],
   "source": [
    "employees.head(2)"
   ]
  },
  {
   "cell_type": "markdown",
   "metadata": {},
   "source": [
    "### Claims"
   ]
  },
  {
   "cell_type": "code",
   "execution_count": 203,
   "metadata": {},
   "outputs": [],
   "source": [
    "claims = pd.read_parquet('./raw/rwzd_claims.parquet', engine='pyarrow')"
   ]
  },
  {
   "cell_type": "code",
   "execution_count": 204,
   "metadata": {},
   "outputs": [
    {
     "data": {
      "text/html": [
       "<div>\n",
       "<style scoped>\n",
       "    .dataframe tbody tr th:only-of-type {\n",
       "        vertical-align: middle;\n",
       "    }\n",
       "\n",
       "    .dataframe tbody tr th {\n",
       "        vertical-align: top;\n",
       "    }\n",
       "\n",
       "    .dataframe thead th {\n",
       "        text-align: right;\n",
       "    }\n",
       "</style>\n",
       "<table border=\"1\" class=\"dataframe\">\n",
       "  <thead>\n",
       "    <tr style=\"text-align: right;\">\n",
       "      <th></th>\n",
       "      <th>Ano</th>\n",
       "      <th>Trimestre</th>\n",
       "      <th>Categoria</th>\n",
       "      <th>Tipo</th>\n",
       "      <th>CNPJ IF</th>\n",
       "      <th>Instituição financeira</th>\n",
       "      <th>Índice</th>\n",
       "      <th>Quantidade de reclamações reguladas procedentes</th>\n",
       "      <th>Quantidade de reclamações reguladas - outras</th>\n",
       "      <th>Quantidade de reclamações não reguladas</th>\n",
       "      <th>Quantidade total de reclamações</th>\n",
       "      <th>Quantidade total de clientes – CCS e SCR</th>\n",
       "      <th>Quantidade de clientes – CCS</th>\n",
       "      <th>Quantidade de clientes – SCR</th>\n",
       "      <th>Unnamed: 14</th>\n",
       "    </tr>\n",
       "  </thead>\n",
       "  <tbody>\n",
       "    <tr>\n",
       "      <th>0</th>\n",
       "      <td>2021</td>\n",
       "      <td>1º</td>\n",
       "      <td>Grupo Secundário</td>\n",
       "      <td>Conglomerado</td>\n",
       "      <td></td>\n",
       "      <td>ABC-BRASIL (conglomerado)</td>\n",
       "      <td></td>\n",
       "      <td>2</td>\n",
       "      <td>3</td>\n",
       "      <td>4</td>\n",
       "      <td>9</td>\n",
       "      <td>26230</td>\n",
       "      <td>24698</td>\n",
       "      <td>3810</td>\n",
       "      <td>NaN</td>\n",
       "    </tr>\n",
       "    <tr>\n",
       "      <th>1</th>\n",
       "      <td>2021</td>\n",
       "      <td>1º</td>\n",
       "      <td>Grupo Secundário</td>\n",
       "      <td>Conglomerado</td>\n",
       "      <td></td>\n",
       "      <td>AGIBANK (conglomerado)</td>\n",
       "      <td>54,79</td>\n",
       "      <td>58</td>\n",
       "      <td>140</td>\n",
       "      <td>73</td>\n",
       "      <td>271</td>\n",
       "      <td>1058431</td>\n",
       "      <td>790848</td>\n",
       "      <td>693843</td>\n",
       "      <td>NaN</td>\n",
       "    </tr>\n",
       "  </tbody>\n",
       "</table>\n",
       "</div>"
      ],
      "text/plain": [
       "    Ano Trimestre         Categoria          Tipo CNPJ IF  \\\n",
       "0  2021        1º  Grupo Secundário  Conglomerado           \n",
       "1  2021        1º  Grupo Secundário  Conglomerado           \n",
       "\n",
       "      Instituição financeira Índice  \\\n",
       "0  ABC-BRASIL (conglomerado)          \n",
       "1     AGIBANK (conglomerado)  54,79   \n",
       "\n",
       "   Quantidade de reclamações reguladas procedentes  \\\n",
       "0                                                2   \n",
       "1                                               58   \n",
       "\n",
       "   Quantidade de reclamações reguladas - outras  \\\n",
       "0                                             3   \n",
       "1                                           140   \n",
       "\n",
       "   Quantidade de reclamações não reguladas  Quantidade total de reclamações  \\\n",
       "0                                        4                                9   \n",
       "1                                       73                              271   \n",
       "\n",
       "  Quantidade total de clientes – CCS e SCR Quantidade de clientes – CCS  \\\n",
       "0                                    26230                        24698   \n",
       "1                                  1058431                       790848   \n",
       "\n",
       "  Quantidade de clientes – SCR  Unnamed: 14  \n",
       "0                         3810          NaN  \n",
       "1                       693843          NaN  "
      ]
     },
     "execution_count": 204,
     "metadata": {},
     "output_type": "execute_result"
    }
   ],
   "source": [
    "claims.head(2)"
   ]
  },
  {
   "cell_type": "code",
   "execution_count": 205,
   "metadata": {},
   "outputs": [],
   "source": [
    "# remoção de coluna sem dados\n",
    "claims = claims.drop(columns=['Unnamed: 14'])"
   ]
  },
  {
   "cell_type": "code",
   "execution_count": 206,
   "metadata": {},
   "outputs": [
    {
     "data": {
      "text/plain": [
       "Index(['Ano', 'Trimestre', 'Categoria', 'Tipo', 'CNPJ IF',\n",
       "       'Instituição financeira', 'Índice',\n",
       "       'Quantidade de reclamações reguladas procedentes',\n",
       "       'Quantidade de reclamações reguladas - outras',\n",
       "       'Quantidade de reclamações não reguladas',\n",
       "       'Quantidade total de reclamações',\n",
       "       'Quantidade total de clientes – CCS e SCR',\n",
       "       'Quantidade de clientes – CCS', 'Quantidade de clientes – SCR'],\n",
       "      dtype='object')"
      ]
     },
     "execution_count": 206,
     "metadata": {},
     "output_type": "execute_result"
    }
   ],
   "source": [
    "claims.columns"
   ]
  },
  {
   "cell_type": "code",
   "execution_count": 207,
   "metadata": {},
   "outputs": [],
   "source": [
    "# rever\n",
    "# tratamento no nome das colunas para snake case\n",
    "claims.columns = claims.columns.map(lambda x: x.lower().replace(' ', '_').replace('–', '_').replace('-', '_').replace('___', '_'))"
   ]
  },
  {
   "cell_type": "code",
   "execution_count": 208,
   "metadata": {},
   "outputs": [],
   "source": [
    "# mudança do nome das colunas para o inglês\n",
    "claims.rename(columns={\n",
    "    'ano': 'year',\n",
    "    'trimestre': 'quarter',\n",
    "    'categoria': 'category',\n",
    "    'tipo': 'type',\n",
    "    'cnpj_if': 'cnpj',\n",
    "    'instituição_financeira': 'financial_institution',\n",
    "    'índice': 'index',\n",
    "    'quantidade_de_reclamações_reguladas_procedentes': 'number_of_regulated_proceeding_complaints',\n",
    "    'quantidade_de_reclamações_reguladas_outras': 'number_of_regulated_other_complaints',\n",
    "    'quantidade_de_reclamações_não_reguladas': 'number_of_non_regulated_complaints',\n",
    "    'quantidade_total_de_reclamações': 'total_number_of_complaints',\n",
    "    'quantidade_total_de_clientes_ccs_e_scr': 'total_number_of_clients_ccs_and_scr',\n",
    "    'quantidade_de_clientes_ccs': 'number_of_clients_ccs',\n",
    "    'quantidade_de_clientes_scr': 'number_of_clients_scr'\n",
    "}, inplace=True)"
   ]
  },
  {
   "cell_type": "code",
   "execution_count": 209,
   "metadata": {},
   "outputs": [
    {
     "data": {
      "text/html": [
       "<div>\n",
       "<style scoped>\n",
       "    .dataframe tbody tr th:only-of-type {\n",
       "        vertical-align: middle;\n",
       "    }\n",
       "\n",
       "    .dataframe tbody tr th {\n",
       "        vertical-align: top;\n",
       "    }\n",
       "\n",
       "    .dataframe thead th {\n",
       "        text-align: right;\n",
       "    }\n",
       "</style>\n",
       "<table border=\"1\" class=\"dataframe\">\n",
       "  <thead>\n",
       "    <tr style=\"text-align: right;\">\n",
       "      <th></th>\n",
       "      <th>year</th>\n",
       "      <th>quarter</th>\n",
       "      <th>category</th>\n",
       "      <th>type</th>\n",
       "      <th>cnpj</th>\n",
       "      <th>financial_institution</th>\n",
       "      <th>index</th>\n",
       "      <th>number_of_regulated_proceeding_complaints</th>\n",
       "      <th>number_of_regulated_other_complaints</th>\n",
       "      <th>number_of_non_regulated_complaints</th>\n",
       "      <th>total_number_of_complaints</th>\n",
       "      <th>total_number_of_clients_ccs_and_scr</th>\n",
       "      <th>number_of_clients_ccs</th>\n",
       "      <th>number_of_clients_scr</th>\n",
       "    </tr>\n",
       "  </thead>\n",
       "  <tbody>\n",
       "    <tr>\n",
       "      <th>0</th>\n",
       "      <td>2021</td>\n",
       "      <td>1º</td>\n",
       "      <td>Grupo Secundário</td>\n",
       "      <td>Conglomerado</td>\n",
       "      <td></td>\n",
       "      <td>ABC-BRASIL (conglomerado)</td>\n",
       "      <td></td>\n",
       "      <td>2</td>\n",
       "      <td>3</td>\n",
       "      <td>4</td>\n",
       "      <td>9</td>\n",
       "      <td>26230</td>\n",
       "      <td>24698</td>\n",
       "      <td>3810</td>\n",
       "    </tr>\n",
       "    <tr>\n",
       "      <th>1</th>\n",
       "      <td>2021</td>\n",
       "      <td>1º</td>\n",
       "      <td>Grupo Secundário</td>\n",
       "      <td>Conglomerado</td>\n",
       "      <td></td>\n",
       "      <td>AGIBANK (conglomerado)</td>\n",
       "      <td>54,79</td>\n",
       "      <td>58</td>\n",
       "      <td>140</td>\n",
       "      <td>73</td>\n",
       "      <td>271</td>\n",
       "      <td>1058431</td>\n",
       "      <td>790848</td>\n",
       "      <td>693843</td>\n",
       "    </tr>\n",
       "  </tbody>\n",
       "</table>\n",
       "</div>"
      ],
      "text/plain": [
       "   year quarter          category          type cnpj  \\\n",
       "0  2021      1º  Grupo Secundário  Conglomerado        \n",
       "1  2021      1º  Grupo Secundário  Conglomerado        \n",
       "\n",
       "       financial_institution  index  \\\n",
       "0  ABC-BRASIL (conglomerado)          \n",
       "1     AGIBANK (conglomerado)  54,79   \n",
       "\n",
       "   number_of_regulated_proceeding_complaints  \\\n",
       "0                                          2   \n",
       "1                                         58   \n",
       "\n",
       "   number_of_regulated_other_complaints  number_of_non_regulated_complaints  \\\n",
       "0                                     3                                   4   \n",
       "1                                   140                                  73   \n",
       "\n",
       "   total_number_of_complaints total_number_of_clients_ccs_and_scr  \\\n",
       "0                           9                               26230   \n",
       "1                         271                             1058431   \n",
       "\n",
       "  number_of_clients_ccs number_of_clients_scr  \n",
       "0                 24698                  3810  \n",
       "1                790848                693843  "
      ]
     },
     "execution_count": 209,
     "metadata": {},
     "output_type": "execute_result"
    }
   ],
   "source": [
    "claims.head(2)"
   ]
  },
  {
   "cell_type": "code",
   "execution_count": null,
   "metadata": {},
   "outputs": [],
   "source": []
  },
  {
   "cell_type": "markdown",
   "metadata": {},
   "source": [
    "---\n",
    "## Delivery"
   ]
  },
  {
   "cell_type": "code",
   "execution_count": null,
   "metadata": {},
   "outputs": [],
   "source": []
  },
  {
   "cell_type": "markdown",
   "metadata": {},
   "source": [
    "---\n",
    "## Gerar arquivo python\n",
    "Exemplo"
   ]
  },
  {
   "cell_type": "code",
   "execution_count": 62,
   "metadata": {},
   "outputs": [
    {
     "name": "stdout",
     "output_type": "stream",
     "text": [
      "Writing ./scripts/testes.pyg\n"
     ]
    }
   ],
   "source": [
    "%%writefile ./scripts/testes.pyg\n",
    "print('hello world')"
   ]
  }
 ],
 "metadata": {
  "kernelspec": {
   "display_name": "base",
   "language": "python",
   "name": "python3"
  },
  "language_info": {
   "codemirror_mode": {
    "name": "ipython",
    "version": 3
   },
   "file_extension": ".py",
   "mimetype": "text/x-python",
   "name": "python",
   "nbconvert_exporter": "python",
   "pygments_lexer": "ipython3",
   "version": "3.9.7"
  }
 },
 "nbformat": 4,
 "nbformat_minor": 2
}
