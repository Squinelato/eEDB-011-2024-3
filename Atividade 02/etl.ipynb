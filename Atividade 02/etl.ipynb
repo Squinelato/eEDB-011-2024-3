{
 "cells": [
  {
   "cell_type": "markdown",
   "metadata": {},
   "source": [
    "# eEDB-011-2024-3"
   ]
  },
  {
   "cell_type": "markdown",
   "metadata": {},
   "source": [
    "## Atividade 02: Ingestão e ETL com linguagem de programação (Python)\n",
    "\n",
    "- Utilizar linguagem de programação Python para ingestão e tratamento de dados.\n",
    "    - Pacotes adicionais podem ser utilizados (exceto Spark)\n",
    "    - Tratamento de dados não deve ser realizado via SQL\n",
    "- Realizar a ingestão de todas as base de dados em um banco de dados relacional open source. Pode ser utilizado qualquer banco de dado sendo algumas sugestões:\n",
    "    - MySQL\n",
    "    - Postgre\n",
    "    - ClickHouse\n",
    "- Gerar uma tabela final com os dados tratados e unidos.\n",
    "    - O tratamento de dados deve ser realizado através da linguagem de programação Python\n",
    "- Adicionar as seguintes camadas de processamento, dentro do próprio banco de dados ou em disco local. A Camada Delivery deve obrigatoriamente ter estar também no formato de uma tabela final dentro do banco de dados relacional:\n",
    "    - RAW – formato dos dados livre\n",
    "    - Trusted – formato de dados em Parquet ou ORC or AVRO (indicado Parquet)\n",
    "    - Delivery– formato de dados em Parquet ou ORC or AVRO (indicado Parquet)"
   ]
  },
  {
   "cell_type": "markdown",
   "metadata": {},
   "source": [
    "- **Grupo 02**:\n",
    "    - Aline Bini\n",
    "    - Ana Lívia Franco\n",
    "    - Ana Priss\n",
    "    - João Squinelato\n",
    "    - Marcelo Pena\n",
    "    - Thais Siqueira\n",
    "\n",
    "- [Github](https://github.com/Squinelato/eEDB-011-2024-3 \"eEDB-011-2024-3\")\n",
    "\n",
    "```Ingestão De Dados | Agosto 2024```"
   ]
  },
  {
   "cell_type": "markdown",
   "metadata": {},
   "source": [
    "## To Do\n",
    "\n",
    "- raw \n",
    "    - salvar em parquet (ok)\n",
    "    - salvar rwzd_{tabela} (ok)\n",
    "    - setar schema de str (ok)\n",
    "    - criar as pastas pros parquets (ok)\n",
    "- trusted\n",
    "    - ler da raw (ok)\n",
    "    - criar uma chave artificial em todas as tabelas trusted a partir do cálculo de hash da coluna que contém o nome da instituição financeira, porém, removendo os espaços em branco e deixando todas as letras em caixa baixa e removendo a acentuação (ok)\n",
    "    - aplicar data quality (ok)\n",
    "        - trocar os nomes das colunas para ingles (pegar do arquivo de DDL) (ok)\n",
    "        - trocar os nomes das colunas para snakecase (ok)\n",
    "        - mudar tipos (ok)\n",
    "        - outras transformacoes\n",
    "            - remover coluna unnamed (ok)\n",
    "- delivery\n",
    "    - tabela consolidada\n",
    "    - agregação\n",
    "\n",
    "- Adicionar zeros à esquerda para os CNPJs, exemplo, CNPJ do banco do é 00000000... mas no arquivo orignal está como apenas \"0\" (ok)\n",
    "- Considerar o CPPJ com o segmento para realizar o join"
   ]
  },
  {
   "cell_type": "markdown",
   "metadata": {},
   "source": [
    "---\n",
    "## Library Imports"
   ]
  },
  {
   "cell_type": "code",
   "execution_count": 106,
   "metadata": {},
   "outputs": [],
   "source": [
    "from hashlib import sha1\n",
    "import pandas as pd\n",
    "import numpy as np\n",
    "import os"
   ]
  },
  {
   "cell_type": "markdown",
   "metadata": {},
   "source": [
    "---\n",
    "## Raw"
   ]
  },
  {
   "cell_type": "markdown",
   "metadata": {},
   "source": [
    "### Banks file"
   ]
  },
  {
   "cell_type": "code",
   "execution_count": 100,
   "metadata": {},
   "outputs": [
    {
     "data": {
      "text/html": [
       "<div>\n",
       "<style scoped>\n",
       "    .dataframe tbody tr th:only-of-type {\n",
       "        vertical-align: middle;\n",
       "    }\n",
       "\n",
       "    .dataframe tbody tr th {\n",
       "        vertical-align: top;\n",
       "    }\n",
       "\n",
       "    .dataframe thead th {\n",
       "        text-align: right;\n",
       "    }\n",
       "</style>\n",
       "<table border=\"1\" class=\"dataframe\">\n",
       "  <thead>\n",
       "    <tr style=\"text-align: right;\">\n",
       "      <th></th>\n",
       "      <th>Segmento</th>\n",
       "      <th>CNPJ</th>\n",
       "      <th>Nome</th>\n",
       "    </tr>\n",
       "  </thead>\n",
       "  <tbody>\n",
       "    <tr>\n",
       "      <th>0</th>\n",
       "      <td>S1</td>\n",
       "      <td>0</td>\n",
       "      <td>BANCO DO BRASIL - PRUDENCIAL</td>\n",
       "    </tr>\n",
       "    <tr>\n",
       "      <th>1</th>\n",
       "      <td>S1</td>\n",
       "      <td>60746948</td>\n",
       "      <td>BRADESCO - PRUDENCIAL</td>\n",
       "    </tr>\n",
       "    <tr>\n",
       "      <th>2</th>\n",
       "      <td>S1</td>\n",
       "      <td>30306294</td>\n",
       "      <td>BTG PACTUAL - PRUDENCIAL</td>\n",
       "    </tr>\n",
       "    <tr>\n",
       "      <th>3</th>\n",
       "      <td>S1</td>\n",
       "      <td>360305</td>\n",
       "      <td>CAIXA ECONOMICA FEDERAL - PRUDENCIAL</td>\n",
       "    </tr>\n",
       "    <tr>\n",
       "      <th>4</th>\n",
       "      <td>S1</td>\n",
       "      <td>60872504</td>\n",
       "      <td>ITAU - PRUDENCIAL</td>\n",
       "    </tr>\n",
       "  </tbody>\n",
       "</table>\n",
       "</div>"
      ],
      "text/plain": [
       "  Segmento      CNPJ                                  Nome\n",
       "0       S1         0          BANCO DO BRASIL - PRUDENCIAL\n",
       "1       S1  60746948                 BRADESCO - PRUDENCIAL\n",
       "2       S1  30306294              BTG PACTUAL - PRUDENCIAL\n",
       "3       S1    360305  CAIXA ECONOMICA FEDERAL - PRUDENCIAL\n",
       "4       S1  60872504                     ITAU - PRUDENCIAL"
      ]
     },
     "execution_count": 100,
     "metadata": {},
     "output_type": "execute_result"
    }
   ],
   "source": [
    "banks_csv_path = './trzd/Bancos/EnquadramentoInicia_v2_alterado_manualmente_revisado.csv'\n",
    "rwzd_banks = pd.read_csv(banks_csv_path, sep='\\t', encoding='utf8', dtype=str)\n",
    "rwzd_banks.head()"
   ]
  },
  {
   "cell_type": "code",
   "execution_count": 101,
   "metadata": {},
   "outputs": [
    {
     "name": "stdout",
     "output_type": "stream",
     "text": [
      "<class 'pandas.core.frame.DataFrame'>\n",
      "RangeIndex: 1474 entries, 0 to 1473\n",
      "Data columns (total 3 columns):\n",
      " #   Column    Non-Null Count  Dtype \n",
      "---  ------    --------------  ----- \n",
      " 0   Segmento  1474 non-null   object\n",
      " 1   CNPJ      1474 non-null   object\n",
      " 2   Nome      1474 non-null   object\n",
      "dtypes: object(3)\n",
      "memory usage: 34.7+ KB\n"
     ]
    }
   ],
   "source": [
    "rwzd_banks.info()"
   ]
  },
  {
   "cell_type": "code",
   "execution_count": 102,
   "metadata": {},
   "outputs": [],
   "source": [
    "rwzd_banks.to_parquet('./raw/bank/data.parquet', engine='pyarrow', compression='snappy')"
   ]
  },
  {
   "cell_type": "markdown",
   "metadata": {},
   "source": [
    "### Employees file"
   ]
  },
  {
   "cell_type": "code",
   "execution_count": 103,
   "metadata": {},
   "outputs": [
    {
     "data": {
      "text/html": [
       "<div>\n",
       "<style scoped>\n",
       "    .dataframe tbody tr th:only-of-type {\n",
       "        vertical-align: middle;\n",
       "    }\n",
       "\n",
       "    .dataframe tbody tr th {\n",
       "        vertical-align: top;\n",
       "    }\n",
       "\n",
       "    .dataframe thead th {\n",
       "        text-align: right;\n",
       "    }\n",
       "</style>\n",
       "<table border=\"1\" class=\"dataframe\">\n",
       "  <thead>\n",
       "    <tr style=\"text-align: right;\">\n",
       "      <th></th>\n",
       "      <th>employer_name</th>\n",
       "      <th>reviews_count</th>\n",
       "      <th>culture_count</th>\n",
       "      <th>salaries_count</th>\n",
       "      <th>benefits_count</th>\n",
       "      <th>employer-website</th>\n",
       "      <th>employer-headquarters</th>\n",
       "      <th>employer-founded</th>\n",
       "      <th>employer-industry</th>\n",
       "      <th>employer-revenue</th>\n",
       "      <th>...</th>\n",
       "      <th>Diversidade e inclusão</th>\n",
       "      <th>Qualidade de vida</th>\n",
       "      <th>Alta liderança</th>\n",
       "      <th>Remuneração e benefícios</th>\n",
       "      <th>Oportunidades de carreira</th>\n",
       "      <th>Recomendam para outras pessoas(%)</th>\n",
       "      <th>Perspectiva positiva da empresa(%)</th>\n",
       "      <th>Segmento</th>\n",
       "      <th>Nome</th>\n",
       "      <th>match_percent</th>\n",
       "    </tr>\n",
       "  </thead>\n",
       "  <tbody>\n",
       "    <tr>\n",
       "      <th>0</th>\n",
       "      <td>BNP Paribas</td>\n",
       "      <td>13000</td>\n",
       "      <td>4100</td>\n",
       "      <td>20000</td>\n",
       "      <td>3600</td>\n",
       "      <td>http://www.group.bnpparibas</td>\n",
       "      <td>Paris, França</td>\n",
       "      <td>2000.0</td>\n",
       "      <td>/Explorar/melhores-serviços-bancários-e-de-cré...</td>\n",
       "      <td>Mais de US$ 10 bilhões</td>\n",
       "      <td>...</td>\n",
       "      <td>4.0</td>\n",
       "      <td>3.8</td>\n",
       "      <td>3.4</td>\n",
       "      <td>3.4</td>\n",
       "      <td>3.5</td>\n",
       "      <td>77.0</td>\n",
       "      <td>63.0</td>\n",
       "      <td>S3</td>\n",
       "      <td>BNP PARIBAS</td>\n",
       "      <td>100</td>\n",
       "    </tr>\n",
       "    <tr>\n",
       "      <th>1</th>\n",
       "      <td>BTG Pactual</td>\n",
       "      <td>1600</td>\n",
       "      <td>683</td>\n",
       "      <td>2800</td>\n",
       "      <td>635</td>\n",
       "      <td>http://www.btgpactual.com</td>\n",
       "      <td>São Paulo, Brasil</td>\n",
       "      <td>NaN</td>\n",
       "      <td>/Explorar/melhores-gestão-de-ativos-e-investim...</td>\n",
       "      <td>Desconhecida/não se aplica</td>\n",
       "      <td>...</td>\n",
       "      <td>3.5</td>\n",
       "      <td>2.8</td>\n",
       "      <td>3.7</td>\n",
       "      <td>4.4</td>\n",
       "      <td>4.2</td>\n",
       "      <td>78.0</td>\n",
       "      <td>73.0</td>\n",
       "      <td>S1</td>\n",
       "      <td>BTG PACTUAL</td>\n",
       "      <td>100</td>\n",
       "    </tr>\n",
       "  </tbody>\n",
       "</table>\n",
       "<p>2 rows × 23 columns</p>\n",
       "</div>"
      ],
      "text/plain": [
       "  employer_name reviews_count culture_count salaries_count benefits_count  \\\n",
       "0   BNP Paribas         13000          4100          20000           3600   \n",
       "1   BTG Pactual          1600           683           2800            635   \n",
       "\n",
       "              employer-website employer-headquarters employer-founded  \\\n",
       "0  http://www.group.bnpparibas         Paris, França           2000.0   \n",
       "1    http://www.btgpactual.com     São Paulo, Brasil              NaN   \n",
       "\n",
       "                                   employer-industry  \\\n",
       "0  /Explorar/melhores-serviços-bancários-e-de-cré...   \n",
       "1  /Explorar/melhores-gestão-de-ativos-e-investim...   \n",
       "\n",
       "             employer-revenue  ... Diversidade e inclusão Qualidade de vida  \\\n",
       "0      Mais de US$ 10 bilhões  ...                    4.0               3.8   \n",
       "1  Desconhecida/não se aplica  ...                    3.5               2.8   \n",
       "\n",
       "  Alta liderança Remuneração e benefícios Oportunidades de carreira  \\\n",
       "0            3.4                      3.4                       3.5   \n",
       "1            3.7                      4.4                       4.2   \n",
       "\n",
       "  Recomendam para outras pessoas(%) Perspectiva positiva da empresa(%)  \\\n",
       "0                              77.0                               63.0   \n",
       "1                              78.0                               73.0   \n",
       "\n",
       "  Segmento         Nome match_percent  \n",
       "0       S3  BNP PARIBAS           100  \n",
       "1       S1  BTG PACTUAL           100  \n",
       "\n",
       "[2 rows x 23 columns]"
      ]
     },
     "execution_count": 103,
     "metadata": {},
     "output_type": "execute_result"
    }
   ],
   "source": [
    "employees_csv_path = './trzd/Empregados/glassdoor_consolidado_join_match_v2.csv'\n",
    "rwzd_employees = pd.read_csv(employees_csv_path, sep='|', encoding='utf-8', dtype=str)\n",
    "rwzd_employees.head(2)"
   ]
  },
  {
   "cell_type": "code",
   "execution_count": 104,
   "metadata": {},
   "outputs": [
    {
     "name": "stdout",
     "output_type": "stream",
     "text": [
      "<class 'pandas.core.frame.DataFrame'>\n",
      "RangeIndex: 34 entries, 0 to 33\n",
      "Data columns (total 23 columns):\n",
      " #   Column                              Non-Null Count  Dtype \n",
      "---  ------                              --------------  ----- \n",
      " 0   employer_name                       34 non-null     object\n",
      " 1   reviews_count                       34 non-null     object\n",
      " 2   culture_count                       34 non-null     object\n",
      " 3   salaries_count                      34 non-null     object\n",
      " 4   benefits_count                      34 non-null     object\n",
      " 5   employer-website                    34 non-null     object\n",
      " 6   employer-headquarters               34 non-null     object\n",
      " 7   employer-founded                    28 non-null     object\n",
      " 8   employer-industry                   34 non-null     object\n",
      " 9   employer-revenue                    34 non-null     object\n",
      " 10  url                                 34 non-null     object\n",
      " 11  Geral                               34 non-null     object\n",
      " 12  Cultura e valores                   34 non-null     object\n",
      " 13  Diversidade e inclusão              34 non-null     object\n",
      " 14  Qualidade de vida                   34 non-null     object\n",
      " 15  Alta liderança                      34 non-null     object\n",
      " 16  Remuneração e benefícios            34 non-null     object\n",
      " 17  Oportunidades de carreira           34 non-null     object\n",
      " 18  Recomendam para outras pessoas(%)   34 non-null     object\n",
      " 19  Perspectiva positiva da empresa(%)  34 non-null     object\n",
      " 20  Segmento                            34 non-null     object\n",
      " 21  Nome                                34 non-null     object\n",
      " 22  match_percent                       34 non-null     object\n",
      "dtypes: object(23)\n",
      "memory usage: 6.2+ KB\n"
     ]
    }
   ],
   "source": [
    "rwzd_employees.info()"
   ]
  },
  {
   "cell_type": "code",
   "execution_count": 105,
   "metadata": {},
   "outputs": [],
   "source": [
    "rwzd_employees.to_parquet('./raw/employee/data.parquet', engine='pyarrow', compression='snappy')"
   ]
  },
  {
   "cell_type": "markdown",
   "metadata": {},
   "source": [
    "### Claims file"
   ]
  },
  {
   "cell_type": "markdown",
   "metadata": {},
   "source": [
    "Carregando todos os arquivos de reclamações e os unindo em uma única tabela"
   ]
  },
  {
   "cell_type": "code",
   "execution_count": 13,
   "metadata": {},
   "outputs": [
    {
     "name": "stdout",
     "output_type": "stream",
     "text": [
      "Processing file: ./trzd/Reclamações\\2021_tri_01.csv\n",
      "Processing file: ./trzd/Reclamações\\2021_tri_02.csv\n",
      "Processing file: ./trzd/Reclamações\\2021_tri_03.csv\n",
      "Processing file: ./trzd/Reclamações\\2021_tri_04.csv\n",
      "Processing file: ./trzd/Reclamações\\2022_tri_01.csv\n",
      "Processing file: ./trzd/Reclamações\\2022_tri_03.csv\n",
      "Processing file: ./trzd/Reclamações\\2022_tri_04.csv\n"
     ]
    }
   ],
   "source": [
    "list_df_claims = []\n",
    "claims_dir = './trzd/Reclamações'\n",
    "\n",
    "for file in os.listdir(claims_dir):\n",
    "    full_path = os.path.join(claims_dir, file)\n",
    "    print(f'Processing file: {full_path}')\n",
    "\n",
    "    claim = pd.read_csv(full_path, sep=';', encoding='utf-8', dtype=str)\n",
    "    list_df_claims.append(claim)\n",
    "\n",
    "rwzd_claims = pd.concat(list_df_claims)"
   ]
  },
  {
   "cell_type": "code",
   "execution_count": 14,
   "metadata": {},
   "outputs": [
    {
     "data": {
      "text/html": [
       "<div>\n",
       "<style scoped>\n",
       "    .dataframe tbody tr th:only-of-type {\n",
       "        vertical-align: middle;\n",
       "    }\n",
       "\n",
       "    .dataframe tbody tr th {\n",
       "        vertical-align: top;\n",
       "    }\n",
       "\n",
       "    .dataframe thead th {\n",
       "        text-align: right;\n",
       "    }\n",
       "</style>\n",
       "<table border=\"1\" class=\"dataframe\">\n",
       "  <thead>\n",
       "    <tr style=\"text-align: right;\">\n",
       "      <th></th>\n",
       "      <th>Ano</th>\n",
       "      <th>Trimestre</th>\n",
       "      <th>Categoria</th>\n",
       "      <th>Tipo</th>\n",
       "      <th>CNPJ IF</th>\n",
       "      <th>Instituição financeira</th>\n",
       "      <th>Índice</th>\n",
       "      <th>Quantidade de reclamações reguladas procedentes</th>\n",
       "      <th>Quantidade de reclamações reguladas - outras</th>\n",
       "      <th>Quantidade de reclamações não reguladas</th>\n",
       "      <th>Quantidade total de reclamações</th>\n",
       "      <th>Quantidade total de clientes – CCS e SCR</th>\n",
       "      <th>Quantidade de clientes – CCS</th>\n",
       "      <th>Quantidade de clientes – SCR</th>\n",
       "      <th>Unnamed: 14</th>\n",
       "    </tr>\n",
       "  </thead>\n",
       "  <tbody>\n",
       "    <tr>\n",
       "      <th>0</th>\n",
       "      <td>2021</td>\n",
       "      <td>1º</td>\n",
       "      <td>Grupo Secundário</td>\n",
       "      <td>Conglomerado</td>\n",
       "      <td></td>\n",
       "      <td>ABC-BRASIL (conglomerado)</td>\n",
       "      <td></td>\n",
       "      <td>2</td>\n",
       "      <td>3</td>\n",
       "      <td>4</td>\n",
       "      <td>9</td>\n",
       "      <td>26230</td>\n",
       "      <td>24698</td>\n",
       "      <td>3810</td>\n",
       "      <td>NaN</td>\n",
       "    </tr>\n",
       "    <tr>\n",
       "      <th>1</th>\n",
       "      <td>2021</td>\n",
       "      <td>1º</td>\n",
       "      <td>Grupo Secundário</td>\n",
       "      <td>Conglomerado</td>\n",
       "      <td></td>\n",
       "      <td>AGIBANK (conglomerado)</td>\n",
       "      <td>54,79</td>\n",
       "      <td>58</td>\n",
       "      <td>140</td>\n",
       "      <td>73</td>\n",
       "      <td>271</td>\n",
       "      <td>1058431</td>\n",
       "      <td>790848</td>\n",
       "      <td>693843</td>\n",
       "      <td>NaN</td>\n",
       "    </tr>\n",
       "  </tbody>\n",
       "</table>\n",
       "</div>"
      ],
      "text/plain": [
       "    Ano Trimestre         Categoria          Tipo CNPJ IF  \\\n",
       "0  2021        1º  Grupo Secundário  Conglomerado           \n",
       "1  2021        1º  Grupo Secundário  Conglomerado           \n",
       "\n",
       "      Instituição financeira Índice  \\\n",
       "0  ABC-BRASIL (conglomerado)          \n",
       "1     AGIBANK (conglomerado)  54,79   \n",
       "\n",
       "  Quantidade de reclamações reguladas procedentes  \\\n",
       "0                                               2   \n",
       "1                                              58   \n",
       "\n",
       "  Quantidade de reclamações reguladas - outras  \\\n",
       "0                                            3   \n",
       "1                                          140   \n",
       "\n",
       "  Quantidade de reclamações não reguladas Quantidade total de reclamações  \\\n",
       "0                                       4                               9   \n",
       "1                                      73                             271   \n",
       "\n",
       "  Quantidade total de clientes – CCS e SCR Quantidade de clientes – CCS  \\\n",
       "0                                    26230                        24698   \n",
       "1                                  1058431                       790848   \n",
       "\n",
       "  Quantidade de clientes – SCR Unnamed: 14  \n",
       "0                         3810         NaN  \n",
       "1                       693843         NaN  "
      ]
     },
     "execution_count": 14,
     "metadata": {},
     "output_type": "execute_result"
    }
   ],
   "source": [
    "rwzd_claims.head(2)"
   ]
  },
  {
   "cell_type": "code",
   "execution_count": 15,
   "metadata": {},
   "outputs": [
    {
     "name": "stdout",
     "output_type": "stream",
     "text": [
      "<class 'pandas.core.frame.DataFrame'>\n",
      "Index: 918 entries, 0 to 153\n",
      "Data columns (total 15 columns):\n",
      " #   Column                                           Non-Null Count  Dtype \n",
      "---  ------                                           --------------  ----- \n",
      " 0   Ano                                              918 non-null    object\n",
      " 1   Trimestre                                        918 non-null    object\n",
      " 2   Categoria                                        918 non-null    object\n",
      " 3   Tipo                                             918 non-null    object\n",
      " 4   CNPJ IF                                          918 non-null    object\n",
      " 5   Instituição financeira                           918 non-null    object\n",
      " 6   Índice                                           918 non-null    object\n",
      " 7   Quantidade de reclamações reguladas procedentes  918 non-null    object\n",
      " 8   Quantidade de reclamações reguladas - outras     918 non-null    object\n",
      " 9   Quantidade de reclamações não reguladas          918 non-null    object\n",
      " 10  Quantidade total de reclamações                  918 non-null    object\n",
      " 11  Quantidade total de clientes – CCS e SCR         918 non-null    object\n",
      " 12  Quantidade de clientes – CCS                     918 non-null    object\n",
      " 13  Quantidade de clientes – SCR                     918 non-null    object\n",
      " 14  Unnamed: 14                                      0 non-null      object\n",
      "dtypes: object(15)\n",
      "memory usage: 114.8+ KB\n"
     ]
    }
   ],
   "source": [
    "rwzd_claims.info()"
   ]
  },
  {
   "cell_type": "code",
   "execution_count": 16,
   "metadata": {},
   "outputs": [],
   "source": [
    "rwzd_claims.to_parquet('./raw/claim/data.parquet', engine='pyarrow', compression='snappy')"
   ]
  },
  {
   "cell_type": "markdown",
   "metadata": {},
   "source": [
    "---\n",
    "## Trusted"
   ]
  },
  {
   "cell_type": "markdown",
   "metadata": {},
   "source": [
    "### Banks"
   ]
  },
  {
   "cell_type": "code",
   "execution_count": 18,
   "metadata": {},
   "outputs": [],
   "source": [
    "rwzd_bank_path = './raw/bank'\n",
    "trzd_bank = pd.read_parquet(rwzd_bank_path, engine='pyarrow')"
   ]
  },
  {
   "cell_type": "markdown",
   "metadata": {},
   "source": [
    "Aplicando algumas transformações com o intuito de melhorar a qualidade dos dados:"
   ]
  },
  {
   "cell_type": "markdown",
   "metadata": {},
   "source": [
    "1 - Renomeando colunas do _dataframe_ para inglês e no formato _snake case_"
   ]
  },
  {
   "cell_type": "code",
   "execution_count": 19,
   "metadata": {},
   "outputs": [],
   "source": [
    "trzd_bank.rename(\n",
    "    columns={\n",
    "        'Segmento': 'segment',\n",
    "        'CNPJ': 'cnpj',\n",
    "        'Nome': 'financial_institution_name'\n",
    "    },\n",
    "    inplace = True\n",
    ")"
   ]
  },
  {
   "cell_type": "markdown",
   "metadata": {},
   "source": [
    "2 - Para que os dados da coluna _cnpj_ estivessem de acordo com seu padrão, os valores incompletos receberam numerais zeros à esquerda até completar 8 dígitos"
   ]
  },
  {
   "cell_type": "code",
   "execution_count": 20,
   "metadata": {},
   "outputs": [],
   "source": [
    "trzd_bank[\"cnpj\"] = trzd_bank[\"cnpj\"].map(lambda cnpj: cnpj.zfill(8))"
   ]
  },
  {
   "cell_type": "markdown",
   "metadata": {},
   "source": [
    "3 - Criando chave artificial com base no CNPJ e o Segmento da instituição financeira"
   ]
  },
  {
   "cell_type": "code",
   "execution_count": 21,
   "metadata": {},
   "outputs": [],
   "source": [
    "trzd_bank[\"bank_document_id\"] = trzd_bank[\"cnpj\"] + trzd_bank[\"segment\"]\n",
    "trzd_bank[\"bank_document_id\"] = trzd_bank[\"bank_document_id\"].map(lambda id: sha1(id.encode(\"utf-8\")).hexdigest())"
   ]
  },
  {
   "cell_type": "code",
   "execution_count": 22,
   "metadata": {},
   "outputs": [
    {
     "data": {
      "text/html": [
       "<div>\n",
       "<style scoped>\n",
       "    .dataframe tbody tr th:only-of-type {\n",
       "        vertical-align: middle;\n",
       "    }\n",
       "\n",
       "    .dataframe tbody tr th {\n",
       "        vertical-align: top;\n",
       "    }\n",
       "\n",
       "    .dataframe thead th {\n",
       "        text-align: right;\n",
       "    }\n",
       "</style>\n",
       "<table border=\"1\" class=\"dataframe\">\n",
       "  <thead>\n",
       "    <tr style=\"text-align: right;\">\n",
       "      <th></th>\n",
       "      <th>segment</th>\n",
       "      <th>cnpj</th>\n",
       "      <th>financial_institution_name</th>\n",
       "      <th>bank_document_id</th>\n",
       "    </tr>\n",
       "  </thead>\n",
       "  <tbody>\n",
       "    <tr>\n",
       "      <th>0</th>\n",
       "      <td>S1</td>\n",
       "      <td>00000000</td>\n",
       "      <td>BANCO DO BRASIL - PRUDENCIAL</td>\n",
       "      <td>d9be4941c63af670d63086dcb0849a997e062a64</td>\n",
       "    </tr>\n",
       "    <tr>\n",
       "      <th>1</th>\n",
       "      <td>S1</td>\n",
       "      <td>60746948</td>\n",
       "      <td>BRADESCO - PRUDENCIAL</td>\n",
       "      <td>2f59bebc86f6b4dd5628043cac240c6e6a6f651d</td>\n",
       "    </tr>\n",
       "    <tr>\n",
       "      <th>2</th>\n",
       "      <td>S1</td>\n",
       "      <td>30306294</td>\n",
       "      <td>BTG PACTUAL - PRUDENCIAL</td>\n",
       "      <td>110ffbf347c0837827daf658f4f97950ebe9f741</td>\n",
       "    </tr>\n",
       "    <tr>\n",
       "      <th>3</th>\n",
       "      <td>S1</td>\n",
       "      <td>00360305</td>\n",
       "      <td>CAIXA ECONOMICA FEDERAL - PRUDENCIAL</td>\n",
       "      <td>587e4dca521e8c4426371a29658419ecb0087262</td>\n",
       "    </tr>\n",
       "    <tr>\n",
       "      <th>4</th>\n",
       "      <td>S1</td>\n",
       "      <td>60872504</td>\n",
       "      <td>ITAU - PRUDENCIAL</td>\n",
       "      <td>4b6e5b20d113f3415704fd6a998f2e4500340b18</td>\n",
       "    </tr>\n",
       "  </tbody>\n",
       "</table>\n",
       "</div>"
      ],
      "text/plain": [
       "  segment      cnpj            financial_institution_name  \\\n",
       "0      S1  00000000          BANCO DO BRASIL - PRUDENCIAL   \n",
       "1      S1  60746948                 BRADESCO - PRUDENCIAL   \n",
       "2      S1  30306294              BTG PACTUAL - PRUDENCIAL   \n",
       "3      S1  00360305  CAIXA ECONOMICA FEDERAL - PRUDENCIAL   \n",
       "4      S1  60872504                     ITAU - PRUDENCIAL   \n",
       "\n",
       "                           bank_document_id  \n",
       "0  d9be4941c63af670d63086dcb0849a997e062a64  \n",
       "1  2f59bebc86f6b4dd5628043cac240c6e6a6f651d  \n",
       "2  110ffbf347c0837827daf658f4f97950ebe9f741  \n",
       "3  587e4dca521e8c4426371a29658419ecb0087262  \n",
       "4  4b6e5b20d113f3415704fd6a998f2e4500340b18  "
      ]
     },
     "execution_count": 22,
     "metadata": {},
     "output_type": "execute_result"
    }
   ],
   "source": [
    "trzd_bank.head()"
   ]
  },
  {
   "cell_type": "markdown",
   "metadata": {},
   "source": [
    "Armazendo o dataframe na camada Trusted"
   ]
  },
  {
   "cell_type": "code",
   "execution_count": 23,
   "metadata": {},
   "outputs": [],
   "source": [
    "trzd_bank.to_parquet('./trusted/bank/data.parquet', engine='pyarrow', compression='snappy')"
   ]
  },
  {
   "cell_type": "markdown",
   "metadata": {},
   "source": [
    "### Employees"
   ]
  },
  {
   "cell_type": "code",
   "execution_count": 24,
   "metadata": {},
   "outputs": [],
   "source": [
    "rwzd_employee_path = './raw/employee'\n",
    "trzd_employee = pd.read_parquet(rwzd_employee_path, engine='pyarrow')"
   ]
  },
  {
   "cell_type": "markdown",
   "metadata": {},
   "source": [
    "Aplicando algumas transformações com o intuito de melhorar a qualidade dos dados:"
   ]
  },
  {
   "cell_type": "markdown",
   "metadata": {},
   "source": [
    "1 - Renomeando colunas do _dataframe_ para inglês e no formato _snake case_"
   ]
  },
  {
   "cell_type": "code",
   "execution_count": 25,
   "metadata": {},
   "outputs": [],
   "source": [
    "trzd_employee.rename(\n",
    "    columns={\n",
    "        'employer-website': 'employer_website',\n",
    "        'employer-headquarters': 'employer_headquarters',\n",
    "        'employer-founded': 'employer_founded',\n",
    "        'employer-industry': 'employer_industry',\n",
    "        'employer-revenue': 'employer_revenue',\n",
    "        'Geral': 'general_score',\n",
    "        'Cultura e valores': 'culture_values_score',\n",
    "        'Diversidade e inclusão': 'diversity_inclusion_score',\n",
    "        'Qualidade de vida': 'life_quality_score',\n",
    "        'Alta liderança': 'senior_leadership_score',\n",
    "        'Remuneração e benefícios': 'compensation_benefits_score',\n",
    "        'Oportunidades de carreira': 'career_opportunities_score',\n",
    "        'Recomendam para outras pessoas(%)': 'recommendation_score',\n",
    "        'Perspectiva positiva da empresa(%)': 'company_positive_score',\n",
    "        'Segmento': 'segment',\n",
    "        'Nome': 'financial_institution_name'\n",
    "    },\n",
    "    inplace=True\n",
    ")"
   ]
  },
  {
   "cell_type": "markdown",
   "metadata": {},
   "source": [
    "2 - Alterando os tipos das colunas do _dataframe_ para tipos mais _apropriados_"
   ]
  },
  {
   "cell_type": "code",
   "execution_count": 26,
   "metadata": {},
   "outputs": [],
   "source": [
    "trzd_employee = trzd_employee.astype({\n",
    "    'employer_name': 'str',\n",
    "    'reviews_count': 'uint64',\n",
    "    'culture_count': 'uint64',\n",
    "    'salaries_count': 'uint64',\n",
    "    'benefits_count': 'uint64',\n",
    "    'employer_website': 'str',\n",
    "    'employer_headquarters': 'str',\n",
    "    'employer_founded': 'str',\n",
    "    'employer_industry': 'str',\n",
    "    'employer_revenue': 'str',\n",
    "    'url': 'str',\n",
    "    'general_score': 'float64',\n",
    "    'culture_values_score': 'float64',\n",
    "    'diversity_inclusion_score': 'float64',\n",
    "    'life_quality_score': 'float64',\n",
    "    'senior_leadership_score': 'float64',\n",
    "    'compensation_benefits_score': 'float64',\n",
    "    'career_opportunities_score': 'float64',\n",
    "    'recommendation_score': 'float64',\n",
    "    'company_positive_score': 'float64',\n",
    "    'segment': 'str',\n",
    "    'financial_institution_name': 'str',\n",
    "    'match_percent': 'uint8'\n",
    "})"
   ]
  },
  {
   "cell_type": "markdown",
   "metadata": {},
   "source": [
    "3 - Tratando campo de data de fundação para remover casas decimais"
   ]
  },
  {
   "cell_type": "code",
   "execution_count": 27,
   "metadata": {},
   "outputs": [],
   "source": [
    "trzd_employee[\"employer_founded\"] =  trzd_employee[\"employer_founded\"].str.replace('\\..*', '', regex=True)"
   ]
  },
  {
   "cell_type": "markdown",
   "metadata": {},
   "source": [
    "4 - Criando chave artificial com base no nome da instituição financeira"
   ]
  },
  {
   "cell_type": "code",
   "execution_count": 28,
   "metadata": {},
   "outputs": [],
   "source": [
    "trzd_employee['bank_name_id'] = trzd_employee['financial_institution_name'].str.lower()\n",
    "trzd_employee['bank_name_id'] = trzd_employee['bank_name_id'].str.replace(\" \", \"\")\n",
    "trzd_employee['bank_name_id'] = trzd_employee['bank_name_id'].map(lambda x: sha1(x.encode('utf-8')).hexdigest())"
   ]
  },
  {
   "cell_type": "code",
   "execution_count": 29,
   "metadata": {},
   "outputs": [
    {
     "data": {
      "text/html": [
       "<div>\n",
       "<style scoped>\n",
       "    .dataframe tbody tr th:only-of-type {\n",
       "        vertical-align: middle;\n",
       "    }\n",
       "\n",
       "    .dataframe tbody tr th {\n",
       "        vertical-align: top;\n",
       "    }\n",
       "\n",
       "    .dataframe thead th {\n",
       "        text-align: right;\n",
       "    }\n",
       "</style>\n",
       "<table border=\"1\" class=\"dataframe\">\n",
       "  <thead>\n",
       "    <tr style=\"text-align: right;\">\n",
       "      <th></th>\n",
       "      <th>employer_name</th>\n",
       "      <th>reviews_count</th>\n",
       "      <th>culture_count</th>\n",
       "      <th>salaries_count</th>\n",
       "      <th>benefits_count</th>\n",
       "      <th>employer_website</th>\n",
       "      <th>employer_headquarters</th>\n",
       "      <th>employer_founded</th>\n",
       "      <th>employer_industry</th>\n",
       "      <th>employer_revenue</th>\n",
       "      <th>...</th>\n",
       "      <th>life_quality_score</th>\n",
       "      <th>senior_leadership_score</th>\n",
       "      <th>compensation_benefits_score</th>\n",
       "      <th>career_opportunities_score</th>\n",
       "      <th>recommendation_score</th>\n",
       "      <th>company_positive_score</th>\n",
       "      <th>segment</th>\n",
       "      <th>financial_institution_name</th>\n",
       "      <th>match_percent</th>\n",
       "      <th>bank_name_id</th>\n",
       "    </tr>\n",
       "  </thead>\n",
       "  <tbody>\n",
       "    <tr>\n",
       "      <th>0</th>\n",
       "      <td>BNP Paribas</td>\n",
       "      <td>13000</td>\n",
       "      <td>4100</td>\n",
       "      <td>20000</td>\n",
       "      <td>3600</td>\n",
       "      <td>http://www.group.bnpparibas</td>\n",
       "      <td>Paris, França</td>\n",
       "      <td>2000</td>\n",
       "      <td>/Explorar/melhores-serviços-bancários-e-de-cré...</td>\n",
       "      <td>Mais de US$ 10 bilhões</td>\n",
       "      <td>...</td>\n",
       "      <td>3.8</td>\n",
       "      <td>3.4</td>\n",
       "      <td>3.4</td>\n",
       "      <td>3.5</td>\n",
       "      <td>77.0</td>\n",
       "      <td>63.0</td>\n",
       "      <td>S3</td>\n",
       "      <td>BNP PARIBAS</td>\n",
       "      <td>100</td>\n",
       "      <td>0612d12173005ce00d9c10800a27985a1e75997e</td>\n",
       "    </tr>\n",
       "    <tr>\n",
       "      <th>1</th>\n",
       "      <td>BTG Pactual</td>\n",
       "      <td>1600</td>\n",
       "      <td>683</td>\n",
       "      <td>2800</td>\n",
       "      <td>635</td>\n",
       "      <td>http://www.btgpactual.com</td>\n",
       "      <td>São Paulo, Brasil</td>\n",
       "      <td>None</td>\n",
       "      <td>/Explorar/melhores-gestão-de-ativos-e-investim...</td>\n",
       "      <td>Desconhecida/não se aplica</td>\n",
       "      <td>...</td>\n",
       "      <td>2.8</td>\n",
       "      <td>3.7</td>\n",
       "      <td>4.4</td>\n",
       "      <td>4.2</td>\n",
       "      <td>78.0</td>\n",
       "      <td>73.0</td>\n",
       "      <td>S1</td>\n",
       "      <td>BTG PACTUAL</td>\n",
       "      <td>100</td>\n",
       "      <td>cdd80a41f223ad9a4236b42c6c1c465c41908aed</td>\n",
       "    </tr>\n",
       "    <tr>\n",
       "      <th>2</th>\n",
       "      <td>Banco Alfa</td>\n",
       "      <td>175</td>\n",
       "      <td>74</td>\n",
       "      <td>271</td>\n",
       "      <td>105</td>\n",
       "      <td>http://www.alfanet.com.br</td>\n",
       "      <td>São Paulo, Brasil</td>\n",
       "      <td>1925</td>\n",
       "      <td>/Explorar/melhores-serviços-bancários-e-de-cré...</td>\n",
       "      <td>Desconhecida/não se aplica</td>\n",
       "      <td>...</td>\n",
       "      <td>3.1</td>\n",
       "      <td>2.8</td>\n",
       "      <td>3.8</td>\n",
       "      <td>2.7</td>\n",
       "      <td>68.0</td>\n",
       "      <td>47.0</td>\n",
       "      <td>S3</td>\n",
       "      <td>ALFA</td>\n",
       "      <td>100</td>\n",
       "      <td>1f7d72cc0ecb87cb6225c2979f3ccbeaf7cd0c33</td>\n",
       "    </tr>\n",
       "    <tr>\n",
       "      <th>3</th>\n",
       "      <td>Banco BMG</td>\n",
       "      <td>445</td>\n",
       "      <td>232</td>\n",
       "      <td>704</td>\n",
       "      <td>277</td>\n",
       "      <td>http://www.bancobmg.com.br</td>\n",
       "      <td>São Paulo, Brasil</td>\n",
       "      <td>1930</td>\n",
       "      <td>/Explorar/melhores-serviços-bancários-e-de-cré...</td>\n",
       "      <td>De US$ 1 a US$ 5 milhões</td>\n",
       "      <td>...</td>\n",
       "      <td>3.7</td>\n",
       "      <td>3.6</td>\n",
       "      <td>4.2</td>\n",
       "      <td>3.5</td>\n",
       "      <td>79.0</td>\n",
       "      <td>63.0</td>\n",
       "      <td>S3</td>\n",
       "      <td>BMG</td>\n",
       "      <td>100</td>\n",
       "      <td>c89e80ee154b6215c5dc790d93590f620e1ec45d</td>\n",
       "    </tr>\n",
       "    <tr>\n",
       "      <th>4</th>\n",
       "      <td>Banco Bradesco</td>\n",
       "      <td>11000</td>\n",
       "      <td>3300</td>\n",
       "      <td>19000</td>\n",
       "      <td>3200</td>\n",
       "      <td>http://www.bancobradesco.com.br</td>\n",
       "      <td>Osasco, Brasil</td>\n",
       "      <td>1943</td>\n",
       "      <td>/Explorar/melhores-serviços-bancários-e-de-cré...</td>\n",
       "      <td>Mais de US$ 10 bilhões</td>\n",
       "      <td>...</td>\n",
       "      <td>3.4</td>\n",
       "      <td>3.4</td>\n",
       "      <td>4.3</td>\n",
       "      <td>3.8</td>\n",
       "      <td>81.0</td>\n",
       "      <td>66.0</td>\n",
       "      <td>S1</td>\n",
       "      <td>BRADESCO</td>\n",
       "      <td>100</td>\n",
       "      <td>dd2b7d97678a3cb8b5a9f5e5bf60907d29293298</td>\n",
       "    </tr>\n",
       "  </tbody>\n",
       "</table>\n",
       "<p>5 rows × 24 columns</p>\n",
       "</div>"
      ],
      "text/plain": [
       "    employer_name  reviews_count  culture_count  salaries_count  \\\n",
       "0     BNP Paribas          13000           4100           20000   \n",
       "1     BTG Pactual           1600            683            2800   \n",
       "2      Banco Alfa            175             74             271   \n",
       "3       Banco BMG            445            232             704   \n",
       "4  Banco Bradesco          11000           3300           19000   \n",
       "\n",
       "   benefits_count                 employer_website employer_headquarters  \\\n",
       "0            3600      http://www.group.bnpparibas         Paris, França   \n",
       "1             635        http://www.btgpactual.com     São Paulo, Brasil   \n",
       "2             105        http://www.alfanet.com.br     São Paulo, Brasil   \n",
       "3             277       http://www.bancobmg.com.br     São Paulo, Brasil   \n",
       "4            3200  http://www.bancobradesco.com.br        Osasco, Brasil   \n",
       "\n",
       "  employer_founded                                  employer_industry  \\\n",
       "0             2000  /Explorar/melhores-serviços-bancários-e-de-cré...   \n",
       "1             None  /Explorar/melhores-gestão-de-ativos-e-investim...   \n",
       "2             1925  /Explorar/melhores-serviços-bancários-e-de-cré...   \n",
       "3             1930  /Explorar/melhores-serviços-bancários-e-de-cré...   \n",
       "4             1943  /Explorar/melhores-serviços-bancários-e-de-cré...   \n",
       "\n",
       "             employer_revenue  ... life_quality_score  \\\n",
       "0      Mais de US$ 10 bilhões  ...                3.8   \n",
       "1  Desconhecida/não se aplica  ...                2.8   \n",
       "2  Desconhecida/não se aplica  ...                3.1   \n",
       "3    De US$ 1 a US$ 5 milhões  ...                3.7   \n",
       "4      Mais de US$ 10 bilhões  ...                3.4   \n",
       "\n",
       "   senior_leadership_score  compensation_benefits_score  \\\n",
       "0                      3.4                          3.4   \n",
       "1                      3.7                          4.4   \n",
       "2                      2.8                          3.8   \n",
       "3                      3.6                          4.2   \n",
       "4                      3.4                          4.3   \n",
       "\n",
       "   career_opportunities_score  recommendation_score  company_positive_score  \\\n",
       "0                         3.5                  77.0                    63.0   \n",
       "1                         4.2                  78.0                    73.0   \n",
       "2                         2.7                  68.0                    47.0   \n",
       "3                         3.5                  79.0                    63.0   \n",
       "4                         3.8                  81.0                    66.0   \n",
       "\n",
       "   segment  financial_institution_name  match_percent  \\\n",
       "0       S3                 BNP PARIBAS            100   \n",
       "1       S1                 BTG PACTUAL            100   \n",
       "2       S3                        ALFA            100   \n",
       "3       S3                         BMG            100   \n",
       "4       S1                    BRADESCO            100   \n",
       "\n",
       "                               bank_name_id  \n",
       "0  0612d12173005ce00d9c10800a27985a1e75997e  \n",
       "1  cdd80a41f223ad9a4236b42c6c1c465c41908aed  \n",
       "2  1f7d72cc0ecb87cb6225c2979f3ccbeaf7cd0c33  \n",
       "3  c89e80ee154b6215c5dc790d93590f620e1ec45d  \n",
       "4  dd2b7d97678a3cb8b5a9f5e5bf60907d29293298  \n",
       "\n",
       "[5 rows x 24 columns]"
      ]
     },
     "execution_count": 29,
     "metadata": {},
     "output_type": "execute_result"
    }
   ],
   "source": [
    "trzd_employee.head()"
   ]
  },
  {
   "cell_type": "markdown",
   "metadata": {},
   "source": [
    "Armazendo o dataframe na camada Trusted"
   ]
  },
  {
   "cell_type": "code",
   "execution_count": 30,
   "metadata": {},
   "outputs": [],
   "source": [
    "trzd_employee.to_parquet('./trusted/employee/data.parquet', engine='pyarrow', compression='snappy')"
   ]
  },
  {
   "cell_type": "markdown",
   "metadata": {},
   "source": [
    "### Claims"
   ]
  },
  {
   "cell_type": "code",
   "execution_count": 54,
   "metadata": {},
   "outputs": [],
   "source": [
    "rwzd_claim_path = './raw/claim'\n",
    "trzd_claim = pd.read_parquet(rwzd_claim_path, engine='pyarrow')"
   ]
  },
  {
   "cell_type": "markdown",
   "metadata": {},
   "source": [
    "Aplicando algumas transformações com o intuito de melhorar a qualidade dos dados:"
   ]
  },
  {
   "cell_type": "markdown",
   "metadata": {},
   "source": [
    "1 - Removendo coluna sem dados"
   ]
  },
  {
   "cell_type": "code",
   "execution_count": 55,
   "metadata": {},
   "outputs": [],
   "source": [
    "trzd_claim.drop(columns=['Unnamed: 14'], inplace=True)"
   ]
  },
  {
   "cell_type": "markdown",
   "metadata": {},
   "source": [
    "2 - Renomendo colunas do _dataframe_ para inglês e no formato _snake case_"
   ]
  },
  {
   "cell_type": "code",
   "execution_count": 56,
   "metadata": {},
   "outputs": [],
   "source": [
    "trzd_claim.rename(\n",
    "    columns={\n",
    "        'Ano': 'year',\n",
    "        'Trimestre': 'quarter',\n",
    "        'Categoria': 'category',\n",
    "        'Tipo': 'type',\n",
    "        'CNPJ IF': 'cnpj',\n",
    "        'Instituição financeira': 'financial_institution_name',\n",
    "        'Índice': 'index',\n",
    "        'Quantidade de reclamações reguladas procedentes': 'number_of_regulated_proceeding_complaints',\n",
    "        'Quantidade de reclamações reguladas - outras': 'number_of_regulated_other_complaints',\n",
    "        'Quantidade de reclamações não reguladas': 'number_of_unregulated_complaints',\n",
    "        'Quantidade total de reclamações': 'total_number_of_complaints',\n",
    "        'Quantidade total de clientes – CCS e SCR': 'total_number_of_ccs_and_scr_customers',\n",
    "        'Quantidade de clientes – CCS': 'number_of_ccs_customers',\n",
    "        'Quantidade de clientes – SCR': 'number_of_scr_customers'\n",
    "    },\n",
    "    inplace=True\n",
    ")"
   ]
  },
  {
   "cell_type": "markdown",
   "metadata": {},
   "source": [
    "3 - Tratando a coluna _index_\n",
    "\n",
    "- Devido a valores com separação por pontos na cada do milhar, foi necessário realizar a remoção (e.g.: 2.000,00 passa a ser 2000,00)\n",
    "- A fim de converter mais tarde para o tipo float, a vírgula da casa dos decimais foi substituída por ponto\n",
    "- Por fim, string vazias foram substituídas por NaN"
   ]
  },
  {
   "cell_type": "code",
   "execution_count": null,
   "metadata": {},
   "outputs": [],
   "source": [
    "trzd_claim[\"index\"] = trzd_claim[\"index\"].str.replace('.', '')\n",
    "trzd_claim[\"index\"] = trzd_claim[\"index\"].str.replace(',', '.')\n",
    "trzd_claim['index'] = trzd_claim['index'].replace(' ', np.nan)"
   ]
  },
  {
   "cell_type": "markdown",
   "metadata": {},
   "source": [
    "4 - Tratando as colunas _quarter_ e _cnpj_\n",
    "\n",
    "- O caracter º foi removido da coluna _quarter_\n",
    "- Para que os dados da coluna _cnpj_ estivessem de acordo com seu padrão, os valores incompletos receberam numerais zeros à esquerda até completar 8 dígitos"
   ]
  },
  {
   "cell_type": "code",
   "execution_count": 58,
   "metadata": {},
   "outputs": [],
   "source": [
    "trzd_claim[\"quarter\"] = trzd_claim[\"quarter\"].str.replace('º', '')\n",
    "trzd_claim[\"cnpj\"] = trzd_claim[\"cnpj\"].map(lambda cnpj: cnpj.zfill(8))"
   ]
  },
  {
   "cell_type": "markdown",
   "metadata": {},
   "source": [
    "5 - Tratando as colunas _total_number_of_ccs_and_scr_customers_, _number_of_ccs_customers_ e _number_of_scr_customers_, as quais continham strings vazias\n",
    "\n",
    "Assim, as strings vazias foram substituídas por valores NaN e convertidas para float, possibilitando a conversão para o tipo inteiro mais adiante"
   ]
  },
  {
   "cell_type": "code",
   "execution_count": 93,
   "metadata": {},
   "outputs": [],
   "source": [
    "trzd_claim['total_number_of_ccs_and_scr_customers'] = trzd_claim['total_number_of_ccs_and_scr_customers'].replace(' ', np.nan).astype(float)\n",
    "trzd_claim['number_of_ccs_customers'] = trzd_claim['number_of_ccs_customers'].replace(' ', np.nan).astype(float)\n",
    "trzd_claim['number_of_scr_customers'] = trzd_claim['number_of_scr_customers'].replace(' ', np.nan).astype(float)"
   ]
  },
  {
   "cell_type": "markdown",
   "metadata": {},
   "source": [
    "6 - Alterando os tipos das colunas do _dataframe_ para tipos mais _apropriados_\n",
    "\n",
    "Devido ao tipo uint64 não aceitar valores NaN, as colunas que continham estes valores precisaram ser convertidas ao tipo inteiro do Pandas, que aceita"
   ]
  },
  {
   "cell_type": "code",
   "execution_count": 94,
   "metadata": {},
   "outputs": [],
   "source": [
    "trzd_claim = trzd_claim.astype({\n",
    "    'year': 'str',\n",
    "    'quarter': 'uint8',\n",
    "    'category': 'str',\n",
    "    'type': 'str',\n",
    "    'cnpj': 'str',\n",
    "    'financial_institution_name': 'str',\n",
    "    'index': 'float64',\n",
    "    'number_of_regulated_proceeding_complaints': 'uint64',\n",
    "    'number_of_regulated_other_complaints': 'uint64',\n",
    "    'number_of_unregulated_complaints': 'uint64',\n",
    "    'total_number_of_complaints': 'uint64',\n",
    "    'total_number_of_ccs_and_scr_customers': pd.Int64Dtype(),\n",
    "    'number_of_ccs_customers': pd.Int64Dtype(),\n",
    "    'number_of_scr_customers': pd.Int64Dtype()\n",
    "})"
   ]
  },
  {
   "cell_type": "code",
   "execution_count": 97,
   "metadata": {},
   "outputs": [
    {
     "data": {
      "text/html": [
       "<div>\n",
       "<style scoped>\n",
       "    .dataframe tbody tr th:only-of-type {\n",
       "        vertical-align: middle;\n",
       "    }\n",
       "\n",
       "    .dataframe tbody tr th {\n",
       "        vertical-align: top;\n",
       "    }\n",
       "\n",
       "    .dataframe thead th {\n",
       "        text-align: right;\n",
       "    }\n",
       "</style>\n",
       "<table border=\"1\" class=\"dataframe\">\n",
       "  <thead>\n",
       "    <tr style=\"text-align: right;\">\n",
       "      <th></th>\n",
       "      <th>year</th>\n",
       "      <th>quarter</th>\n",
       "      <th>category</th>\n",
       "      <th>type</th>\n",
       "      <th>cnpj</th>\n",
       "      <th>financial_institution_name</th>\n",
       "      <th>index</th>\n",
       "      <th>number_of_regulated_proceeding_complaints</th>\n",
       "      <th>number_of_regulated_other_complaints</th>\n",
       "      <th>number_of_unregulated_complaints</th>\n",
       "      <th>total_number_of_complaints</th>\n",
       "      <th>total_number_of_ccs_and_scr_customers</th>\n",
       "      <th>number_of_ccs_customers</th>\n",
       "      <th>number_of_scr_customers</th>\n",
       "    </tr>\n",
       "  </thead>\n",
       "  <tbody>\n",
       "    <tr>\n",
       "      <th>0</th>\n",
       "      <td>2021</td>\n",
       "      <td>1</td>\n",
       "      <td>Grupo Secundário</td>\n",
       "      <td>Conglomerado</td>\n",
       "      <td>0000000</td>\n",
       "      <td>ABC-BRASIL (conglomerado)</td>\n",
       "      <td>NaN</td>\n",
       "      <td>2</td>\n",
       "      <td>3</td>\n",
       "      <td>4</td>\n",
       "      <td>9</td>\n",
       "      <td>26230</td>\n",
       "      <td>24698</td>\n",
       "      <td>3810</td>\n",
       "    </tr>\n",
       "    <tr>\n",
       "      <th>1</th>\n",
       "      <td>2021</td>\n",
       "      <td>1</td>\n",
       "      <td>Grupo Secundário</td>\n",
       "      <td>Conglomerado</td>\n",
       "      <td>0000000</td>\n",
       "      <td>AGIBANK (conglomerado)</td>\n",
       "      <td>54.79</td>\n",
       "      <td>58</td>\n",
       "      <td>140</td>\n",
       "      <td>73</td>\n",
       "      <td>271</td>\n",
       "      <td>1058431</td>\n",
       "      <td>790848</td>\n",
       "      <td>693843</td>\n",
       "    </tr>\n",
       "    <tr>\n",
       "      <th>2</th>\n",
       "      <td>2021</td>\n",
       "      <td>1</td>\n",
       "      <td>Grupo Secundário</td>\n",
       "      <td>Banco/financeira</td>\n",
       "      <td>36321990</td>\n",
       "      <td>AGORACRED S/A SOCIEDADE DE CRÉDITO, FINANCIAME...</td>\n",
       "      <td>NaN</td>\n",
       "      <td>3</td>\n",
       "      <td>3</td>\n",
       "      <td>0</td>\n",
       "      <td>6</td>\n",
       "      <td>420692</td>\n",
       "      <td>129</td>\n",
       "      <td>420563</td>\n",
       "    </tr>\n",
       "    <tr>\n",
       "      <th>3</th>\n",
       "      <td>2021</td>\n",
       "      <td>1</td>\n",
       "      <td>Grupo Secundário</td>\n",
       "      <td>Banco/financeira</td>\n",
       "      <td>27214112</td>\n",
       "      <td>AL5 S.A. CRÉDITO, FINANCIAMENTO E INVESTIMENTO</td>\n",
       "      <td>NaN</td>\n",
       "      <td>1</td>\n",
       "      <td>1</td>\n",
       "      <td>0</td>\n",
       "      <td>2</td>\n",
       "      <td>12645</td>\n",
       "      <td>4979</td>\n",
       "      <td>10112</td>\n",
       "    </tr>\n",
       "    <tr>\n",
       "      <th>4</th>\n",
       "      <td>2021</td>\n",
       "      <td>1</td>\n",
       "      <td>Grupo Secundário</td>\n",
       "      <td>Conglomerado</td>\n",
       "      <td>0000000</td>\n",
       "      <td>ALFA (conglomerado)</td>\n",
       "      <td>NaN</td>\n",
       "      <td>14</td>\n",
       "      <td>44</td>\n",
       "      <td>15</td>\n",
       "      <td>73</td>\n",
       "      <td>412135</td>\n",
       "      <td>268186</td>\n",
       "      <td>145105</td>\n",
       "    </tr>\n",
       "  </tbody>\n",
       "</table>\n",
       "</div>"
      ],
      "text/plain": [
       "   year  quarter          category              type      cnpj  \\\n",
       "0  2021        1  Grupo Secundário      Conglomerado  0000000    \n",
       "1  2021        1  Grupo Secundário      Conglomerado  0000000    \n",
       "2  2021        1  Grupo Secundário  Banco/financeira  36321990   \n",
       "3  2021        1  Grupo Secundário  Banco/financeira  27214112   \n",
       "4  2021        1  Grupo Secundário      Conglomerado  0000000    \n",
       "\n",
       "                          financial_institution_name  index  \\\n",
       "0                          ABC-BRASIL (conglomerado)    NaN   \n",
       "1                             AGIBANK (conglomerado)  54.79   \n",
       "2  AGORACRED S/A SOCIEDADE DE CRÉDITO, FINANCIAME...    NaN   \n",
       "3     AL5 S.A. CRÉDITO, FINANCIAMENTO E INVESTIMENTO    NaN   \n",
       "4                                ALFA (conglomerado)    NaN   \n",
       "\n",
       "   number_of_regulated_proceeding_complaints  \\\n",
       "0                                          2   \n",
       "1                                         58   \n",
       "2                                          3   \n",
       "3                                          1   \n",
       "4                                         14   \n",
       "\n",
       "   number_of_regulated_other_complaints  number_of_unregulated_complaints  \\\n",
       "0                                     3                                 4   \n",
       "1                                   140                                73   \n",
       "2                                     3                                 0   \n",
       "3                                     1                                 0   \n",
       "4                                    44                                15   \n",
       "\n",
       "   total_number_of_complaints  total_number_of_ccs_and_scr_customers  \\\n",
       "0                           9                                  26230   \n",
       "1                         271                                1058431   \n",
       "2                           6                                 420692   \n",
       "3                           2                                  12645   \n",
       "4                          73                                 412135   \n",
       "\n",
       "   number_of_ccs_customers  number_of_scr_customers  \n",
       "0                    24698                     3810  \n",
       "1                   790848                   693843  \n",
       "2                      129                   420563  \n",
       "3                     4979                    10112  \n",
       "4                   268186                   145105  "
      ]
     },
     "execution_count": 97,
     "metadata": {},
     "output_type": "execute_result"
    }
   ],
   "source": [
    "trzd_claim.head()"
   ]
  },
  {
   "cell_type": "markdown",
   "metadata": {},
   "source": [
    "Armazendo o dataframe na camada Trusted"
   ]
  },
  {
   "cell_type": "code",
   "execution_count": 99,
   "metadata": {},
   "outputs": [],
   "source": [
    "trzd_claim.to_parquet('./trusted/claim/data.parquet', engine='pyarrow', compression='snappy')"
   ]
  },
  {
   "cell_type": "markdown",
   "metadata": {},
   "source": [
    "---\n",
    "## Delivery"
   ]
  },
  {
   "cell_type": "markdown",
   "metadata": {},
   "source": [
    "- join das três: bank_consolidated\n",
    "- join (merge pandas) banks + claims pelo bank_document_id\n",
    "- merge desss resultante pela chave bank_name_id (hash nome) - pegar name bank id para fazer o join\n",
    "- selecionar o que queremos para não repetir colunas (no próprio merge decide)\n",
    "- salvar em parquet + to_sql (colocar apenas a tabela consolidada no banco)\n",
    "- sugestão: instalar postgree para criar o banco"
   ]
  },
  {
   "cell_type": "markdown",
   "metadata": {},
   "source": [
    "---\n",
    "## Gerar arquivo python\n",
    "Exemplo"
   ]
  },
  {
   "cell_type": "code",
   "execution_count": 62,
   "metadata": {},
   "outputs": [
    {
     "name": "stdout",
     "output_type": "stream",
     "text": [
      "Writing ./scripts/testes.pyg\n"
     ]
    }
   ],
   "source": [
    "%%writefile ./scripts/testes.py\n",
    "print('hello world')"
   ]
  }
 ],
 "metadata": {
  "kernelspec": {
   "display_name": "base",
   "language": "python",
   "name": "python3"
  },
  "language_info": {
   "codemirror_mode": {
    "name": "ipython",
    "version": 3
   },
   "file_extension": ".py",
   "mimetype": "text/x-python",
   "name": "python",
   "nbconvert_exporter": "python",
   "pygments_lexer": "ipython3",
   "version": "3.9.7"
  }
 },
 "nbformat": 4,
 "nbformat_minor": 2
}
